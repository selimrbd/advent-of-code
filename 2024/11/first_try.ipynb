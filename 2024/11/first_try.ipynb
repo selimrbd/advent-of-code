{
 "cells": [
  {
   "cell_type": "markdown",
   "metadata": {},
   "source": [
    "# Advent of Code - Day 11 Year 2024"
   ]
  },
  {
   "cell_type": "code",
   "execution_count": 23,
   "metadata": {},
   "outputs": [
    {
     "name": "stdout",
     "output_type": "stream",
     "text": [
      "nb examples: 1\n",
      "problem link: https://adventofcode.com/2024/day/11\n"
     ]
    }
   ],
   "source": [
    "DAY = 11\n",
    "YEAR = 2024\n",
    "#######\n",
    "import json\n",
    "import sys \n",
    "sys.path.append('../../')\n",
    "from utils import get_pb_data, rephrase_pb, open_link, render_json\n",
    "link, data, exmp, ae1, ae2, exmps, out = get_pb_data(DAY, YEAR)\n",
    "import math\n",
    "print(f'problem link: {link}')"
   ]
  },
  {
   "cell_type": "code",
   "execution_count": 24,
   "metadata": {},
   "outputs": [],
   "source": [
    "# with open(\"./_puzzle_data.json\", \"r\") as f: inp = json.loads(f.read())\n",
    "# render_json(inp)"
   ]
  },
  {
   "cell_type": "code",
   "execution_count": 25,
   "metadata": {},
   "outputs": [
    {
     "data": {
      "text/markdown": [
       "**Problem**: Track the evolution of a line of numbered stones that change according to specific rules after each blink:\n",
       " \n",
       "**Rules**:\n",
       "1. If stone is **0**, it becomes **1**\n",
       " \n",
       "2. If stone has **even number of digits**, split into **two stones** (left and right halves)\n",
       " \n",
       "3. If no other rule applies, **multiply by 2024**\n",
       " \n",
       "**Goal**: Count total number of stones after **25 blinks**\n",
       " \n",
       "\n",
       "**Input Example**:\n",
       "```\n",
       "Initial: 0 1 10 99 999\n",
       "\n",
       "After 1 blink: 1 2024 1 0 9 9 2021976\n",
       "```"
      ],
      "text/plain": [
       "<IPython.core.display.Markdown object>"
      ]
     },
     "execution_count": 25,
     "metadata": {},
     "output_type": "execute_result"
    }
   ],
   "source": [
    "await rephrase_pb(DAY, YEAR, 1)"
   ]
  },
  {
   "cell_type": "code",
   "execution_count": 26,
   "metadata": {},
   "outputs": [
    {
     "name": "stdout",
     "output_type": "stream",
     "text": [
      "Initial arrangement:\n",
      "125 17\n",
      "\n",
      "After 1 blink:\n",
      "253000 1 7\n",
      "\n",
      "After 2 blinks:\n",
      "253 0 2024 14168\n",
      "\n",
      "After 3 blinks:\n",
      "512072 1 20 24 28676032\n",
      "\n",
      "After 4 blinks:\n",
      "512 72 2024 2 0 2 4 2867 6032\n",
      "\n",
      "After 5 blinks:\n",
      "1036288 7 2 20 24 4048 1 4048 8096 28 67 60 32\n",
      "\n",
      "After 6 blinks:\n",
      "2097446912 14168 4048 2 0 2 4 40 48 2024 40 48 80 96 2 8 6 7 6 0 3 2\n"
     ]
    }
   ],
   "source": [
    "print(exmp)"
   ]
  },
  {
   "cell_type": "code",
   "execution_count": 27,
   "metadata": {},
   "outputs": [
    {
     "name": "stdout",
     "output_type": "stream",
     "text": [
      "1 24596 0 740994 60 803 8918 9405859\n"
     ]
    }
   ],
   "source": [
    "print(data)"
   ]
  },
  {
   "cell_type": "code",
   "execution_count": 28,
   "metadata": {},
   "outputs": [],
   "source": [
    "def format_int_list(dat: str) -> list[int]:\n",
    "    ..."
   ]
  },
  {
   "cell_type": "code",
   "execution_count": 29,
   "metadata": {},
   "outputs": [],
   "source": [
    "def format_int_list(dat: str) -> list[int]:\n",
    "    return [int(n) for n in dat.split(' ')]"
   ]
  },
  {
   "cell_type": "code",
   "execution_count": 33,
   "metadata": {},
   "outputs": [],
   "source": [
    "bres_str = [\n",
    "    \"125 17\",\n",
    "    \"253000 1 7\",\n",
    "    \"253 0 2024 14168\",\n",
    "    \"512072 1 20 24 28676032\",\n",
    "    \"512 72 2024 2 0 2 4 2867 6032\",\n",
    "    \"1036288 7 2 20 24 4048 1 4048 8096 28 67 60 32\",\n",
    "    \"2097446912 14168 4048 2 0 2 4 40 48 2024 40 48 80 96 2 8 6 7 6 0 3 2\"\n",
    "]\n",
    "bres = [format_int_list(b) for b in bres_str]"
   ]
  },
  {
   "cell_type": "code",
   "execution_count": 34,
   "metadata": {},
   "outputs": [],
   "source": [
    "## there is no interaction between 2 adjacent stones, so I can treat each stone transformation separately I feel"
   ]
  },
  {
   "cell_type": "code",
   "execution_count": 35,
   "metadata": {},
   "outputs": [
    {
     "data": {
      "text/plain": [
       "True"
      ]
     },
     "execution_count": 35,
     "metadata": {},
     "output_type": "execute_result"
    }
   ],
   "source": [
    "## check if the stone has even nb of digits\n",
    "s = 1000\n",
    "sstr = str(s)\n",
    "is_even = (len(sstr) % 2 == 0)\n",
    "is_even"
   ]
  },
  {
   "cell_type": "code",
   "execution_count": 36,
   "metadata": {},
   "outputs": [
    {
     "name": "stdout",
     "output_type": "stream",
     "text": [
      "2 10 00\n"
     ]
    }
   ],
   "source": [
    "## divide in two \n",
    "div = int(len(sstr)/2)\n",
    "h1 = sstr[:div]\n",
    "h2 = sstr[div:]\n",
    "print(div, h1, h2)"
   ]
  },
  {
   "cell_type": "code",
   "execution_count": 37,
   "metadata": {},
   "outputs": [
    {
     "name": "stdout",
     "output_type": "stream",
     "text": [
      "10 0\n"
     ]
    }
   ],
   "source": [
    "## divide in two \n",
    "div = int(len(sstr)/2)\n",
    "h1 = int(sstr[:div])\n",
    "h2 = int(sstr[div:])\n",
    "print(h1, h2)"
   ]
  },
  {
   "cell_type": "code",
   "execution_count": 38,
   "metadata": {},
   "outputs": [],
   "source": [
    "def split_stone(sstr: str) -> list[int]:\n",
    "    ..."
   ]
  },
  {
   "cell_type": "code",
   "execution_count": 39,
   "metadata": {},
   "outputs": [],
   "source": [
    "def split_stone(sstr: str) -> list[int]:\n",
    "    \"\"\"assume the stone is already identified as having an even nb of digits\"\"\"\n",
    "    div = int(len(sstr)/2)\n",
    "    h1 = int(sstr[:div])\n",
    "    h2 = int(sstr[div:])\n",
    "    return [h1, h2]"
   ]
  },
  {
   "cell_type": "code",
   "execution_count": 40,
   "metadata": {},
   "outputs": [
    {
     "name": "stdout",
     "output_type": "stream",
     "text": [
      "[20, 21]\n"
     ]
    }
   ],
   "source": [
    "s = 2021\n",
    "sstr = str(s)\n",
    "is_even = (len(sstr) % 2 == 0)\n",
    "if is_even: \n",
    "    sp = split_stone(sstr)\n",
    "    print(sp)"
   ]
  },
  {
   "cell_type": "code",
   "execution_count": 41,
   "metadata": {},
   "outputs": [],
   "source": [
    "def change_stone(s: int) -> list[int]:\n",
    "    ..."
   ]
  },
  {
   "cell_type": "code",
   "execution_count": 42,
   "metadata": {},
   "outputs": [],
   "source": [
    "def change_stone(s: int) -> list[int]:\n",
    "    if s == 0:\n",
    "        return [1]\n",
    "    sstr = str(s)\n",
    "    is_even = (len(sstr) % 2 == 0)\n",
    "    if is_even: \n",
    "        return split_stone(sstr)\n",
    "    return [s*2024]"
   ]
  },
  {
   "cell_type": "code",
   "execution_count": 43,
   "metadata": {},
   "outputs": [],
   "source": [
    "inp = [125, 17]"
   ]
  },
  {
   "cell_type": "code",
   "execution_count": 44,
   "metadata": {},
   "outputs": [],
   "source": [
    "def blink(inp: list[int]) -> list[int]:\n",
    "    ..."
   ]
  },
  {
   "cell_type": "code",
   "execution_count": 45,
   "metadata": {},
   "outputs": [
    {
     "data": {
      "text/plain": [
       "[253000, 1, 7]"
      ]
     },
     "execution_count": 45,
     "metadata": {},
     "output_type": "execute_result"
    }
   ],
   "source": [
    "inp = [125, 17]\n",
    "[n for s in inp for n in change_stone(s)]"
   ]
  },
  {
   "cell_type": "code",
   "execution_count": 46,
   "metadata": {},
   "outputs": [],
   "source": [
    "def blink(stones: list[int]) -> list[int]:\n",
    "    return [n for s in stones for n in change_stone(s)]"
   ]
  },
  {
   "cell_type": "code",
   "execution_count": 47,
   "metadata": {},
   "outputs": [
    {
     "name": "stdout",
     "output_type": "stream",
     "text": [
      "blink #1: [253000, 1, 7]\n",
      "blink #2: [253, 0, 2024, 14168]\n",
      "blink #3: [512072, 1, 20, 24, 28676032]\n"
     ]
    },
    {
     "data": {
      "text/plain": [
       "[512072, 1, 20, 24, 28676032]"
      ]
     },
     "execution_count": 47,
     "metadata": {},
     "output_type": "execute_result"
    }
   ],
   "source": [
    "nb = 3 \n",
    "stones = [125, 17]\n",
    "for i in range(nb):\n",
    "    stones = blink(stones)\n",
    "    print(f'blink #{i+1}: {stones}')\n",
    "stones "
   ]
  },
  {
   "cell_type": "code",
   "execution_count": 48,
   "metadata": {},
   "outputs": [
    {
     "name": "stdout",
     "output_type": "stream",
     "text": [
      "[253000, 1, 7]\n",
      "[253, 0, 2024, 14168]\n",
      "[512072, 1, 20, 24, 28676032]\n"
     ]
    }
   ],
   "source": [
    "for e in bres[1:nb+1]:\n",
    "    print(e)"
   ]
  },
  {
   "cell_type": "code",
   "execution_count": 49,
   "metadata": {},
   "outputs": [],
   "source": [
    "def sol1(dat: str, nb_blink: int, print_step: bool = False) -> int:\n",
    "    stones = format_int_list(dat)\n",
    "    for i in range(nb_blink):\n",
    "        stones = blink(stones)\n",
    "        if print_step: print(f'blink #{i+1}: {stones}')\n",
    "    return len(stones) "
   ]
  },
  {
   "cell_type": "code",
   "execution_count": 50,
   "metadata": {},
   "outputs": [
    {
     "data": {
      "text/plain": [
       "55312"
      ]
     },
     "execution_count": 50,
     "metadata": {},
     "output_type": "execute_result"
    }
   ],
   "source": [
    "ex1 = \"125 17\"\n",
    "dat = ex1\n",
    "sol1(dat, 25)"
   ]
  },
  {
   "cell_type": "code",
   "execution_count": 51,
   "metadata": {},
   "outputs": [
    {
     "name": "stdout",
     "output_type": "stream",
     "text": [
      "1 24596 0 740994 60 803 8918 9405859\n"
     ]
    }
   ],
   "source": [
    "print(data)"
   ]
  },
  {
   "cell_type": "code",
   "execution_count": 53,
   "metadata": {},
   "outputs": [
    {
     "data": {
      "text/plain": [
       "203457"
      ]
     },
     "execution_count": 53,
     "metadata": {},
     "output_type": "execute_result"
    }
   ],
   "source": [
    "dat = data\n",
    "sol1(dat, 25)"
   ]
  },
  {
   "cell_type": "markdown",
   "metadata": {},
   "source": [
    "## part 2"
   ]
  },
  {
   "cell_type": "code",
   "execution_count": 52,
   "metadata": {},
   "outputs": [],
   "source": [
    "#await rephrase_pb(DAY, YEAR, 2)"
   ]
  },
  {
   "cell_type": "code",
   "execution_count": 54,
   "metadata": {},
   "outputs": [],
   "source": [
    "from tqdm import tqdm\n",
    "def sol2(dat: str, nb_blink: int, print_step: bool = False) -> int:\n",
    "    stones = format_int_list(dat)\n",
    "    for i in tqdm(range(nb_blink)):\n",
    "        stones = blink(stones)\n",
    "        if print_step: print(f'blink #{i+1}: {stones}')\n",
    "    return len(stones) "
   ]
  },
  {
   "cell_type": "code",
   "execution_count": 55,
   "metadata": {},
   "outputs": [
    {
     "name": "stderr",
     "output_type": "stream",
     "text": [
      " 56%|█████▌    | 42/75 [04:22<03:26,  6.25s/it] \n"
     ]
    },
    {
     "ename": "KeyboardInterrupt",
     "evalue": "",
     "output_type": "error",
     "traceback": [
      "\u001b[0;31m---------------------------------------------------------------------------\u001b[0m",
      "\u001b[0;31mKeyboardInterrupt\u001b[0m                         Traceback (most recent call last)",
      "Cell \u001b[0;32mIn[55], line 2\u001b[0m\n\u001b[1;32m      1\u001b[0m dat \u001b[38;5;241m=\u001b[39m data\n\u001b[0;32m----> 2\u001b[0m \u001b[43msol2\u001b[49m\u001b[43m(\u001b[49m\u001b[43mdat\u001b[49m\u001b[43m,\u001b[49m\u001b[43m \u001b[49m\u001b[38;5;241;43m75\u001b[39;49m\u001b[43m)\u001b[49m\n",
      "Cell \u001b[0;32mIn[54], line 5\u001b[0m, in \u001b[0;36msol2\u001b[0;34m(dat, nb_blink, print_step)\u001b[0m\n\u001b[1;32m      3\u001b[0m stones \u001b[38;5;241m=\u001b[39m format_int_list(dat)\n\u001b[1;32m      4\u001b[0m \u001b[38;5;28;01mfor\u001b[39;00m i \u001b[38;5;129;01min\u001b[39;00m tqdm(\u001b[38;5;28mrange\u001b[39m(nb_blink)):\n\u001b[0;32m----> 5\u001b[0m     stones \u001b[38;5;241m=\u001b[39m \u001b[43mblink\u001b[49m\u001b[43m(\u001b[49m\u001b[43mstones\u001b[49m\u001b[43m)\u001b[49m\n\u001b[1;32m      6\u001b[0m     \u001b[38;5;28;01mif\u001b[39;00m print_step: \u001b[38;5;28mprint\u001b[39m(\u001b[38;5;124mf\u001b[39m\u001b[38;5;124m'\u001b[39m\u001b[38;5;124mblink #\u001b[39m\u001b[38;5;132;01m{\u001b[39;00mi\u001b[38;5;241m+\u001b[39m\u001b[38;5;241m1\u001b[39m\u001b[38;5;132;01m}\u001b[39;00m\u001b[38;5;124m: \u001b[39m\u001b[38;5;132;01m{\u001b[39;00mstones\u001b[38;5;132;01m}\u001b[39;00m\u001b[38;5;124m'\u001b[39m)\n\u001b[1;32m      7\u001b[0m \u001b[38;5;28;01mreturn\u001b[39;00m \u001b[38;5;28mlen\u001b[39m(stones)\n",
      "Cell \u001b[0;32mIn[46], line 2\u001b[0m, in \u001b[0;36mblink\u001b[0;34m(stones)\u001b[0m\n\u001b[1;32m      1\u001b[0m \u001b[38;5;28;01mdef\u001b[39;00m \u001b[38;5;21mblink\u001b[39m(stones: \u001b[38;5;28mlist\u001b[39m[\u001b[38;5;28mint\u001b[39m]) \u001b[38;5;241m-\u001b[39m\u001b[38;5;241m>\u001b[39m \u001b[38;5;28mlist\u001b[39m[\u001b[38;5;28mint\u001b[39m]:\n\u001b[0;32m----> 2\u001b[0m     \u001b[38;5;28;01mreturn\u001b[39;00m [n \u001b[38;5;28;01mfor\u001b[39;00m s \u001b[38;5;129;01min\u001b[39;00m stones \u001b[38;5;28;01mfor\u001b[39;00m n \u001b[38;5;129;01min\u001b[39;00m \u001b[43mchange_stone\u001b[49m\u001b[43m(\u001b[49m\u001b[43ms\u001b[49m\u001b[43m)\u001b[49m]\n",
      "Cell \u001b[0;32mIn[42], line 7\u001b[0m, in \u001b[0;36mchange_stone\u001b[0;34m(s)\u001b[0m\n\u001b[1;32m      5\u001b[0m is_even \u001b[38;5;241m=\u001b[39m (\u001b[38;5;28mlen\u001b[39m(sstr) \u001b[38;5;241m%\u001b[39m \u001b[38;5;241m2\u001b[39m \u001b[38;5;241m==\u001b[39m \u001b[38;5;241m0\u001b[39m)\n\u001b[1;32m      6\u001b[0m \u001b[38;5;28;01mif\u001b[39;00m is_even: \n\u001b[0;32m----> 7\u001b[0m     \u001b[38;5;28;01mreturn\u001b[39;00m \u001b[43msplit_stone\u001b[49m\u001b[43m(\u001b[49m\u001b[43msstr\u001b[49m\u001b[43m)\u001b[49m\n\u001b[1;32m      8\u001b[0m \u001b[38;5;28;01mreturn\u001b[39;00m [s\u001b[38;5;241m*\u001b[39m\u001b[38;5;241m2024\u001b[39m]\n",
      "Cell \u001b[0;32mIn[39], line 1\u001b[0m, in \u001b[0;36msplit_stone\u001b[0;34m(sstr)\u001b[0m\n\u001b[0;32m----> 1\u001b[0m \u001b[38;5;28;01mdef\u001b[39;00m \u001b[38;5;21msplit_stone\u001b[39m(sstr: \u001b[38;5;28mstr\u001b[39m) \u001b[38;5;241m-\u001b[39m\u001b[38;5;241m>\u001b[39m \u001b[38;5;28mlist\u001b[39m[\u001b[38;5;28mint\u001b[39m]:\n\u001b[1;32m      2\u001b[0m \u001b[38;5;250m    \u001b[39m\u001b[38;5;124;03m\"\"\"assume the stone is already identified as having an even nb of digits\"\"\"\u001b[39;00m\n\u001b[1;32m      3\u001b[0m     div \u001b[38;5;241m=\u001b[39m \u001b[38;5;28mint\u001b[39m(\u001b[38;5;28mlen\u001b[39m(sstr)\u001b[38;5;241m/\u001b[39m\u001b[38;5;241m2\u001b[39m)\n",
      "\u001b[0;31mKeyboardInterrupt\u001b[0m: "
     ]
    }
   ],
   "source": [
    "dat = data\n",
    "sol2(dat, 75)"
   ]
  },
  {
   "cell_type": "code",
   "execution_count": 56,
   "metadata": {},
   "outputs": [],
   "source": [
    "## I can solve this more efficiently with a \"divide in conquer\" approach"
   ]
  },
  {
   "cell_type": "code",
   "execution_count": 57,
   "metadata": {},
   "outputs": [],
   "source": [
    "## I can treat every stone separately and recursively"
   ]
  },
  {
   "cell_type": "code",
   "execution_count": 58,
   "metadata": {},
   "outputs": [],
   "source": [
    "def change_stone(s: int, print_res: bool = False) -> list[int]:\n",
    "    if s == 0:\n",
    "        res = [1]\n",
    "        if print_res: print(f'input: {s}\\noutput: {res}\\n')\n",
    "        return res\n",
    "    sstr = str(s)\n",
    "    is_even = (len(sstr) % 2 == 0)\n",
    "    if is_even: \n",
    "        res = split_stone(sstr)\n",
    "        if print_res: print(f'input: {s}\\noutput: {res}\\n')\n",
    "        return res\n",
    "\n",
    "    res = [s*2024]\n",
    "    if print_res: print(f'input: {s}\\noutput: {res}\\n')\n",
    "    return res"
   ]
  },
  {
   "cell_type": "code",
   "execution_count": 59,
   "metadata": {},
   "outputs": [],
   "source": [
    "def blink_2(s: int, nb_blinks: int, nb_blinks_init: int = None, print_res: bool = False) -> list[int]:\n",
    "    #if print_res: print(f'nb blinks: {nb_blinks}')\n",
    "    if nb_blinks == 0:\n",
    "        res = 1\n",
    "        if print_res: print(f'input: {s}\\noutput: {res}\\n')\n",
    "        return res\n",
    "    stones = change_stone(s, print_res)\n",
    "    res = sum([blink_2(s, nb_blinks-1, nb_blinks_init, print_res) for s in stones])\n",
    "    if nb_blinks_init is not None and nb_blinks == nb_blinks_init:\n",
    "        print(f'finished stone {s}: {res}')\n",
    "    return res\n"
   ]
  },
  {
   "cell_type": "code",
   "execution_count": 60,
   "metadata": {},
   "outputs": [
    {
     "name": "stdout",
     "output_type": "stream",
     "text": [
      "input: 10\n",
      "output: [1, 0]\n",
      "\n",
      "input: 1\n",
      "output: [2024]\n",
      "\n",
      "input: 2024\n",
      "output: 1\n",
      "\n",
      "input: 0\n",
      "output: [1]\n",
      "\n",
      "input: 1\n",
      "output: 1\n",
      "\n",
      "finished stone 10: 2\n"
     ]
    },
    {
     "data": {
      "text/plain": [
       "2"
      ]
     },
     "execution_count": 60,
     "metadata": {},
     "output_type": "execute_result"
    }
   ],
   "source": [
    "s = 10\n",
    "blink_2(s, 2,2, True)"
   ]
  },
  {
   "cell_type": "code",
   "execution_count": 61,
   "metadata": {},
   "outputs": [
    {
     "name": "stdout",
     "output_type": "stream",
     "text": [
      "finished stone 125: 19025\n",
      "finished stone 17: 36287\n"
     ]
    },
    {
     "data": {
      "text/plain": [
       "55312"
      ]
     },
     "execution_count": 61,
     "metadata": {},
     "output_type": "execute_result"
    }
   ],
   "source": [
    "ex1\n",
    "stones = format_int_list(ex1)\n",
    "nb_blinks = 25\n",
    "sum([blink_2(s, nb_blinks, nb_blinks) for s in stones])"
   ]
  },
  {
   "cell_type": "code",
   "execution_count": 63,
   "metadata": {},
   "outputs": [
    {
     "name": "stdout",
     "output_type": "stream",
     "text": [
      "finished stone 1: 29165\n",
      "finished stone 24596: 38054\n",
      "finished stone 0: 19778\n",
      "finished stone 740994: 18907\n",
      "finished stone 60: 29158\n",
      "finished stone 803: 14795\n",
      "finished stone 8918: 45436\n",
      "finished stone 9405859: 8164\n"
     ]
    },
    {
     "data": {
      "text/plain": [
       "203457"
      ]
     },
     "execution_count": 63,
     "metadata": {},
     "output_type": "execute_result"
    }
   ],
   "source": [
    "dat = data\n",
    "stones = format_int_list(dat)\n",
    "nb_blinks = 25\n",
    "sum([blink_2(s, nb_blinks, nb_blinks) for s in stones])"
   ]
  },
  {
   "cell_type": "code",
   "execution_count": 64,
   "metadata": {},
   "outputs": [],
   "source": [
    "## still taking too much time. Not sure my approach has really improved things."
   ]
  },
  {
   "cell_type": "code",
   "execution_count": 65,
   "metadata": {},
   "outputs": [],
   "source": [
    "## what takes time in my approach ? \n",
    "\n",
    "## maybe castine numbers to strings every time ?\n",
    "\n",
    "## I probably don't HAVE to blink to determine the number of stones... As I am not interested in the exact numbers in themselves\n",
    "\n",
    "## let's try to deduce a number by recurrence ?"
   ]
  },
  {
   "cell_type": "code",
   "execution_count": 68,
   "metadata": {},
   "outputs": [
    {
     "data": {
      "text/plain": [
       "{0: [1, 1, 2, 4, 4, 7, 14, 16, 20, 39, 62, 81, 110, 200, 328, 418, 667],\n",
       " 1: [1, 2, 4, 4, 7, 14, 16, 20, 39, 62, 81, 110, 200, 328, 418, 667, 1059],\n",
       " 2: [1, 2, 4, 4, 6, 12, 16, 19, 30, 57, 92, 111, 181, 295, 414, 661, 977],\n",
       " 3: [1, 2, 4, 4, 5, 10, 16, 26, 35, 52, 79, 114, 202, 294, 401, 642, 987],\n",
       " 4: [1, 2, 4, 4, 4, 8, 16, 27, 30, 47, 82, 115, 195, 269, 390, 637, 951],\n",
       " 5: [1, 1, 2, 4, 8, 8, 11, 22, 32, 45, 67, 109, 163, 223, 383, 597, 808],\n",
       " 6: [1, 1, 2, 4, 8, 8, 11, 22, 32, 54, 68, 103, 183, 250, 401, 600, 871],\n",
       " 7: [1, 1, 2, 4, 8, 8, 11, 22, 32, 52, 72, 106, 168, 242, 413, 602, 832],\n",
       " 8: [1, 1, 2, 4, 7, 7, 11, 22, 31, 48, 69, 103, 161, 239, 393, 578, 812],\n",
       " 9: [1, 1, 2, 4, 8, 8, 11, 22, 32, 54, 70, 103, 183, 262, 419, 586, 854],\n",
       " 10: [2, 2, 3, 6, 8, 11, 21, 30, 36, 59, 101, 143, 191, 310, 528, 746, 1085],\n",
       " 11: [2, 2, 4, 8, 8, 14, 28, 32, 40, 78, 124, 162, 220, 400, 656, 836, 1334],\n",
       " 12: [2, 2, 4, 8, 8, 13, 26, 32, 39, 69, 119, 173, 221, 381, 623, 832, 1328],\n",
       " 13: [2, 2, 4, 8, 8, 12, 24, 32, 46, 74, 114, 160, 224, 402, 622, 819, 1309],\n",
       " 14: [2, 2, 4, 8, 8, 11, 22, 32, 47, 69, 109, 163, 225, 395, 597, 808, 1304],\n",
       " 15: [2, 2, 3, 6, 8, 15, 22, 27, 42, 71, 107, 148, 219, 363, 551, 801, 1264],\n",
       " 16: [2, 2, 3, 6, 8, 15, 22, 27, 42, 71, 116, 149, 213, 383, 578, 819, 1267],\n",
       " 17: [2, 2, 3, 6, 8, 15, 22, 27, 42, 71, 114, 153, 216, 368, 570, 831, 1269],\n",
       " 18: [2, 2, 3, 6, 8, 14, 21, 27, 42, 70, 110, 150, 213, 361, 567, 811, 1245],\n",
       " 19: [2, 2, 3, 6, 8, 15, 22, 27, 42, 71, 116, 151, 213, 383, 590, 837, 1253],\n",
       " 20: [2, 2, 3, 6, 8, 10, 19, 30, 35, 50, 96, 154, 192, 291, 495, 742, 1079],\n",
       " 21: [2, 2, 4, 8, 8, 13, 26, 32, 39, 69, 119, 173, 221, 381, 623, 832, 1328],\n",
       " 22: [2, 2, 4, 8, 8, 12, 24, 32, 38, 60, 114, 184, 222, 362, 590, 828, 1322],\n",
       " 23: [2, 2, 4, 8, 8, 11, 22, 32, 45, 65, 109, 171, 225, 383, 589, 815, 1303],\n",
       " 24: [2, 2, 4, 8, 8, 10, 20, 32, 46, 60, 104, 174, 226, 376, 564, 804, 1298],\n",
       " 25: [2, 2, 3, 6, 8, 14, 20, 27, 41, 62, 102, 159, 220, 344, 518, 797, 1258],\n",
       " 26: [2, 2, 3, 6, 8, 14, 20, 27, 41, 62, 111, 160, 214, 364, 545, 815, 1261],\n",
       " 27: [2, 2, 3, 6, 8, 14, 20, 27, 41, 62, 109, 164, 217, 349, 537, 827, 1263],\n",
       " 28: [2, 2, 3, 6, 8, 13, 19, 27, 41, 61, 105, 161, 214, 342, 534, 807, 1239],\n",
       " 29: [2, 2, 3, 6, 8, 14, 20, 27, 41, 62, 111, 162, 214, 364, 557, 833, 1247],\n",
       " 100: [1, 2, 2, 4, 4, 5, 8, 8, 15, 26, 48, 55, 82, 138, 205, 328, 445],\n",
       " 101: [1, 2, 2, 4, 4, 6, 8, 10, 15, 23, 40, 49, 83, 128, 177, 283, 433],\n",
       " 102: [1, 2, 2, 4, 4, 5, 8, 8, 14, 23, 46, 54, 83, 129, 181, 319, 446],\n",
       " 103: [1, 2, 2, 4, 4, 6, 9, 10, 18, 26, 50, 71, 109, 164, 237, 392, 589],\n",
       " 104: [1, 2, 2, 3, 5, 7, 11, 17, 25, 31, 50, 95, 132, 177, 289, 444, 680],\n",
       " 105: [1, 2, 2, 3, 5, 6, 8, 15, 28, 35, 46, 83, 133, 188, 288, 437, 674],\n",
       " 106: [1, 2, 2, 3, 4, 6, 8, 15, 24, 26, 38, 63, 96, 149, 220, 331, 528],\n",
       " 107: [1, 2, 2, 3, 4, 6, 7, 13, 19, 19, 33, 52, 78, 111, 193, 281, 399],\n",
       " 108: [1, 2, 2, 3, 4, 6, 7, 11, 19, 21, 35, 58, 89, 107, 167, 286, 427],\n",
       " 109: [1, 2, 2, 3, 4, 6, 7, 10, 19, 21, 32, 60, 102, 128, 181, 304, 457],\n",
       " 110: [1, 2, 2, 3, 4, 7, 10, 12, 20, 25, 43, 76, 118, 156, 244, 384, 573]}"
      ]
     },
     "execution_count": 68,
     "metadata": {},
     "output_type": "execute_result"
    }
   ],
   "source": [
    "nb_bl = 17\n",
    "start = 0\n",
    "lstart = list(range(30)) + list(range(100, 111))\n",
    "{start: [blink_2(start, i) for i in range(1,nb_bl+1)] for start in lstart}"
   ]
  },
  {
   "cell_type": "code",
   "execution_count": 139,
   "metadata": {},
   "outputs": [],
   "source": [
    "# there is a clear pattern, I think I can deduce a \"rule\" without having to perform the blinks"
   ]
  },
  {
   "cell_type": "code",
   "execution_count": 143,
   "metadata": {},
   "outputs": [],
   "source": [
    "# actually I just need to determine after each step if has even number of digits, or uneven ones"
   ]
  },
  {
   "cell_type": "code",
   "execution_count": 156,
   "metadata": {},
   "outputs": [],
   "source": [
    "## let's try speeding up using logarithmic approach first"
   ]
  },
  {
   "cell_type": "code",
   "execution_count": 69,
   "metadata": {},
   "outputs": [],
   "source": [
    "def format_int_list(dat: str) -> list[int]:\n",
    "    return [int(n) for n in dat.split(' ')]\n",
    "\n",
    "def split_stone(sstr: str) -> list[int]:\n",
    "    \"\"\"assume the stone is already identified as having an even nb of digits\"\"\"\n",
    "    div = int(len(sstr)/2)\n",
    "    h1 = int(sstr[:div])\n",
    "    h2 = int(sstr[div:])\n",
    "    return [h1, h2]\n",
    "\n",
    "def change_stone(s: int) -> list[int]:\n",
    "    if s == 0:\n",
    "        return [1]\n",
    "    sstr = str(s)\n",
    "    is_even = (len(sstr) % 2 == 0)\n",
    "    if is_even: \n",
    "        return split_stone(sstr)\n",
    "    return [s*2024]\n"
   ]
  },
  {
   "cell_type": "code",
   "execution_count": 70,
   "metadata": {},
   "outputs": [],
   "source": [
    "def get_nb_digits(s: int) -> int:\n",
    "    if s <= 0:\n",
    "        raise ValueError('s <= 0')\n",
    "    return math.floor(math.log10(s)) + 1"
   ]
  },
  {
   "cell_type": "code",
   "execution_count": 71,
   "metadata": {},
   "outputs": [
    {
     "data": {
      "text/plain": [
       "4"
      ]
     },
     "execution_count": 71,
     "metadata": {},
     "output_type": "execute_result"
    }
   ],
   "source": [
    "s = 1000\n",
    "get_nb_digits(s)"
   ]
  },
  {
   "cell_type": "code",
   "execution_count": 72,
   "metadata": {},
   "outputs": [],
   "source": [
    "def split_stone(s: int, nb_digits: int) -> list[int]:\n",
    "    half_d = nb_digits // 2\n",
    "    divisor = 10 ** half_d\n",
    "    return (s // divisor, s % divisor)"
   ]
  },
  {
   "cell_type": "code",
   "execution_count": 73,
   "metadata": {},
   "outputs": [
    {
     "name": "stdout",
     "output_type": "stream",
     "text": [
      "(1001, 9098)\n"
     ]
    }
   ],
   "source": [
    "s = 10019098\n",
    "d = get_nb_digits(s)\n",
    "if d % 2 == 0:\n",
    "    print(split_stone(s, d))"
   ]
  },
  {
   "cell_type": "code",
   "execution_count": 74,
   "metadata": {},
   "outputs": [],
   "source": [
    "def change_stone(s: int) -> list[int]:\n",
    "    if s == 0:\n",
    "        return [1]\n",
    "    d = get_nb_digits(s)\n",
    "    if d % 2 == 0:\n",
    "        return split_stone(s, d)\n",
    "    return [s*2024]"
   ]
  },
  {
   "cell_type": "code",
   "execution_count": 75,
   "metadata": {},
   "outputs": [],
   "source": [
    "def blink_2(s: int, nb_blinks: int, nb_blinks_init: int = None, print_res: bool = False) -> list[int]:\n",
    "    #if print_res: print(f'nb blinks: {nb_blinks}')\n",
    "    if nb_blinks == 0:\n",
    "        res = 1\n",
    "        if print_res: print(f'input: {s}\\noutput: {res}\\n')\n",
    "        return res\n",
    "    stones = change_stone(s)\n",
    "    res = sum([blink_2(s, nb_blinks-1, nb_blinks_init, print_res) for s in stones])\n",
    "    #if nb_blinks_init is not None and nb_blinks == nb_blinks_init:\n",
    "    #    print(f'finished stone {s}: {res}')\n",
    "    return res\n"
   ]
  },
  {
   "cell_type": "code",
   "execution_count": null,
   "metadata": {},
   "outputs": [],
   "source": [
    "## the optimization for calculating the number of digits and splitting is not enough"
   ]
  },
  {
   "cell_type": "code",
   "execution_count": 190,
   "metadata": {},
   "outputs": [],
   "source": [
    "## let's go back to deducing the number of digits without doing the split"
   ]
  },
  {
   "cell_type": "code",
   "execution_count": null,
   "metadata": {},
   "outputs": [],
   "source": [
    "##basically I want to determine:\n",
    "## when I have an even number of digits: in how many digits each part is split (easy)\n",
    "## when 1 have an odd number of digits"
   ]
  },
  {
   "cell_type": "code",
   "execution_count": 191,
   "metadata": {},
   "outputs": [],
   "source": [
    "## Can't find an easy pattern"
   ]
  },
  {
   "cell_type": "code",
   "execution_count": 18,
   "metadata": {},
   "outputs": [],
   "source": [
    "## let's try isntead simply parallelizing the calculus"
   ]
  },
  {
   "cell_type": "code",
   "execution_count": 76,
   "metadata": {},
   "outputs": [],
   "source": [
    "## I'm probably recalculating multiple times the values which is inefficient"
   ]
  },
  {
   "cell_type": "markdown",
   "metadata": {},
   "source": [
    "## anchor"
   ]
  },
  {
   "cell_type": "code",
   "execution_count": 82,
   "metadata": {},
   "outputs": [],
   "source": [
    "def get_nb_digits(s: int) -> int:\n",
    "    if s <= 0:\n",
    "        raise ValueError('s <= 0')\n",
    "    return math.floor(math.log10(s)) + 1\n",
    "\n",
    "\n",
    "def split_stone(s: int, nb_digits: int) -> list[int]:\n",
    "    half_d = nb_digits // 2\n",
    "    divisor = 10 ** half_d\n",
    "    return (s // divisor, s % divisor)\n",
    "\n",
    "\n",
    "def change_stone(s: int) -> list[int]:\n",
    "    if s == 0:\n",
    "        return [1]\n",
    "    d = get_nb_digits(s)\n",
    "    if d % 2 == 0:\n",
    "        return split_stone(s, d)\n",
    "    return [s*2024]\n",
    "\n",
    "\n",
    "def blink_2(s: int, nb_blinks: int) -> list[int]:\n",
    "\n",
    "    if nb_blinks == 0:\n",
    "        res = 1\n",
    "        return res\n",
    "    stones = change_stone(s)\n",
    "    res = sum([blink_2(s, nb_blinks-1) for s in stones])\n",
    "    return res\n"
   ]
  },
  {
   "cell_type": "code",
   "execution_count": 83,
   "metadata": {},
   "outputs": [],
   "source": [
    "## let's try basic memoization"
   ]
  },
  {
   "cell_type": "code",
   "execution_count": 84,
   "metadata": {},
   "outputs": [],
   "source": [
    "def blink_2(s: int, nb_blinks: int, memo: dict[tuple[int, int], int] = None) -> list[int]:\n",
    "    if memo is None:\n",
    "        memo = {}\n",
    "    k = (s, nb_blinks)\n",
    "    if k in memo:\n",
    "        return memo[k]\n",
    "    if nb_blinks == 0:\n",
    "        res = 1\n",
    "        return res\n",
    "    stones = change_stone(s)\n",
    "    res = sum([blink_2(s, nb_blinks-1, memo) for s in stones])\n",
    "    memo[k] = res\n",
    "    return res"
   ]
  },
  {
   "cell_type": "code",
   "execution_count": 94,
   "metadata": {},
   "outputs": [],
   "source": [
    "def sol2(dat: str, nb_blink: int) -> int:\n",
    "    stones = format_int_list(dat)\n",
    "    return sum([blink_2(s, nb_blink) for s in stones])"
   ]
  },
  {
   "cell_type": "code",
   "execution_count": 98,
   "metadata": {},
   "outputs": [
    {
     "data": {
      "text/plain": [
       "241394363462435"
      ]
     },
     "execution_count": 98,
     "metadata": {},
     "output_type": "execute_result"
    }
   ],
   "source": [
    "dat = data \n",
    "nb_blinks = 75\n",
    "sol2(dat, nb_blinks)"
   ]
  },
  {
   "cell_type": "markdown",
   "metadata": {},
   "source": [
    "## takeaways\n",
    "\n",
    "- trying to find a mathematical pattern was a dead end\n",
    "- problem focused on **memoization**"
   ]
  }
 ],
 "metadata": {
  "kernelspec": {
   "display_name": "pydidask",
   "language": "python",
   "name": "python3"
  },
  "language_info": {
   "codemirror_mode": {
    "name": "ipython",
    "version": 3
   },
   "file_extension": ".py",
   "mimetype": "text/x-python",
   "name": "python",
   "nbconvert_exporter": "python",
   "pygments_lexer": "ipython3",
   "version": "3.12.0"
  }
 },
 "nbformat": 4,
 "nbformat_minor": 2
}
