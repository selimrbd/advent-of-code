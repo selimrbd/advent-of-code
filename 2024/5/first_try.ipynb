{
 "cells": [
  {
   "cell_type": "markdown",
   "metadata": {
    "vscode": {
     "languageId": "plaintext"
    }
   },
   "source": [
    "# Day 5 - AoC 2024"
   ]
  },
  {
   "cell_type": "markdown",
   "metadata": {
    "vscode": {
     "languageId": "plaintext"
    }
   },
   "source": [
    "[LINK](https://adventofcode.com/2024/day/5)"
   ]
  },
  {
   "cell_type": "code",
   "execution_count": 1,
   "metadata": {},
   "outputs": [],
   "source": [
    "YEAR = 2024\n",
    "DAY = 5\n",
    "\n",
    "from aocd import get_data\n",
    "import sys\n",
    "import os\n",
    "sys.path.append(\"..\")\n",
    "from config import load_config\n",
    "load_config()\n",
    "data = get_data(year=YEAR, day=DAY)\n",
    "#print(os.getenv('AOC_SESSION'))\n",
    "\n",
    "DEBUG = True"
   ]
  },
  {
   "cell_type": "code",
   "execution_count": 2,
   "metadata": {},
   "outputs": [],
   "source": [
    "samp = \"\"\"47|53\n",
    "97|13\n",
    "97|61\n",
    "97|47\n",
    "75|29\n",
    "61|13\n",
    "75|53\n",
    "29|13\n",
    "97|29\n",
    "53|29\n",
    "61|53\n",
    "97|53\n",
    "61|29\n",
    "47|13\n",
    "75|47\n",
    "97|75\n",
    "47|61\n",
    "75|61\n",
    "47|29\n",
    "75|13\n",
    "53|13\n",
    "\n",
    "75,47,61,53,29\n",
    "97,61,53,29,13\n",
    "75,29,13\n",
    "75,97,47,61,53\n",
    "61,13,29\n",
    "97,13,75,29,47\n",
    "\"\"\""
   ]
  },
  {
   "cell_type": "markdown",
   "metadata": {},
   "source": [
    "## try 1"
   ]
  },
  {
   "cell_type": "code",
   "execution_count": null,
   "metadata": {},
   "outputs": [],
   "source": [
    "def sol5a(dat: str) -> int:\n",
    "    ..."
   ]
  },
  {
   "cell_type": "code",
   "execution_count": 5,
   "metadata": {},
   "outputs": [],
   "source": [
    "def sol5a(dat: str) -> int:\n",
    "    rules, updates = format_input(dat)\n",
    "    updates_valid = [u for u in updates if is_update_valid(update, rules)]\n",
    "    return sum([get_mid(u) for u in updates_valid])"
   ]
  },
  {
   "cell_type": "code",
   "execution_count": 7,
   "metadata": {},
   "outputs": [],
   "source": [
    "def is_update_valid(update, rules) -> bool:\n",
    "    ..."
   ]
  },
  {
   "cell_type": "code",
   "execution_count": 12,
   "metadata": {},
   "outputs": [],
   "source": [
    "ustr = \"75,47,61,53,29\""
   ]
  },
  {
   "cell_type": "code",
   "execution_count": 13,
   "metadata": {},
   "outputs": [],
   "source": [
    "u = [int(n) for n in u.split(',')]"
   ]
  },
  {
   "cell_type": "markdown",
   "metadata": {},
   "source": [
    "an update is NOT valid if one of the numbers at its right appears on it LEFT in the rule chain\n",
    "\n",
    "given a number and the rules, we should be able to build a list of all the pages that need to be created before that number\n",
    "\n",
    "then, if the number is at index i in the update, it is valid if NO NUMBER after it, meaning in the list u[i+1:] is in that list of numbers to be printed before"
   ]
  },
  {
   "cell_type": "markdown",
   "metadata": {},
   "source": [
    "asking Claude, I see that the most efficient way to check if 2 list of numbers intersect is actually using sets:"
   ]
  },
  {
   "cell_type": "code",
   "execution_count": 16,
   "metadata": {},
   "outputs": [],
   "source": [
    "def has_common_element(set1, set2) -> bool:\n",
    "    return bool(set1 & set2)"
   ]
  },
  {
   "cell_type": "code",
   "execution_count": 21,
   "metadata": {},
   "outputs": [],
   "source": [
    "## what does rules look like:\n",
    "ustr = \"75,47,61,53,29\""
   ]
  },
  {
   "cell_type": "code",
   "execution_count": 22,
   "metadata": {},
   "outputs": [],
   "source": [
    "# I want to build before: dict that maps a number to all numbers that need to be printed before it"
   ]
  },
  {
   "cell_type": "code",
   "execution_count": 23,
   "metadata": {},
   "outputs": [],
   "source": [
    "## a number N2 needs to be printed before n1 if there is a rule like N2|N1"
   ]
  },
  {
   "cell_type": "code",
   "execution_count": 24,
   "metadata": {},
   "outputs": [],
   "source": [
    "before = {\n",
    "    75: set(), \n",
    "    #etc\n",
    "}"
   ]
  },
  {
   "cell_type": "code",
   "execution_count": 25,
   "metadata": {},
   "outputs": [],
   "source": [
    "def is_update_valid(update: list[int], before: dict[int, set[int]]) -> bool:\n",
    "    \n",
    "    for i,u in enumerate(update):\n",
    "        b = before[u]\n",
    "        if (i < len(update) - 1) and bool(b & update[i+1:]):\n",
    "            return False\n",
    "    return True"
   ]
  },
  {
   "cell_type": "code",
   "execution_count": 29,
   "metadata": {},
   "outputs": [
    {
     "data": {
      "text/plain": [
       "False"
      ]
     },
     "execution_count": 29,
     "metadata": {},
     "output_type": "execute_result"
    }
   ],
   "source": [
    "a = {1,2}\n",
    "b = {3,4}\n",
    "bool(a & b)"
   ]
  },
  {
   "cell_type": "code",
   "execution_count": 31,
   "metadata": {},
   "outputs": [
    {
     "data": {
      "text/plain": [
       "True"
      ]
     },
     "execution_count": 31,
     "metadata": {},
     "output_type": "execute_result"
    }
   ],
   "source": [
    "a = {1,0}\n",
    "b = {0,4}\n",
    "bool(a & b)"
   ]
  },
  {
   "cell_type": "code",
   "execution_count": 32,
   "metadata": {},
   "outputs": [],
   "source": [
    "## let format the input to updates and before"
   ]
  },
  {
   "cell_type": "code",
   "execution_count": 33,
   "metadata": {},
   "outputs": [
    {
     "data": {
      "text/plain": [
       "['47|53',\n",
       " '97|13',\n",
       " '97|61',\n",
       " '97|47',\n",
       " '75|29',\n",
       " '61|13',\n",
       " '75|53',\n",
       " '29|13',\n",
       " '97|29',\n",
       " '53|29',\n",
       " '61|53',\n",
       " '97|53',\n",
       " '61|29',\n",
       " '47|13',\n",
       " '75|47',\n",
       " '97|75',\n",
       " '47|61',\n",
       " '75|61',\n",
       " '47|29',\n",
       " '75|13',\n",
       " '53|13',\n",
       " '',\n",
       " '75,47,61,53,29',\n",
       " '97,61,53,29,13',\n",
       " '75,29,13',\n",
       " '75,97,47,61,53',\n",
       " '61,13,29',\n",
       " '97,13,75,29,47']"
      ]
     },
     "execution_count": 33,
     "metadata": {},
     "output_type": "execute_result"
    }
   ],
   "source": [
    "lines = samp.splitlines()\n",
    "lines"
   ]
  },
  {
   "cell_type": "code",
   "execution_count": 43,
   "metadata": {},
   "outputs": [
    {
     "name": "stdout",
     "output_type": "stream",
     "text": [
      "[(47, 53), (97, 13), (97, 61), (97, 47), (75, 29), (61, 13), (75, 53), (29, 13), (97, 29), (53, 29), (61, 53), (97, 53), (61, 29), (47, 13), (75, 47), (97, 75), (47, 61), (75, 61), (47, 29), (75, 13), (53, 13)]\n",
      "[[75, 47, 61, 53, 29], [97, 61, 53, 29, 13], [75, 29, 13], [75, 97, 47, 61, 53], [61, 13, 29], [97, 13, 75, 29, 47]]\n"
     ]
    }
   ],
   "source": [
    "rules = []\n",
    "updates = []\n",
    "for l in lines:\n",
    "    if '|' in l:\n",
    "        rlst = l.split('|')\n",
    "        rtp = (int(rlst[0]), int(rlst[1]))\n",
    "        rules += [rtp]\n",
    "    if ',' in l:\n",
    "        updates.append([int(n.strip()) for n in l.split(',')])\n",
    "print(rules)\n",
    "print(updates)"
   ]
  },
  {
   "cell_type": "code",
   "execution_count": 44,
   "metadata": {},
   "outputs": [],
   "source": [
    "def format_input(dat: str) -> tuple[list[tuple[int, int]], list[list[int]]]:\n",
    "    ..."
   ]
  },
  {
   "cell_type": "code",
   "execution_count": 45,
   "metadata": {},
   "outputs": [],
   "source": [
    "def format_input(dat: str) -> tuple[list[tuple[int, int]], list[list[int]]]:\n",
    "    lines = dat.splitlines()\n",
    "    rules = []\n",
    "    updates = []\n",
    "    for l in lines:\n",
    "        if '|' in l:\n",
    "            rlst = l.split('|')\n",
    "            rtp = (int(rlst[0]), int(rlst[1]))\n",
    "            rules += [rtp]\n",
    "        if ',' in l:\n",
    "            updates.append([int(n.strip()) for n in l.split(',')])\n",
    "    return rules, updates"
   ]
  },
  {
   "cell_type": "code",
   "execution_count": 47,
   "metadata": {},
   "outputs": [],
   "source": [
    "rules, updates = format_input(samp)"
   ]
  },
  {
   "cell_type": "code",
   "execution_count": 50,
   "metadata": {},
   "outputs": [],
   "source": [
    "def build_before(rules) -> dict[int, set[int]]:\n",
    "    ..."
   ]
  },
  {
   "cell_type": "code",
   "execution_count": 58,
   "metadata": {},
   "outputs": [
    {
     "data": {
      "text/plain": [
       "{13, 29, 47, 53, 61, 75, 97}"
      ]
     },
     "execution_count": 58,
     "metadata": {},
     "output_type": "execute_result"
    }
   ],
   "source": [
    "n_uniq = set([x for r in rules for x in r])\n",
    "n_uniq"
   ]
  },
  {
   "cell_type": "code",
   "execution_count": 59,
   "metadata": {},
   "outputs": [
    {
     "data": {
      "text/plain": [
       "{47, 53, 61, 75, 97}"
      ]
     },
     "execution_count": 59,
     "metadata": {},
     "output_type": "execute_result"
    }
   ],
   "source": [
    "n = 29\n",
    "set([n1 for (n1, n2) in rules if n2 == n])"
   ]
  },
  {
   "cell_type": "code",
   "execution_count": 60,
   "metadata": {},
   "outputs": [
    {
     "data": {
      "text/plain": [
       "{97: set(),\n",
       " 75: {97},\n",
       " 13: {29, 47, 53, 61, 75, 97},\n",
       " 47: {75, 97},\n",
       " 29: {47, 53, 61, 75, 97},\n",
       " 53: {47, 61, 75, 97},\n",
       " 61: {47, 75, 97}}"
      ]
     },
     "execution_count": 60,
     "metadata": {},
     "output_type": "execute_result"
    }
   ],
   "source": [
    "{n: set([n1 for (n1, n2) in rules if n2 == n]) for n in n_uniq}"
   ]
  },
  {
   "cell_type": "code",
   "execution_count": 61,
   "metadata": {},
   "outputs": [],
   "source": [
    "def build_before(rules) -> dict[int, set[int]]:\n",
    "    n_uniq = set([x for r in rules for x in r])\n",
    "    return {n: set([n1 for (n1, n2) in rules if n2 == n]) for n in n_uniq}"
   ]
  },
  {
   "cell_type": "code",
   "execution_count": 65,
   "metadata": {},
   "outputs": [],
   "source": [
    "before = build_before(rules)"
   ]
  },
  {
   "cell_type": "code",
   "execution_count": 66,
   "metadata": {},
   "outputs": [
    {
     "data": {
      "text/plain": [
       "{97: set(),\n",
       " 75: {97},\n",
       " 13: {29, 47, 53, 61, 75, 97},\n",
       " 47: {75, 97},\n",
       " 29: {47, 53, 61, 75, 97},\n",
       " 53: {47, 61, 75, 97},\n",
       " 61: {47, 75, 97}}"
      ]
     },
     "execution_count": 66,
     "metadata": {},
     "output_type": "execute_result"
    }
   ],
   "source": [
    "before"
   ]
  },
  {
   "cell_type": "code",
   "execution_count": 67,
   "metadata": {},
   "outputs": [
    {
     "data": {
      "text/plain": [
       "[75, 47, 61, 53, 29]"
      ]
     },
     "execution_count": 67,
     "metadata": {},
     "output_type": "execute_result"
    }
   ],
   "source": [
    "upd = updates[0]\n",
    "upd"
   ]
  },
  {
   "cell_type": "code",
   "execution_count": 68,
   "metadata": {},
   "outputs": [
    {
     "data": {
      "text/plain": [
       "[True, True, True, True, True]"
      ]
     },
     "execution_count": 68,
     "metadata": {},
     "output_type": "execute_result"
    }
   ],
   "source": [
    "[(i == len(upd) - 1) or not bool(before[n] & set(upd[i+1:])) for i,n in enumerate(upd)]"
   ]
  },
  {
   "cell_type": "code",
   "execution_count": 69,
   "metadata": {},
   "outputs": [
    {
     "data": {
      "text/plain": [
       "[True, False, True]"
      ]
     },
     "execution_count": 69,
     "metadata": {},
     "output_type": "execute_result"
    }
   ],
   "source": [
    "upd = [61, 13, 29]\n",
    "[(i == len(upd) - 1) or not bool(before[n] & set(upd[i+1:])) for i,n in enumerate(upd)]"
   ]
  },
  {
   "cell_type": "code",
   "execution_count": 72,
   "metadata": {},
   "outputs": [],
   "source": [
    "## remind ourselves the structure of final sol function\n",
    "def sol5a(dat: str) -> int:\n",
    "    rules, updates = format_input(dat)\n",
    "    before = build_before(rules)\n",
    "    updates_valid = [u for u in updates if is_update_valid(update, before)]\n",
    "    return sum([get_mid(u) for u in updates_valid])"
   ]
  },
  {
   "cell_type": "code",
   "execution_count": 73,
   "metadata": {},
   "outputs": [],
   "source": [
    "def is_update_valid(upd: list[int], before: dict[int, set[int]]) -> bool:\n",
    "    return all([(i == len(upd) - 1) or not bool(before[n] & set(upd[i+1:])) for i,n in enumerate(upd)])"
   ]
  },
  {
   "cell_type": "code",
   "execution_count": 74,
   "metadata": {},
   "outputs": [
    {
     "data": {
      "text/plain": [
       "False"
      ]
     },
     "execution_count": 74,
     "metadata": {},
     "output_type": "execute_result"
    }
   ],
   "source": [
    "upd = [61, 13, 29]\n",
    "is_update_valid(upd, before)"
   ]
  },
  {
   "cell_type": "code",
   "execution_count": 75,
   "metadata": {},
   "outputs": [
    {
     "data": {
      "text/plain": [
       "True"
      ]
     },
     "execution_count": 75,
     "metadata": {},
     "output_type": "execute_result"
    }
   ],
   "source": [
    "upd = updates[0]\n",
    "is_update_valid(upd, before)"
   ]
  },
  {
   "cell_type": "code",
   "execution_count": 76,
   "metadata": {},
   "outputs": [
    {
     "data": {
      "text/plain": [
       "[True, True, True, False, False, False]"
      ]
     },
     "execution_count": 76,
     "metadata": {},
     "output_type": "execute_result"
    }
   ],
   "source": [
    "[is_update_valid(upd, before) for upd in updates]"
   ]
  },
  {
   "cell_type": "code",
   "execution_count": 78,
   "metadata": {},
   "outputs": [],
   "source": [
    "## first three correct, last three not --> OK"
   ]
  },
  {
   "cell_type": "code",
   "execution_count": 79,
   "metadata": {},
   "outputs": [],
   "source": [
    "## actually I need the middle only of valid sequences"
   ]
  },
  {
   "cell_type": "code",
   "execution_count": 82,
   "metadata": {},
   "outputs": [
    {
     "data": {
      "text/plain": [
       "[[75, 47, 61, 53, 29], [97, 61, 53, 29, 13], [75, 29, 13]]"
      ]
     },
     "execution_count": 82,
     "metadata": {},
     "output_type": "execute_result"
    }
   ],
   "source": [
    "valid_upd = [upd for upd in updates if is_update_valid(upd, before)]\n",
    "valid_upd"
   ]
  },
  {
   "cell_type": "code",
   "execution_count": 84,
   "metadata": {},
   "outputs": [],
   "source": [
    "# check that all list numbers are odd"
   ]
  },
  {
   "cell_type": "code",
   "execution_count": 86,
   "metadata": {},
   "outputs": [
    {
     "data": {
      "text/plain": [
       "True"
      ]
     },
     "execution_count": 86,
     "metadata": {},
     "output_type": "execute_result"
    }
   ],
   "source": [
    "rules, updates = format_input(data)\n",
    "all([n%2 != 0 for n in {len(upd) for upd in updates}])"
   ]
  },
  {
   "cell_type": "code",
   "execution_count": 89,
   "metadata": {},
   "outputs": [],
   "source": [
    "def get_mid(l: list[int]) -> int:\n",
    "    return l[len(l) // 2]"
   ]
  },
  {
   "cell_type": "code",
   "execution_count": 90,
   "metadata": {},
   "outputs": [
    {
     "data": {
      "text/plain": [
       "61"
      ]
     },
     "execution_count": 90,
     "metadata": {},
     "output_type": "execute_result"
    }
   ],
   "source": [
    "get_mid(valid_upd[0])"
   ]
  },
  {
   "cell_type": "code",
   "execution_count": 95,
   "metadata": {},
   "outputs": [],
   "source": [
    "## remind ourselves the structure of final sol function\n",
    "def sol5a(dat: str) -> int:\n",
    "    rules, updates = format_input(dat)\n",
    "    before = build_before(rules)\n",
    "    updates_valid = [u for u in updates if is_update_valid(u, before)]\n",
    "    return sum([get_mid(u) for u in updates_valid])"
   ]
  },
  {
   "cell_type": "code",
   "execution_count": 96,
   "metadata": {},
   "outputs": [
    {
     "data": {
      "text/plain": [
       "143"
      ]
     },
     "execution_count": 96,
     "metadata": {},
     "output_type": "execute_result"
    }
   ],
   "source": [
    "sol5a(samp)"
   ]
  },
  {
   "cell_type": "code",
   "execution_count": 97,
   "metadata": {},
   "outputs": [
    {
     "data": {
      "text/plain": [
       "6034"
      ]
     },
     "execution_count": 97,
     "metadata": {},
     "output_type": "execute_result"
    }
   ],
   "source": [
    "sol5a(data)"
   ]
  },
  {
   "cell_type": "markdown",
   "metadata": {},
   "source": [
    "## part 2"
   ]
  },
  {
   "cell_type": "code",
   "execution_count": 98,
   "metadata": {},
   "outputs": [],
   "source": [
    "## need to reorder the incorrect update"
   ]
  },
  {
   "cell_type": "code",
   "execution_count": 99,
   "metadata": {},
   "outputs": [],
   "source": [
    "upd = [61,13,29]\n",
    "## rule broken: 29|13"
   ]
  },
  {
   "cell_type": "code",
   "execution_count": 102,
   "metadata": {},
   "outputs": [],
   "source": [
    "dat = samp\n",
    "rules, updates = format_input(dat)\n",
    "before = build_before(rules)\n",
    "inc_upds = [u for u in updates if not is_update_valid(u, before)]"
   ]
  },
  {
   "cell_type": "code",
   "execution_count": 103,
   "metadata": {},
   "outputs": [
    {
     "data": {
      "text/plain": [
       "[[75, 97, 47, 61, 53], [61, 13, 29], [97, 13, 75, 29, 47]]"
      ]
     },
     "execution_count": 103,
     "metadata": {},
     "output_type": "execute_result"
    }
   ],
   "source": [
    "inc_upds"
   ]
  },
  {
   "cell_type": "code",
   "execution_count": 104,
   "metadata": {},
   "outputs": [],
   "source": [
    "## remind ourselves the structure of final sol function\n",
    "def sol5b(dat: str) -> int:\n",
    "    rules, updates = format_input(dat)\n",
    "    before = build_before(rules)\n",
    "    updates_not_valid = [u for u in updates if not is_update_valid(u, before)]\n",
    "    updates_not_valid = [reorder_upd(u) for u in updates_not_valid]\n",
    "    return sum([get_mid(u) for u in updates_not_valid])"
   ]
  },
  {
   "cell_type": "code",
   "execution_count": 105,
   "metadata": {},
   "outputs": [],
   "source": [
    "# missing only reorder_upd"
   ]
  },
  {
   "cell_type": "code",
   "execution_count": 106,
   "metadata": {},
   "outputs": [],
   "source": [
    "def reorder_upd(upd: list[int], before) -> list[int]:\n",
    "    ..."
   ]
  },
  {
   "cell_type": "code",
   "execution_count": 107,
   "metadata": {},
   "outputs": [
    {
     "data": {
      "text/plain": [
       "{97: set(),\n",
       " 75: {97},\n",
       " 13: {29, 47, 53, 61, 75, 97},\n",
       " 47: {75, 97},\n",
       " 29: {47, 53, 61, 75, 97},\n",
       " 53: {47, 61, 75, 97},\n",
       " 61: {47, 75, 97}}"
      ]
     },
     "execution_count": 107,
     "metadata": {},
     "output_type": "execute_result"
    }
   ],
   "source": [
    "before"
   ]
  },
  {
   "cell_type": "code",
   "execution_count": 112,
   "metadata": {},
   "outputs": [
    {
     "data": {
      "text/plain": [
       "{5, 7, 9, 11, 13, 15, 17, 19, 21, 23}"
      ]
     },
     "execution_count": 112,
     "metadata": {},
     "output_type": "execute_result"
    }
   ],
   "source": [
    "dat = data\n",
    "rules, updates = format_input(dat)\n",
    "{len(u) for u in updates}"
   ]
  },
  {
   "cell_type": "code",
   "execution_count": 113,
   "metadata": {},
   "outputs": [],
   "source": [
    "# lists are small so I can use a bubble sort even if not very efficient"
   ]
  },
  {
   "cell_type": "code",
   "execution_count": 115,
   "metadata": {},
   "outputs": [
    {
     "data": {
      "text/plain": [
       "[61, 13, 29]"
      ]
     },
     "execution_count": 115,
     "metadata": {},
     "output_type": "execute_result"
    }
   ],
   "source": [
    "upd = inc_upds[1]\n",
    "upd"
   ]
  },
  {
   "cell_type": "code",
   "execution_count": 116,
   "metadata": {},
   "outputs": [],
   "source": [
    "exp = [61, 29, 13]"
   ]
  },
  {
   "cell_type": "code",
   "execution_count": 118,
   "metadata": {},
   "outputs": [],
   "source": [
    "# for i,n1 in enumerate(upd[:-1]):\n",
    "#     for j,n2 in enumerate(upd[i+1:]):\n",
    "#         if n2 in before[n1]:\n",
    "#             upd[i] = n2 \n",
    "#             upd[i] = "
   ]
  },
  {
   "cell_type": "code",
   "execution_count": 119,
   "metadata": {},
   "outputs": [],
   "source": [
    "# actually instead of bubbble sort I can simply create an ordering function that return -1 if n2 should be before n1, 0 otherwise"
   ]
  },
  {
   "cell_type": "code",
   "execution_count": 140,
   "metadata": {},
   "outputs": [],
   "source": [
    "dat = samp\n",
    "rules, updates = format_input(dat)"
   ]
  },
  {
   "cell_type": "code",
   "execution_count": 178,
   "metadata": {},
   "outputs": [],
   "source": [
    "def ord_before(n1, n2, before=before) -> int:\n",
    "    if n1 in before[n2]:\n",
    "        return -1\n",
    "    return 0"
   ]
  },
  {
   "cell_type": "code",
   "execution_count": 179,
   "metadata": {},
   "outputs": [],
   "source": [
    "from functools import cmp_to_key \n",
    "ord_before_key = cmp_to_key(ord_before)"
   ]
  },
  {
   "cell_type": "code",
   "execution_count": 184,
   "metadata": {},
   "outputs": [],
   "source": [
    "from functools import cmp_to_key \n",
    "def create_key(before):\n",
    "\n",
    "    def ord_before(n1, n2, before=before) -> int:\n",
    "        if n1 in before[n2]:\n",
    "            return -1\n",
    "        return 0\n",
    "    return cmp_to_key(ord_before)"
   ]
  },
  {
   "cell_type": "code",
   "execution_count": 185,
   "metadata": {},
   "outputs": [],
   "source": [
    "ord_before_key = create_key(before)"
   ]
  },
  {
   "cell_type": "code",
   "execution_count": 186,
   "metadata": {},
   "outputs": [
    {
     "name": "stdout",
     "output_type": "stream",
     "text": [
      "[61, 13, 29]\n"
     ]
    }
   ],
   "source": [
    "upd = inc_upds[1]\n",
    "print(upd)\n",
    "exp = [61, 29, 13]"
   ]
  },
  {
   "cell_type": "code",
   "execution_count": 187,
   "metadata": {},
   "outputs": [
    {
     "data": {
      "text/plain": [
       "[61, 29, 13]"
      ]
     },
     "execution_count": 187,
     "metadata": {},
     "output_type": "execute_result"
    }
   ],
   "source": [
    "sorted(upd, key = ord_before_key)"
   ]
  },
  {
   "cell_type": "code",
   "execution_count": 182,
   "metadata": {},
   "outputs": [
    {
     "data": {
      "text/plain": [
       "[97, 75, 47, 29, 13]"
      ]
     },
     "execution_count": 182,
     "metadata": {},
     "output_type": "execute_result"
    }
   ],
   "source": [
    "upd = [97,13,75,29,47]\n",
    "sorted(upd, key = ord_before_key)"
   ]
  },
  {
   "cell_type": "code",
   "execution_count": 189,
   "metadata": {},
   "outputs": [],
   "source": [
    "def reorder_upd(upd: list[int], before) -> list[int]:\n",
    "    f_key = create_key(before)\n",
    "    return sorted(upd, key = f_key)"
   ]
  },
  {
   "cell_type": "code",
   "execution_count": 191,
   "metadata": {},
   "outputs": [
    {
     "data": {
      "text/plain": [
       "[97, 75, 47, 61, 53]"
      ]
     },
     "execution_count": 191,
     "metadata": {},
     "output_type": "execute_result"
    }
   ],
   "source": [
    "upd = [75,97,47,61,53]\n",
    "reorder_upd(upd, before)"
   ]
  },
  {
   "cell_type": "code",
   "execution_count": 192,
   "metadata": {},
   "outputs": [
    {
     "data": {
      "text/plain": [
       "[61, 29, 13]"
      ]
     },
     "execution_count": 192,
     "metadata": {},
     "output_type": "execute_result"
    }
   ],
   "source": [
    "upd = [61,13,29]\n",
    "reorder_upd(upd, before)"
   ]
  },
  {
   "cell_type": "code",
   "execution_count": 193,
   "metadata": {},
   "outputs": [
    {
     "data": {
      "text/plain": [
       "[97, 75, 47, 29, 13]"
      ]
     },
     "execution_count": 193,
     "metadata": {},
     "output_type": "execute_result"
    }
   ],
   "source": [
    "upd = [97,13,75,29,47]\n",
    "reorder_upd(upd, before)"
   ]
  },
  {
   "cell_type": "code",
   "execution_count": 195,
   "metadata": {},
   "outputs": [],
   "source": [
    "## remind ourselves the structure of final sol function\n",
    "def sol5b(dat: str) -> int:\n",
    "    rules, updates = format_input(dat)\n",
    "    before = build_before(rules)\n",
    "    updates_not_valid = [u for u in updates if not is_update_valid(u, before)]\n",
    "    updates_not_valid = [reorder_upd(u, before) for u in updates_not_valid]\n",
    "    return sum([get_mid(u) for u in updates_not_valid])"
   ]
  },
  {
   "cell_type": "code",
   "execution_count": 196,
   "metadata": {},
   "outputs": [
    {
     "data": {
      "text/plain": [
       "123"
      ]
     },
     "execution_count": 196,
     "metadata": {},
     "output_type": "execute_result"
    }
   ],
   "source": [
    "dat = samp \n",
    "sol5b(dat)"
   ]
  },
  {
   "cell_type": "code",
   "execution_count": 197,
   "metadata": {},
   "outputs": [
    {
     "data": {
      "text/plain": [
       "6305"
      ]
     },
     "execution_count": 197,
     "metadata": {},
     "output_type": "execute_result"
    }
   ],
   "source": [
    "dat = data \n",
    "sol5b(dat)"
   ]
  },
  {
   "cell_type": "markdown",
   "metadata": {},
   "source": [
    "## take aways"
   ]
  },
  {
   "cell_type": "markdown",
   "metadata": {},
   "source": [
    "overall I think this problem plays on sorting.\n",
    "\n",
    "part b is immediate if I went with sorting in part a"
   ]
  }
 ],
 "metadata": {
  "kernelspec": {
   "display_name": "pydidask",
   "language": "python",
   "name": "python3"
  },
  "language_info": {
   "codemirror_mode": {
    "name": "ipython",
    "version": 3
   },
   "file_extension": ".py",
   "mimetype": "text/x-python",
   "name": "python",
   "nbconvert_exporter": "python",
   "pygments_lexer": "ipython3",
   "version": "3.12.0"
  }
 },
 "nbformat": 4,
 "nbformat_minor": 2
}
