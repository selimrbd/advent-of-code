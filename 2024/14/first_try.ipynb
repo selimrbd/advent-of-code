{
 "cells": [
  {
   "cell_type": "markdown",
   "metadata": {},
   "source": [
    "# Advent of Code - Day 14 Year 2024"
   ]
  },
  {
   "cell_type": "code",
   "execution_count": 405,
   "metadata": {},
   "outputs": [
    {
     "name": "stdout",
     "output_type": "stream",
     "text": [
      "nb examples: 1\n",
      "problem link: https://adventofcode.com/2024/day/14\n"
     ]
    }
   ],
   "source": [
    "DAY = 14\n",
    "YEAR = 2024\n",
    "#######\n",
    "import json\n",
    "import sys \n",
    "sys.path.append('../../')\n",
    "from utils import get_pb_data, rephrase_pb, open_link, render_json\n",
    "link, data, exmp, ae1, ae2, exmps, out = get_pb_data(DAY, YEAR)\n",
    "\n",
    "print(f'problem link: {link}')"
   ]
  },
  {
   "cell_type": "code",
   "execution_count": 406,
   "metadata": {},
   "outputs": [],
   "source": [
    "# with open(\"./_puzzle_data.json\", \"r\") as f: inp = json.loads(f.read())\n",
    "# render_json(inp)"
   ]
  },
  {
   "cell_type": "code",
   "execution_count": 407,
   "metadata": {},
   "outputs": [],
   "source": [
    "#await rephrase_pb(DAY, YEAR, 1)"
   ]
  },
  {
   "cell_type": "code",
   "execution_count": 408,
   "metadata": {},
   "outputs": [
    {
     "data": {
      "text/plain": [
       "12"
      ]
     },
     "execution_count": 408,
     "metadata": {},
     "output_type": "execute_result"
    }
   ],
   "source": [
    "dat = exmp \n",
    "len(dat.splitlines())"
   ]
  },
  {
   "cell_type": "code",
   "execution_count": 409,
   "metadata": {},
   "outputs": [
    {
     "name": "stdout",
     "output_type": "stream",
     "text": [
      "p=0,4 v=3,-3\n",
      "p=6,3 v=-1,-3\n",
      "p=10,3 v=-1,2\n",
      "p=2,0 v=2,-1\n",
      "p=0,0 v=1,3\n",
      "p=3,0 v=-2,-2\n",
      "p=7,6 v=-1,-3\n",
      "p=3,0 v=-1,-2\n",
      "p=9,3 v=2,3\n",
      "p=7,3 v=-1,2\n",
      "p=2,4 v=2,-3\n",
      "p=9,5 v=-3,-3\n"
     ]
    }
   ],
   "source": [
    "print(dat)"
   ]
  },
  {
   "cell_type": "markdown",
   "metadata": {},
   "source": [
    "- I'll need to determine the equation of each robot line. Once I have that I get their position after 100 seconds easily.\n",
    "\n",
    "- Their movement equation is a combination of 2 directions: horizontal and vertical.\n"
   ]
  },
  {
   "cell_type": "markdown",
   "metadata": {},
   "source": [
    "- parse the input\n",
    "- determine the equation for each (x,y) of the robot (x = a1t + b1, y=a2t + b2)\n",
    "- run (x,y) modulo the width, height of the grid\n",
    "- count the number of robots per tile --> grid of numbers\n",
    "- divide the resulting grid in 4 quadrants\n",
    "- sum the nb of robots per quadrant\n",
    "- multiply each number for the final result"
   ]
  },
  {
   "cell_type": "markdown",
   "metadata": {},
   "source": [
    "for each robot I want :\n",
    "\n",
    "((a1,b1), (a2,b2))"
   ]
  },
  {
   "cell_type": "code",
   "execution_count": 410,
   "metadata": {},
   "outputs": [],
   "source": [
    "s = \"p=0,4 v=3,-3\"\n",
    "x0, y0 = 0,4\n",
    "ax, ay = 3, -3\n",
    "# x0 = bx because x = ax*t + bx (t=0)\n",
    "# y0 = by\n"
   ]
  },
  {
   "cell_type": "code",
   "execution_count": 411,
   "metadata": {},
   "outputs": [
    {
     "data": {
      "text/plain": [
       "['p=0,4', 'v=3,-3']"
      ]
     },
     "execution_count": 411,
     "metadata": {},
     "output_type": "execute_result"
    }
   ],
   "source": [
    "s2 = s.split(' ')\n",
    "s2"
   ]
  },
  {
   "cell_type": "code",
   "execution_count": 412,
   "metadata": {},
   "outputs": [
    {
     "data": {
      "text/plain": [
       "['v', '3,-3']"
      ]
     },
     "execution_count": 412,
     "metadata": {},
     "output_type": "execute_result"
    }
   ],
   "source": [
    "s3 = s2[1].split('=')\n",
    "s3"
   ]
  },
  {
   "cell_type": "code",
   "execution_count": 413,
   "metadata": {},
   "outputs": [
    {
     "data": {
      "text/plain": [
       "[3, -3]"
      ]
     },
     "execution_count": 413,
     "metadata": {},
     "output_type": "execute_result"
    }
   ],
   "source": [
    "[int(s4) for s4 in s3[1].split(',')]"
   ]
  },
  {
   "cell_type": "code",
   "execution_count": 414,
   "metadata": {},
   "outputs": [
    {
     "data": {
      "text/plain": [
       "[[0, 4], [3, -3]]"
      ]
     },
     "execution_count": 414,
     "metadata": {},
     "output_type": "execute_result"
    }
   ],
   "source": [
    "[[int(s4) for s4 in s2.split('=')[1].split(',')] for s2 in s.split(' ')]"
   ]
  },
  {
   "cell_type": "code",
   "execution_count": 415,
   "metadata": {},
   "outputs": [
    {
     "data": {
      "text/plain": [
       "[((3, 0), (-3, 4)),\n",
       " ((-1, 6), (-3, 3)),\n",
       " ((-1, 10), (2, 3)),\n",
       " ((2, 2), (-1, 0)),\n",
       " ((1, 0), (3, 0)),\n",
       " ((-2, 3), (-2, 0)),\n",
       " ((-1, 7), (-3, 6)),\n",
       " ((-1, 3), (-2, 0)),\n",
       " ((2, 9), (3, 3)),\n",
       " ((-1, 7), (2, 3)),\n",
       " ((2, 2), (-3, 4)),\n",
       " ((-3, 9), (-3, 5))]"
      ]
     },
     "execution_count": 415,
     "metadata": {},
     "output_type": "execute_result"
    }
   ],
   "source": [
    "lines = dat.splitlines()\n",
    "ps = [[[int(s4) for s4 in s2.split('=')[1].split(',')] for s2 in s.split(' ')] for s in lines]\n",
    "d = [((p[1][0], p[0][0]), (p[1][1], p[0][1])) for p in ps]\n",
    "d"
   ]
  },
  {
   "cell_type": "code",
   "execution_count": 416,
   "metadata": {},
   "outputs": [],
   "source": [
    "def _fmt(dat):\n",
    "    lines = dat.splitlines()\n",
    "    ps = [[[int(s4) for s4 in s2.split('=')[1].split(',')] for s2 in s.split(' ')] for s in lines]\n",
    "    d = [((p[1][0], p[0][0]), (p[1][1], p[0][1])) for p in ps]\n",
    "    return d"
   ]
  },
  {
   "cell_type": "code",
   "execution_count": 417,
   "metadata": {},
   "outputs": [
    {
     "data": {
      "text/plain": [
       "[((3, 0), (-3, 4)),\n",
       " ((-1, 6), (-3, 3)),\n",
       " ((-1, 10), (2, 3)),\n",
       " ((2, 2), (-1, 0)),\n",
       " ((1, 0), (3, 0)),\n",
       " ((-2, 3), (-2, 0)),\n",
       " ((-1, 7), (-3, 6)),\n",
       " ((-1, 3), (-2, 0)),\n",
       " ((2, 9), (3, 3)),\n",
       " ((-1, 7), (2, 3)),\n",
       " ((2, 2), (-3, 4)),\n",
       " ((-3, 9), (-3, 5))]"
      ]
     },
     "execution_count": 417,
     "metadata": {},
     "output_type": "execute_result"
    }
   ],
   "source": [
    "dat = exmp \n",
    "eqs = _fmt(dat)\n",
    "eqs"
   ]
  },
  {
   "cell_type": "code",
   "execution_count": 418,
   "metadata": {},
   "outputs": [],
   "source": [
    "X, Y = eqs[-2]\n",
    "ax, bx = X \n",
    "ay, by = Y\n",
    "t = 5 \n",
    "x = ax*t+bx\n",
    "y = ay*t+by"
   ]
  },
  {
   "cell_type": "code",
   "execution_count": 419,
   "metadata": {},
   "outputs": [
    {
     "data": {
      "text/plain": [
       "1"
      ]
     },
     "execution_count": 419,
     "metadata": {},
     "output_type": "execute_result"
    }
   ],
   "source": [
    "x%11"
   ]
  },
  {
   "cell_type": "code",
   "execution_count": 420,
   "metadata": {},
   "outputs": [
    {
     "data": {
      "text/plain": [
       "3"
      ]
     },
     "execution_count": 420,
     "metadata": {},
     "output_type": "execute_result"
    }
   ],
   "source": [
    "y%7"
   ]
  },
  {
   "cell_type": "code",
   "execution_count": 421,
   "metadata": {},
   "outputs": [],
   "source": [
    "def _p(Z, t, l):\n",
    "    a, b = Z\n",
    "    return (a*t+b)%l "
   ]
  },
  {
   "cell_type": "code",
   "execution_count": 422,
   "metadata": {},
   "outputs": [],
   "source": [
    "def _pos(param, t, w, h):\n",
    "    X, Y = param \n",
    "    return (_p(X, t, w), _p(Y, t, h))"
   ]
  },
  {
   "cell_type": "code",
   "execution_count": 423,
   "metadata": {},
   "outputs": [
    {
     "data": {
      "text/plain": [
       "(1, 3)"
      ]
     },
     "execution_count": 423,
     "metadata": {},
     "output_type": "execute_result"
    }
   ],
   "source": [
    "dat = exmp \n",
    "params = _fmt(dat)\n",
    "p = params[-2]\n",
    "_pos(p, 5, 11, 7)"
   ]
  },
  {
   "cell_type": "code",
   "execution_count": 424,
   "metadata": {},
   "outputs": [
    {
     "data": {
      "text/plain": [
       "[(3, 5),\n",
       " (5, 4),\n",
       " (9, 0),\n",
       " (4, 5),\n",
       " (1, 6),\n",
       " (1, 3),\n",
       " (6, 0),\n",
       " (2, 3),\n",
       " (0, 2),\n",
       " (6, 0),\n",
       " (4, 5),\n",
       " (6, 6)]"
      ]
     },
     "execution_count": 424,
     "metadata": {},
     "output_type": "execute_result"
    }
   ],
   "source": [
    "t = 100\n",
    "w = 11\n",
    "h = 7\n",
    "fpos = [_pos(p, t,w,h) for p in params]\n",
    "fpos"
   ]
  },
  {
   "cell_type": "code",
   "execution_count": 425,
   "metadata": {},
   "outputs": [
    {
     "data": {
      "text/plain": [
       "[[0, 0, 0, 0, 0, 0, 2, 0, 0, 1, 0],\n",
       " [0, 0, 0, 0, 0, 0, 0, 0, 0, 0, 0],\n",
       " [1, 0, 0, 0, 0, 0, 0, 0, 0, 0, 0],\n",
       " [0, 1, 1, 0, 0, 0, 0, 0, 0, 0, 0],\n",
       " [0, 0, 0, 0, 0, 1, 0, 0, 0, 0, 0],\n",
       " [0, 0, 0, 1, 2, 0, 0, 0, 0, 0, 0],\n",
       " [0, 1, 0, 0, 0, 0, 1, 0, 0, 0, 0]]"
      ]
     },
     "execution_count": 425,
     "metadata": {},
     "output_type": "execute_result"
    }
   ],
   "source": [
    "grid = [[0 for _ in range(w)] for _ in range(h)]\n",
    "for x,y in fpos:\n",
    "    grid[y][x] += 1\n",
    "grid"
   ]
  },
  {
   "cell_type": "code",
   "execution_count": 426,
   "metadata": {},
   "outputs": [],
   "source": [
    "def _grid(fpos):\n",
    "    grid = [[0 for _ in range(w)] for _ in range(h)]\n",
    "    for x,y in fpos:\n",
    "        grid[y][x] += 1\n",
    "    return grid"
   ]
  },
  {
   "cell_type": "code",
   "execution_count": 427,
   "metadata": {},
   "outputs": [
    {
     "data": {
      "text/plain": [
       "[[0, 0, 0, 0, 0, 0, 2, 0, 0, 1, 0],\n",
       " [0, 0, 0, 0, 0, 0, 0, 0, 0, 0, 0],\n",
       " [1, 0, 0, 0, 0, 0, 0, 0, 0, 0, 0],\n",
       " [0, 1, 1, 0, 0, 0, 0, 0, 0, 0, 0],\n",
       " [0, 0, 0, 0, 0, 1, 0, 0, 0, 0, 0],\n",
       " [0, 0, 0, 1, 2, 0, 0, 0, 0, 0, 0],\n",
       " [0, 1, 0, 0, 0, 0, 1, 0, 0, 0, 0]]"
      ]
     },
     "execution_count": 427,
     "metadata": {},
     "output_type": "execute_result"
    }
   ],
   "source": [
    "g = _grid(fpos)\n",
    "g"
   ]
  },
  {
   "cell_type": "code",
   "execution_count": 428,
   "metadata": {},
   "outputs": [
    {
     "data": {
      "text/plain": [
       "[[0, 0, 0, 0, 0], [0, 0, 0, 0, 0], [1, 0, 0, 0, 0]]"
      ]
     },
     "execution_count": 428,
     "metadata": {},
     "output_type": "execute_result"
    }
   ],
   "source": [
    "[[grid[j][i] for i in range(w//2)] for j in range(h//2)]"
   ]
  },
  {
   "cell_type": "code",
   "execution_count": 429,
   "metadata": {},
   "outputs": [],
   "source": [
    "ancx = [range(0, w//2), range(w//2+1, w)]\n",
    "ancy = [range(0, h//2), range(h//2+1, h)]"
   ]
  },
  {
   "cell_type": "code",
   "execution_count": 430,
   "metadata": {},
   "outputs": [
    {
     "data": {
      "text/plain": [
       "[[[0, 0, 0, 0, 0], [0, 0, 0, 0, 0], [1, 0, 0, 0, 0]],\n",
       " [[2, 0, 0, 1, 0], [0, 0, 0, 0, 0], [0, 0, 0, 0, 0]],\n",
       " [[0, 0, 0, 0, 0], [0, 0, 0, 1, 2], [0, 1, 0, 0, 0]],\n",
       " [[0, 0, 0, 0, 0], [0, 0, 0, 0, 0], [1, 0, 0, 0, 0]]]"
      ]
     },
     "execution_count": 430,
     "metadata": {},
     "output_type": "execute_result"
    }
   ],
   "source": [
    "[[[grid[j][i] for i in itx] for j in ity] for ity in ancy for itx in ancx]"
   ]
  },
  {
   "cell_type": "code",
   "execution_count": 431,
   "metadata": {},
   "outputs": [],
   "source": [
    "def _quad(grid):\n",
    "    w, h = len(grid[0]), len(grid)\n",
    "    ancx = [range(0, w//2), range(w//2+1, w)]\n",
    "    ancy = [range(0, h//2), range(h//2+1, h)]\n",
    "    return [[[grid[j][i] for i in itx] for j in ity] for ity in ancy for itx in ancx]"
   ]
  },
  {
   "cell_type": "code",
   "execution_count": 432,
   "metadata": {},
   "outputs": [
    {
     "data": {
      "text/plain": [
       "[[[0, 0, 0, 0, 0], [0, 0, 0, 0, 0], [1, 0, 0, 0, 0]],\n",
       " [[2, 0, 0, 1, 0], [0, 0, 0, 0, 0], [0, 0, 0, 0, 0]],\n",
       " [[0, 0, 0, 0, 0], [0, 0, 0, 1, 2], [0, 1, 0, 0, 0]],\n",
       " [[0, 0, 0, 0, 0], [0, 0, 0, 0, 0], [1, 0, 0, 0, 0]]]"
      ]
     },
     "execution_count": 432,
     "metadata": {},
     "output_type": "execute_result"
    }
   ],
   "source": [
    "g = _grid(fpos)\n",
    "_quad(g)"
   ]
  },
  {
   "cell_type": "code",
   "execution_count": 433,
   "metadata": {},
   "outputs": [
    {
     "data": {
      "text/plain": [
       "[1, 3, 4, 1]"
      ]
     },
     "execution_count": 433,
     "metadata": {},
     "output_type": "execute_result"
    }
   ],
   "source": [
    "nbs = [sum([x for l in q for x in l]) for q in _quad(g)]\n",
    "nbs"
   ]
  },
  {
   "cell_type": "code",
   "execution_count": 434,
   "metadata": {},
   "outputs": [
    {
     "data": {
      "text/plain": [
       "12"
      ]
     },
     "execution_count": 434,
     "metadata": {},
     "output_type": "execute_result"
    }
   ],
   "source": [
    "import math \n",
    "math.prod(nbs)"
   ]
  },
  {
   "cell_type": "code",
   "execution_count": 435,
   "metadata": {},
   "outputs": [],
   "source": [
    "def sol1(dat, t, w, h):\n",
    "    params = _fmt(dat)\n",
    "    fpos = [_pos(p,t,w,h) for p in params]\n",
    "    g = _grid(fpos)\n",
    "    nbs = [sum([x for l in q for x in l]) for q in _quad(g)]\n",
    "    return math.prod(nbs)\n",
    "    \n",
    "    \n",
    "    "
   ]
  },
  {
   "cell_type": "code",
   "execution_count": 436,
   "metadata": {},
   "outputs": [
    {
     "data": {
      "text/plain": [
       "12"
      ]
     },
     "execution_count": 436,
     "metadata": {},
     "output_type": "execute_result"
    }
   ],
   "source": [
    "dat, t, w, h = exmp, 100, 11, 7 \n",
    "sol1(dat, t, w, h)"
   ]
  },
  {
   "cell_type": "code",
   "execution_count": 437,
   "metadata": {},
   "outputs": [
    {
     "data": {
      "text/plain": [
       "222901875"
      ]
     },
     "execution_count": 437,
     "metadata": {},
     "output_type": "execute_result"
    }
   ],
   "source": [
    "dat, t, w, h = data, 100, 101, 103 \n",
    "sol1(dat, t, w, h)"
   ]
  },
  {
   "cell_type": "markdown",
   "metadata": {},
   "source": [
    "## part 2"
   ]
  },
  {
   "cell_type": "code",
   "execution_count": 438,
   "metadata": {},
   "outputs": [],
   "source": [
    "#await rephrase_pb(DAY, YEAR, 2)"
   ]
  },
  {
   "cell_type": "code",
   "execution_count": 439,
   "metadata": {},
   "outputs": [],
   "source": [
    "dat, t, w, h = exmp, 100, 11, 7 \n",
    "t = -1"
   ]
  },
  {
   "cell_type": "code",
   "execution_count": 440,
   "metadata": {},
   "outputs": [],
   "source": [
    "t += 1\n",
    "params = _fmt(dat)\n",
    "fpos = [_pos(p,t,w,h) for p in params]\n",
    "g = _grid(fpos)"
   ]
  },
  {
   "cell_type": "code",
   "execution_count": 441,
   "metadata": {},
   "outputs": [],
   "source": [
    "def _dgrid(g):\n",
    "    g = [['.' if x == 0 else str(x) for x in l ]for l in g]\n",
    "    print('\\n'.join(([' '.join([str(x) for x in l]) for l in g])))"
   ]
  },
  {
   "cell_type": "code",
   "execution_count": 442,
   "metadata": {},
   "outputs": [],
   "source": [
    "dat, t, w, h = exmp, 100, 11, 7 \n",
    "t = -1"
   ]
  },
  {
   "cell_type": "code",
   "execution_count": 443,
   "metadata": {},
   "outputs": [
    {
     "name": "stdout",
     "output_type": "stream",
     "text": [
      "1 . 1 2 . . . . . . .\n",
      ". . . . . . . . . . .\n",
      ". . . . . . . . . . .\n",
      ". . . . . . 1 1 . 1 1\n",
      "1 . 1 . . . . . . . .\n",
      ". . . . . . . . . 1 .\n",
      ". . . . . . . 1 . . .\n"
     ]
    }
   ],
   "source": [
    "t += 1\n",
    "params = _fmt(dat)\n",
    "fpos = [_pos(p,t,w,h) for p in params]\n",
    "g = _grid(fpos)\n",
    "_dgrid(g)"
   ]
  },
  {
   "cell_type": "markdown",
   "metadata": {},
   "source": [
    "lets search for seconds, as the tree must occur multiple times (they talk about \"fewer\" nb of seconds)"
   ]
  },
  {
   "cell_type": "code",
   "execution_count": 444,
   "metadata": {},
   "outputs": [],
   "source": [
    "dat, t, w, h = exmp, 100, 11, 7 \n",
    "t = 0\n",
    "hist = []"
   ]
  },
  {
   "cell_type": "code",
   "execution_count": 445,
   "metadata": {},
   "outputs": [],
   "source": [
    "def _dgrid(g):\n",
    "    g = [['.' if x == 0 else str(x) for x in l ]for l in g]\n",
    "    return ('\\n'.join(([' '.join([str(x) for x in l]) for l in g])))"
   ]
  },
  {
   "cell_type": "code",
   "execution_count": 446,
   "metadata": {},
   "outputs": [],
   "source": [
    "def _build_grid(dat, t, w, h):\n",
    "    params = _fmt(dat)\n",
    "    fpos = [_pos(p,t,w,h) for p in params]\n",
    "    g = _grid(fpos)\n",
    "    return _dgrid(g)"
   ]
  },
  {
   "cell_type": "code",
   "execution_count": 447,
   "metadata": {},
   "outputs": [
    {
     "name": "stdout",
     "output_type": "stream",
     "text": [
      ". . . . . . 2 . . 1 .\n",
      ". . . . . . . . . . .\n",
      "1 . . . . . . . . . .\n",
      ". 1 1 . . . . . . . .\n",
      ". . . . . 1 . . . . .\n",
      ". . . 1 2 . . . . . .\n",
      ". 1 . . . . 1 . . . .\n"
     ]
    }
   ],
   "source": [
    "dat, t, w, h = exmp, 100, 11, 7 \n",
    "print(_build_grid(dat, t, w, h))"
   ]
  },
  {
   "cell_type": "code",
   "execution_count": 448,
   "metadata": {},
   "outputs": [],
   "source": [
    "dat, w, h  = exmp, 11, 7\n",
    "#dat, w, h  = data, 101, 103 \n",
    "hist = []\n",
    "exc = ['1 . 1 2 . . . . . . .\\n. . . . . . . . . . .\\n. . . . . . . . . . .\\n. . . . . . 1 1 . 1 1\\n1 . 1 . . . . . . . .\\n. . . . . . . . . 1 .\\n. . . . . . . 1 . . .']\n",
    "cnt = 0 \n",
    "gs = _build_grid(dat, cnt, w, h)"
   ]
  },
  {
   "cell_type": "code",
   "execution_count": 449,
   "metadata": {},
   "outputs": [
    {
     "name": "stdout",
     "output_type": "stream",
     "text": [
      "78\n",
      "1\n",
      ". . . . . 1 . . . . .\n",
      ". . . 1 1 . . . . . .\n",
      ". . . . . . 1 . . . .\n",
      ". 1 . . . . 1 . . . .\n",
      ". . . . . . . . . . .\n",
      ". 1 1 . . . 1 . . 1 .\n",
      "1 . . . 1 . . . . . .\n"
     ]
    }
   ],
   "source": [
    "while gs not in hist or gs in exc:\n",
    "    hist.append(gs)\n",
    "    cnt += 1\n",
    "    gs = _build_grid(dat, cnt, w, h)\n",
    "print(cnt)\n",
    "print(hist.index(gs))\n",
    "print(hist[hist.index(gs)])"
   ]
  },
  {
   "cell_type": "code",
   "execution_count": 450,
   "metadata": {},
   "outputs": [],
   "source": [
    "def _save(gs):\n",
    "    with open('exc.txt', 'a') as f:\n",
    "        f.write(f'{gs},')"
   ]
  },
  {
   "cell_type": "code",
   "execution_count": 451,
   "metadata": {},
   "outputs": [],
   "source": [
    "for _ in range(100):\n",
    "    _save(gs)"
   ]
  },
  {
   "cell_type": "code",
   "execution_count": 452,
   "metadata": {},
   "outputs": [],
   "source": [
    "from pathlib import Path \n",
    "def _load_exc():\n",
    "    p = Path('exc.txt')\n",
    "    if not p.exists():\n",
    "        return []\n",
    "    with open('exc.txt', 'r') as f:\n",
    "        return [x for x in f.read().split(',')]"
   ]
  },
  {
   "cell_type": "code",
   "execution_count": 453,
   "metadata": {},
   "outputs": [],
   "source": [
    "dat, w, h  = exmp, 11, 7\n",
    "#dat, w, h  = data, 101, 103 \n",
    "hist = []\n",
    "exc = _load_exc()\n",
    "cnt = 0 \n",
    "gs = _build_grid(dat, cnt, w, h)"
   ]
  },
  {
   "cell_type": "code",
   "execution_count": 454,
   "metadata": {},
   "outputs": [
    {
     "name": "stdout",
     "output_type": "stream",
     "text": [
      "77\n",
      "0\n",
      "1 . 1 2 . . . . . . .\n",
      ". . . . . . . . . . .\n",
      ". . . . . . . . . . .\n",
      ". . . . . . 1 1 . 1 1\n",
      "1 . 1 . . . . . . . .\n",
      ". . . . . . . . . 1 .\n",
      ". . . . . . . 1 . . .\n"
     ]
    }
   ],
   "source": [
    "while gs not in hist or gs in exc:\n",
    "    hist.append(gs)\n",
    "    cnt += 1\n",
    "    gs = _build_grid(dat, cnt, w, h)\n",
    "print(cnt)\n",
    "print(hist.index(gs))\n",
    "print(hist[hist.index(gs)])\n",
    "_save(gs)\n",
    "exc = _load_exc()"
   ]
  },
  {
   "cell_type": "markdown",
   "metadata": {},
   "source": [
    "I went through the full cycle of patterns, and didn't notice a christmas tree for the example\n",
    "\n",
    "for the real data, I need to build the image to see it"
   ]
  },
  {
   "cell_type": "markdown",
   "metadata": {},
   "source": [
    "claude:\n",
    "\n",
    "python: \n",
    "\n",
    "How with a list of list of 0 or 1 can I build a black and white image and display it in jupyter notebook"
   ]
  },
  {
   "cell_type": "code",
   "execution_count": 455,
   "metadata": {},
   "outputs": [],
   "source": [
    "import numpy as np\n",
    "import matplotlib.pyplot as plt\n",
    "\n",
    "def _image(matrix, normalize=True):\n",
    "    w, h = len(matrix[0]), len(matrix)\n",
    "    data = np.array(matrix)\n",
    "    if normalize:\n",
    "        data = data / data.max()\n",
    "    plt.figure(figsize=(8, 8))\n",
    "    plt.imshow(data, cmap='binary_r')\n",
    "    plt.axis('off')\n",
    "    plt.show()"
   ]
  },
  {
   "cell_type": "code",
   "execution_count": 456,
   "metadata": {},
   "outputs": [
    {
     "name": "stdout",
     "output_type": "stream",
     "text": [
      "1 . 1 2 . . . . . . .\n",
      ". . . . . . . . . . .\n",
      ". . . . . . . . . . .\n",
      ". . . . . . 1 1 . 1 1\n",
      "1 . 1 . . . . . . . .\n",
      ". . . . . . . . . 1 .\n",
      ". . . . . . . 1 . . .\n"
     ]
    }
   ],
   "source": [
    "print(gs)"
   ]
  },
  {
   "cell_type": "code",
   "execution_count": 457,
   "metadata": {},
   "outputs": [],
   "source": [
    "def _dgrid(g):\n",
    "    #g = [['.' if x == 0 else str(x) for x in l ]for l in g]\n",
    "    return ('\\n'.join(([' '.join([str(x) for x in l]) for l in g])))\n",
    "def _build_grid(dat, t, w, h):\n",
    "    params = _fmt(dat)\n",
    "    fpos = [_pos(p,t,w,h) for p in params]\n",
    "    g = _grid(fpos)\n",
    "    return _dgrid(g), g"
   ]
  },
  {
   "cell_type": "code",
   "execution_count": 458,
   "metadata": {},
   "outputs": [
    {
     "ename": "NotADirectoryError",
     "evalue": "[Errno 20] Not a directory: 'exc.txt'",
     "output_type": "error",
     "traceback": [
      "\u001b[0;31m---------------------------------------------------------------------------\u001b[0m",
      "\u001b[0;31mNotADirectoryError\u001b[0m                        Traceback (most recent call last)",
      "Cell \u001b[0;32mIn[458], line 5\u001b[0m\n\u001b[1;32m      3\u001b[0m pe \u001b[38;5;241m=\u001b[39m Path(\u001b[38;5;124m'\u001b[39m\u001b[38;5;124mexc.txt\u001b[39m\u001b[38;5;124m'\u001b[39m)\n\u001b[1;32m      4\u001b[0m \u001b[38;5;28;01mif\u001b[39;00m pe\u001b[38;5;241m.\u001b[39mexists():\n\u001b[0;32m----> 5\u001b[0m     \u001b[43mpe\u001b[49m\u001b[38;5;241;43m.\u001b[39;49m\u001b[43mrmdir\u001b[49m\u001b[43m(\u001b[49m\u001b[43m)\u001b[49m\n\u001b[1;32m      6\u001b[0m hist \u001b[38;5;241m=\u001b[39m []\n\u001b[1;32m      7\u001b[0m exc \u001b[38;5;241m=\u001b[39m _load_exc()\n",
      "File \u001b[0;32m~/.pyenv/versions/3.12.0/lib/python3.12/pathlib.py:1352\u001b[0m, in \u001b[0;36mPath.rmdir\u001b[0;34m(self)\u001b[0m\n\u001b[1;32m   1348\u001b[0m \u001b[38;5;28;01mdef\u001b[39;00m \u001b[38;5;21mrmdir\u001b[39m(\u001b[38;5;28mself\u001b[39m):\n\u001b[1;32m   1349\u001b[0m \u001b[38;5;250m    \u001b[39m\u001b[38;5;124;03m\"\"\"\u001b[39;00m\n\u001b[1;32m   1350\u001b[0m \u001b[38;5;124;03m    Remove this directory.  The directory must be empty.\u001b[39;00m\n\u001b[1;32m   1351\u001b[0m \u001b[38;5;124;03m    \"\"\"\u001b[39;00m\n\u001b[0;32m-> 1352\u001b[0m     \u001b[43mos\u001b[49m\u001b[38;5;241;43m.\u001b[39;49m\u001b[43mrmdir\u001b[49m\u001b[43m(\u001b[49m\u001b[38;5;28;43mself\u001b[39;49m\u001b[43m)\u001b[49m\n",
      "\u001b[0;31mNotADirectoryError\u001b[0m: [Errno 20] Not a directory: 'exc.txt'"
     ]
    }
   ],
   "source": [
    "#dat, w, h  = exmp, 11, 7\n",
    "dat, w, h  = data, 101, 103 \n",
    "pe = Path('exc.txt')\n",
    "if pe.exists():\n",
    "    pe.rmdir()\n",
    "hist = []\n",
    "exc = _load_exc()\n",
    "cnt = 0 \n",
    "gs,g = _build_grid(dat, cnt, w, h)"
   ]
  },
  {
   "cell_type": "code",
   "execution_count": 328,
   "metadata": {},
   "outputs": [
    {
     "name": "stdout",
     "output_type": "stream",
     "text": [
      "10663\n",
      "260\n"
     ]
    },
    {
     "data": {
      "image/png": "[encoded data removed]",
      "text/plain": [
       "<Figure size 800x800 with 1 Axes>"
      ]
     },
     "metadata": {},
     "output_type": "display_data"
    }
   ],
   "source": [
    "while gs not in hist or gs in exc:\n",
    "    hist.append(gs)\n",
    "    cnt += 1\n",
    "    gs,g = _build_grid(dat, cnt, w, h)\n",
    "print(cnt)\n",
    "print(hist.index(gs))\n",
    "#print(hist[hist.index(gs)])\n",
    "_save(gs)\n",
    "exc = _load_exc()\n",
    "_image(g)"
   ]
  },
  {
   "cell_type": "markdown",
   "metadata": {},
   "source": [
    "Exploration didn't yield much"
   ]
  },
  {
   "cell_type": "markdown",
   "metadata": {},
   "source": [
    "Let's think of something else.\n",
    "\n",
    "If the robots are displayed as a chirstmas tree, there must be a diagonal on the grid ?"
   ]
  },
  {
   "cell_type": "code",
   "execution_count": 64,
   "metadata": {},
   "outputs": [],
   "source": [
    "#dat, w, h  = exmp, 11, 7\n",
    "dat, w, h  = data, 101, 103 \n",
    "cnt = 0 \n",
    "pat = [1 if i == w//2 else 0 for i in range(w)]\n",
    "gs,g = _build_grid(dat, cnt, w, h)\n",
    "assert len(g[0]) == len(pat)\n",
    "while g[0] != pat:\n",
    "    #hist.append(gs)\n",
    "    cnt += 1\n",
    "    gs,g = _build_grid(dat, cnt, w, h)"
   ]
  },
  {
   "cell_type": "code",
   "execution_count": 66,
   "metadata": {},
   "outputs": [],
   "source": [
    "# I can't be doing exact matching as it says \"most\" of the robots, not all..."
   ]
  },
  {
   "cell_type": "code",
   "execution_count": 355,
   "metadata": {},
   "outputs": [
    {
     "name": "stderr",
     "output_type": "stream",
     "text": [
      "0it [00:00, ?it/s]"
     ]
    },
    {
     "data": {
      "image/png": "[encoded data removed]",
      "text/plain": [
       "<Figure size 1000x500 with 2 Axes>"
      ]
     },
     "metadata": {},
     "output_type": "display_data"
    },
    {
     "name": "stderr",
     "output_type": "stream",
     "text": [
      "1it [00:00,  5.56it/s]"
     ]
    },
    {
     "name": "stdout",
     "output_type": "stream",
     "text": [
      "Tree score: 1.0\n"
     ]
    },
    {
     "name": "stderr",
     "output_type": "stream",
     "text": [
      "\n"
     ]
    }
   ],
   "source": [
    "from tqdm import tqdm \n",
    "import numpy as np\n",
    "from scipy import ndimage\n",
    "import matplotlib.pyplot as plt\n",
    "\n",
    "def detect_christmas_trees(images_list, display_example=True):\n",
    "    \"\"\"\n",
    "    Detect potential Christmas trees in a list of list of lists (3D list) of integers\n",
    "    \"\"\"\n",
    "    def analyze_single_image(img_list):\n",
    "        # Convert list to numpy array\n",
    "        img = np.array(img_list)\n",
    "        height, width = img.shape\n",
    "        \n",
    "        # Check vertical symmetry\n",
    "        flipped = np.fliplr(img)\n",
    "        symmetry_score = np.sum(img == flipped) / (height * width)\n",
    "        \n",
    "        # Check triangle-like shape\n",
    "        rows_with_pixels = np.sum(img, axis=1)\n",
    "        if len(rows_with_pixels) < 3:\n",
    "            return 0\n",
    "            \n",
    "        # Calculate width at different heights\n",
    "        top_third = np.mean(rows_with_pixels[:height//3])\n",
    "        bottom_third = np.mean(rows_with_pixels[-height//3:])\n",
    "        \n",
    "        # Triangle shape score (bottom should be wider than top)\n",
    "        shape_score = bottom_third > (1.5 * top_third)\n",
    "        \n",
    "        # Get connected components\n",
    "        labeled, num = ndimage.label(img)\n",
    "        if num == 0:\n",
    "            return 0\n",
    "        \n",
    "        # Calculate height/width ratio\n",
    "        pixels = np.where(img > 0)\n",
    "        if len(pixels[0]) == 0:\n",
    "            return 0\n",
    "        \n",
    "        min_row, max_row = np.min(pixels[0]), np.max(pixels[0])\n",
    "        min_col, max_col = np.min(pixels[1]), np.max(pixels[1])\n",
    "        \n",
    "        height = max_row - min_row\n",
    "        width = max_col - min_col\n",
    "        if height == 0 or width == 0:\n",
    "            return 0\n",
    "            \n",
    "        aspect_ratio = height / width\n",
    "        aspect_score = 0.4 < aspect_ratio < 2.0\n",
    "        \n",
    "        # Combine scores\n",
    "        final_score = (symmetry_score > 0.8) and shape_score and aspect_score\n",
    "        return float(final_score)\n",
    "    \n",
    "    # Convert list of images to numpy array if it isn't already\n",
    "    if not isinstance(images_list, np.ndarray):\n",
    "        images_list = [np.array(img) for img in images_list]\n",
    "    \n",
    "    # Process all images\n",
    "    scores = []\n",
    "    for i, img in tqdm(enumerate(images_list)):\n",
    "        score = analyze_single_image(img)\n",
    "        scores.append(score)\n",
    "        \n",
    "        # Display an example if requested\n",
    "        if display_example and i == 0:\n",
    "            plt.figure(figsize=(10, 5))\n",
    "            plt.subplot(121)\n",
    "            plt.imshow(img, cmap='binary_r')\n",
    "            plt.title(f'Example Image\\nTree Score: {score:.2f}')\n",
    "            \n",
    "            # Show width distribution\n",
    "            plt.subplot(122)\n",
    "            rows_with_pixels = np.sum(img, axis=1)\n",
    "            plt.plot(rows_with_pixels, range(len(rows_with_pixels)))\n",
    "            plt.title('Width Distribution\\n(bottom to top)')\n",
    "            plt.xlabel('Width (pixels)')\n",
    "            plt.ylabel('Height (pixels)')\n",
    "            plt.gca().invert_yaxis()\n",
    "            plt.tight_layout()\n",
    "            plt.show()\n",
    "    \n",
    "    return scores\n",
    "\n",
    "# Example usage:\n",
    "example_image = [\n",
    "    [0,0,0,0,1,0,0,0,0],\n",
    "    [0,0,0,1,1,1,0,0,0],\n",
    "    [0,0,1,1,1,1,1,0,0],\n",
    "    [0,1,1,1,1,1,1,1,0],\n",
    "    [1,1,1,1,1,1,1,1,1]\n",
    "]\n",
    "\n",
    "# For a single image\n",
    "score = detect_christmas_trees([example_image])\n",
    "print(f\"Tree score: {score[0]}\")"
   ]
  },
  {
   "cell_type": "code",
   "execution_count": 351,
   "metadata": {},
   "outputs": [],
   "source": [
    "#dat, w, h  = exmp, 11, 7\n",
    "dat, w, h  = data, 101, 103 \n",
    "pe = Path('exc.txt')\n",
    "if pe.exists():\n",
    "    pe.unlink()\n",
    "hist = []\n",
    "hist_g = []\n",
    "exc = _load_exc()\n",
    "cnt = 0 \n",
    "gs,g = _build_grid(dat, cnt, w, h)"
   ]
  },
  {
   "cell_type": "code",
   "execution_count": 352,
   "metadata": {},
   "outputs": [
    {
     "name": "stdout",
     "output_type": "stream",
     "text": [
      "10403\n",
      "0\n"
     ]
    },
    {
     "data": {
      "image/png": "[encoded data removed]",
      "text/plain": [
       "<Figure size 800x800 with 1 Axes>"
      ]
     },
     "metadata": {},
     "output_type": "display_data"
    }
   ],
   "source": [
    "while gs not in hist or gs in exc:\n",
    "    hist.append(gs)\n",
    "    hist_g.append(g)\n",
    "    cnt += 1\n",
    "    gs,g = _build_grid(dat, cnt, w, h)\n",
    "print(cnt)\n",
    "print(hist.index(gs))\n",
    "#print(hist[hist.index(gs)])\n",
    "_save(gs)\n",
    "exc = _load_exc()\n",
    "_image(g)"
   ]
  },
  {
   "cell_type": "code",
   "execution_count": 356,
   "metadata": {},
   "outputs": [
    {
     "data": {
      "text/plain": [
       "10403"
      ]
     },
     "execution_count": 356,
     "metadata": {},
     "output_type": "execute_result"
    }
   ],
   "source": [
    "len(hist_g)"
   ]
  },
  {
   "cell_type": "code",
   "execution_count": 358,
   "metadata": {},
   "outputs": [
    {
     "name": "stderr",
     "output_type": "stream",
     "text": [
      "10403it [00:01, 7833.96it/s]\n"
     ]
    }
   ],
   "source": [
    "e1 = hist_g[0]\n",
    "scores = detect_christmas_trees(hist_g, display_example=False)"
   ]
  },
  {
   "cell_type": "code",
   "execution_count": 360,
   "metadata": {},
   "outputs": [
    {
     "data": {
      "text/plain": [
       "[]"
      ]
     },
     "execution_count": 360,
     "metadata": {},
     "output_type": "execute_result"
    }
   ],
   "source": [
    "[x for x in scores if x!= 0]"
   ]
  },
  {
   "cell_type": "code",
   "execution_count": 384,
   "metadata": {},
   "outputs": [],
   "source": [
    "import torch\n",
    "from torchvision.models import resnet18\n",
    "import numpy as np\n",
    "from PIL import Image\n",
    "import torchvision.transforms as transforms\n",
    "\n",
    "def detect_trees(binary_images_lists):\n",
    "    \"\"\"\n",
    "    Detect trees in binary images (as lists of lists of ints)\n",
    "    using pre-trained ResNet18\n",
    "    \"\"\"\n",
    "    # Load pre-trained ResNet\n",
    "    model = resnet18(pretrained=True)\n",
    "    model.eval()\n",
    "    \n",
    "    # Define image transformation\n",
    "    transform = transforms.Compose([\n",
    "        transforms.Resize(224),\n",
    "        transforms.ToTensor(),\n",
    "        transforms.Normalize(mean=[0.485, 0.456, 0.406],\n",
    "                           std=[0.229, 0.224, 0.225])\n",
    "    ])\n",
    "    \n",
    "    def prepare_image(binary_image_list):\n",
    "        # Convert list to numpy array\n",
    "        binary_array = np.array(binary_image_list)\n",
    "        \n",
    "        # Convert to RGB-like format\n",
    "        rgb_image = np.stack([binary_array] * 3, axis=-1)\n",
    "        \n",
    "        # Convert to PIL Image\n",
    "        image = Image.fromarray((rgb_image * 255).astype(np.uint8))\n",
    "        \n",
    "        # Apply transformations\n",
    "        image = transform(image)\n",
    "        return image.unsqueeze(0)\n",
    "    \n",
    "    # Classes related to trees in ImageNet\n",
    "    tree_related_classes = {\n",
    "        970: 'christmas_tree',\n",
    "        972: 'pine',\n",
    "        973: 'spruce'\n",
    "    }\n",
    "    \n",
    "    results = []\n",
    "    confidences = []\n",
    "    \n",
    "    with torch.no_grad():\n",
    "        for binary_image_list in tqdm(binary_images_lists):\n",
    "            # Prepare and run through model\n",
    "            img = prepare_image(binary_image_list)\n",
    "            output = model(img)\n",
    "            \n",
    "            # Get probabilities\n",
    "            probs = torch.nn.functional.softmax(output[0], dim=0)\n",
    "            \n",
    "            # Sum probabilities of tree-related classes\n",
    "            tree_prob = sum(probs[idx].item() for idx in tree_related_classes)\n",
    "            \n",
    "            # Consider it a tree if probability exceeds threshold\n",
    "            is_tree = tree_prob > 0.1  # You can adjust this threshold\n",
    "            results.append(is_tree)\n",
    "            confidences.append(tree_prob)\n",
    "            if is_tree: break\n",
    "            \n",
    "    return np.array(results), np.array(confidences)"
   ]
  },
  {
   "cell_type": "code",
   "execution_count": 375,
   "metadata": {},
   "outputs": [
    {
     "name": "stderr",
     "output_type": "stream",
     "text": [
      "100%|██████████| 1/1 [00:00<00:00, 23.41it/s]"
     ]
    },
    {
     "name": "stdout",
     "output_type": "stream",
     "text": [
      "Tree detected: False (confidence: 0.05%)\n"
     ]
    },
    {
     "name": "stderr",
     "output_type": "stream",
     "text": [
      "\n"
     ]
    }
   ],
   "source": [
    "example_image = [\n",
    "    [0,0,0,0,1,0,0,0,0],\n",
    "    [0,0,0,1,1,1,0,0,0],\n",
    "    [0,0,1,1,1,1,1,0,0],\n",
    "    [0,1,1,1,1,1,1,1,0],\n",
    "    [1,1,1,1,1,1,1,1,1]\n",
    "]\n",
    "\n",
    "# Test with a single image\n",
    "results, confidences = detect_trees([example_image])\n",
    "print(f\"Tree detected: {results[0]} (confidence: {confidences[0]:.2%})\")"
   ]
  },
  {
   "cell_type": "code",
   "execution_count": 382,
   "metadata": {},
   "outputs": [
    {
     "name": "stderr",
     "output_type": "stream",
     "text": [
      "100%|██████████| 100/100 [00:03<00:00, 31.39it/s]\n"
     ]
    }
   ],
   "source": [
    "results, confidences = detect_trees(hist_g[:100])"
   ]
  },
  {
   "cell_type": "markdown",
   "metadata": {},
   "source": [
    "I'm going too far. Let's try something else, like finding images with a vertical ax of symmetry"
   ]
  },
  {
   "cell_type": "code",
   "execution_count": 389,
   "metadata": {},
   "outputs": [],
   "source": [
    "def check_symmetry(g):\n",
    "        w, h = len(g[0]), len(g)\n",
    "        for y in range(h):\n",
    "            for x in range(w//2):\n",
    "                if g[y][x] != g[y][w-1-x]:\n",
    "                    return False\n",
    "        return True"
   ]
  },
  {
   "cell_type": "code",
   "execution_count": 393,
   "metadata": {},
   "outputs": [
    {
     "data": {
      "text/plain": [
       "10403"
      ]
     },
     "execution_count": 393,
     "metadata": {},
     "output_type": "execute_result"
    }
   ],
   "source": [
    "len(hist_g)"
   ]
  },
  {
   "cell_type": "code",
   "execution_count": 396,
   "metadata": {},
   "outputs": [
    {
     "data": {
      "text/plain": [
       "[]"
      ]
     },
     "execution_count": 396,
     "metadata": {},
     "output_type": "execute_result"
    }
   ],
   "source": [
    "ss = [check_symmetry(g) for g in hist_g]\n",
    "[s for s in ss if s]"
   ]
  },
  {
   "cell_type": "code",
   "execution_count": 462,
   "metadata": {},
   "outputs": [],
   "source": [
    "def find_symmetry_axis(grid, error_threshold=0.1):\n",
    "    height, width = len(grid), len(grid[0])\n",
    "    # Only check middle third of grid for potential axis\n",
    "    for center in range(width//3, 2*width//3):\n",
    "        errors = sum(\n",
    "            grid[y][center-offset] != grid[y][center+offset]\n",
    "            for y in range(height)\n",
    "            for offset in range(min(center, width-1-center))\n",
    "        )\n",
    "        cells_compared = height * min(center, width-1-center)\n",
    "        if cells_compared > 0 and errors/cells_compared <= error_threshold:\n",
    "            return center\n",
    "    return None"
   ]
  },
  {
   "cell_type": "code",
   "execution_count": 463,
   "metadata": {},
   "outputs": [
    {
     "data": {
      "text/plain": [
       "4"
      ]
     },
     "execution_count": 463,
     "metadata": {},
     "output_type": "execute_result"
    }
   ],
   "source": [
    "example_image = [\n",
    "    [0,0,0,0,1,0,0,0,0],\n",
    "    [0,0,0,1,1,1,0,0,0],\n",
    "    [0,0,1,1,1,1,1,0,0],\n",
    "    [0,1,1,1,1,1,1,1,0],\n",
    "    [1,1,1,1,1,1,1,1,1]\n",
    "]\n",
    "find_symmetry_axis(example_image)"
   ]
  },
  {
   "cell_type": "code",
   "execution_count": 469,
   "metadata": {},
   "outputs": [
    {
     "name": "stderr",
     "output_type": "stream",
     "text": [
      "100%|██████████| 10403/10403 [01:18<00:00, 133.01it/s]"
     ]
    },
    {
     "name": "stdout",
     "output_type": "stream",
     "text": [
      "10403\n"
     ]
    },
    {
     "name": "stderr",
     "output_type": "stream",
     "text": [
      "\n"
     ]
    },
    {
     "data": {
      "text/plain": [
       "{61, None}"
      ]
     },
     "execution_count": 469,
     "metadata": {},
     "output_type": "execute_result"
    }
   ],
   "source": [
    "th = 0.05\n",
    "smm = [find_symmetry_axis(g, th) for g in tqdm(hist_g)]\n",
    "print(len(smm))\n",
    "set(smm)"
   ]
  },
  {
   "cell_type": "code",
   "execution_count": 476,
   "metadata": {},
   "outputs": [
    {
     "data": {
      "image/png": "[encoded data removed]",
      "text/plain": [
       "<Figure size 800x800 with 1 Axes>"
      ]
     },
     "metadata": {},
     "output_type": "display_data"
    }
   ],
   "source": [
    "im = hist_g[smm.index(61)]\n",
    "_image(im)"
   ]
  },
  {
   "cell_type": "code",
   "execution_count": 477,
   "metadata": {},
   "outputs": [
    {
     "data": {
      "text/plain": [
       "6243"
      ]
     },
     "execution_count": 477,
     "metadata": {},
     "output_type": "execute_result"
    }
   ],
   "source": [
    "smm.index(61)"
   ]
  },
  {
   "cell_type": "markdown",
   "metadata": {},
   "source": [
    "Finding the solution was a bit of luck...\n",
    "\n",
    "How could I have found it otherwise ?\n",
    "\n",
    "I'm looking for a vertical ax of symmetry\n",
    "\n",
    "But how do I characterize LOCAL symmetry ? Over an unknown width/height of pixels ?\n",
    "\n",
    "Maybe my solution of finding a general ax of symmetry while allowing for some \"noise\" is the best approach\n",
    "\n"
   ]
  }
 ],
 "metadata": {
  "kernelspec": {
   "display_name": "pydidask",
   "language": "python",
   "name": "python3"
  },
  "language_info": {
   "codemirror_mode": {
    "name": "ipython",
    "version": 3
   },
   "file_extension": ".py",
   "mimetype": "text/x-python",
   "name": "python",
   "nbconvert_exporter": "python",
   "pygments_lexer": "ipython3",
   "version": "3.12.0"
  }
 },
 "nbformat": 4,
 "nbformat_minor": 2
}
