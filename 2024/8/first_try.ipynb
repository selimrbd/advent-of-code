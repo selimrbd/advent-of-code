{
 "cells": [
  {
   "cell_type": "markdown",
   "metadata": {},
   "source": [
    "# Advent of Code - Day 8 Year 2024"
   ]
  },
  {
   "cell_type": "code",
   "execution_count": 1,
   "metadata": {},
   "outputs": [
    {
     "name": "stdout",
     "output_type": "stream",
     "text": [
      "nb examples: 1\n",
      "problem link: https://adventofcode.com/2024/day/8\n"
     ]
    }
   ],
   "source": [
    "DAY = 8\n",
    "YEAR = 2024\n",
    "#######\n",
    "import json\n",
    "import sys \n",
    "sys.path.append('../../')\n",
    "from utils import get_pb_data, rephrase_pb, open_link, render_json\n",
    "link, data, exmp, ae1, ae2, exmps, out = get_pb_data(DAY, YEAR)\n",
    "\n",
    "print(f'problem link: {link}')"
   ]
  },
  {
   "cell_type": "code",
   "execution_count": 2,
   "metadata": {},
   "outputs": [],
   "source": [
    "# with open(\"./_puzzle_data.json\", \"r\") as f: inp = json.loads(f.read())\n",
    "# render_json(inp)"
   ]
  },
  {
   "cell_type": "code",
   "execution_count": 3,
   "metadata": {},
   "outputs": [
    {
     "data": {
      "text/markdown": [
       "**Problem Rephrasing:**\n",
       "\n",
       "Find the total number of unique antinode locations on a 2D map containing antennas. \n",
       "\n",
       "**Key Rules:**\n",
       "- Antennas are represented by lowercase letters, uppercase letters, or digits on a grid\n",
       "- Only antennas with the **same frequency** (exact same character) create antinodes\n",
       "- An antinode appears when two same-frequency antennas are aligned, with one being **twice** as far from the antinode as the other\n",
       "- Each pair of same-frequency antennas creates **two** antinodes\n",
       "- Antinodes can overlap with antenna positions\n",
       "- Different frequencies (like 'A' and 'a') don't interact\n",
       "\n",
       "**Input Example:**\n",
       "```\n",
       "............\n",
       "........0...\n",
       ".....0......\n",
       ".......0....\n",
       "....0.......\n",
       "......A.....\n",
       "............\n",
       "............\n",
       "........A...\n",
       ".........A..\n",
       "............\n",
       "............\n",
       "```\n",
       "\n",
       "**Goal:** Count how many unique positions within the map contain at least one antinode."
      ],
      "text/plain": [
       "<IPython.core.display.Markdown object>"
      ]
     },
     "execution_count": 3,
     "metadata": {},
     "output_type": "execute_result"
    }
   ],
   "source": [
    "await rephrase_pb(DAY, YEAR, 1)"
   ]
  },
  {
   "cell_type": "markdown",
   "metadata": {},
   "source": [
    "- frequencies can be represented by: lowercase, uppercase or a digit.\n",
    "\n",
    "| \"However, antinodes can occur at locations that contain antennas\"\n",
    "\n",
    "- I probably need a separate grid to add the antinodes\n",
    "\n",
    "- You could have antinodes outside the bounds of the grid, in that case they don't count\n",
    "\n"
   ]
  },
  {
   "cell_type": "markdown",
   "metadata": {},
   "source": [
    "- where do antinodes occur ? "
   ]
  },
  {
   "cell_type": "markdown",
   "metadata": {},
   "source": [
    "In particular, an antinode occurs at any point that is **perfectly in line** with two antennas of the same frequency - but only **when one of the antennas is twice as far away as the other**."
   ]
  },
  {
   "cell_type": "markdown",
   "metadata": {},
   "source": [
    "- \"aligned\": can be horizontal, vertical, diagonal. Although all the cases in the example are diagonally aligned"
   ]
  },
  {
   "cell_type": "markdown",
   "metadata": {},
   "source": [
    "First idea:\n",
    "\n",
    "- get the location of each antenna\n",
    "- consider each possible couple of antennas\n",
    "- for each determine the possible positions of antinodes. If they are within the bound of the grid, increment the count of antinodes\n",
    "\n",
    "Is this computationally feasible ? Let's calculate the number of combinations to consider in total\n",
    "\n",
    "first, how many combinations to consider for one specific antenna frequency\n",
    "\n",
    "if there is only 1 of this type of antenna --> no antinodes\n",
    "\n",
    "If there are (n) with n >= 2, there are C(n, 2) (\"n choose k\") "
   ]
  },
  {
   "cell_type": "markdown",
   "metadata": {},
   "source": [
    "asking claude how to calculate combinations in python:"
   ]
  },
  {
   "cell_type": "code",
   "execution_count": 11,
   "metadata": {},
   "outputs": [
    {
     "name": "stdout",
     "output_type": "stream",
     "text": [
      "1 2 0\n",
      "2 2 1\n",
      "4 2 6\n"
     ]
    }
   ],
   "source": [
    "from math import comb \n",
    "\n",
    "n, k = 1, 2\n",
    "print(n , k, comb(n, k))\n",
    "\n",
    "n, k = 2, 2\n",
    "print(n , k, comb(n, k))\n",
    "\n",
    "n, k = 4, 2\n",
    "print(n , k, comb(n, k))"
   ]
  },
  {
   "cell_type": "code",
   "execution_count": 14,
   "metadata": {},
   "outputs": [
    {
     "name": "stdout",
     "output_type": "stream",
     "text": [
      "............\n",
      "........0...\n",
      ".....0......\n",
      ".......0....\n",
      "....0.......\n",
      "......A.....\n",
      "............\n",
      "............\n",
      "........A...\n",
      ".........A..\n",
      "............\n",
      "............\n"
     ]
    }
   ],
   "source": [
    "dat = exmp \n",
    "print(exmp)"
   ]
  },
  {
   "cell_type": "code",
   "execution_count": 16,
   "metadata": {},
   "outputs": [
    {
     "data": {
      "text/plain": [
       "Counter({'0': 4, 'A': 3})"
      ]
     },
     "execution_count": 16,
     "metadata": {},
     "output_type": "execute_result"
    }
   ],
   "source": [
    "from collections import Counter \n",
    "\n",
    "a_cnt = Counter([c for c in dat if c not in ('.', '\\n')])\n",
    "a_cnt"
   ]
  },
  {
   "cell_type": "code",
   "execution_count": 20,
   "metadata": {},
   "outputs": [
    {
     "name": "stdout",
     "output_type": "stream",
     "text": [
      "0 4\n",
      "A 3\n"
     ]
    }
   ],
   "source": [
    "for a in a_cnt:\n",
    "    print(a, a_cnt[a])"
   ]
  },
  {
   "cell_type": "code",
   "execution_count": 21,
   "metadata": {},
   "outputs": [
    {
     "data": {
      "text/plain": [
       "9"
      ]
     },
     "execution_count": 21,
     "metadata": {},
     "output_type": "execute_result"
    }
   ],
   "source": [
    "sum([comb(a_cnt[a], 2) for a in a_cnt])"
   ]
  },
  {
   "cell_type": "code",
   "execution_count": 22,
   "metadata": {},
   "outputs": [],
   "source": [
    "def calc_nb_comb(dat: str) -> int:\n",
    "    ..."
   ]
  },
  {
   "cell_type": "code",
   "execution_count": 23,
   "metadata": {},
   "outputs": [],
   "source": [
    "def calc_nb_comb(dat: str) -> int:\n",
    "    a_cnt = Counter([c for c in dat if c not in ('.', '\\n')])\n",
    "    return sum([comb(a_cnt[a], 2) for a in a_cnt])"
   ]
  },
  {
   "cell_type": "code",
   "execution_count": 25,
   "metadata": {},
   "outputs": [
    {
     "data": {
      "text/plain": [
       "9"
      ]
     },
     "execution_count": 25,
     "metadata": {},
     "output_type": "execute_result"
    }
   ],
   "source": [
    "dat = exmp\n",
    "calc_nb_comb(dat)"
   ]
  },
  {
   "cell_type": "code",
   "execution_count": 26,
   "metadata": {},
   "outputs": [
    {
     "data": {
      "text/plain": [
       "295"
      ]
     },
     "execution_count": 26,
     "metadata": {},
     "output_type": "execute_result"
    }
   ],
   "source": [
    "dat = data\n",
    "calc_nb_comb(dat)"
   ]
  },
  {
   "cell_type": "markdown",
   "metadata": {},
   "source": [
    "that's reasonably low, I think I can just consider all possible combinations to solve the problem"
   ]
  },
  {
   "cell_type": "markdown",
   "metadata": {},
   "source": [
    "Let's say I have a particular couple of antennas, with their position on the grid"
   ]
  },
  {
   "cell_type": "code",
   "execution_count": 27,
   "metadata": {},
   "outputs": [
    {
     "name": "stdout",
     "output_type": "stream",
     "text": [
      "............\n",
      "........0...\n",
      ".....0......\n",
      ".......0....\n",
      "....0.......\n",
      "......A.....\n",
      "............\n",
      "............\n",
      "........A...\n",
      ".........A..\n",
      "............\n",
      "............\n"
     ]
    }
   ],
   "source": [
    "print(exmp)"
   ]
  },
  {
   "cell_type": "code",
   "execution_count": 32,
   "metadata": {},
   "outputs": [
    {
     "data": {
      "text/plain": [
       "['............',\n",
       " '........0...',\n",
       " '.....0......',\n",
       " '.......0....',\n",
       " '....0.......',\n",
       " '......A.....',\n",
       " '............',\n",
       " '............',\n",
       " '........A...',\n",
       " '.........A..',\n",
       " '............',\n",
       " '............']"
      ]
     },
     "execution_count": 32,
     "metadata": {},
     "output_type": "execute_result"
    }
   ],
   "source": [
    "dat = exmp\n",
    "grid = dat.splitlines()\n",
    "grid"
   ]
  },
  {
   "cell_type": "code",
   "execution_count": 33,
   "metadata": {},
   "outputs": [
    {
     "data": {
      "text/plain": [
       "12"
      ]
     },
     "execution_count": 33,
     "metadata": {},
     "output_type": "execute_result"
    }
   ],
   "source": [
    "len(grid[0])"
   ]
  },
  {
   "cell_type": "code",
   "execution_count": 36,
   "metadata": {},
   "outputs": [
    {
     "name": "stdout",
     "output_type": "stream",
     "text": [
      "0\n",
      "0\n"
     ]
    }
   ],
   "source": [
    "## first couple of 0\n",
    "x1, y1 = (8,1)\n",
    "x2, y2 = (5,2)\n",
    "a1 = (x1, y1)\n",
    "a2 = (x2, y2)\n",
    "w, h = len(grid[0]), len(grid)\n",
    "## check\n",
    "print(grid[y1][x1])\n",
    "print(grid[y2][x2])"
   ]
  },
  {
   "cell_type": "code",
   "execution_count": 38,
   "metadata": {},
   "outputs": [],
   "source": [
    "Coord = tuple[int, int]\n",
    "def get_coord_antinodes(a1: Coord, a2: Coord) -> list[Coord]:\n",
    "    ..."
   ]
  },
  {
   "cell_type": "markdown",
   "metadata": {},
   "source": [
    "3 possibilities:\n",
    "\n",
    "- antennas are vertically aligned: occurs when x1 = x2\n",
    "- antennas are horizontally aligned: occurs when y1 = y2\n",
    "- antennas are diagonal to each other: otherwise\n",
    "\n",
    "actually I don't need to differentiate the possibilities, I can simply calculate the coordinate delta"
   ]
  },
  {
   "cell_type": "code",
   "execution_count": 44,
   "metadata": {},
   "outputs": [
    {
     "data": {
      "text/plain": [
       "(0, 1)"
      ]
     },
     "execution_count": 44,
     "metadata": {},
     "output_type": "execute_result"
    }
   ],
   "source": [
    "x1, y1 = (2,1)\n",
    "x2, y2 = (2,2)\n",
    "d = (max(x1, x2) - min(x1, x2), max(y1, y2) - min(y1, y2))\n",
    "d"
   ]
  },
  {
   "cell_type": "code",
   "execution_count": 51,
   "metadata": {},
   "outputs": [
    {
     "data": {
      "text/plain": [
       "(0, 3)"
      ]
     },
     "execution_count": 51,
     "metadata": {},
     "output_type": "execute_result"
    }
   ],
   "source": [
    "cnt = 0\n",
    "x1, y1 = (2,1)\n",
    "x2, y2 = (2,4)\n",
    "xd, yd = (max(x1, x2) - min(x1, x2), max(y1, y2) - min(y1, y2))\n",
    "d = xd, yd\n",
    "d"
   ]
  },
  {
   "cell_type": "code",
   "execution_count": 54,
   "metadata": {},
   "outputs": [
    {
     "data": {
      "text/plain": [
       "[(2, -2), (2, 7)]"
      ]
     },
     "execution_count": 54,
     "metadata": {},
     "output_type": "execute_result"
    }
   ],
   "source": [
    "# let's organize the antennas by ascending y, then ascending x\n",
    "ants = [(x1, y1), (x2, y2)]\n",
    "ants = sorted(ants, key=lambda x: (x[1], x[0]))\n",
    "an_coord = [(ants[0][0]-d[0],ants[0][1]-d[1]), (ants[1][0]+d[0],ants[1][1]+d[1])]\n",
    "an_coord "
   ]
  },
  {
   "cell_type": "code",
   "execution_count": 55,
   "metadata": {},
   "outputs": [
    {
     "data": {
      "text/plain": [
       "[(2, 7)]"
      ]
     },
     "execution_count": 55,
     "metadata": {},
     "output_type": "execute_result"
    }
   ],
   "source": [
    "an_coord = [(x,y) for x,y in an_coord if x >=0 and x < w and y >= 0 and y < h]\n",
    "an_coord"
   ]
  },
  {
   "cell_type": "code",
   "execution_count": null,
   "metadata": {},
   "outputs": [],
   "source": [
    "len(an_coord)"
   ]
  },
  {
   "cell_type": "code",
   "execution_count": 61,
   "metadata": {},
   "outputs": [],
   "source": [
    "def get_coord_antinodes(a1: Coord, a2: Coord) -> list[Coord]:\n",
    "    x1, y1 = a1\n",
    "    x2, y2 = a2\n",
    "    xd, yd = (max(x1, x2) - min(x1, x2), max(y1, y2) - min(y1, y2))\n",
    "    anten = [a1, a2]\n",
    "    anten = sorted(anten, key=lambda x: (x[1], x[0]))\n",
    "    anode = [(anten[0][0]-xd,anten[0][1]-yd), (anten[1][0]+xd,anten[1][1]+yd)]\n",
    "    anode = [(x,y) for x,y in anode if x >=0 and x < w and y >= 0 and y < h]\n",
    "    return anode"
   ]
  },
  {
   "cell_type": "code",
   "execution_count": 66,
   "metadata": {},
   "outputs": [],
   "source": [
    "all_anode = set()"
   ]
  },
  {
   "cell_type": "code",
   "execution_count": 75,
   "metadata": {},
   "outputs": [],
   "source": [
    "def format_input(dat: str) -> list[tuple[str, Coord]]:\n",
    "    ..."
   ]
  },
  {
   "cell_type": "code",
   "execution_count": 93,
   "metadata": {},
   "outputs": [
    {
     "data": {
      "text/plain": [
       "['............',\n",
       " '........0...',\n",
       " '.....0......',\n",
       " '.......0....',\n",
       " '....0.......',\n",
       " '......A.....',\n",
       " '............',\n",
       " '............',\n",
       " '........A...',\n",
       " '.........A..',\n",
       " '............',\n",
       " '............']"
      ]
     },
     "execution_count": 93,
     "metadata": {},
     "output_type": "execute_result"
    }
   ],
   "source": [
    "dat = exmp\n",
    "grid = dat.splitlines()\n",
    "grid"
   ]
  },
  {
   "cell_type": "code",
   "execution_count": 94,
   "metadata": {},
   "outputs": [
    {
     "data": {
      "text/plain": [
       "[('0', (8, 1)),\n",
       " ('0', (5, 2)),\n",
       " ('0', (7, 3)),\n",
       " ('0', (4, 4)),\n",
       " ('A', (6, 5)),\n",
       " ('A', (8, 8)),\n",
       " ('A', (9, 9))]"
      ]
     },
     "execution_count": 94,
     "metadata": {},
     "output_type": "execute_result"
    }
   ],
   "source": [
    "all_antennas = [(c,(x,y)) for y,l in enumerate(grid) for x,c in enumerate(l) if c not in ('.', '\\n')]\n",
    "all_antennas"
   ]
  },
  {
   "cell_type": "code",
   "execution_count": 99,
   "metadata": {},
   "outputs": [
    {
     "data": {
      "text/plain": [
       "{'0', 'A'}"
      ]
     },
     "execution_count": 99,
     "metadata": {},
     "output_type": "execute_result"
    }
   ],
   "source": [
    "antenna_types = set([c for c,_ in all_antennas])\n",
    "antenna_types"
   ]
  },
  {
   "cell_type": "code",
   "execution_count": 100,
   "metadata": {},
   "outputs": [
    {
     "data": {
      "text/plain": [
       "[('A', [(6, 5), (8, 8), (9, 9)]), ('0', [(8, 1), (5, 2), (7, 3), (4, 4)])]"
      ]
     },
     "execution_count": 100,
     "metadata": {},
     "output_type": "execute_result"
    }
   ],
   "source": [
    "[(a, [co for c,co in all_antennas if c == a]) for a in antenna_types]"
   ]
  },
  {
   "cell_type": "code",
   "execution_count": 139,
   "metadata": {},
   "outputs": [],
   "source": [
    "def format_input(dat: str) -> tuple[list[tuple[str, Coord]], list[str]]:\n",
    "    grid = [[c for c in l] for l in dat.splitlines()]\n",
    "    all_antennas = [(c,(x,y)) for y,l in enumerate(grid) for x,c in enumerate(l) if c not in ('.', '\\n')]\n",
    "    antenna_types = set([c for c,_ in all_antennas])\n",
    "    out = [(a, [co for c,co in all_antennas if c == a]) for a in antenna_types]\n",
    "    return out, grid"
   ]
  },
  {
   "cell_type": "code",
   "execution_count": 140,
   "metadata": {},
   "outputs": [
    {
     "name": "stdout",
     "output_type": "stream",
     "text": [
      "('A', [(6, 5), (8, 8), (9, 9)])\n",
      "('0', [(8, 1), (5, 2), (7, 3), (4, 4)])\n"
     ]
    }
   ],
   "source": [
    "dat = exmp \n",
    "ants, grid = format_input(dat)\n",
    "for e in ants: print(e)"
   ]
  },
  {
   "cell_type": "code",
   "execution_count": 141,
   "metadata": {},
   "outputs": [
    {
     "data": {
      "text/plain": [
       "[(6, 5), (8, 8), (9, 9)]"
      ]
     },
     "execution_count": 141,
     "metadata": {},
     "output_type": "execute_result"
    }
   ],
   "source": [
    "at = ants[0]\n",
    "at[1]"
   ]
  },
  {
   "cell_type": "markdown",
   "metadata": {},
   "source": [
    "claude: generate all possible combinations of k elements amongst a list of n in python"
   ]
  },
  {
   "cell_type": "code",
   "execution_count": 142,
   "metadata": {},
   "outputs": [
    {
     "data": {
      "text/plain": [
       "[((6, 5), (8, 8)), ((6, 5), (9, 9)), ((8, 8), (9, 9))]"
      ]
     },
     "execution_count": 142,
     "metadata": {},
     "output_type": "execute_result"
    }
   ],
   "source": [
    "from itertools import combinations\n",
    "list(combinations(at[1], 2))"
   ]
  },
  {
   "cell_type": "code",
   "execution_count": 143,
   "metadata": {},
   "outputs": [],
   "source": [
    "def generate_antenna_combinations(antenna_coords: list[Coord]) -> list[tuple[Coord, Coord]]:\n",
    "    ..."
   ]
  },
  {
   "cell_type": "code",
   "execution_count": 144,
   "metadata": {},
   "outputs": [],
   "source": [
    "def generate_antenna_combinations(antenna_coords: list[Coord]) -> list[tuple[Coord, Coord]]:\n",
    "    from itertools import combinations\n",
    "    return list(combinations(antenna_coords, 2))"
   ]
  },
  {
   "cell_type": "code",
   "execution_count": 145,
   "metadata": {},
   "outputs": [
    {
     "name": "stdout",
     "output_type": "stream",
     "text": [
      "((6, 5), (8, 8))\n",
      "((6, 5), (9, 9))\n",
      "((8, 8), (9, 9))\n",
      "((8, 1), (5, 2))\n",
      "((8, 1), (7, 3))\n",
      "((8, 1), (4, 4))\n",
      "((5, 2), (7, 3))\n",
      "((5, 2), (4, 4))\n",
      "((7, 3), (4, 4))\n"
     ]
    }
   ],
   "source": [
    "dat = exmp \n",
    "ants, grid = format_input(dat)\n",
    "combs = [cb for a in ants for cb in generate_antenna_combinations(a[1])]\n",
    "for cb in combs: \n",
    "    print(cb)"
   ]
  },
  {
   "cell_type": "code",
   "execution_count": 146,
   "metadata": {},
   "outputs": [
    {
     "data": {
      "text/plain": [
       "[(4, 2),\n",
       " (10, 11),\n",
       " (3, 1),\n",
       " (7, 7),\n",
       " (10, 10),\n",
       " (5, 0),\n",
       " (8, 3),\n",
       " (8, 5),\n",
       " (8, 7),\n",
       " (3, 1),\n",
       " (9, 4),\n",
       " (4, 0),\n",
       " (5, 6),\n",
       " (4, 2),\n",
       " (7, 5)]"
      ]
     },
     "execution_count": 146,
     "metadata": {},
     "output_type": "execute_result"
    }
   ],
   "source": [
    "[co for cb in combs for co in get_coord_antinodes(cb[0], cb[1])]"
   ]
  },
  {
   "cell_type": "code",
   "execution_count": 147,
   "metadata": {},
   "outputs": [
    {
     "data": {
      "text/plain": [
       "{(3, 1),\n",
       " (4, 0),\n",
       " (4, 2),\n",
       " (5, 0),\n",
       " (5, 6),\n",
       " (7, 5),\n",
       " (7, 7),\n",
       " (8, 3),\n",
       " (8, 5),\n",
       " (8, 7),\n",
       " (9, 4),\n",
       " (10, 10),\n",
       " (10, 11)}"
      ]
     },
     "execution_count": 147,
     "metadata": {},
     "output_type": "execute_result"
    }
   ],
   "source": [
    "ans = set([co for cb in combs for co in get_coord_antinodes(cb[0], cb[1])])\n",
    "ans"
   ]
  },
  {
   "cell_type": "code",
   "execution_count": 148,
   "metadata": {},
   "outputs": [
    {
     "data": {
      "text/plain": [
       "[['.', '.', '.', '.', '#', '#', '.', '.', '.', '.', '.', '.'],\n",
       " ['.', '.', '.', '#', '.', '.', '.', '.', '0', '.', '.', '.'],\n",
       " ['.', '.', '.', '.', '#', '0', '.', '.', '.', '.', '.', '.'],\n",
       " ['.', '.', '.', '.', '.', '.', '.', '0', '#', '.', '.', '.'],\n",
       " ['.', '.', '.', '.', '0', '.', '.', '.', '.', '#', '.', '.'],\n",
       " ['.', '.', '.', '.', '.', '.', 'A', '#', '#', '.', '.', '.'],\n",
       " ['.', '.', '.', '.', '.', '#', '.', '.', '.', '.', '.', '.'],\n",
       " ['.', '.', '.', '.', '.', '.', '.', '#', '#', '.', '.', '.'],\n",
       " ['.', '.', '.', '.', '.', '.', '.', '.', 'A', '.', '.', '.'],\n",
       " ['.', '.', '.', '.', '.', '.', '.', '.', '.', 'A', '.', '.'],\n",
       " ['.', '.', '.', '.', '.', '.', '.', '.', '.', '.', '#', '.'],\n",
       " ['.', '.', '.', '.', '.', '.', '.', '.', '.', '.', '#', '.']]"
      ]
     },
     "execution_count": 148,
     "metadata": {},
     "output_type": "execute_result"
    }
   ],
   "source": [
    "_, grid2 = format_input(dat)\n",
    "for x,y in ans:\n",
    "    grid2[y][x] = \"#\"\n",
    "grid2 = [str(i) for i in ] + "
   ]
  },
  {
   "cell_type": "code",
   "execution_count": 161,
   "metadata": {},
   "outputs": [],
   "source": [
    "def display_grid(grid: list[list[str]]):\n",
    "    w, h = len(grid[0]), len(grid)\n",
    "    dd = []\n",
    "    dl = [' '] + [str(x) for x in range(w)]\n",
    "    dd.append(dl)\n",
    "    for y,l in enumerate(grid):\n",
    "        dl = [str(y)] + l\n",
    "        dd.append(dl)    \n",
    "    for l in dd:\n",
    "        print(l)"
   ]
  },
  {
   "cell_type": "code",
   "execution_count": 163,
   "metadata": {},
   "outputs": [
    {
     "name": "stdout",
     "output_type": "stream",
     "text": [
      "............\n",
      "........0...\n",
      ".....0......\n",
      ".......0....\n",
      "....0.......\n",
      "......A.....\n",
      "............\n",
      "............\n",
      "........A...\n",
      ".........A..\n",
      "............\n",
      "............\n"
     ]
    }
   ],
   "source": [
    "print(exmp)"
   ]
  },
  {
   "cell_type": "code",
   "execution_count": 164,
   "metadata": {},
   "outputs": [],
   "source": [
    "def display_grid_2(grid: list[list[str]]):\n",
    "    for l in grid:\n",
    "        print(''.join(l))"
   ]
  },
  {
   "cell_type": "code",
   "execution_count": 165,
   "metadata": {},
   "outputs": [
    {
     "name": "stdout",
     "output_type": "stream",
     "text": [
      "....##......\n",
      "...#....0...\n",
      "....#0......\n",
      ".......0#...\n",
      "....0....#..\n",
      "......A##...\n",
      ".....#......\n",
      ".......##...\n",
      "........A...\n",
      ".........A..\n",
      "..........#.\n",
      "..........#.\n"
     ]
    }
   ],
   "source": [
    "display_grid_2(grid2)"
   ]
  },
  {
   "cell_type": "markdown",
   "metadata": {},
   "source": [
    "wrong. I went too fast\n",
    "\n",
    "let's build things upa gain step by step"
   ]
  },
  {
   "cell_type": "code",
   "execution_count": 166,
   "metadata": {},
   "outputs": [],
   "source": [
    "def format_input(dat: str) -> tuple[list[tuple[str, Coord]], list[str]]:\n",
    "    grid = [[c for c in l] for l in dat.splitlines()]\n",
    "    all_antennas = [(c,(x,y)) for y,l in enumerate(grid) for x,c in enumerate(l) if c not in ('.', '\\n')]\n",
    "    antenna_types = set([c for c,_ in all_antennas])\n",
    "    out = [(a, [co for c,co in all_antennas if c == a]) for a in antenna_types]\n",
    "    return out, grid"
   ]
  },
  {
   "cell_type": "code",
   "execution_count": 168,
   "metadata": {},
   "outputs": [
    {
     "data": {
      "text/plain": [
       "[('A', [(6, 5), (8, 8), (9, 9)]), ('0', [(8, 1), (5, 2), (7, 3), (4, 4)])]"
      ]
     },
     "execution_count": 168,
     "metadata": {},
     "output_type": "execute_result"
    }
   ],
   "source": [
    "dat = exmp\n",
    "an_coord, grid = format_input(dat)\n",
    "an_coord"
   ]
  },
  {
   "cell_type": "code",
   "execution_count": 179,
   "metadata": {},
   "outputs": [],
   "source": [
    "def print_grid(an_coord, grid):\n",
    "    w, h = len(grid[0]), len(grid)\n",
    "    grid_ps = [['.' for _ in range(w)] for _ in range(h)]\n",
    "    \n",
    "    for atyp, coords in an_coord:\n",
    "        for x,y in coords:\n",
    "            grid_ps[y][x] = atyp\n",
    "    for l in grid_ps:\n",
    "        print(''.join(l))        "
   ]
  },
  {
   "cell_type": "code",
   "execution_count": 180,
   "metadata": {},
   "outputs": [
    {
     "name": "stdout",
     "output_type": "stream",
     "text": [
      "............\n",
      "........0...\n",
      ".....0......\n",
      ".......0....\n",
      "....0.......\n",
      "......A.....\n",
      "............\n",
      "............\n",
      "........A...\n",
      ".........A..\n",
      "............\n",
      "............\n"
     ]
    }
   ],
   "source": [
    "print_grid(an_coord, grid)"
   ]
  },
  {
   "cell_type": "code",
   "execution_count": 188,
   "metadata": {},
   "outputs": [],
   "source": [
    "def print_grid(an_coord, grid, antinode_coords = None):\n",
    "    w, h = len(grid[0]), len(grid)\n",
    "    grid_ps = [['.' for _ in range(w)] for _ in range(h)]\n",
    "    \n",
    "    for atyp, coords in an_coord:\n",
    "        for x,y in coords:\n",
    "            grid_ps[y][x] = atyp\n",
    "    if antinode_coords is not None:\n",
    "        for x,y in antinode_coords:\n",
    "            c = grid_ps[y][x]\n",
    "            if c == '.':\n",
    "                grid_ps[y][x] = \"#\"\n",
    "            else:\n",
    "                grid_ps[y][x] = f\"{atyp}'\"\n",
    "    for l in grid_ps:\n",
    "        print(''.join(l))"
   ]
  },
  {
   "cell_type": "code",
   "execution_count": 190,
   "metadata": {},
   "outputs": [
    {
     "name": "stdout",
     "output_type": "stream",
     "text": [
      "............\n",
      "........0...\n",
      ".....0......\n",
      ".......0....\n",
      "....0.......\n",
      "......A.....\n",
      "............\n",
      "............\n",
      "........A...\n",
      ".........A..\n",
      "............\n",
      "............\n"
     ]
    }
   ],
   "source": [
    "dat = exmp\n",
    "an_coord, grid = format_input(dat)\n",
    "print_grid(an_coord, grid)"
   ]
  },
  {
   "cell_type": "code",
   "execution_count": 194,
   "metadata": {},
   "outputs": [
    {
     "name": "stdout",
     "output_type": "stream",
     "text": [
      "A [(6, 5), (8, 8), (9, 9)]\n"
     ]
    }
   ],
   "source": [
    "atyp, coords = an_coord[0]\n",
    "print(atyp, coords)"
   ]
  },
  {
   "cell_type": "code",
   "execution_count": 197,
   "metadata": {},
   "outputs": [
    {
     "data": {
      "text/plain": [
       "[((6, 5), (8, 8)), ((6, 5), (9, 9)), ((8, 8), (9, 9))]"
      ]
     },
     "execution_count": 197,
     "metadata": {},
     "output_type": "execute_result"
    }
   ],
   "source": [
    "combs = generate_antenna_combinations(coords)\n",
    "combs"
   ]
  },
  {
   "cell_type": "code",
   "execution_count": 199,
   "metadata": {},
   "outputs": [
    {
     "data": {
      "text/plain": [
       "[(4, 2), (10, 11), (3, 1), (7, 7), (10, 10)]"
      ]
     },
     "execution_count": 199,
     "metadata": {},
     "output_type": "execute_result"
    }
   ],
   "source": [
    "ans = [co for cb in combs for co in get_coord_antinodes(cb[0], cb[1])]\n",
    "ans"
   ]
  },
  {
   "cell_type": "code",
   "execution_count": 200,
   "metadata": {},
   "outputs": [
    {
     "name": "stdout",
     "output_type": "stream",
     "text": [
      "............\n",
      "...#....0...\n",
      "....#0......\n",
      ".......0....\n",
      "....0.......\n",
      "......A.....\n",
      "............\n",
      ".......#....\n",
      "........A...\n",
      ".........A..\n",
      "..........#.\n",
      "..........#.\n"
     ]
    }
   ],
   "source": [
    "print_grid(an_coord, grid, ans)"
   ]
  },
  {
   "cell_type": "markdown",
   "metadata": {},
   "source": [
    "looks good for A"
   ]
  },
  {
   "cell_type": "code",
   "execution_count": 202,
   "metadata": {},
   "outputs": [
    {
     "name": "stdout",
     "output_type": "stream",
     "text": [
      "0 [(8, 1), (5, 2), (7, 3), (4, 4)]\n"
     ]
    }
   ],
   "source": [
    "atyp, coords = an_coord[1]\n",
    "print(atyp, coords)"
   ]
  },
  {
   "cell_type": "code",
   "execution_count": 203,
   "metadata": {},
   "outputs": [
    {
     "data": {
      "text/plain": [
       "[((8, 1), (5, 2)),\n",
       " ((8, 1), (7, 3)),\n",
       " ((8, 1), (4, 4)),\n",
       " ((5, 2), (7, 3)),\n",
       " ((5, 2), (4, 4)),\n",
       " ((7, 3), (4, 4))]"
      ]
     },
     "execution_count": 203,
     "metadata": {},
     "output_type": "execute_result"
    }
   ],
   "source": [
    "combs = generate_antenna_combinations(coords)\n",
    "combs"
   ]
  },
  {
   "cell_type": "code",
   "execution_count": 204,
   "metadata": {},
   "outputs": [
    {
     "data": {
      "text/plain": [
       "[(5, 0),\n",
       " (8, 3),\n",
       " (8, 5),\n",
       " (8, 7),\n",
       " (3, 1),\n",
       " (9, 4),\n",
       " (4, 0),\n",
       " (5, 6),\n",
       " (4, 2),\n",
       " (7, 5)]"
      ]
     },
     "execution_count": 204,
     "metadata": {},
     "output_type": "execute_result"
    }
   ],
   "source": [
    "ans = [co for cb in combs for co in get_coord_antinodes(cb[0], cb[1])]\n",
    "ans"
   ]
  },
  {
   "cell_type": "code",
   "execution_count": 205,
   "metadata": {},
   "outputs": [
    {
     "name": "stdout",
     "output_type": "stream",
     "text": [
      "....##......\n",
      "...#....0...\n",
      "....#0......\n",
      ".......0#...\n",
      "....0....#..\n",
      "......A##...\n",
      ".....#......\n",
      "........#...\n",
      "........A...\n",
      ".........A..\n",
      "............\n",
      "............\n"
     ]
    }
   ],
   "source": [
    "print_grid(an_coord, grid, ans)"
   ]
  },
  {
   "cell_type": "markdown",
   "metadata": {},
   "source": [
    "false"
   ]
  },
  {
   "cell_type": "code",
   "execution_count": 206,
   "metadata": {},
   "outputs": [
    {
     "name": "stdout",
     "output_type": "stream",
     "text": [
      "0 [(8, 1), (5, 2), (7, 3), (4, 4)]\n",
      "[((8, 1), (5, 2)), ((8, 1), (7, 3)), ((8, 1), (4, 4)), ((5, 2), (7, 3)), ((5, 2), (4, 4)), ((7, 3), (4, 4))]\n"
     ]
    }
   ],
   "source": [
    "atyp, coords = an_coord[1]\n",
    "print(atyp, coords)\n",
    "combs = generate_antenna_combinations(coords)\n",
    "print(combs)"
   ]
  },
  {
   "cell_type": "code",
   "execution_count": 207,
   "metadata": {},
   "outputs": [
    {
     "name": "stdout",
     "output_type": "stream",
     "text": [
      "((8, 1), (5, 2))\n"
     ]
    },
    {
     "data": {
      "text/plain": [
       "[(5, 0), (8, 3)]"
      ]
     },
     "execution_count": 207,
     "metadata": {},
     "output_type": "execute_result"
    }
   ],
   "source": [
    "cb = combs[0]\n",
    "print(cb)\n",
    "get_coord_antinodes(cb[0], cb[1])"
   ]
  },
  {
   "cell_type": "code",
   "execution_count": 213,
   "metadata": {},
   "outputs": [
    {
     "name": "stdout",
     "output_type": "stream",
     "text": [
      "(8, 1) (5, 2)\n",
      "(11, 0) (2, 3)\n"
     ]
    }
   ],
   "source": [
    "## order antennas from ascending y then ascending x\n",
    "an_sort = sorted(cb, key=lambda x: x[1])\n",
    "c1, c2 = an_sort\n",
    "print(c1, c2)\n",
    "diff_x, diff_y = (abs(c1[0] - c2[0])), abs((c2[1] - c1[1]))\n",
    "sign_x = 2*((c1[0] - c2[0]) > 0) - 1\n",
    "an1 = (c1[0] + sign_x*diff_x, c1[1] - diff_y)\n",
    "an2 = (c2[0] - sign_x*diff_x, c2[1] + diff_y)\n",
    "print(an1, an2)"
   ]
  },
  {
   "cell_type": "code",
   "execution_count": 214,
   "metadata": {},
   "outputs": [
    {
     "name": "stdout",
     "output_type": "stream",
     "text": [
      "...........#\n",
      "........0...\n",
      ".....0......\n",
      "..#....0....\n",
      "....0.......\n",
      "......A.....\n",
      "............\n",
      "............\n",
      "........A...\n",
      ".........A..\n",
      "............\n",
      "............\n"
     ]
    }
   ],
   "source": [
    "print_grid(an_coord, grid, [an1, an2])"
   ]
  },
  {
   "cell_type": "markdown",
   "metadata": {},
   "source": [
    "Now it looks good"
   ]
  },
  {
   "cell_type": "code",
   "execution_count": 215,
   "metadata": {},
   "outputs": [],
   "source": [
    "def get_coord_antinodes(a1: Coord, a2: Coord, grid) -> list[Coord]:\n",
    "    an_sort = sorted([a1, a2], key=lambda x: x[1])\n",
    "    c1, c2 = an_sort\n",
    "    diff_x, diff_y = (abs(c1[0] - c2[0])), abs((c2[1] - c1[1]))\n",
    "    sign_x = 2*((c1[0] - c2[0]) > 0) - 1\n",
    "    an1 = (c1[0] + sign_x*diff_x, c1[1] - diff_y)\n",
    "    an2 = (c2[0] - sign_x*diff_x, c2[1] + diff_y)\n",
    "    out = [an1, an2]\n",
    "\n",
    "    w, h = len(grid[0]), len(grid)\n",
    "    out = [(x,y) for (x,y) in out if x >= 0 and x < w and y >= 0 and y < h]\n",
    "    return out"
   ]
  },
  {
   "cell_type": "code",
   "execution_count": 230,
   "metadata": {},
   "outputs": [
    {
     "name": "stdout",
     "output_type": "stream",
     "text": [
      "((7, 3), (4, 4))\n",
      "[(10, 2), (1, 5)]\n",
      "............\n",
      "........0...\n",
      ".....0....#.\n",
      ".......0....\n",
      "....0.......\n",
      ".#....A.....\n",
      "............\n",
      "............\n",
      "........A...\n",
      ".........A..\n",
      "............\n",
      "............\n"
     ]
    }
   ],
   "source": [
    "dat = exmp\n",
    "an_coord, grid = format_input(dat)\n",
    "combs = generate_antenna_combinations(coords)\n",
    "combs\n",
    "cb = combs[5]\n",
    "print(cb)\n",
    "ans = get_coord_antinodes(cb[0], cb[1], grid)\n",
    "print(ans)\n",
    "print_grid(an_coord, grid, ans)"
   ]
  },
  {
   "cell_type": "code",
   "execution_count": 236,
   "metadata": {},
   "outputs": [
    {
     "name": "stdout",
     "output_type": "stream",
     "text": [
      "......#....#\n",
      "...#....0...\n",
      "....#0....#.\n",
      "..#....0....\n",
      "....0....#..\n",
      ".#....0'.....\n",
      "...#........\n",
      "#......#....\n",
      "........A...\n",
      ".........A..\n",
      "..........#.\n",
      "..........#.\n"
     ]
    }
   ],
   "source": [
    "dat = exmp \n",
    "ants, grid = format_input(dat)\n",
    "combs = [cb for _,coords in ants for cb in generate_antenna_combinations(coords)]\n",
    "antinodes = set([co for cb in combs for co in get_coord_antinodes(cb[0], cb[1], grid)])\n",
    "print_grid(ants, grid, antinodes)"
   ]
  },
  {
   "cell_type": "code",
   "execution_count": 237,
   "metadata": {},
   "outputs": [],
   "source": [
    "def sol1(dat: str) -> int: \n",
    "    ants, grid = format_input(dat)\n",
    "    combs = [cb for _,coords in ants for cb in generate_antenna_combinations(coords)]\n",
    "    antinodes = set([co for cb in combs for co in get_coord_antinodes(cb[0], cb[1], grid)])\n",
    "    return len(antinodes)"
   ]
  },
  {
   "cell_type": "code",
   "execution_count": 239,
   "metadata": {},
   "outputs": [
    {
     "data": {
      "text/plain": [
       "14"
      ]
     },
     "execution_count": 239,
     "metadata": {},
     "output_type": "execute_result"
    }
   ],
   "source": [
    "dat = exmp\n",
    "sol1(dat)"
   ]
  },
  {
   "cell_type": "code",
   "execution_count": 240,
   "metadata": {},
   "outputs": [
    {
     "data": {
      "text/plain": [
       "359"
      ]
     },
     "execution_count": 240,
     "metadata": {},
     "output_type": "execute_result"
    }
   ],
   "source": [
    "dat = data\n",
    "sol1(dat)"
   ]
  },
  {
   "cell_type": "markdown",
   "metadata": {},
   "source": [
    "summary "
   ]
  },
  {
   "cell_type": "code",
   "execution_count": 243,
   "metadata": {},
   "outputs": [],
   "source": [
    "Coord = tuple[int, int]\n",
    "Grid = list[list[str]]\n",
    "\n",
    "def format_input(dat: str) -> tuple[list[tuple[str, Coord]], Grid]:\n",
    "    grid = [[c for c in l] for l in dat.splitlines()]\n",
    "    all_antennas = [(c,(x,y)) for y,l in enumerate(grid) for x,c in enumerate(l) if c not in ('.', '\\n')]\n",
    "    antenna_types = set([c for c,_ in all_antennas])\n",
    "    out = [(a, [co for c,co in all_antennas if c == a]) for a in antenna_types]\n",
    "    return out, grid\n",
    "\n",
    "\n",
    "def generate_antenna_combinations(antenna_coords: list[Coord]) -> list[tuple[Coord, Coord]]:\n",
    "    from itertools import combinations\n",
    "    return list(combinations(antenna_coords, 2))\n",
    "\n",
    "\n",
    "def get_coord_antinodes(a1: Coord, a2: Coord, grid) -> list[Coord]:\n",
    "    an_sort = sorted([a1, a2], key=lambda x: x[1])\n",
    "    c1, c2 = an_sort\n",
    "    diff_x, diff_y = (abs(c1[0] - c2[0])), abs((c2[1] - c1[1]))\n",
    "    sign_x = 2*((c1[0] - c2[0]) > 0) - 1\n",
    "    an1 = (c1[0] + sign_x*diff_x, c1[1] - diff_y)\n",
    "    an2 = (c2[0] - sign_x*diff_x, c2[1] + diff_y)\n",
    "    out = [an1, an2]\n",
    "    w, h = len(grid[0]), len(grid)\n",
    "    out = [(x,y) for (x,y) in out if x >= 0 and x < w and y >= 0 and y < h]\n",
    "    return out\n",
    "\n",
    "\n",
    "def sol1(dat: str, disp: bool = False) -> int: \n",
    "    ants, grid = format_input(dat)\n",
    "    combs = [cb for _,coords in ants for cb in generate_antenna_combinations(coords)]\n",
    "    antinodes = set([co for cb in combs for co in get_coord_antinodes(cb[0], cb[1], grid)])\n",
    "    if disp:\n",
    "        print_grid(ants, grid, antinodes)\n",
    "    return len(antinodes)\n",
    "\n",
    "\n",
    "def print_grid(an_coord, grid, antinode_coords = None):\n",
    "    w, h = len(grid[0]), len(grid)\n",
    "    grid_ps = [['.' for _ in range(w)] for _ in range(h)]\n",
    "    \n",
    "    for atyp, coords in an_coord:\n",
    "        for x,y in coords:\n",
    "            grid_ps[y][x] = atyp\n",
    "    if antinode_coords is not None:\n",
    "        for x,y in antinode_coords:\n",
    "            c = grid_ps[y][x]\n",
    "            if c == '.':\n",
    "                grid_ps[y][x] = \"#\"\n",
    "            else:\n",
    "                grid_ps[y][x] = f\"{atyp}'\"\n",
    "    for l in grid_ps:\n",
    "        print(''.join(l))"
   ]
  },
  {
   "cell_type": "code",
   "execution_count": 248,
   "metadata": {},
   "outputs": [
    {
     "name": "stdout",
     "output_type": "stream",
     "text": [
      "......#....#\n",
      "...#....0...\n",
      "....#0....#.\n",
      "..#....0....\n",
      "....0....#..\n",
      ".#....0'.....\n",
      "...#........\n",
      "#......#....\n",
      "........A...\n",
      ".........A..\n",
      "..........#.\n",
      "..........#.\n"
     ]
    },
    {
     "data": {
      "text/plain": [
       "14"
      ]
     },
     "execution_count": 248,
     "metadata": {},
     "output_type": "execute_result"
    }
   ],
   "source": [
    "dat = exmp\n",
    "sol1(dat, True)"
   ]
  },
  {
   "cell_type": "code",
   "execution_count": 249,
   "metadata": {},
   "outputs": [
    {
     "name": "stdout",
     "output_type": "stream",
     "text": [
      "...O.#...0..#.#..........................v'..v'.....\n",
      "O.......#.o....w#.T.....................#...p.....\n",
      ".......#.........#w..........oM..#.............#..\n",
      ".......#........#....##...................#..Y.##.\n",
      "o.............T.....#............##.......z.....pk\n",
      "..#................................#.z..Y...#t#F..\n",
      "...........T........#...........#....#F.......Y...\n",
      "...#......#........A........##..z..#k#.M........#.\n",
      "#...O...#.....j....w#...#................M........\n",
      "..........w....T#....#.....#......v'..k.....#...#.#\n",
      ".#...........v'........##...#.......#..#....F.....t\n",
      "....#....#..........#.A......#...#..F.#..E........\n",
      "...........#......##.S.#.....#.A...#............#.\n",
      ".P.....#.......................#....#...#...#.....\n",
      ".#.......#......#...#...v'#..v'......#......x.##v'##.\n",
      "........#...j.......#..#.#........#...t#.....#..x.\n",
      "..#..#..#...#....##....j....#.#...#...#..#......#v'\n",
      ".....#......#..#.........##.......#.E......#.v'.#..\n",
      ".............P.......E.....#..#...........##......\n",
      "......#......#.v'..5#..............q.....#.........\n",
      ".......#......P.#....##....#................#Qc.#.\n",
      "..#.......C.......#..v'.......#.#......v'....#...x..\n",
      ".......#..#..C###v'......#...#.#..#..........#.....\n",
      ".....C......V...#.##...q.#.....#...#.....#.Q...#..\n",
      ".......#...yX.#.......v'#....#...##.#.#....Q.......\n",
      "##...X............#..##...e.#..#........m#........\n",
      ".2........#........e#.v'....m#......c.....#..##....\n",
      "#.....i.....#.#..e..#v'.....###...#..f.#..U...v'v'...\n",
      "...v'...........#..#...##e.....#..#....##.....v'...v'\n",
      "..#.....#.#....v'##X.....0......#......##..........\n",
      "..C..v'......5..3#..sK......J##...#...f..B.#.......\n",
      "2#.......#...3........#.#..0I.#.v'.#......#BNb....#\n",
      "...........##...........#K.#...#......m.....##....\n",
      ".r..#.....3........#......s...#v'#.#m.v#..f.......b\n",
      "....#...3........7.....Iv'.....#.#..q..#v'.N.....#..\n",
      "...#.R#v'........#........#..##.n....#a.B......#VN.\n",
      ".....#R.........9................#..v'...W....#....\n",
      "...#...#..7.6.#...#..........v'.#..##...#..........\n",
      ".#............r...#...s.##0........nb..#.W..f..B.#\n",
      "...2........#..I.##.#.K.......#.....#.....#...#...\n",
      "...#..#..........#.#..........u...n...#.#.##...U..\n",
      "....#.#...#.r#.....v'...#.#....#..O.....##.....W...\n",
      ".......R..#.#.....v..v'......#...##....N...V......#\n",
      ".#........R.8..4.9#.y..#..##.v'...............#.#..\n",
      "...8...#..#.##.....v.......#.#......J##.........#.\n",
      ".....8..............4#...#..#.Z#...#.#..n.#...J#U.\n",
      ".......#...4i......##.#..#..#....Z..S.............\n",
      "..#...#.......9....#.....#1.v'.S.....#..........J..\n",
      "8...6...#9..4.#..#.a....#...Z.1...................\n",
      "....#..#.#..........v..v'....#.....#.#v'..........#.\n"
     ]
    },
    {
     "data": {
      "text/plain": [
       "359"
      ]
     },
     "execution_count": 249,
     "metadata": {},
     "output_type": "execute_result"
    }
   ],
   "source": [
    "dat = data\n",
    "sol1(dat, True)"
   ]
  },
  {
   "cell_type": "markdown",
   "metadata": {},
   "source": [
    "## part 2"
   ]
  },
  {
   "cell_type": "code",
   "execution_count": 250,
   "metadata": {},
   "outputs": [
    {
     "data": {
      "text/markdown": [
       "Let me rephrase the problem:\n",
       "\n",
       "**Antinodes** occur in two cases:\n",
       "1. When a location is exactly in line (horizontally, vertically, or diagonally) with at least two antennas of the same frequency\n",
       "2. At the position of each antenna (unless it's the only antenna of its frequency)\n",
       " \n",
       "You need to **count the total number of unique antinode positions** within the map boundaries.\n",
       " \n",
       "Example input map looks like this:\n",
       "```\n",
       "T....#....\n",
       "...T......\n",
       ".T....#...\n",
       ".........#\n",
       "..#.......\n",
       "..........\n",
       "...#......\n",
       "..........\n",
       "....#.....\n",
       "..........\n",
       "```\n",
       "Where:\n",
       "- **T** represents antennas of the same frequency\n",
       "- **#** represents other elements on the map\n",
       " \n",
       "The goal is to find all positions that satisfy either of the antinode conditions and count them."
      ],
      "text/plain": [
       "<IPython.core.display.Markdown object>"
      ]
     },
     "execution_count": 250,
     "metadata": {},
     "output_type": "execute_result"
    }
   ],
   "source": [
    "await rephrase_pb(DAY, YEAR, 2)"
   ]
  },
  {
   "cell_type": "markdown",
   "metadata": {},
   "source": [
    "this requires changing the get_coord_antinodes function, to add all multiples of the distance"
   ]
  },
  {
   "cell_type": "code",
   "execution_count": 254,
   "metadata": {},
   "outputs": [],
   "source": [
    "def get_coord_antinodes_2(a1: Coord, a2: Coord, grid) -> list[Coord]:\n",
    "    an_sort = sorted([a1, a2], key=lambda x: x[1])\n",
    "    c1, c2 = an_sort\n",
    "    diff_x, diff_y = (abs(c1[0] - c2[0])), abs((c2[1] - c1[1]))\n",
    "    sign_x = 2*((c1[0] - c2[0]) > 0) - 1\n",
    "\n",
    "    w, h = len(grid[0]), len(grid)\n",
    "\n",
    "    anti_coords = [a1, a2]\n",
    "\n",
    "    xi,yi = c1[0], c1[1]\n",
    "    while True:\n",
    "        xi = xi + sign_x*diff_x\n",
    "        yi = yi - diff_y\n",
    "        if xi >= 0 and xi < w and yi >= 0 and yi < h:\n",
    "            anti_coords.append((xi, yi))\n",
    "        else:\n",
    "            break\n",
    "    \n",
    "    xj,yj = c2[0], c2[1]\n",
    "    while True:\n",
    "        xj = xj - sign_x*diff_x\n",
    "        yj = yj + diff_y\n",
    "        if xj >= 0 and xj < w and yj >= 0 and yj < h:\n",
    "            anti_coords.append((xj, yj))\n",
    "        else:\n",
    "            break\n",
    "\n",
    "    return anti_coords\n",
    "\n",
    "\n",
    "def sol2(dat: str, disp: bool = False) -> int: \n",
    "    ants, grid = format_input(dat)\n",
    "    combs = [cb for _,coords in ants for cb in generate_antenna_combinations(coords)]\n",
    "    antinodes = set([co for cb in combs for co in get_coord_antinodes_2(cb[0], cb[1], grid)])\n",
    "    if disp:\n",
    "        print_grid(ants, grid, antinodes)\n",
    "    return len(antinodes)"
   ]
  },
  {
   "cell_type": "code",
   "execution_count": 255,
   "metadata": {},
   "outputs": [
    {
     "data": {
      "text/plain": [
       "34"
      ]
     },
     "execution_count": 255,
     "metadata": {},
     "output_type": "execute_result"
    }
   ],
   "source": [
    "dat = exmp \n",
    "sol2(dat)"
   ]
  },
  {
   "cell_type": "code",
   "execution_count": 256,
   "metadata": {},
   "outputs": [
    {
     "data": {
      "text/plain": [
       "1293"
      ]
     },
     "execution_count": 256,
     "metadata": {},
     "output_type": "execute_result"
    }
   ],
   "source": [
    "dat = data \n",
    "sol2(dat)"
   ]
  },
  {
   "cell_type": "markdown",
   "metadata": {},
   "source": [
    "## take aways"
   ]
  },
  {
   "cell_type": "markdown",
   "metadata": {},
   "source": [
    "- what is the nudge in this problem set, if any ? Part 2 might have been encouraging recursion ?"
   ]
  },
  {
   "cell_type": "markdown",
   "metadata": {},
   "source": []
  }
 ],
 "metadata": {
  "kernelspec": {
   "display_name": "pydidask",
   "language": "python",
   "name": "python3"
  },
  "language_info": {
   "codemirror_mode": {
    "name": "ipython",
    "version": 3
   },
   "file_extension": ".py",
   "mimetype": "text/x-python",
   "name": "python",
   "nbconvert_exporter": "python",
   "pygments_lexer": "ipython3",
   "version": "3.12.0"
  }
 },
 "nbformat": 4,
 "nbformat_minor": 2
}
