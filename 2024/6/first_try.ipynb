{
 "cells": [
  {
   "cell_type": "markdown",
   "metadata": {},
   "source": [
    "# Advent of Code - Day 6 Year 2024"
   ]
  },
  {
   "cell_type": "code",
   "execution_count": 1,
   "metadata": {},
   "outputs": [
    {
     "name": "stdout",
     "output_type": "stream",
     "text": [
      "nb examples: 1\n",
      "problem link: https://adventofcode.com/2024/day/6\n"
     ]
    }
   ],
   "source": [
    "DAY = 6\n",
    "YEAR = 2024\n",
    "#######\n",
    "import json\n",
    "import sys \n",
    "sys.path.append('../../')\n",
    "from utils import get_pb_data, rephrase_pb, open_link, render_json\n",
    "link, data, exmp, ae1, ae2, exmps, out = get_pb_data(DAY, YEAR)\n",
    "\n",
    "print(f'problem link: {link}')"
   ]
  },
  {
   "cell_type": "code",
   "execution_count": 2,
   "metadata": {},
   "outputs": [],
   "source": [
    "# with open(\"./_puzzle_data.json\", \"r\") as f: inp = json.loads(f.read())\n",
    "# render_json(inp)"
   ]
  },
  {
   "cell_type": "code",
   "execution_count": 3,
   "metadata": {},
   "outputs": [
    {
     "data": {
      "text/markdown": [
       "**Problem**: Simulate the movement of a guard following a strict patrol protocol and count the distinct positions visited before leaving a mapped area. \n",
       "\n",
       "**Rules**:\n",
       "- Guard begins at position marked with ^ (facing up)\n",
       "- If there's an obstacle (#) ahead, turn 90° right\n",
       "- If path is clear, move forward one step \n",
       "\n",
       "**Input Example**:\n",
       "```\n",
       "....#.....\n",
       ".........#\n",
       "..........\n",
       "..#.......\n",
       ".......#..\n",
       "..........\n",
       ".#..^.....\n",
       "........#.\n",
       "#.........\n",
       "......#...\n",
       "```\n",
       "\n",
       "**Goal**: Count the number of unique positions the guard visits before leaving the map boundaries. \n",
       "\n",
       "**Example Answer**: 41 distinct positions including starting point. \n",
       "\n",
       "**Key Elements**:\n",
       "- Map shows obstacles (#) and guard's starting position (^)\n",
       "- Movement continues until guard exits map boundaries\n",
       "- Each position is counted only once"
      ],
      "text/plain": [
       "<IPython.core.display.Markdown object>"
      ]
     },
     "execution_count": 3,
     "metadata": {},
     "output_type": "execute_result"
    }
   ],
   "source": [
    "await rephrase_pb(DAY, YEAR, 1)"
   ]
  },
  {
   "cell_type": "code",
   "execution_count": 4,
   "metadata": {},
   "outputs": [
    {
     "name": "stdout",
     "output_type": "stream",
     "text": [
      "....#.....\n",
      ".........#\n",
      "..........\n",
      "..#.......\n",
      ".......#..\n",
      "..........\n",
      ".#..^.....\n",
      "........#.\n",
      "#.........\n",
      "......#...\n"
     ]
    }
   ],
   "source": [
    "print(exmp)"
   ]
  },
  {
   "cell_type": "code",
   "execution_count": 5,
   "metadata": {},
   "outputs": [
    {
     "data": {
      "text/plain": [
       "['....#.....',\n",
       " '.........#',\n",
       " '..........',\n",
       " '..#.......',\n",
       " '.......#..',\n",
       " '..........',\n",
       " '.#..^.....',\n",
       " '........#.',\n",
       " '#.........',\n",
       " '......#...']"
      ]
     },
     "execution_count": 5,
     "metadata": {},
     "output_type": "execute_result"
    }
   ],
   "source": [
    "dat = exmp \n",
    "dat.splitlines()"
   ]
  },
  {
   "cell_type": "markdown",
   "metadata": {},
   "source": [
    "intuitively, I'd like to create a Guard object that has a \n",
    "- position,\n",
    "- orientation\n",
    "- move() method that moves one step\n",
    "\n",
    "I call the move in a while loop until the position of the guard is \"out of boundaries"
   ]
  },
  {
   "cell_type": "code",
   "execution_count": 6,
   "metadata": {},
   "outputs": [],
   "source": [
    "Coord = tuple[int, int]"
   ]
  },
  {
   "cell_type": "code",
   "execution_count": 7,
   "metadata": {},
   "outputs": [],
   "source": [
    "class Guard:\n",
    "\n",
    "    def __init__(self, x: int, y: int, o: str):\n",
    "        self.x = x\n",
    "        self.y = y \n",
    "        self.o = o #orientation"
   ]
  },
  {
   "cell_type": "markdown",
   "metadata": {},
   "source": [
    "the posiible orientations:"
   ]
  },
  {
   "cell_type": "code",
   "execution_count": 8,
   "metadata": {},
   "outputs": [],
   "source": [
    "orientations = [\"^\", \">\", \"v\", \"<\"]"
   ]
  },
  {
   "cell_type": "markdown",
   "metadata": {},
   "source": [
    "the guard must also have a method to modify it's orientation after one step\n",
    "\n",
    "the next orientation depends on the current orientation and what lies ahead."
   ]
  },
  {
   "cell_type": "code",
   "execution_count": 9,
   "metadata": {},
   "outputs": [],
   "source": [
    "# (xg, yg): position of the tile AHEAD of the guard\n",
    "def update_orientation(o: str, grid: list[str], xg: int, yg: int):\n",
    "    ..."
   ]
  },
  {
   "cell_type": "code",
   "execution_count": 10,
   "metadata": {},
   "outputs": [],
   "source": [
    "grid = dat.splitlines()"
   ]
  },
  {
   "cell_type": "code",
   "execution_count": 11,
   "metadata": {},
   "outputs": [
    {
     "data": {
      "text/plain": [
       "['....#.....',\n",
       " '.........#',\n",
       " '..........',\n",
       " '..#.......',\n",
       " '.......#..',\n",
       " '..........',\n",
       " '.#..^.....',\n",
       " '........#.',\n",
       " '#.........',\n",
       " '......#...']"
      ]
     },
     "execution_count": 11,
     "metadata": {},
     "output_type": "execute_result"
    }
   ],
   "source": [
    "grid"
   ]
  },
  {
   "cell_type": "code",
   "execution_count": 12,
   "metadata": {},
   "outputs": [],
   "source": [
    "x, y = 4, 0\n",
    "ahead = grid[y][x]\n",
    "ahead\n",
    "o = \">\""
   ]
  },
  {
   "cell_type": "code",
   "execution_count": 13,
   "metadata": {},
   "outputs": [
    {
     "name": "stdout",
     "output_type": "stream",
     "text": [
      "v\n"
     ]
    }
   ],
   "source": [
    "if ahead == \"#\":\n",
    "    o = orientations[(orientations.index(o)+1)%len(orientations)]    \n",
    "print(o)"
   ]
  },
  {
   "cell_type": "code",
   "execution_count": 14,
   "metadata": {},
   "outputs": [],
   "source": [
    "# (xg, yg): position of the tile AHEAD of the guard\n",
    "def update_orientation(o: str, grid: list[str], xg: int, yg: int) -> str:\n",
    "    if grid[yg][xg] == '#':\n",
    "        o = orientations[(orientations.index(o)+1)%len(orientations)]\n",
    "    return o"
   ]
  },
  {
   "cell_type": "code",
   "execution_count": 15,
   "metadata": {},
   "outputs": [],
   "source": [
    "xg, yg = 4, 0\n",
    "ahead = grid[y][x]\n",
    "o = \">\""
   ]
  },
  {
   "cell_type": "code",
   "execution_count": 16,
   "metadata": {},
   "outputs": [
    {
     "data": {
      "text/plain": [
       "'v'"
      ]
     },
     "execution_count": 16,
     "metadata": {},
     "output_type": "execute_result"
    }
   ],
   "source": [
    "o = update_orientation(o, grid, xg, yg)\n",
    "o"
   ]
  },
  {
   "cell_type": "code",
   "execution_count": 17,
   "metadata": {},
   "outputs": [],
   "source": [
    "class Guard:\n",
    "\n",
    "    def __init__(self, x: int, y: int, o: str):\n",
    "        self.x = x\n",
    "        self.y = y \n",
    "        self.o = o #orientation\n",
    "    \n",
    "    def update_orientation(self, grid: list[str], xg: int, yg: int) -> str:\n",
    "        if grid[yg][xg] == '#':\n",
    "            self.o = orientations[(orientations.index(self.o)+1)%len(orientations)]\n",
    "        return self.o"
   ]
  },
  {
   "cell_type": "markdown",
   "metadata": {},
   "source": [
    "on to the move method"
   ]
  },
  {
   "cell_type": "code",
   "execution_count": 18,
   "metadata": {},
   "outputs": [],
   "source": [
    "class Guard:\n",
    "\n",
    "    def __init__(self, x: int, y: int, o: str):\n",
    "        self.x = x\n",
    "        self.y = y \n",
    "        self.o = o #orientation\n",
    "    \n",
    "    def update_orientation(self, grid: list[str], xg: int, yg: int) -> str:\n",
    "        if grid[yg][xg] == '#':\n",
    "            self.o = orientations[(orientations.index(self.o)+1)%len(orientations)]\n",
    "        return self.o\n",
    "    \n",
    "    def move(self):\n",
    "        ..."
   ]
  },
  {
   "cell_type": "code",
   "execution_count": 55,
   "metadata": {},
   "outputs": [],
   "source": []
  },
  {
   "cell_type": "code",
   "execution_count": 19,
   "metadata": {},
   "outputs": [],
   "source": [
    "## given the current position and orientation, we can determine the coordinate of the tile ahead and next position\n",
    "orientations = [\"^\", \">\", \"v\", \"<\"]\n",
    "deltas = {\n",
    "    \"^\": {'ahead': (0, -1), 'right': (1, 0)},\n",
    "    \">\": {'ahead': (1, 0), 'right': (0, 1)},\n",
    "    \"v\": {'ahead': (0, 1), 'right': (-1, 0)},\n",
    "    \"<\": {'ahead': (-1, 0), 'right': (0, -1)},\n",
    "}"
   ]
  },
  {
   "cell_type": "code",
   "execution_count": 20,
   "metadata": {},
   "outputs": [
    {
     "name": "stdout",
     "output_type": "stream",
     "text": [
      "0 0 >\n"
     ]
    }
   ],
   "source": [
    "x, y = 0, 0\n",
    "o = '>'\n",
    "print(x, y, o)\n",
    "grid = [list(l) for l in dat.splitlines()]\n",
    "grid[y][x] = 'X'\n"
   ]
  },
  {
   "cell_type": "code",
   "execution_count": 21,
   "metadata": {},
   "outputs": [
    {
     "name": "stdout",
     "output_type": "stream",
     "text": [
      "xg, yg :  1 0\n",
      "o:  >\n",
      "x, y:  1 0\n",
      "['X', 'X', '.', '.', '#', '.', '.', '.', '.', '.']\n",
      "['.', '.', '.', '.', '.', '.', '.', '.', '.', '#']\n",
      "['.', '.', '.', '.', '.', '.', '.', '.', '.', '.']\n",
      "['.', '.', '#', '.', '.', '.', '.', '.', '.', '.']\n",
      "['.', '.', '.', '.', '.', '.', '.', '#', '.', '.']\n",
      "['.', '.', '.', '.', '.', '.', '.', '.', '.', '.']\n",
      "['.', '#', '.', '.', '^', '.', '.', '.', '.', '.']\n",
      "['.', '.', '.', '.', '.', '.', '.', '.', '#', '.']\n",
      "['#', '.', '.', '.', '.', '.', '.', '.', '.', '.']\n",
      "['.', '.', '.', '.', '.', '.', '#', '.', '.', '.']\n"
     ]
    }
   ],
   "source": [
    "xg, yg = (x + deltas[o]['ahead'][0], y + deltas[o]['ahead'][1])\n",
    "print('xg, yg : ', xg, yg)\n",
    "tile = grid[yg][xg]\n",
    "if tile == \"#\":\n",
    "    x, y = (x + deltas[o]['right'][0], y + deltas[o]['right'][1])\n",
    "else:\n",
    "    x, y = xg, yg\n",
    "o = update_orientation(o, grid, xg, yg)\n",
    "grid[y][x] = 'X'\n",
    "print('o: ', o)\n",
    "print('x, y: ', x, y)\n",
    "for l in grid:\n",
    "    print(l)"
   ]
  },
  {
   "cell_type": "code",
   "execution_count": 22,
   "metadata": {},
   "outputs": [
    {
     "name": "stdout",
     "output_type": "stream",
     "text": [
      "0 0 >\n"
     ]
    }
   ],
   "source": [
    "x, y = 0, 0\n",
    "o = '>'\n",
    "print(x, y, o)\n",
    "grid = [list(l) for l in dat.splitlines()]\n",
    "grid[y][x] = 'X'\n",
    "\n",
    "nb_pos = 0"
   ]
  },
  {
   "cell_type": "code",
   "execution_count": 23,
   "metadata": {},
   "outputs": [
    {
     "name": "stdout",
     "output_type": "stream",
     "text": [
      "xg, yg :  1 0\n",
      "o:  >\n",
      "x, y:  1 0\n",
      "['X', 'X', '.', '.', '#', '.', '.', '.', '.', '.']\n",
      "['.', '.', '.', '.', '.', '.', '.', '.', '.', '#']\n",
      "['.', '.', '.', '.', '.', '.', '.', '.', '.', '.']\n",
      "['.', '.', '#', '.', '.', '.', '.', '.', '.', '.']\n",
      "['.', '.', '.', '.', '.', '.', '.', '#', '.', '.']\n",
      "['.', '.', '.', '.', '.', '.', '.', '.', '.', '.']\n",
      "['.', '#', '.', '.', '^', '.', '.', '.', '.', '.']\n",
      "['.', '.', '.', '.', '.', '.', '.', '.', '#', '.']\n",
      "['#', '.', '.', '.', '.', '.', '.', '.', '.', '.']\n",
      "['.', '.', '.', '.', '.', '.', '#', '.', '.', '.']\n"
     ]
    }
   ],
   "source": [
    "xg, yg = (x + deltas[o]['ahead'][0], y + deltas[o]['ahead'][1])\n",
    "print('xg, yg : ', xg, yg)\n",
    "if xg < 0 or xg > len(grid[0])-1 or yg < 0 or yg > len(grid) - 1:\n",
    "    print('STOP')\n",
    "else:\n",
    "    tile = grid[yg][xg]\n",
    "    if tile == \"#\":\n",
    "        x, y = (x + deltas[o]['right'][0], y + deltas[o]['right'][1])\n",
    "    else:\n",
    "        x, y = xg, yg\n",
    "    o = update_orientation(o, grid, xg, yg)\n",
    "    grid[y][x] = 'X'\n",
    "print('o: ', o)\n",
    "print('x, y: ', x, y)\n",
    "for l in grid:\n",
    "    print(l)"
   ]
  },
  {
   "cell_type": "code",
   "execution_count": 24,
   "metadata": {},
   "outputs": [
    {
     "data": {
      "text/plain": [
       "2"
      ]
     },
     "execution_count": 24,
     "metadata": {},
     "output_type": "execute_result"
    }
   ],
   "source": [
    "sum([c=='X' for l in grid for c in l])"
   ]
  },
  {
   "cell_type": "code",
   "execution_count": 25,
   "metadata": {},
   "outputs": [
    {
     "name": "stdout",
     "output_type": "stream",
     "text": [
      "4 6 ^\n"
     ]
    }
   ],
   "source": [
    "## lets try the example\n",
    "x, y = 4, 6\n",
    "o = '^'\n",
    "print(x, y, o)\n",
    "grid = [list(l) for l in dat.splitlines()]\n",
    "grid[y][x] = 'X'"
   ]
  },
  {
   "cell_type": "code",
   "execution_count": 26,
   "metadata": {},
   "outputs": [
    {
     "name": "stdout",
     "output_type": "stream",
     "text": [
      "xg, yg :  4 5\n",
      "o:  ^\n",
      "x, y:  4 5\n",
      "['.', '.', '.', '.', '#', '.', '.', '.', '.', '.']\n",
      "['.', '.', '.', '.', '.', '.', '.', '.', '.', '#']\n",
      "['.', '.', '.', '.', '.', '.', '.', '.', '.', '.']\n",
      "['.', '.', '#', '.', '.', '.', '.', '.', '.', '.']\n",
      "['.', '.', '.', '.', '.', '.', '.', '#', '.', '.']\n",
      "['.', '.', '.', '.', 'X', '.', '.', '.', '.', '.']\n",
      "['.', '#', '.', '.', 'X', '.', '.', '.', '.', '.']\n",
      "['.', '.', '.', '.', '.', '.', '.', '.', '#', '.']\n",
      "['#', '.', '.', '.', '.', '.', '.', '.', '.', '.']\n",
      "['.', '.', '.', '.', '.', '.', '#', '.', '.', '.']\n"
     ]
    }
   ],
   "source": [
    "xg, yg = (x + deltas[o]['ahead'][0], y + deltas[o]['ahead'][1])\n",
    "print('xg, yg : ', xg, yg)\n",
    "if xg < 0 or xg > len(grid[0])-1 or yg < 0 or yg > len(grid) - 1:\n",
    "    print('STOP')\n",
    "else:\n",
    "    tile = grid[yg][xg]\n",
    "    if tile == \"#\":\n",
    "        x, y = (x + deltas[o]['right'][0], y + deltas[o]['right'][1])\n",
    "    else:\n",
    "        x, y = xg, yg\n",
    "    o = update_orientation(o, grid, xg, yg)\n",
    "    grid[y][x] = 'X'\n",
    "print('o: ', o)\n",
    "print('x, y: ', x, y)\n",
    "for l in grid:\n",
    "    print(l)"
   ]
  },
  {
   "cell_type": "code",
   "execution_count": 27,
   "metadata": {},
   "outputs": [
    {
     "data": {
      "text/plain": [
       "2"
      ]
     },
     "execution_count": 27,
     "metadata": {},
     "output_type": "execute_result"
    }
   ],
   "source": [
    "sum([c=='X' for l in grid for c in l])"
   ]
  },
  {
   "cell_type": "code",
   "execution_count": 28,
   "metadata": {},
   "outputs": [],
   "source": [
    "# ! good thing I visualized the path. I realized a counter can't make it because the guard can visit the same position multiple times"
   ]
  },
  {
   "cell_type": "code",
   "execution_count": 29,
   "metadata": {},
   "outputs": [],
   "source": [
    "class Guard:\n",
    "\n",
    "    def __init__(self, x: int, y: int, o: str, grid: list[list[str]]):\n",
    "        self.x = x\n",
    "        self.y = y \n",
    "        self.o = o #orientation\n",
    "        self.grid = grid\n",
    "    \n",
    "    def update_orientation(self, xg: int, yg: int) -> str:\n",
    "        if self.grid[yg][xg] == '#':\n",
    "            self.o = orientations[(orientations.index(self.o)+1)%len(orientations)]\n",
    "        return self.o\n",
    "    \n",
    "    def move(self):\n",
    "        xg, yg = (self.x + deltas[self.o]['ahead'][0], self.y + deltas[self.o]['ahead'][1])\n",
    "        print('xg, yg : ', xg, yg)\n",
    "        if xg < 0 or xg > len(self.grid[0])-1 or yg < 0 or yg > len(self.grid) - 1:\n",
    "            print('STOP')\n",
    "        else:\n",
    "            tile = self.grid[yg][xg]\n",
    "            if tile == \"#\":\n",
    "                self.x, self.y = (self.x + deltas[self.o]['right'][0], self.y + deltas[self.o]['right'][1])\n",
    "            else:\n",
    "                self.x, self.y = xg, yg\n",
    "            self.o = self.update_orientation(xg, yg)\n",
    "            self.grid[self.y][self.x] = 'X'\n",
    "        print('o: ', self.o)\n",
    "        print('x, y: ', self.x, self.y)\n",
    "        self.display_grid()\n",
    "        \n",
    "    def display_grid(self):\n",
    "        for l in self.grid:\n",
    "            print(l)\n",
    "\n",
    "        "
   ]
  },
  {
   "cell_type": "code",
   "execution_count": 30,
   "metadata": {},
   "outputs": [
    {
     "ename": "TypeError",
     "evalue": "Guard.__init__() missing 1 required positional argument: 'grid'",
     "output_type": "error",
     "traceback": [
      "\u001b[0;31m---------------------------------------------------------------------------\u001b[0m",
      "\u001b[0;31mTypeError\u001b[0m                                 Traceback (most recent call last)",
      "Cell \u001b[0;32mIn[30], line 3\u001b[0m\n\u001b[1;32m      1\u001b[0m x, y  \u001b[38;5;241m=\u001b[39m (\u001b[38;5;241m4\u001b[39m, \u001b[38;5;241m6\u001b[39m)\n\u001b[1;32m      2\u001b[0m o \u001b[38;5;241m=\u001b[39m \u001b[38;5;124m'\u001b[39m\u001b[38;5;124m^\u001b[39m\u001b[38;5;124m'\u001b[39m\n\u001b[0;32m----> 3\u001b[0m guard \u001b[38;5;241m=\u001b[39m \u001b[43mGuard\u001b[49m\u001b[43m(\u001b[49m\u001b[43mx\u001b[49m\u001b[43m,\u001b[49m\u001b[43m \u001b[49m\u001b[43my\u001b[49m\u001b[43m,\u001b[49m\u001b[43m \u001b[49m\u001b[43mo\u001b[49m\u001b[43m)\u001b[49m\n",
      "\u001b[0;31mTypeError\u001b[0m: Guard.__init__() missing 1 required positional argument: 'grid'"
     ]
    }
   ],
   "source": [
    "x, y  = (4, 6)\n",
    "o = '^'\n",
    "guard = Guard(x, y, o)"
   ]
  },
  {
   "cell_type": "code",
   "execution_count": 31,
   "metadata": {},
   "outputs": [],
   "source": [
    "def format_input(dat: str) -> list[list[str]]:\n",
    "    return [list(l) for l in dat.splitlines()]"
   ]
  },
  {
   "cell_type": "code",
   "execution_count": 32,
   "metadata": {},
   "outputs": [],
   "source": [
    "x, y  = (4, 6)\n",
    "o = '^'\n",
    "grid = format_input(dat)\n",
    "guard = Guard(x, y, o, grid)"
   ]
  },
  {
   "cell_type": "code",
   "execution_count": 33,
   "metadata": {},
   "outputs": [
    {
     "name": "stdout",
     "output_type": "stream",
     "text": [
      "xg, yg :  4 5\n",
      "o:  ^\n",
      "x, y:  4 5\n",
      "['.', '.', '.', '.', '#', '.', '.', '.', '.', '.']\n",
      "['.', '.', '.', '.', '.', '.', '.', '.', '.', '#']\n",
      "['.', '.', '.', '.', '.', '.', '.', '.', '.', '.']\n",
      "['.', '.', '#', '.', '.', '.', '.', '.', '.', '.']\n",
      "['.', '.', '.', '.', '.', '.', '.', '#', '.', '.']\n",
      "['.', '.', '.', '.', 'X', '.', '.', '.', '.', '.']\n",
      "['.', '#', '.', '.', '^', '.', '.', '.', '.', '.']\n",
      "['.', '.', '.', '.', '.', '.', '.', '.', '#', '.']\n",
      "['#', '.', '.', '.', '.', '.', '.', '.', '.', '.']\n",
      "['.', '.', '.', '.', '.', '.', '#', '.', '.', '.']\n"
     ]
    }
   ],
   "source": [
    "guard.move()"
   ]
  },
  {
   "cell_type": "code",
   "execution_count": 34,
   "metadata": {},
   "outputs": [],
   "source": [
    "def count_positions(grid: list[list[str]]) -> int:\n",
    "    return sum([c=='X' for l in grid for c in l])"
   ]
  },
  {
   "cell_type": "code",
   "execution_count": 35,
   "metadata": {},
   "outputs": [],
   "source": [
    "# add to the init the initial marker"
   ]
  },
  {
   "cell_type": "code",
   "execution_count": 36,
   "metadata": {},
   "outputs": [],
   "source": [
    "class Guard:\n",
    "\n",
    "    def __init__(self, x: int, y: int, o: str, grid: list[list[str]]):\n",
    "        self.x = x\n",
    "        self.y = y \n",
    "        self.o = o #orientation\n",
    "        self.grid = grid\n",
    "        self.grid[self.y][self.x] = 'X'\n",
    "    \n",
    "    def update_orientation(self, xg: int, yg: int) -> str:\n",
    "        if self.grid[yg][xg] == '#':\n",
    "            self.o = orientations[(orientations.index(self.o)+1)%len(orientations)]\n",
    "        return self.o\n",
    "    \n",
    "    def move(self, disp_grid: bool = False) -> bool:\n",
    "        xg, yg = (self.x + deltas[self.o]['ahead'][0], self.y + deltas[self.o]['ahead'][1])\n",
    "        if xg < 0 or xg > len(self.grid[0])-1 or yg < 0 or yg > len(self.grid) - 1:\n",
    "            return True\n",
    "        else:\n",
    "            tile = self.grid[yg][xg]\n",
    "            if tile == \"#\":\n",
    "                self.x, self.y = (self.x + deltas[self.o]['right'][0], self.y + deltas[self.o]['right'][1])\n",
    "            else:\n",
    "                self.x, self.y = xg, yg\n",
    "            self.o = self.update_orientation(xg, yg) \n",
    "            self.grid[self.y][self.x] = 'X'\n",
    "\n",
    "        if disp_grid: self.display_grid()\n",
    "        return False\n",
    "        \n",
    "    def display_grid(self):\n",
    "        #print('o: ', self.o)\n",
    "        #print('x, y: ', self.x, self.y)\n",
    "        for l in self.grid:\n",
    "            print(l)\n",
    "\n",
    "        "
   ]
  },
  {
   "cell_type": "code",
   "execution_count": 37,
   "metadata": {},
   "outputs": [],
   "source": [
    "x, y  = (4, 6)\n",
    "o = '^'\n",
    "grid = format_input(dat)\n",
    "guard = Guard(x, y, o, grid)"
   ]
  },
  {
   "cell_type": "code",
   "execution_count": 38,
   "metadata": {},
   "outputs": [],
   "source": [
    "while True:\n",
    "    is_out = guard.move()\n",
    "    if is_out:\n",
    "        break"
   ]
  },
  {
   "cell_type": "code",
   "execution_count": 39,
   "metadata": {},
   "outputs": [],
   "source": [
    "class Guard:\n",
    "\n",
    "    def __init__(self, x: int, y: int, o: str, grid: list[list[str]]):\n",
    "        self.x = x\n",
    "        self.y = y \n",
    "        self.o = o #orientation\n",
    "        self.grid = grid\n",
    "        self.grid[self.y][self.x] = 'X'\n",
    "    \n",
    "    def update_orientation(self, xg: int, yg: int) -> str:\n",
    "        if self.grid[yg][xg] == '#':\n",
    "            self.o = orientations[(orientations.index(self.o)+1)%len(orientations)]\n",
    "        return self.o\n",
    "    \n",
    "    def move(self, disp_grid: bool = False) -> bool:\n",
    "        xg, yg = (self.x + deltas[self.o]['ahead'][0], self.y + deltas[self.o]['ahead'][1])\n",
    "        if xg < 0 or xg > len(self.grid[0])-1 or yg < 0 or yg > len(self.grid) - 1:\n",
    "            return True\n",
    "        else:\n",
    "            tile = self.grid[yg][xg]\n",
    "            if tile == \"#\":\n",
    "                self.x, self.y = (self.x + deltas[self.o]['right'][0], self.y + deltas[self.o]['right'][1])\n",
    "            else:\n",
    "                self.x, self.y = xg, yg\n",
    "            self.o = self.update_orientation(xg, yg) \n",
    "            self.grid[self.y][self.x] = 'X'\n",
    "\n",
    "        if disp_grid: self.display_grid()\n",
    "        return False\n",
    "        \n",
    "    def display_grid(self):\n",
    "        print('o: ', self.o)\n",
    "        print('x, y: ', self.x, self.y)\n",
    "        for l in self.grid:\n",
    "            print(l)\n",
    "\n",
    "    def count_positions(self):\n",
    "        return sum([c=='X' for l in self.grid for c in l])"
   ]
  },
  {
   "cell_type": "code",
   "execution_count": 40,
   "metadata": {},
   "outputs": [
    {
     "data": {
      "text/plain": [
       "41"
      ]
     },
     "execution_count": 40,
     "metadata": {},
     "output_type": "execute_result"
    }
   ],
   "source": [
    "x, y  = (4, 6)\n",
    "o = '^'\n",
    "grid = format_input(dat)\n",
    "guard = Guard(x, y, o, grid)\n",
    "\n",
    "while True:\n",
    "    is_out = guard.move()\n",
    "    if is_out:\n",
    "        break\n",
    "\n",
    "guard.count_positions()"
   ]
  },
  {
   "cell_type": "code",
   "execution_count": 41,
   "metadata": {},
   "outputs": [],
   "source": [
    "## format input should also retrieve the initial position and orientation"
   ]
  },
  {
   "cell_type": "code",
   "execution_count": 42,
   "metadata": {},
   "outputs": [],
   "source": [
    "def format_input(dat: str) -> list[list[str]]:\n",
    "    grid = [list(l) for l in dat.splitlines()]\n",
    "    []"
   ]
  },
  {
   "cell_type": "code",
   "execution_count": 43,
   "metadata": {},
   "outputs": [
    {
     "data": {
      "text/plain": [
       "[('^', 4, 6)]"
      ]
     },
     "execution_count": 43,
     "metadata": {},
     "output_type": "execute_result"
    }
   ],
   "source": [
    "grid = [list(l) for l in dat.splitlines()]\n",
    "[(c,x,y) for y,l in enumerate(grid) for x,c in enumerate(l) if c in orientations]"
   ]
  },
  {
   "cell_type": "code",
   "execution_count": 44,
   "metadata": {},
   "outputs": [],
   "source": [
    "def format_input(dat: str) -> list[list[str]]:\n",
    "    grid = [list(l) for l in dat.splitlines()]\n",
    "    o, x, y = [(o,x,y) for y,l in enumerate(grid) for x,o in enumerate(l) if o in orientations][0]\n",
    "    return grid, o, x, y "
   ]
  },
  {
   "cell_type": "code",
   "execution_count": 45,
   "metadata": {},
   "outputs": [
    {
     "data": {
      "text/plain": [
       "41"
      ]
     },
     "execution_count": 45,
     "metadata": {},
     "output_type": "execute_result"
    }
   ],
   "source": [
    "dat = exmp\n",
    "grid, o, x, y  = format_input(dat)\n",
    "guard = Guard(x, y, o, grid)\n",
    "while True:\n",
    "    is_out = guard.move()\n",
    "    if is_out:\n",
    "        break\n",
    "\n",
    "guard.count_positions()"
   ]
  },
  {
   "cell_type": "code",
   "execution_count": 46,
   "metadata": {},
   "outputs": [],
   "source": [
    "def sol6a(dat: str) -> int:\n",
    "    grid, o, x, y  = format_input(dat)\n",
    "    guard = Guard(x, y, o, grid)\n",
    "    while True:\n",
    "        is_out = guard.move()\n",
    "        if is_out:\n",
    "            break\n",
    "    return guard.count_positions()\n"
   ]
  },
  {
   "cell_type": "code",
   "execution_count": 47,
   "metadata": {},
   "outputs": [
    {
     "data": {
      "text/plain": [
       "41"
      ]
     },
     "execution_count": 47,
     "metadata": {},
     "output_type": "execute_result"
    }
   ],
   "source": [
    "dat = exmp\n",
    "sol6a(dat)"
   ]
  },
  {
   "cell_type": "code",
   "execution_count": 48,
   "metadata": {},
   "outputs": [
    {
     "data": {
      "text/plain": [
       "5331"
      ]
     },
     "execution_count": 48,
     "metadata": {},
     "output_type": "execute_result"
    }
   ],
   "source": [
    "dat = data\n",
    "sol6a(dat)"
   ]
  },
  {
   "cell_type": "markdown",
   "metadata": {},
   "source": [
    "## part 2"
   ]
  },
  {
   "cell_type": "code",
   "execution_count": 49,
   "metadata": {},
   "outputs": [
    {
     "data": {
      "text/markdown": [
       "**Problem**: Find all possible positions where placing a single new obstruction would cause a guard to get stuck in a loop, excluding the guard's starting position. \n",
       "\n",
       "**Key elements**:\n",
       "- We need to analyze a guard's patrol route \n",
       "- Only ONE new obstruction can be added \n",
       "- The obstruction cannot be placed at guard's starting position \n",
       "- We need to count all possible positions that would create a loop \n",
       "\n",
       "**Input looks like** (using symbols):\n",
       "- `#` represents existing walls/obstacles \n",
       "- `^` represents guard's starting position \n",
       "- `.` represents empty spaces \n",
       "- After adding obstruction:\n",
       "  - `O` shows the new obstruction\n",
       "  - `|` shows vertical guard movement\n",
       "  - `-` shows horizontal guard movement\n",
       "  - `+` shows both vertical and horizontal movement\n",
       "\n",
       "Example initial map:\n",
       "```\n",
       "....#.....\n",
       ".....---+#\n",
       "....|...|.\n",
       "..#.|...|.\n",
       "....|..#|.\n",
       "....|...|.\n",
       ".#..^---+.\n",
       "........#.\n",
       "#.........\n",
       "......#...\n",
       "```\n",
       "\n",
       "**Output needed**: The total number of different positions where placing an obstruction would create a loop (in the example: 6)"
      ],
      "text/plain": [
       "<IPython.core.display.Markdown object>"
      ]
     },
     "execution_count": 49,
     "metadata": {},
     "output_type": "execute_result"
    }
   ],
   "source": [
    "await rephrase_pb(DAY, YEAR, 2)"
   ]
  },
  {
   "cell_type": "markdown",
   "metadata": {},
   "source": [
    "The new obstruction can't be placed at the guard's starting position"
   ]
  },
  {
   "cell_type": "markdown",
   "metadata": {},
   "source": [
    "How do I detect a loop ?"
   ]
  },
  {
   "cell_type": "markdown",
   "metadata": {},
   "source": [
    "Let's try some of the examples"
   ]
  },
  {
   "cell_type": "code",
   "execution_count": 50,
   "metadata": {},
   "outputs": [],
   "source": [
    "dat = exmp\n",
    "grid, o, x, y  = format_input(dat)\n",
    "xob, yob = 3, 6\n",
    "grid[yob][xob] = '#'\n",
    "guard = Guard(x, y, o, grid)"
   ]
  },
  {
   "cell_type": "code",
   "execution_count": 51,
   "metadata": {},
   "outputs": [
    {
     "name": "stdout",
     "output_type": "stream",
     "text": [
      "o:  ^\n",
      "x, y:  4 5\n",
      "['.', '.', '.', '.', '#', '.', '.', '.', '.', '.']\n",
      "['.', '.', '.', '.', '.', '.', '.', '.', '.', '#']\n",
      "['.', '.', '.', '.', '.', '.', '.', '.', '.', '.']\n",
      "['.', '.', '#', '.', '.', '.', '.', '.', '.', '.']\n",
      "['.', '.', '.', '.', '.', '.', '.', '#', '.', '.']\n",
      "['.', '.', '.', '.', 'X', '.', '.', '.', '.', '.']\n",
      "['.', '#', '.', '#', 'X', '.', '.', '.', '.', '.']\n",
      "['.', '.', '.', '.', '.', '.', '.', '.', '#', '.']\n",
      "['#', '.', '.', '.', '.', '.', '.', '.', '.', '.']\n",
      "['.', '.', '.', '.', '.', '.', '#', '.', '.', '.']\n"
     ]
    }
   ],
   "source": [
    "is_out = guard.move(disp_grid=True)"
   ]
  },
  {
   "cell_type": "code",
   "execution_count": 52,
   "metadata": {},
   "outputs": [],
   "source": [
    "dat = exmp\n",
    "grid, o, x, y  = format_input(dat)\n",
    "xob, yob = 6, 7\n",
    "grid[yob][xob] = '#'\n",
    "guard = Guard(x, y, o, grid)"
   ]
  },
  {
   "cell_type": "code",
   "execution_count": 53,
   "metadata": {},
   "outputs": [
    {
     "name": "stdout",
     "output_type": "stream",
     "text": [
      "o:  ^\n",
      "x, y:  4 5\n",
      "['.', '.', '.', '.', '#', '.', '.', '.', '.', '.']\n",
      "['.', '.', '.', '.', '.', '.', '.', '.', '.', '#']\n",
      "['.', '.', '.', '.', '.', '.', '.', '.', '.', '.']\n",
      "['.', '.', '#', '.', '.', '.', '.', '.', '.', '.']\n",
      "['.', '.', '.', '.', '.', '.', '.', '#', '.', '.']\n",
      "['.', '.', '.', '.', 'X', '.', '.', '.', '.', '.']\n",
      "['.', '#', '.', '.', 'X', '.', '.', '.', '.', '.']\n",
      "['.', '.', '.', '.', '.', '.', '#', '.', '#', '.']\n",
      "['#', '.', '.', '.', '.', '.', '.', '.', '.', '.']\n",
      "['.', '.', '.', '.', '.', '.', '#', '.', '.', '.']\n"
     ]
    }
   ],
   "source": [
    "is_out = guard.move(disp_grid=True)"
   ]
  },
  {
   "cell_type": "markdown",
   "metadata": {},
   "source": [
    "If you face an obstacle twice with the same orientation as before, then you must be in a loop\n",
    "\n",
    "If, everytime I face an obstacle, I record the obstacle position and current orientation\n",
    "\n",
    "every time I face an obstacle, I verify if this obstacle was already seen in that orientation or not.\n",
    "\n",
    "If yes: I break: loop detected\n",
    "\n",
    "If not: continue\n",
    "\n",
    "until I get out of the grid"
   ]
  },
  {
   "cell_type": "code",
   "execution_count": 54,
   "metadata": {},
   "outputs": [],
   "source": [
    "def is_in_a_loop(xs: int, ys: int, os: str, grid: list[list[str]]) -> bool:\n",
    "    ..."
   ]
  },
  {
   "cell_type": "markdown",
   "metadata": {},
   "source": [
    "In the guard object, need to save also the positions and update them at every move"
   ]
  },
  {
   "cell_type": "code",
   "execution_count": 55,
   "metadata": {},
   "outputs": [],
   "source": [
    "class Guard:\n",
    "\n",
    "    def __init__(self, x: int, y: int, o: str, grid: list[list[str]]):\n",
    "        self.x = x\n",
    "        self.y = y \n",
    "        self.o = o #orientation\n",
    "        self.grid = grid\n",
    "        self.grid[self.y][self.x] = 'X'\n",
    "        self.seen_obs: list[tuple[int, int, str]] = []\n",
    "        self.is_in_a_loop: bool = False\n",
    "    \n",
    "    def update_orientation(self, xg: int, yg: int) -> str:\n",
    "        if self.grid[yg][xg] == '#':\n",
    "            self.o = orientations[(orientations.index(self.o)+1)%len(orientations)]\n",
    "        return self.o\n",
    "    \n",
    "    def move(self, disp_grid: bool = False) -> bool:\n",
    "        xg, yg = (self.x + deltas[self.o]['ahead'][0], self.y + deltas[self.o]['ahead'][1])\n",
    "        if xg < 0 or xg > len(self.grid[0])-1 or yg < 0 or yg > len(self.grid) - 1:\n",
    "            return True\n",
    "        else:\n",
    "            tile = self.grid[yg][xg]\n",
    "            if tile == \"#\":\n",
    "                self.x, self.y = (self.x + deltas[self.o]['right'][0], self.y + deltas[self.o]['right'][1])\n",
    "                obs = (xg, yg, self.o)\n",
    "                if obs in self.seen_obs:\n",
    "                    self.is_in_a_loop = True\n",
    "                self.seen_obs.append(obs)\n",
    "            else:\n",
    "                self.x, self.y = xg, yg\n",
    "            self.o = self.update_orientation(xg, yg) \n",
    "            self.grid[self.y][self.x] = 'X'\n",
    "\n",
    "        if disp_grid: self.display_grid()\n",
    "        return False\n",
    "        \n",
    "    def display_grid(self):\n",
    "        print('seen obstacles:', self.seen_obs)\n",
    "        print('o: ', self.o)\n",
    "        print('x, y: ', self.x, self.y)\n",
    "        for l in self.grid:\n",
    "            print(l)\n",
    "\n",
    "    def count_positions(self):\n",
    "        return sum([c=='X' for l in self.grid for c in l])"
   ]
  },
  {
   "cell_type": "code",
   "execution_count": 56,
   "metadata": {},
   "outputs": [],
   "source": [
    "dat = exmp\n",
    "grid, os, xs, ys  = format_input(dat)\n",
    "xob, yob = 6, 7\n",
    "grid[yob][xob] = '#'\n",
    "guard = Guard(xs, ys, os, grid)\n",
    "is_out = False"
   ]
  },
  {
   "cell_type": "code",
   "execution_count": 57,
   "metadata": {},
   "outputs": [
    {
     "ename": "SyntaxError",
     "evalue": "expected ':' (408182678.py, line 3)",
     "output_type": "error",
     "traceback": [
      "\u001b[0;36m  Cell \u001b[0;32mIn[57], line 3\u001b[0;36m\u001b[0m\n\u001b[0;31m    if guard.is_in_a_loop\u001b[0m\n\u001b[0m                         ^\u001b[0m\n\u001b[0;31mSyntaxError\u001b[0m\u001b[0;31m:\u001b[0m expected ':'\n"
     ]
    }
   ],
   "source": [
    "while not is_out:\n",
    "    is_out = guard.move(disp_grid=True)\n",
    "    if guard.is_in_a_loop\n",
    "print(guard.is_in_a_loop)"
   ]
  },
  {
   "cell_type": "code",
   "execution_count": 58,
   "metadata": {},
   "outputs": [],
   "source": [
    "dat = exmp\n",
    "grid, os, xs, ys  = format_input(dat)\n",
    "xob, yob = 6, 7\n",
    "grid[yob][xob] = '#'"
   ]
  },
  {
   "cell_type": "code",
   "execution_count": 59,
   "metadata": {},
   "outputs": [],
   "source": [
    "def is_in_a_loop(xs: int, ys: int, os: str, grid: list[list[str]]) -> bool:\n",
    "\n",
    "    is_out = False \n",
    "    guard = Guard(xs, ys, os, grid)\n",
    "    while not is_out:\n",
    "        is_out = guard.move()\n",
    "        if guard.is_in_a_loop:\n",
    "            return True    \n",
    "    return False\n"
   ]
  },
  {
   "cell_type": "code",
   "execution_count": 60,
   "metadata": {},
   "outputs": [
    {
     "data": {
      "text/plain": [
       "False"
      ]
     },
     "execution_count": 60,
     "metadata": {},
     "output_type": "execute_result"
    }
   ],
   "source": [
    "dat = exmp\n",
    "grid, os, xs, ys  = format_input(dat)\n",
    "xob, yob = 6, 6\n",
    "grid[yob][xob] = '#'\n",
    "is_in_a_loop(xs, ys, os, grid)"
   ]
  },
  {
   "cell_type": "code",
   "execution_count": 61,
   "metadata": {},
   "outputs": [
    {
     "data": {
      "text/plain": [
       "[(0, 0),\n",
       " (1, 0),\n",
       " (2, 0),\n",
       " (3, 0),\n",
       " (5, 0),\n",
       " (6, 0),\n",
       " (7, 0),\n",
       " (8, 0),\n",
       " (9, 0),\n",
       " (0, 1),\n",
       " (1, 1),\n",
       " (2, 1),\n",
       " (3, 1),\n",
       " (4, 1),\n",
       " (5, 1),\n",
       " (6, 1),\n",
       " (7, 1),\n",
       " (8, 1),\n",
       " (0, 2),\n",
       " (1, 2),\n",
       " (2, 2),\n",
       " (3, 2),\n",
       " (4, 2),\n",
       " (5, 2),\n",
       " (6, 2),\n",
       " (7, 2),\n",
       " (8, 2),\n",
       " (9, 2),\n",
       " (0, 3),\n",
       " (1, 3),\n",
       " (3, 3),\n",
       " (4, 3),\n",
       " (5, 3),\n",
       " (6, 3),\n",
       " (7, 3),\n",
       " (8, 3),\n",
       " (9, 3),\n",
       " (0, 4),\n",
       " (1, 4),\n",
       " (2, 4),\n",
       " (3, 4),\n",
       " (4, 4),\n",
       " (5, 4),\n",
       " (6, 4),\n",
       " (8, 4),\n",
       " (9, 4),\n",
       " (0, 5),\n",
       " (1, 5),\n",
       " (2, 5),\n",
       " (3, 5),\n",
       " (4, 5),\n",
       " (5, 5),\n",
       " (6, 5),\n",
       " (7, 5),\n",
       " (8, 5),\n",
       " (9, 5),\n",
       " (0, 6),\n",
       " (2, 6),\n",
       " (3, 6),\n",
       " (5, 6),\n",
       " (7, 6),\n",
       " (8, 6),\n",
       " (9, 6),\n",
       " (0, 7),\n",
       " (1, 7),\n",
       " (2, 7),\n",
       " (3, 7),\n",
       " (4, 7),\n",
       " (5, 7),\n",
       " (6, 7),\n",
       " (7, 7),\n",
       " (9, 7),\n",
       " (1, 8),\n",
       " (2, 8),\n",
       " (3, 8),\n",
       " (4, 8),\n",
       " (5, 8),\n",
       " (6, 8),\n",
       " (7, 8),\n",
       " (8, 8),\n",
       " (9, 8),\n",
       " (0, 9),\n",
       " (1, 9),\n",
       " (2, 9),\n",
       " (3, 9),\n",
       " (4, 9),\n",
       " (5, 9),\n",
       " (7, 9),\n",
       " (8, 9),\n",
       " (9, 9)]"
      ]
     },
     "execution_count": 61,
     "metadata": {},
     "output_type": "execute_result"
    }
   ],
   "source": [
    "possible_positions = [(x,y) for y,l in enumerate(grid) for x,c in enumerate(l) if c != '#' and (x,y) != (xs, ys)]\n",
    "possible_positions"
   ]
  },
  {
   "cell_type": "code",
   "execution_count": 62,
   "metadata": {},
   "outputs": [
    {
     "name": "stdout",
     "output_type": "stream",
     "text": [
      "['!', '!', '!', '!', '#', '!', '!', '!', '!', '!']\n",
      "['!', '!', '!', '!', '!', '!', '!', '!', '!', '#']\n",
      "['!', '!', '!', '!', '!', '!', '!', '!', '!', '!']\n",
      "['!', '!', '#', '!', '!', '!', '!', '!', '!', '!']\n",
      "['!', '!', '!', '!', '!', '!', '!', '#', '!', '!']\n",
      "['!', '!', '!', '!', '!', '!', '!', '!', '!', '!']\n",
      "['!', '#', '!', '!', 'X', '!', '#', '!', '!', '!']\n",
      "['!', '!', '!', '!', '!', '!', '!', '!', '#', '!']\n",
      "['#', '!', '!', '!', '!', '!', '!', '!', '!', '!']\n",
      "['!', '!', '!', '!', '!', '!', '#', '!', '!', '!']\n"
     ]
    }
   ],
   "source": [
    "for (x,y) in possible_positions:\n",
    "    grid[y][x] = '!'\n",
    "for l in grid:\n",
    "    print(l)"
   ]
  },
  {
   "cell_type": "code",
   "execution_count": 63,
   "metadata": {},
   "outputs": [
    {
     "name": "stderr",
     "output_type": "stream",
     "text": [
      "100%|██████████| 91/91 [00:00<00:00, 26575.80it/s]\n"
     ]
    },
    {
     "data": {
      "text/plain": [
       "6"
      ]
     },
     "execution_count": 63,
     "metadata": {},
     "output_type": "execute_result"
    }
   ],
   "source": [
    "from tqdm import tqdm \n",
    "dat = exmp\n",
    "grid, os, xs, ys  = format_input(dat)\n",
    "possible_positions = [(x,y) for y,l in enumerate(grid) for x,c in enumerate(l) if c != '#' and (x,y) != (xs, ys)]\n",
    "\n",
    "cnt = 0\n",
    "for (xob, yob) in tqdm(possible_positions):\n",
    "    grid, os, xs, ys  = format_input(dat)\n",
    "    grid[yob][xob] = '#'\n",
    "    cnt += is_in_a_loop(xs, ys, os, grid)\n",
    "cnt"
   ]
  },
  {
   "cell_type": "code",
   "execution_count": 64,
   "metadata": {},
   "outputs": [
    {
     "name": "stderr",
     "output_type": "stream",
     "text": [
      "100%|██████████| 16105/16105 [00:40<00:00, 396.81it/s]\n"
     ]
    },
    {
     "data": {
      "text/plain": [
       "1788"
      ]
     },
     "execution_count": 64,
     "metadata": {},
     "output_type": "execute_result"
    }
   ],
   "source": [
    "from tqdm import tqdm \n",
    "dat = data\n",
    "grid, os, xs, ys  = format_input(dat)\n",
    "possible_positions = [(x,y) for y,l in enumerate(grid) for x,c in enumerate(l) if c != '#' and (x,y) != (xs, ys)]\n",
    "options = []\n",
    "cnt = 0\n",
    "for (xob, yob) in tqdm(possible_positions):\n",
    "    grid, os, xs, ys  = format_input(dat)\n",
    "    grid[yob][xob] = '#'\n",
    "    cnt += is_in_a_loop(xs, ys, os, grid)\n",
    "cnt"
   ]
  },
  {
   "cell_type": "code",
   "execution_count": 65,
   "metadata": {},
   "outputs": [
    {
     "data": {
      "text/plain": [
       "16105"
      ]
     },
     "execution_count": 65,
     "metadata": {},
     "output_type": "execute_result"
    }
   ],
   "source": [
    "len(possible_positions)"
   ]
  },
  {
   "cell_type": "code",
   "execution_count": 66,
   "metadata": {},
   "outputs": [],
   "source": [
    "def is_in_a_loop(xs: int, ys: int, os: str, grid: list[list[str]]) -> tuple[bool, ]:\n",
    "    is_out = False \n",
    "    guard = Guard(xs, ys, os, grid)\n",
    "    while not is_out:\n",
    "        if guard.is_in_a_loop:\n",
    "            return True\n",
    "        is_out = guard.move()\n",
    "    return False"
   ]
  },
  {
   "cell_type": "code",
   "execution_count": 67,
   "metadata": {},
   "outputs": [
    {
     "name": "stderr",
     "output_type": "stream",
     "text": [
      "100%|██████████| 91/91 [00:00<00:00, 42104.98it/s]\n"
     ]
    },
    {
     "data": {
      "text/plain": [
       "6"
      ]
     },
     "execution_count": 67,
     "metadata": {},
     "output_type": "execute_result"
    }
   ],
   "source": [
    "from tqdm import tqdm \n",
    "dat = exmp\n",
    "grid, os, xs, ys  = format_input(dat)\n",
    "grid_opt, _, _, _  = format_input(dat)\n",
    "possible_positions = [(x,y) for y,l in enumerate(grid) for x,c in enumerate(l) if c != '#' and (x,y) != (xs, ys)]\n",
    "options = []\n",
    "cnt = 0\n",
    "for (xob, yob) in tqdm(possible_positions):\n",
    "    grid, os, xs, ys  = format_input(dat)\n",
    "    grid[yob][xob] = '#'\n",
    "    if is_in_a_loop(xs, ys, os, grid):\n",
    "        cnt += 1 \n",
    "        options.append((xob, yob))\n",
    "        grid_opt[yob][xob] = '0'\n",
    "cnt"
   ]
  },
  {
   "cell_type": "code",
   "execution_count": 68,
   "metadata": {},
   "outputs": [
    {
     "data": {
      "text/plain": [
       "[['.', '.', '.', '.', '#', '.', '.', '.', '.', '.'],\n",
       " ['.', '.', '.', '.', '.', '.', '.', '.', '.', '#'],\n",
       " ['.', '.', '.', '.', '.', '.', '.', '.', '.', '.'],\n",
       " ['.', '.', '#', '.', '.', '.', '.', '.', '.', '.'],\n",
       " ['.', '.', '.', '.', '.', '.', '.', '#', '.', '.'],\n",
       " ['.', '.', '.', '.', '.', '.', '.', '.', '.', '.'],\n",
       " ['.', '#', '.', '0', '^', '.', '.', '.', '.', '.'],\n",
       " ['.', '.', '.', '.', '.', '.', '0', '0', '#', '.'],\n",
       " ['#', '0', '.', '0', '.', '.', '.', '.', '.', '.'],\n",
       " ['.', '.', '.', '.', '.', '.', '#', '0', '.', '.']]"
      ]
     },
     "execution_count": 68,
     "metadata": {},
     "output_type": "execute_result"
    }
   ],
   "source": [
    "grid_opt"
   ]
  },
  {
   "cell_type": "code",
   "execution_count": 69,
   "metadata": {},
   "outputs": [],
   "source": [
    "from tqdm import tqdm \n",
    "dat = data\n",
    "grid, os, xs, ys  = format_input(dat)\n",
    "grid_opt, _, _, _  = format_input(dat)\n",
    "possible_positions = [(x,y) for y,l in enumerate(grid) for x,c in enumerate(l) if c != '#' and (x,y) != (xs, ys)]\n",
    "options = []\n",
    "cnt = 0\n",
    "i = 0"
   ]
  },
  {
   "cell_type": "code",
   "execution_count": 81,
   "metadata": {},
   "outputs": [
    {
     "name": "stdout",
     "output_type": "stream",
     "text": [
      "1788\n"
     ]
    }
   ],
   "source": [
    "(xob, yob) = possible_positions[i]\n",
    "grid, os, xs, ys  = format_input(dat)\n",
    "grid[yob][xob] = '#'\n",
    "if is_in_a_loop(xs, ys, os, grid):\n",
    "    cnt += 1 \n",
    "    options.append((xob, yob))\n",
    "    grid_opt[yob][xob] = '0'\n",
    "else:\n",
    "    grid_opt[yob][xob] = '!'\n",
    "i += 1\n",
    "\n",
    "print(cnt)\n",
    "# for l in grid_opt:\n",
    "#     print(l)"
   ]
  },
  {
   "cell_type": "markdown",
   "metadata": {},
   "source": [
    "I get the wrong answer (too low). But the approach is correct on the example :/ \n",
    "\n"
   ]
  },
  {
   "cell_type": "markdown",
   "metadata": {},
   "source": [
    "What could be wrong ?\n",
    "\n",
    "- I am missing some possible positions\n",
    "- I return \"False\" when indeed the guard is in a loop\n"
   ]
  },
  {
   "cell_type": "code",
   "execution_count": 71,
   "metadata": {},
   "outputs": [
    {
     "data": {
      "text/plain": [
       "16105"
      ]
     },
     "execution_count": 71,
     "metadata": {},
     "output_type": "execute_result"
    }
   ],
   "source": [
    "dat = data\n",
    "grid, os, xs, ys  = format_input(dat)\n",
    "possible_positions = [(x,y) for y,l in enumerate(grid) for x,c in enumerate(l) if c != '#' and (x,y) != (xs, ys)]\n",
    "len(possible_positions)"
   ]
  },
  {
   "cell_type": "code",
   "execution_count": 72,
   "metadata": {},
   "outputs": [
    {
     "data": {
      "text/plain": [
       "16900"
      ]
     },
     "execution_count": 72,
     "metadata": {},
     "output_type": "execute_result"
    }
   ],
   "source": [
    "len(grid)*len(grid[0])"
   ]
  },
  {
   "cell_type": "code",
   "execution_count": 73,
   "metadata": {},
   "outputs": [
    {
     "data": {
      "text/plain": [
       "794"
      ]
     },
     "execution_count": 73,
     "metadata": {},
     "output_type": "execute_result"
    }
   ],
   "source": [
    "sum([c == '#' for y,l in enumerate(grid) for x,c in enumerate(l)])"
   ]
  },
  {
   "cell_type": "code",
   "execution_count": 74,
   "metadata": {},
   "outputs": [
    {
     "data": {
      "text/plain": [
       "16106"
      ]
     },
     "execution_count": 74,
     "metadata": {},
     "output_type": "execute_result"
    }
   ],
   "source": [
    "len(grid)*len(grid[0])-sum([c == '#' for y,l in enumerate(grid) for x,c in enumerate(l)])"
   ]
  },
  {
   "cell_type": "markdown",
   "metadata": {},
   "source": [
    "seems more like I return False for a loop when indeed it is in a loop"
   ]
  },
  {
   "cell_type": "code",
   "execution_count": 75,
   "metadata": {},
   "outputs": [],
   "source": [
    "class Guard:\n",
    "\n",
    "    def __init__(self, x: int, y: int, o: str, grid: list[list[str]]):\n",
    "        self.x = x\n",
    "        self.y = y \n",
    "        self.o = o #orientation\n",
    "        self.grid = grid\n",
    "        self.grid[self.y][self.x] = 'X'\n",
    "        self.seen_obs: list[tuple[int, int, str]] = []\n",
    "        self.is_in_a_loop: bool = False\n",
    "    \n",
    "    def update_orientation(self, xg: int, yg: int) -> str:\n",
    "        if self.grid[yg][xg] == '#':\n",
    "            self.o = orientations[(orientations.index(self.o)+1)%len(orientations)]\n",
    "        return self.o\n",
    "    \n",
    "    def move(self, disp_grid: bool = False) -> bool:\n",
    "        xg, yg = (self.x + deltas[self.o]['ahead'][0], self.y + deltas[self.o]['ahead'][1])\n",
    "        if xg < 0 or xg > len(self.grid[0])-1 or yg < 0 or yg > len(self.grid) - 1:\n",
    "            return True\n",
    "        else:\n",
    "            tile = self.grid[yg][xg]\n",
    "            if tile == \"#\":\n",
    "                self.x, self.y = (self.x + deltas[self.o]['right'][0], self.y + deltas[self.o]['right'][1])\n",
    "                obs = (xg, yg, self.o)\n",
    "                if obs in self.seen_obs:\n",
    "                    self.is_in_a_loop = True\n",
    "                self.seen_obs.append(obs)\n",
    "            else:\n",
    "                self.x, self.y = xg, yg\n",
    "            self.o = self.update_orientation(xg, yg) \n",
    "            self.grid[self.y][self.x] = 'X'\n",
    "\n",
    "        if disp_grid: self.display_grid()\n",
    "        return False\n",
    "        \n",
    "    def display_grid(self):\n",
    "        print('seen obstacles:', self.seen_obs)\n",
    "        print('o: ', self.o)\n",
    "        print('x, y: ', self.x, self.y)\n",
    "        for l in self.grid:\n",
    "            print(l)\n",
    "\n",
    "    def count_positions(self):\n",
    "        return sum([c=='X' for l in self.grid for c in l])"
   ]
  },
  {
   "cell_type": "markdown",
   "metadata": {},
   "source": [
    "! maybe it switches to true ('is_loop') then continues and somehow get's \"unstuck\" \n",
    "\n",
    "In any case, I think I think I should return True as soon as I detect I am in a loop, no need to continue"
   ]
  },
  {
   "cell_type": "code",
   "execution_count": 76,
   "metadata": {},
   "outputs": [],
   "source": [
    "class Guard:\n",
    "\n",
    "    def __init__(self, x: int, y: int, o: str, grid: list[list[str]]):\n",
    "        self.x = x\n",
    "        self.y = y \n",
    "        self.o = o #orientation\n",
    "        self.grid = grid\n",
    "        self.grid[self.y][self.x] = 'X'\n",
    "        self.seen_obs: list[tuple[int, int, str]] = []\n",
    "        self.is_in_a_loop: bool = False\n",
    "    \n",
    "    def update_orientation(self, xg: int, yg: int) -> str:\n",
    "        if self.grid[yg][xg] == '#':\n",
    "            self.o = orientations[(orientations.index(self.o)+1)%len(orientations)]\n",
    "        return self.o\n",
    "    \n",
    "    def move(self, disp_grid: bool = False) -> bool:\n",
    "        xg, yg = (self.x + deltas[self.o]['ahead'][0], self.y + deltas[self.o]['ahead'][1])\n",
    "        if xg < 0 or xg > len(self.grid[0])-1 or yg < 0 or yg > len(self.grid) - 1:\n",
    "            return True\n",
    "        else:\n",
    "            tile = self.grid[yg][xg]\n",
    "            if tile == \"#\":\n",
    "                xp, yp = (self.x + deltas[self.o]['right'][0], self.y + deltas[self.o]['right'][1])\n",
    "                self.x, self.y = (xp, yp)\n",
    "                obs = (xg, yg, self.o)\n",
    "                if obs in self.seen_obs:\n",
    "                    self.is_in_a_loop = True\n",
    "                    if disp_grid: self.display_grid()\n",
    "                    return True\n",
    "                self.seen_obs.append(obs)\n",
    "            else:\n",
    "                self.x, self.y = xg, yg\n",
    "            self.o = self.update_orientation(xg, yg) \n",
    "            self.grid[self.y][self.x] = 'X'\n",
    "\n",
    "        if disp_grid: self.display_grid()\n",
    "        return False\n",
    "        \n",
    "    def display_grid(self):\n",
    "        print('seen obstacles:', self.seen_obs)\n",
    "        print('o: ', self.o)\n",
    "        print('x, y: ', self.x, self.y)\n",
    "        for l in self.grid:\n",
    "            print(l)\n",
    "\n",
    "    def count_positions(self):\n",
    "        return sum([c=='X' for l in self.grid for c in l])"
   ]
  },
  {
   "cell_type": "code",
   "execution_count": 77,
   "metadata": {},
   "outputs": [],
   "source": [
    "def is_in_a_loop(xs: int, ys: int, os: str, grid: list[list[str]]):\n",
    "    is_finish = False \n",
    "    guard = Guard(xs, ys, os, grid)\n",
    "    while not is_finish:\n",
    "        is_finish = guard.move()\n",
    "        if guard.is_in_a_loop:\n",
    "            return True\n",
    "    return False"
   ]
  },
  {
   "cell_type": "code",
   "execution_count": 78,
   "metadata": {},
   "outputs": [
    {
     "name": "stderr",
     "output_type": "stream",
     "text": [
      "100%|██████████| 16105/16105 [00:40<00:00, 395.07it/s]\n"
     ]
    },
    {
     "data": {
      "text/plain": [
       "1788"
      ]
     },
     "execution_count": 78,
     "metadata": {},
     "output_type": "execute_result"
    }
   ],
   "source": [
    "from tqdm import tqdm \n",
    "dat = data\n",
    "grid, os, xs, ys  = format_input(dat)\n",
    "grid_opt, _, _, _  = format_input(dat)\n",
    "possible_positions = [(x,y) for y,l in enumerate(grid) for x,c in enumerate(l) if c != '#' and (x,y) != (xs, ys)]\n",
    "options = []\n",
    "cnt = 0\n",
    "for (xob, yob) in tqdm(possible_positions):\n",
    "    grid, os, xs, ys  = format_input(dat)\n",
    "    grid[yob][xob] = '#'\n",
    "    if is_in_a_loop(xs, ys, os, grid):\n",
    "        cnt += 1 \n",
    "        options.append((xob, yob))\n",
    "        grid_opt[yob][xob] = '0'\n",
    "cnt"
   ]
  },
  {
   "cell_type": "code",
   "execution_count": 79,
   "metadata": {},
   "outputs": [],
   "source": [
    "from tqdm import tqdm \n",
    "dat = data\n",
    "grid, os, xs, ys  = format_input(dat)\n",
    "xs, ys, os = 0,0, '>'\n",
    "guard = Guard(xs, ys, os, grid)"
   ]
  },
  {
   "cell_type": "code",
   "execution_count": 80,
   "metadata": {},
   "outputs": [
    {
     "data": {
      "text/plain": [
       "False"
      ]
     },
     "execution_count": 80,
     "metadata": {},
     "output_type": "execute_result"
    }
   ],
   "source": [
    "guard.move()"
   ]
  },
  {
   "cell_type": "markdown",
   "metadata": {},
   "source": [
    "!!! I see the problem ! I am sometimes 'erasing' some obstacles when they are subsequent to each other..."
   ]
  },
  {
   "cell_type": "markdown",
   "metadata": {},
   "source": [
    "![error](img/move_error.png)"
   ]
  },
  {
   "cell_type": "code",
   "execution_count": 82,
   "metadata": {},
   "outputs": [
    {
     "data": {
      "text/plain": [
       "['^', '>', 'v', '<']"
      ]
     },
     "execution_count": 82,
     "metadata": {},
     "output_type": "execute_result"
    }
   ],
   "source": [
    "orientations"
   ]
  },
  {
   "cell_type": "code",
   "execution_count": 83,
   "metadata": {},
   "outputs": [],
   "source": [
    "def bump_position(o: str):\n",
    "    idx = orientations.index(o)\n",
    "    idx = (idx+1)%len(orientations)\n",
    "    return(orientations[idx])"
   ]
  },
  {
   "cell_type": "code",
   "execution_count": 84,
   "metadata": {},
   "outputs": [],
   "source": [
    "el = '>'"
   ]
  },
  {
   "cell_type": "code",
   "execution_count": 85,
   "metadata": {},
   "outputs": [
    {
     "data": {
      "text/plain": [
       "'v'"
      ]
     },
     "execution_count": 85,
     "metadata": {},
     "output_type": "execute_result"
    }
   ],
   "source": [
    "el = bump_position(el)\n",
    "el"
   ]
  },
  {
   "cell_type": "code",
   "execution_count": 86,
   "metadata": {},
   "outputs": [],
   "source": [
    "class Guard:\n",
    "\n",
    "    def __init__(self, x: int, y: int, o: str, grid: list[list[str]]):\n",
    "        self.x = x\n",
    "        self.y = y \n",
    "        self.o = o #orientation\n",
    "        self.grid = grid\n",
    "        self.grid[self.y][self.x] = 'X'\n",
    "        self.seen_obs: list[tuple[int, int, str]] = []\n",
    "        self.is_in_a_loop: bool = False\n",
    "    \n",
    "    def update_orientation(self, xg: int, yg: int) -> str:\n",
    "        if self.grid[yg][xg] == '#':\n",
    "            self.o = orientations[(orientations.index(self.o)+1)%len(orientations)]\n",
    "        return self.o\n",
    "    \n",
    "    def move(self, disp_grid: bool = False) -> bool:\n",
    "        xg, yg = (self.x + deltas[self.o]['ahead'][0], self.y + deltas[self.o]['ahead'][1])\n",
    "\n",
    "        if self.is_outbound(xg, yg):\n",
    "            return True\n",
    "            \n",
    "        tile = self.grid[yg][xg]\n",
    "        while tile == \"#\":\n",
    "            obs = (xg, yg, self.o)\n",
    "            if obs in self.seen_obs:\n",
    "                self.is_in_a_loop = True\n",
    "                if disp_grid: self.display_grid()\n",
    "                return True\n",
    "            self.seen_obs.append(obs)\n",
    "            self.o = self.bump_position(self.o)\n",
    "            xg, yg = (self.x + deltas[self.o]['ahead'][0], self.y + deltas[self.o]['ahead'][1])\n",
    "            if self.is_outbound(xg, yg):\n",
    "                return True\n",
    "            tile = self.grid[yg][xg]\n",
    "        \n",
    "        self.x, self.y = xg, yg\n",
    "        #self.o = self.update_orientation(xg, yg) \n",
    "        self.grid[self.y][self.x] = 'X'\n",
    "\n",
    "        if disp_grid: self.display_grid()\n",
    "        return False\n",
    "        \n",
    "\n",
    "    def is_outbound(self, x: int, y: int) -> bool:\n",
    "        return (x < 0 or x > len(self.grid[0])-1 or y < 0 or y > len(self.grid) - 1)\n",
    "\n",
    "    @staticmethod\n",
    "    def bump_position(o: str):\n",
    "        idx = orientations.index(o)\n",
    "        idx = (idx+1)%len(orientations)\n",
    "        return(orientations[idx])\n",
    "\n",
    "    def display_grid(self):\n",
    "        print('seen obstacles:', self.seen_obs)\n",
    "        print('o: ', self.o)\n",
    "        print('x, y: ', self.x, self.y)\n",
    "        for l in self.grid:\n",
    "            print(l)\n",
    "\n",
    "    def count_positions(self):\n",
    "        return sum([c=='X' for l in self.grid for c in l])"
   ]
  },
  {
   "cell_type": "code",
   "execution_count": 87,
   "metadata": {},
   "outputs": [
    {
     "name": "stderr",
     "output_type": "stream",
     "text": [
      "100%|██████████| 91/91 [00:00<00:00, 41514.21it/s]\n"
     ]
    },
    {
     "data": {
      "text/plain": [
       "6"
      ]
     },
     "execution_count": 87,
     "metadata": {},
     "output_type": "execute_result"
    }
   ],
   "source": [
    "from tqdm import tqdm \n",
    "dat = exmp\n",
    "grid, os, xs, ys  = format_input(dat)\n",
    "grid_opt, _, _, _  = format_input(dat)\n",
    "possible_positions = [(x,y) for y,l in enumerate(grid) for x,c in enumerate(l) if c != '#' and (x,y) != (xs, ys)]\n",
    "options = []\n",
    "cnt = 0\n",
    "for (xob, yob) in tqdm(possible_positions):\n",
    "    grid, os, xs, ys  = format_input(dat)\n",
    "    grid[yob][xob] = '#'\n",
    "    if is_in_a_loop(xs, ys, os, grid):\n",
    "        cnt += 1 \n",
    "        options.append((xob, yob))\n",
    "        grid_opt[yob][xob] = '0'\n",
    "cnt"
   ]
  },
  {
   "cell_type": "code",
   "execution_count": 88,
   "metadata": {},
   "outputs": [
    {
     "name": "stderr",
     "output_type": "stream",
     "text": [
      "100%|██████████| 16105/16105 [00:39<00:00, 410.64it/s]\n"
     ]
    },
    {
     "data": {
      "text/plain": [
       "1812"
      ]
     },
     "execution_count": 88,
     "metadata": {},
     "output_type": "execute_result"
    }
   ],
   "source": [
    "from tqdm import tqdm \n",
    "dat = data\n",
    "grid, os, xs, ys  = format_input(dat)\n",
    "grid_opt, _, _, _  = format_input(dat)\n",
    "possible_positions = [(x,y) for y,l in enumerate(grid) for x,c in enumerate(l) if c != '#' and (x,y) != (xs, ys)]\n",
    "options = []\n",
    "cnt = 0\n",
    "for (xob, yob) in tqdm(possible_positions):\n",
    "    grid, os, xs, ys  = format_input(dat)\n",
    "    grid[yob][xob] = '#'\n",
    "    if is_in_a_loop(xs, ys, os, grid):\n",
    "        cnt += 1 \n",
    "        options.append((xob, yob))\n",
    "        grid_opt[yob][xob] = '0'\n",
    "cnt"
   ]
  },
  {
   "cell_type": "markdown",
   "metadata": {},
   "source": [
    "## takeaways:\n",
    "\n",
    "- I didn't break down the problem as much as I could. Went too fast to write the move logic, not handling all special cases. impact: 30+min of debugging (!)\n",
    "- Illustrates the importance of VISUALIZING what I'm doing, and don't get into a while loop too fast"
   ]
  }
 ],
 "metadata": {
  "kernelspec": {
   "display_name": "pydidask",
   "language": "python",
   "name": "python3"
  },
  "language_info": {
   "codemirror_mode": {
    "name": "ipython",
    "version": 3
   },
   "file_extension": ".py",
   "mimetype": "text/x-python",
   "name": "python",
   "nbconvert_exporter": "python",
   "pygments_lexer": "ipython3",
   "version": "3.12.0"
  }
 },
 "nbformat": 4,
 "nbformat_minor": 2
}
