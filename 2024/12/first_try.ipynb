{
 "cells": [
  {
   "cell_type": "markdown",
   "metadata": {},
   "source": [
    "# Advent of Code - Day 12 Year 2024"
   ]
  },
  {
   "cell_type": "code",
   "execution_count": 1,
   "metadata": {},
   "outputs": [
    {
     "name": "stdout",
     "output_type": "stream",
     "text": [
      "nb examples: 1\n",
      "problem link: https://adventofcode.com/2024/day/12\n"
     ]
    }
   ],
   "source": [
    "DAY = 12\n",
    "YEAR = 2024\n",
    "#######\n",
    "import json\n",
    "import sys \n",
    "sys.path.append('../../')\n",
    "from utils import get_pb_data, rephrase_pb, open_link, render_json\n",
    "link, data, exmp, ae1, ae2, exmps, out = get_pb_data(DAY, YEAR)\n",
    "\n",
    "print(f'problem link: {link}')"
   ]
  },
  {
   "cell_type": "code",
   "execution_count": 3,
   "metadata": {},
   "outputs": [],
   "source": [
    "# with open(\"./_puzzle_data.json\", \"r\") as f: inp = json.loads(f.read())\n",
    "# render_json(inp)"
   ]
  },
  {
   "cell_type": "code",
   "execution_count": 4,
   "metadata": {},
   "outputs": [
    {
     "data": {
      "text/markdown": [
       "**Problem**: Calculate the total cost of fencing garden regions where plants of the same type form a region when connected horizontally or vertically. \n",
       "\n",
       "**Cost calculation**:\n",
       "- Region's price = Area × Perimeter\n",
       "- Area = Number of plots in the region\n",
       "- Perimeter = Number of plot sides not touching another plot of same type\n",
       "- Total price = Sum of all regions' prices\n",
       "\n",
       "**Key rules**:\n",
       "- Each plot is a square with 4 sides\n",
       "- Regions can be separated or nested\n",
       "- Same plant type can form multiple distinct regions\n",
       "- Only horizontal and vertical connections count (not diagonal)\n",
       "\n",
       "**Input Example**:\n",
       "```\n",
       "AAAA\n",
       "BBCD\n",
       "BBCC\n",
       "EEEC\n",
       "```\n",
       "\n",
       "In this example:\n",
       "- Region A: area=4, perimeter=10, price=40\n",
       "- Region B: area=4, perimeter=8, price=32\n",
       "- Region C: area=4, perimeter=10, price=40\n",
       "- Region D: area=1, perimeter=4, price=4\n",
       "- Region E: area=3, perimeter=8, price=24\n",
       "- Total price = 140"
      ],
      "text/plain": [
       "<IPython.core.display.Markdown object>"
      ]
     },
     "execution_count": 4,
     "metadata": {},
     "output_type": "execute_result"
    }
   ],
   "source": [
    "await rephrase_pb(DAY, YEAR, 1)"
   ]
  },
  {
   "cell_type": "markdown",
   "metadata": {},
   "source": [
    "A plot can only belong to a single region"
   ]
  },
  {
   "cell_type": "markdown",
   "metadata": {},
   "source": [
    "Each plot must belong to a region"
   ]
  },
  {
   "cell_type": "markdown",
   "metadata": {},
   "source": [
    "I can parse the grid one plot at a time, and determine to which region they belong"
   ]
  },
  {
   "cell_type": "markdown",
   "metadata": {},
   "source": [
    "Once I have determined every region on the grid and the plots that compose it, I can determine its area and perimeter."
   ]
  },
  {
   "cell_type": "markdown",
   "metadata": {},
   "source": [
    "How do I \"build\" each region ?"
   ]
  },
  {
   "cell_type": "markdown",
   "metadata": {},
   "source": [
    "How do I model a region ? "
   ]
  },
  {
   "cell_type": "code",
   "execution_count": 6,
   "metadata": {},
   "outputs": [],
   "source": [
    "region = {\n",
    "    \"<anchor>\": {\"type\": \"R\", \"plots\": set()}\n",
    "}\n",
    "# anchor is the coordinate of one of the region's plots\n",
    "# each plot must belong to only 1 region, so this should work"
   ]
  },
  {
   "cell_type": "code",
   "execution_count": 10,
   "metadata": {},
   "outputs": [
    {
     "name": "stdout",
     "output_type": "stream",
     "text": [
      "AAAA\n",
      "BBCD\n",
      "BBCC\n",
      "EEEC\n"
     ]
    }
   ],
   "source": [
    "print(exmp)"
   ]
  },
  {
   "cell_type": "code",
   "execution_count": 15,
   "metadata": {},
   "outputs": [
    {
     "data": {
      "text/plain": [
       "[['A', 'A', 'A', 'A'],\n",
       " ['B', 'B', 'C', 'D'],\n",
       " ['B', 'B', 'C', 'C'],\n",
       " ['E', 'E', 'E', 'C']]"
      ]
     },
     "execution_count": 15,
     "metadata": {},
     "output_type": "execute_result"
    }
   ],
   "source": [
    "dat = exmp \n",
    "grid = [[c for c in l] for l in dat.splitlines()]\n",
    "grid"
   ]
  },
  {
   "cell_type": "code",
   "execution_count": 16,
   "metadata": {},
   "outputs": [],
   "source": [
    "def _format(dat: str) -> list[list[str]]:\n",
    "    return [[c for c in l] for l in dat.splitlines()]"
   ]
  },
  {
   "cell_type": "code",
   "execution_count": 37,
   "metadata": {},
   "outputs": [
    {
     "data": {
      "text/plain": [
       "[['A', 'A', 'A', 'A'],\n",
       " ['B', 'B', 'C', 'D'],\n",
       " ['B', 'B', 'C', 'C'],\n",
       " ['E', 'E', 'E', 'C']]"
      ]
     },
     "execution_count": 37,
     "metadata": {},
     "output_type": "execute_result"
    }
   ],
   "source": [
    "dat = exmp\n",
    "grid = _format(dat)\n",
    "grid"
   ]
  },
  {
   "cell_type": "code",
   "execution_count": 38,
   "metadata": {},
   "outputs": [
    {
     "name": "stdout",
     "output_type": "stream",
     "text": [
      "A\n"
     ]
    },
    {
     "data": {
      "text/plain": [
       "{(0, 0): {'type': 'A', 'plots': {(0, 0)}}}"
      ]
     },
     "execution_count": 38,
     "metadata": {},
     "output_type": "execute_result"
    }
   ],
   "source": [
    "x,y = (0,0)\n",
    "t = grid[y][x]\n",
    "print(t)\n",
    "plots = set()\n",
    "plots.add((x,y))\n",
    "regions = {(x,y): {\"type\": t, \"plots\": plots}}\n",
    "regions"
   ]
  },
  {
   "cell_type": "code",
   "execution_count": 39,
   "metadata": {},
   "outputs": [
    {
     "data": {
      "text/plain": [
       "[(1, 0), (-1, 0), (0, 1), (0, -1)]"
      ]
     },
     "execution_count": 39,
     "metadata": {},
     "output_type": "execute_result"
    }
   ],
   "source": [
    "deltas = [(1, 0), (-1, 0), (0, 1), (0, -1)]\n",
    "deltas"
   ]
  },
  {
   "cell_type": "code",
   "execution_count": 40,
   "metadata": {},
   "outputs": [
    {
     "data": {
      "text/plain": [
       "[(1, 0), (-1, 0), (0, 1), (0, -1)]"
      ]
     },
     "execution_count": 40,
     "metadata": {},
     "output_type": "execute_result"
    }
   ],
   "source": [
    "w, h = len(grid[0]), len(grid)\n",
    "[(x+xd, y+yd) for xd, yd in deltas]"
   ]
  },
  {
   "cell_type": "code",
   "execution_count": 41,
   "metadata": {},
   "outputs": [
    {
     "data": {
      "text/plain": [
       "[(1, 0), (0, 1)]"
      ]
     },
     "execution_count": 41,
     "metadata": {},
     "output_type": "execute_result"
    }
   ],
   "source": [
    "[(x+xd, y+yd) for xd, yd in deltas if x+xd >= 0 and x+xd < w and y+yd >= 0 and y+yd < h]"
   ]
  },
  {
   "cell_type": "code",
   "execution_count": 42,
   "metadata": {},
   "outputs": [
    {
     "data": {
      "text/plain": [
       "[(1, 0)]"
      ]
     },
     "execution_count": 42,
     "metadata": {},
     "output_type": "execute_result"
    }
   ],
   "source": [
    "[(x+xd, y+yd) for xd, yd in deltas if x+xd >= 0 and x+xd < w and y+yd >= 0 and y+yd < h and grid[y+yd][x+xd] == t]"
   ]
  },
  {
   "cell_type": "code",
   "execution_count": 45,
   "metadata": {},
   "outputs": [
    {
     "data": {
      "text/plain": [
       "[(1, 0)]"
      ]
     },
     "execution_count": 45,
     "metadata": {},
     "output_type": "execute_result"
    }
   ],
   "source": [
    "[(x+xd, y+yd) for xd, yd in deltas if x+xd >= 0 and x+xd < w and y+yd >= 0 and y+yd < h and grid[y+yd][x+xd] == t and (x+xd, y+yd) not in plots]"
   ]
  },
  {
   "cell_type": "code",
   "execution_count": 48,
   "metadata": {},
   "outputs": [
    {
     "data": {
      "text/plain": [
       "{(0, 0), (1, 0)}"
      ]
     },
     "execution_count": 48,
     "metadata": {},
     "output_type": "execute_result"
    }
   ],
   "source": [
    "new_p = [(x+xd, y+yd) for xd, yd in deltas if x+xd >= 0 and x+xd < w and y+yd >= 0 and y+yd < h and grid[y+yd][x+xd] == t and (x+xd, y+yd) not in plots]\n",
    "for p in new_p:\n",
    "    plots.add(p)  \n",
    "plots "
   ]
  },
  {
   "cell_type": "code",
   "execution_count": 56,
   "metadata": {},
   "outputs": [],
   "source": [
    "def _region(x, y, regions):\n",
    "    regs = [v[\"plots\"] for v in regions.values() if (x,y) in v[\"plots\"]]\n",
    "    if len(regs) == 0:\n",
    "        return None\n",
    "    if len(regs) > 1:\n",
    "        raise ValueError('len should be <= 1') \n",
    "    return regs[0]"
   ]
  },
  {
   "cell_type": "code",
   "execution_count": 55,
   "metadata": {},
   "outputs": [
    {
     "name": "stdout",
     "output_type": "stream",
     "text": [
      "(0, 0)\n",
      "(1, 0)\n",
      "(2, 0)\n",
      "(3, 0)\n",
      "(0, 1)\n",
      "(1, 1)\n",
      "(2, 1)\n",
      "(3, 1)\n",
      "(0, 2)\n",
      "(1, 2)\n",
      "(2, 2)\n",
      "(3, 2)\n",
      "(0, 3)\n",
      "(1, 3)\n",
      "(2, 3)\n",
      "(3, 3)\n"
     ]
    }
   ],
   "source": [
    "regions = {}\n",
    "x,y = (0,0)\n",
    "for j in range(h):\n",
    "    for i in range(w):\n",
    "        print((x+i, y+j))"
   ]
  },
  {
   "cell_type": "code",
   "execution_count": 98,
   "metadata": {},
   "outputs": [],
   "source": [
    "def _region(x, y, regions):\n",
    "    regs = [v[\"plots\"] for v in regions.values() if (x,y) in v[\"plots\"]]\n",
    "    if len(regs) == 0:\n",
    "        return None\n",
    "    if len(regs) > 1:\n",
    "        raise ValueError(f'len should be <= 1: ({x}, {y})') \n",
    "    return regs[0]"
   ]
  },
  {
   "cell_type": "code",
   "execution_count": 66,
   "metadata": {},
   "outputs": [
    {
     "name": "stdout",
     "output_type": "stream",
     "text": [
      "0 0\n",
      "region is none\n",
      "0 1\n",
      "region is none\n",
      "0 2\n",
      "region is none\n",
      "0 3\n",
      "region is none\n"
     ]
    }
   ],
   "source": [
    "dat = exmp\n",
    "grid = _format(dat)\n",
    "regions = {}\n",
    "for j in range(h):\n",
    "    for i in range(w):\n",
    "        x, y = i,j\n",
    "        print(x,y)\n",
    "        region = _region(x, y, regions)\n",
    "        t = grid[y][x]\n",
    "        if region is None:\n",
    "            print('region is none')\n",
    "            regions[(x,y)] = {\"type\": t, \"plots\": {(x,y)}}\n",
    "        else:\n",
    "            neighbours = [(x+xd, y+yd) for xd, yd in deltas if x+xd >= 0 and x+xd < w and y+yd >= 0 and y+yd < h and grid[y+yd][x+xd] == t]\n",
    "            for n in neighbours:\n",
    "                region.add(n)"
   ]
  },
  {
   "cell_type": "code",
   "execution_count": 70,
   "metadata": {},
   "outputs": [],
   "source": [
    "dat = exmp\n",
    "grid = _format(dat)\n",
    "regions = {}"
   ]
  },
  {
   "cell_type": "code",
   "execution_count": 79,
   "metadata": {},
   "outputs": [
    {
     "name": "stdout",
     "output_type": "stream",
     "text": [
      "2 1\n",
      "region is none\n"
     ]
    },
    {
     "data": {
      "text/plain": [
       "{(0, 0): {'type': 'A', 'plots': {(0, 0), (1, 0), (2, 0), (3, 0)}},\n",
       " (0, 1): {'type': 'B', 'plots': {(0, 1), (0, 2), (1, 1), (1, 2)}},\n",
       " (0, 3): {'type': 'E', 'plots': {(0, 3), (1, 3)}},\n",
       " (2, 1): {'type': 'C', 'plots': {(2, 1), (2, 2)}}}"
      ]
     },
     "execution_count": 79,
     "metadata": {},
     "output_type": "execute_result"
    }
   ],
   "source": [
    "i, j = 2,1\n",
    "x, y = i,j\n",
    "print(x,y)\n",
    "region = _region(x, y, regions)\n",
    "t = grid[y][x]\n",
    "if region is None:\n",
    "    print('region is none')\n",
    "    regions[(x,y)] = {\"type\": t, \"plots\": {(x,y)}}\n",
    "    region = regions[(x,y)][\"plots\"]\n",
    "neighbours = [(x+xd, y+yd) for xd, yd in deltas if x+xd >= 0 and x+xd < w and y+yd >= 0 and y+yd < h and grid[y+yd][x+xd] == t]\n",
    "for n in neighbours:\n",
    "    region.add(n)\n",
    "regions"
   ]
  },
  {
   "cell_type": "code",
   "execution_count": 81,
   "metadata": {},
   "outputs": [
    {
     "name": "stdout",
     "output_type": "stream",
     "text": [
      "0 0\n",
      "region is none\n",
      "1 0\n",
      "2 0\n",
      "3 0\n",
      "0 1\n",
      "region is none\n",
      "1 1\n",
      "2 1\n",
      "region is none\n",
      "3 1\n",
      "region is none\n",
      "0 2\n",
      "1 2\n",
      "2 2\n",
      "3 2\n",
      "0 3\n",
      "region is none\n",
      "1 3\n",
      "2 3\n",
      "3 3\n"
     ]
    },
    {
     "data": {
      "text/plain": [
       "{(0, 0): {'type': 'A', 'plots': {(0, 0), (1, 0), (2, 0), (3, 0)}},\n",
       " (0, 1): {'type': 'B', 'plots': {(0, 1), (0, 2), (1, 1), (1, 2)}},\n",
       " (2, 1): {'type': 'C', 'plots': {(2, 1), (2, 2), (3, 2), (3, 3)}},\n",
       " (3, 1): {'type': 'D', 'plots': {(3, 1)}},\n",
       " (0, 3): {'type': 'E', 'plots': {(0, 3), (1, 3), (2, 3)}}}"
      ]
     },
     "execution_count": 81,
     "metadata": {},
     "output_type": "execute_result"
    }
   ],
   "source": [
    "dat = exmp\n",
    "grid = _format(dat)\n",
    "regions = {}\n",
    "for j in range(h):\n",
    "    for i in range(w):\n",
    "        x, y = i,j\n",
    "        print(x,y)\n",
    "        region = _region(x, y, regions)\n",
    "        t = grid[y][x]\n",
    "        if region is None:\n",
    "            print('region is none')\n",
    "            regions[(x,y)] = {\"type\": t, \"plots\": {(x,y)}}\n",
    "            region = regions[(x,y)][\"plots\"]\n",
    "        neighbours = [(x+xd, y+yd) for xd, yd in deltas if x+xd >= 0 and x+xd < w and y+yd >= 0 and y+yd < h and grid[y+yd][x+xd] == t]\n",
    "        for n in neighbours:\n",
    "            region.add(n)\n",
    "regions"
   ]
  },
  {
   "cell_type": "code",
   "execution_count": 91,
   "metadata": {},
   "outputs": [],
   "source": [
    "def build_region(grid) -> dict:\n",
    "    regions = {}\n",
    "    w, h = len(grid[0]), len(grid)\n",
    "    for j in range(h):\n",
    "        for i in range(w):\n",
    "            x, y = i,j\n",
    "            t = grid[y][x]\n",
    "            region = _region(x, y, regions)\n",
    "            if region is None:\n",
    "                regions[(x,y)] = {\"type\": t, \"plots\": {(x,y)}}\n",
    "                region = regions[(x,y)][\"plots\"]\n",
    "            neighbours = [(x+xd, y+yd) for xd, yd in deltas if x+xd >= 0 and x+xd < w and y+yd >= 0 and y+yd < h and grid[y+yd][x+xd] == t]\n",
    "            for n in neighbours: region.add(n)\n",
    "    return regions\n",
    "    "
   ]
  },
  {
   "cell_type": "code",
   "execution_count": 93,
   "metadata": {},
   "outputs": [
    {
     "name": "stdout",
     "output_type": "stream",
     "text": [
      "[['A', 'A', 'A', 'A'], ['B', 'B', 'C', 'D'], ['B', 'B', 'C', 'C'], ['E', 'E', 'E', 'C']]\n"
     ]
    },
    {
     "data": {
      "text/plain": [
       "{(0, 0): {'type': 'A', 'plots': {(0, 0), (1, 0), (2, 0), (3, 0)}},\n",
       " (0, 1): {'type': 'B', 'plots': {(0, 1), (0, 2), (1, 1), (1, 2)}},\n",
       " (2, 1): {'type': 'C', 'plots': {(2, 1), (2, 2), (3, 2), (3, 3)}},\n",
       " (3, 1): {'type': 'D', 'plots': {(3, 1)}},\n",
       " (0, 3): {'type': 'E', 'plots': {(0, 3), (1, 3), (2, 3)}}}"
      ]
     },
     "execution_count": 93,
     "metadata": {},
     "output_type": "execute_result"
    }
   ],
   "source": [
    "dat = exmp\n",
    "grid = _format(dat)\n",
    "print(grid)\n",
    "build_region(grid)"
   ]
  },
  {
   "cell_type": "code",
   "execution_count": 94,
   "metadata": {},
   "outputs": [],
   "source": [
    "ex2 = \"\"\"OOOOO\n",
    "OXOXO\n",
    "OOOOO\n",
    "OXOXO\n",
    "OOOOO\n",
    "\"\"\""
   ]
  },
  {
   "cell_type": "code",
   "execution_count": 95,
   "metadata": {},
   "outputs": [
    {
     "name": "stdout",
     "output_type": "stream",
     "text": [
      "[['O', 'O', 'O', 'O', 'O'], ['O', 'X', 'O', 'X', 'O'], ['O', 'O', 'O', 'O', 'O'], ['O', 'X', 'O', 'X', 'O'], ['O', 'O', 'O', 'O', 'O']]\n"
     ]
    },
    {
     "data": {
      "text/plain": [
       "{(0, 0): {'type': 'O',\n",
       "  'plots': {(0, 0),\n",
       "   (0, 1),\n",
       "   (0, 2),\n",
       "   (0, 3),\n",
       "   (0, 4),\n",
       "   (1, 0),\n",
       "   (1, 2),\n",
       "   (1, 4),\n",
       "   (2, 0),\n",
       "   (2, 1),\n",
       "   (2, 2),\n",
       "   (2, 3),\n",
       "   (2, 4),\n",
       "   (3, 0),\n",
       "   (3, 2),\n",
       "   (3, 4),\n",
       "   (4, 0),\n",
       "   (4, 1),\n",
       "   (4, 2),\n",
       "   (4, 3),\n",
       "   (4, 4)}},\n",
       " (1, 1): {'type': 'X', 'plots': {(1, 1)}},\n",
       " (3, 1): {'type': 'X', 'plots': {(3, 1)}},\n",
       " (1, 3): {'type': 'X', 'plots': {(1, 3)}},\n",
       " (3, 3): {'type': 'X', 'plots': {(3, 3)}}}"
      ]
     },
     "execution_count": 95,
     "metadata": {},
     "output_type": "execute_result"
    }
   ],
   "source": [
    "dat = ex2\n",
    "grid = _format(dat)\n",
    "print(grid)\n",
    "build_region(grid)"
   ]
  },
  {
   "cell_type": "code",
   "execution_count": 96,
   "metadata": {},
   "outputs": [],
   "source": [
    "ex3 = \"\"\"RRRRIICCFF\n",
    "RRRRIICCCF\n",
    "VVRRRCCFFF\n",
    "VVRCCCJFFF\n",
    "VVVVCJJCFE\n",
    "VVIVCCJJEE\n",
    "VVIIICJJEE\n",
    "MIIIIIJJEE\n",
    "MIIISIJEEE\n",
    "MMMISSJEEE\n",
    "\"\"\""
   ]
  },
  {
   "cell_type": "code",
   "execution_count": 99,
   "metadata": {},
   "outputs": [
    {
     "name": "stdout",
     "output_type": "stream",
     "text": [
      "[['R', 'R', 'R', 'R', 'I', 'I', 'C', 'C', 'F', 'F'], ['R', 'R', 'R', 'R', 'I', 'I', 'C', 'C', 'C', 'F'], ['V', 'V', 'R', 'R', 'R', 'C', 'C', 'F', 'F', 'F'], ['V', 'V', 'R', 'C', 'C', 'C', 'J', 'F', 'F', 'F'], ['V', 'V', 'V', 'V', 'C', 'J', 'J', 'C', 'F', 'E'], ['V', 'V', 'I', 'V', 'C', 'C', 'J', 'J', 'E', 'E'], ['V', 'V', 'I', 'I', 'I', 'C', 'J', 'J', 'E', 'E'], ['M', 'I', 'I', 'I', 'I', 'I', 'J', 'J', 'E', 'E'], ['M', 'I', 'I', 'I', 'S', 'I', 'J', 'E', 'E', 'E'], ['M', 'M', 'M', 'I', 'S', 'S', 'J', 'E', 'E', 'E']]\n"
     ]
    },
    {
     "ename": "ValueError",
     "evalue": "len should be <= 1: (6, 2)",
     "output_type": "error",
     "traceback": [
      "\u001b[0;31m---------------------------------------------------------------------------\u001b[0m",
      "\u001b[0;31mValueError\u001b[0m                                Traceback (most recent call last)",
      "Cell \u001b[0;32mIn[99], line 4\u001b[0m\n\u001b[1;32m      2\u001b[0m grid \u001b[38;5;241m=\u001b[39m _format(dat)\n\u001b[1;32m      3\u001b[0m \u001b[38;5;28mprint\u001b[39m(grid)\n\u001b[0;32m----> 4\u001b[0m \u001b[43mbuild_region\u001b[49m\u001b[43m(\u001b[49m\u001b[43mgrid\u001b[49m\u001b[43m)\u001b[49m\n",
      "Cell \u001b[0;32mIn[91], line 8\u001b[0m, in \u001b[0;36mbuild_region\u001b[0;34m(grid)\u001b[0m\n\u001b[1;32m      6\u001b[0m x, y \u001b[38;5;241m=\u001b[39m i,j\n\u001b[1;32m      7\u001b[0m t \u001b[38;5;241m=\u001b[39m grid[y][x]\n\u001b[0;32m----> 8\u001b[0m region \u001b[38;5;241m=\u001b[39m \u001b[43m_region\u001b[49m\u001b[43m(\u001b[49m\u001b[43mx\u001b[49m\u001b[43m,\u001b[49m\u001b[43m \u001b[49m\u001b[43my\u001b[49m\u001b[43m,\u001b[49m\u001b[43m \u001b[49m\u001b[43mregions\u001b[49m\u001b[43m)\u001b[49m\n\u001b[1;32m      9\u001b[0m \u001b[38;5;28;01mif\u001b[39;00m region \u001b[38;5;129;01mis\u001b[39;00m \u001b[38;5;28;01mNone\u001b[39;00m:\n\u001b[1;32m     10\u001b[0m     regions[(x,y)] \u001b[38;5;241m=\u001b[39m {\u001b[38;5;124m\"\u001b[39m\u001b[38;5;124mtype\u001b[39m\u001b[38;5;124m\"\u001b[39m: t, \u001b[38;5;124m\"\u001b[39m\u001b[38;5;124mplots\u001b[39m\u001b[38;5;124m\"\u001b[39m: {(x,y)}}\n",
      "Cell \u001b[0;32mIn[98], line 6\u001b[0m, in \u001b[0;36m_region\u001b[0;34m(x, y, regions)\u001b[0m\n\u001b[1;32m      4\u001b[0m     \u001b[38;5;28;01mreturn\u001b[39;00m \u001b[38;5;28;01mNone\u001b[39;00m\n\u001b[1;32m      5\u001b[0m \u001b[38;5;28;01mif\u001b[39;00m \u001b[38;5;28mlen\u001b[39m(regs) \u001b[38;5;241m>\u001b[39m \u001b[38;5;241m1\u001b[39m:\n\u001b[0;32m----> 6\u001b[0m     \u001b[38;5;28;01mraise\u001b[39;00m \u001b[38;5;167;01mValueError\u001b[39;00m(\u001b[38;5;124mf\u001b[39m\u001b[38;5;124m'\u001b[39m\u001b[38;5;124mlen should be <= 1: (\u001b[39m\u001b[38;5;132;01m{\u001b[39;00mx\u001b[38;5;132;01m}\u001b[39;00m\u001b[38;5;124m, \u001b[39m\u001b[38;5;132;01m{\u001b[39;00my\u001b[38;5;132;01m}\u001b[39;00m\u001b[38;5;124m)\u001b[39m\u001b[38;5;124m'\u001b[39m) \n\u001b[1;32m      7\u001b[0m \u001b[38;5;28;01mreturn\u001b[39;00m regs[\u001b[38;5;241m0\u001b[39m]\n",
      "\u001b[0;31mValueError\u001b[0m: len should be <= 1: (6, 2)"
     ]
    }
   ],
   "source": [
    "dat = ex3\n",
    "grid = _format(dat)\n",
    "print(grid)\n",
    "build_region(grid)"
   ]
  },
  {
   "cell_type": "code",
   "execution_count": 102,
   "metadata": {},
   "outputs": [
    {
     "data": {
      "text/plain": [
       "[['R', 'R', 'R', 'R', 'I', 'I', 'C', 'C', 'F', 'F'],\n",
       " ['R', 'R', 'R', 'R', 'I', 'I', 'C', 'C', 'C', 'F'],\n",
       " ['V', 'V', 'R', 'R', 'R', 'C', 'C', 'F', 'F', 'F'],\n",
       " ['V', 'V', 'R', 'C', 'C', 'C', 'J', 'F', 'F', 'F'],\n",
       " ['V', 'V', 'V', 'V', 'C', 'J', 'J', 'C', 'F', 'E'],\n",
       " ['V', 'V', 'I', 'V', 'C', 'C', 'J', 'J', 'E', 'E'],\n",
       " ['V', 'V', 'I', 'I', 'I', 'C', 'J', 'J', 'E', 'E'],\n",
       " ['M', 'I', 'I', 'I', 'I', 'I', 'J', 'J', 'E', 'E'],\n",
       " ['M', 'I', 'I', 'I', 'S', 'I', 'J', 'E', 'E', 'E'],\n",
       " ['M', 'M', 'M', 'I', 'S', 'S', 'J', 'E', 'E', 'E']]"
      ]
     },
     "execution_count": 102,
     "metadata": {},
     "output_type": "execute_result"
    }
   ],
   "source": [
    "grid"
   ]
  },
  {
   "cell_type": "markdown",
   "metadata": {},
   "source": [
    "I can't build regions by simply iterating over each element. I need to \"follow the thread\" until all contiguous regions are found"
   ]
  },
  {
   "cell_type": "code",
   "execution_count": 103,
   "metadata": {},
   "outputs": [],
   "source": [
    "def is_in_existing_region(x,y, regions):\n",
    "    regs = [v[\"plots\"] for v in regions.values() if (x,y) in v[\"plots\"]]\n",
    "    assert len(regs) in [0,1], \"regions length should be 0 or 1\"\n",
    "    return len(regs) == 1"
   ]
  },
  {
   "cell_type": "code",
   "execution_count": 117,
   "metadata": {},
   "outputs": [],
   "source": [
    "def build_region_2(x,y, grid, regions):\n",
    "    t = grid[y][x]\n",
    "    w, h = len(grid[0]), len(grid)\n",
    "    if not is_in_existing_region(x,y, regions):\n",
    "        regions[(x,y)] = {'type': t, \"plots\": {(x,y)}}\n",
    "    plots = [v[\"plots\"] for _,v in regions.items() if (x,y) in v[\"plots\"]][0]\n",
    "    new_nbg = [\n",
    "        (x+xd, y+yd) \n",
    "        for xd, yd in deltas \n",
    "        if x+xd >= 0 and x+xd < w and y+yd >= 0 and y+yd < h \n",
    "        and grid[y+yd][x+xd] == t \n",
    "        and (x+xd, y+yd) not in plots\n",
    "    ]\n",
    "    for n in new_nbg: plots.add(n)\n",
    "    for xn, yn in new_nbg: build_region_2(xn, yn, grid, regions)\n",
    "    return regions\n"
   ]
  },
  {
   "cell_type": "code",
   "execution_count": 118,
   "metadata": {},
   "outputs": [
    {
     "data": {
      "text/plain": [
       "{(0, 0): {'type': 'R',\n",
       "  'plots': {(0, 0),\n",
       "   (0, 1),\n",
       "   (1, 0),\n",
       "   (1, 1),\n",
       "   (2, 0),\n",
       "   (2, 1),\n",
       "   (2, 2),\n",
       "   (2, 3),\n",
       "   (3, 0),\n",
       "   (3, 1),\n",
       "   (3, 2),\n",
       "   (4, 2)}}}"
      ]
     },
     "execution_count": 118,
     "metadata": {},
     "output_type": "execute_result"
    }
   ],
   "source": [
    "dat = ex3\n",
    "grid = _format(dat)\n",
    "regions = {}\n",
    "x, y = 0,0\n",
    "build_region_2(x, y, grid, regions)"
   ]
  },
  {
   "cell_type": "code",
   "execution_count": 119,
   "metadata": {},
   "outputs": [],
   "source": [
    "def _format(dat: str) -> list[list[str]]:\n",
    "    grid = [[c for c in l] for l in dat.splitlines()]\n",
    "    w, h = len(grid[0]), len(grid)\n",
    "    return grid, w, h"
   ]
  },
  {
   "cell_type": "code",
   "execution_count": 126,
   "metadata": {},
   "outputs": [
    {
     "name": "stdout",
     "output_type": "stream",
     "text": [
      "5 5\n"
     ]
    },
    {
     "data": {
      "text/plain": [
       "5"
      ]
     },
     "execution_count": 126,
     "metadata": {},
     "output_type": "execute_result"
    }
   ],
   "source": [
    "dat = ex2\n",
    "grid, w, h = _format(dat)\n",
    "print(w, h)\n",
    "regions = {}\n",
    "for j in range(h):\n",
    "    for i in range(w):\n",
    "        build_region_2(i, j, grid, regions)\n",
    "len(regions)"
   ]
  },
  {
   "cell_type": "code",
   "execution_count": 128,
   "metadata": {},
   "outputs": [],
   "source": [
    "def build_regions(dat: str):\n",
    "    grid, w, h = _format(dat)\n",
    "    regions = {}\n",
    "    for j in range(h):\n",
    "        for i in range(w):\n",
    "            build_region_2(i, j, grid, regions)\n",
    "    return regions"
   ]
  },
  {
   "cell_type": "code",
   "execution_count": 134,
   "metadata": {},
   "outputs": [
    {
     "data": {
      "text/plain": [
       "{(0, 0): {'type': 'A', 'plots': {(0, 0), (1, 0), (2, 0), (3, 0)}},\n",
       " (0, 1): {'type': 'B', 'plots': {(0, 1), (0, 2), (1, 1), (1, 2)}},\n",
       " (2, 1): {'type': 'C', 'plots': {(2, 1), (2, 2), (3, 2), (3, 3)}},\n",
       " (3, 1): {'type': 'D', 'plots': {(3, 1)}},\n",
       " (0, 3): {'type': 'E', 'plots': {(0, 3), (1, 3), (2, 3)}}}"
      ]
     },
     "execution_count": 134,
     "metadata": {},
     "output_type": "execute_result"
    }
   ],
   "source": [
    "dat = exmp\n",
    "build_regions(dat)"
   ]
  },
  {
   "cell_type": "markdown",
   "metadata": {},
   "source": [
    "difficulty left: calculate number of sides"
   ]
  },
  {
   "cell_type": "code",
   "execution_count": 165,
   "metadata": {},
   "outputs": [],
   "source": [
    "def build_region_3(x,y, grid, regions, processed):\n",
    "    \n",
    "    if (x,y) in processed:\n",
    "        return \n",
    "    processed.add((x,y))\n",
    "\n",
    "    t = grid[y][x]\n",
    "    w, h = len(grid[0]), len(grid)\n",
    "    if not is_in_existing_region(x,y, regions):\n",
    "        regions[(x,y)] = {'type': t, \"plots\": {(x,y)}, \"edges\": []}\n",
    "\n",
    "    region = [regions[k] for k,v in regions.items() if (x,y) in v['plots']][0]\n",
    "    plots = region['plots']\n",
    "    edges = region['edges']\n",
    "    n_nbr = [\n",
    "        (x+xd, y+yd) \n",
    "        for xd, yd in deltas \n",
    "        if x+xd >= 0 and x+xd < w and y+yd >= 0 and y+yd < h \n",
    "        and grid[y+yd][x+xd] == t \n",
    "        and (x+xd, y+yd) not in plots\n",
    "    ]\n",
    "    n_edg = [\n",
    "        (x+xd, y+yd) \n",
    "        for xd, yd in deltas \n",
    "        if x+xd == -1 or x+xd == w or y+yd == -1 or y+yd == h \n",
    "        or grid[y+yd][x+xd] != t \n",
    "    ]\n",
    "    for (xe, ye) in n_edg: edges.append((xe,ye))\n",
    "    for (xn, yn) in n_nbr: plots.add((xn, yn))\n",
    "    for (xn, yn) in n_nbr: build_region_3(xn, yn, grid, regions, processed)\n"
   ]
  },
  {
   "cell_type": "code",
   "execution_count": 166,
   "metadata": {},
   "outputs": [],
   "source": [
    "def build_regions(dat: str):\n",
    "    grid, w, h = _format(dat)\n",
    "    regions = {}\n",
    "    processed = set()\n",
    "    for j in range(h):\n",
    "        for i in range(w):\n",
    "            build_region_3(i, j, grid, regions, processed)\n",
    "    return regions"
   ]
  },
  {
   "cell_type": "code",
   "execution_count": 169,
   "metadata": {},
   "outputs": [
    {
     "data": {
      "text/plain": [
       "{(0, 0): {'type': 'O',\n",
       "  'plots': {(0, 0),\n",
       "   (0, 1),\n",
       "   (0, 2),\n",
       "   (0, 3),\n",
       "   (0, 4),\n",
       "   (1, 0),\n",
       "   (1, 2),\n",
       "   (1, 4),\n",
       "   (2, 0),\n",
       "   (2, 1),\n",
       "   (2, 2),\n",
       "   (2, 3),\n",
       "   (2, 4),\n",
       "   (3, 0),\n",
       "   (3, 2),\n",
       "   (3, 4),\n",
       "   (4, 0),\n",
       "   (4, 1),\n",
       "   (4, 2),\n",
       "   (4, 3),\n",
       "   (4, 4)},\n",
       "  'edges': [(-1, 0),\n",
       "   (0, -1),\n",
       "   (1, 1),\n",
       "   (1, -1),\n",
       "   (2, -1),\n",
       "   (3, 1),\n",
       "   (3, -1),\n",
       "   (5, 0),\n",
       "   (4, -1),\n",
       "   (5, 1),\n",
       "   (3, 1),\n",
       "   (5, 2),\n",
       "   (3, 3),\n",
       "   (3, 1),\n",
       "   (1, 3),\n",
       "   (1, 1),\n",
       "   (-1, 2),\n",
       "   (1, 3),\n",
       "   (-1, 3),\n",
       "   (-1, 4),\n",
       "   (0, 5),\n",
       "   (1, 5),\n",
       "   (1, 3),\n",
       "   (2, 5),\n",
       "   (3, 5),\n",
       "   (3, 3),\n",
       "   (5, 4),\n",
       "   (4, 5),\n",
       "   (3, 3),\n",
       "   (1, 3),\n",
       "   (5, 3),\n",
       "   (3, 3),\n",
       "   (3, 1),\n",
       "   (1, 1),\n",
       "   (1, 1),\n",
       "   (-1, 1)]},\n",
       " (1, 1): {'type': 'X',\n",
       "  'plots': {(1, 1)},\n",
       "  'edges': [(2, 1), (0, 1), (1, 2), (1, 0)]},\n",
       " (3, 1): {'type': 'X',\n",
       "  'plots': {(3, 1)},\n",
       "  'edges': [(4, 1), (2, 1), (3, 2), (3, 0)]},\n",
       " (1, 3): {'type': 'X',\n",
       "  'plots': {(1, 3)},\n",
       "  'edges': [(2, 3), (0, 3), (1, 4), (1, 2)]},\n",
       " (3, 3): {'type': 'X',\n",
       "  'plots': {(3, 3)},\n",
       "  'edges': [(4, 3), (2, 3), (3, 4), (3, 2)]}}"
      ]
     },
     "execution_count": 169,
     "metadata": {},
     "output_type": "execute_result"
    }
   ],
   "source": [
    "dat = ex2\n",
    "regions = build_regions(dat)\n",
    "regions"
   ]
  },
  {
   "cell_type": "code",
   "execution_count": 174,
   "metadata": {},
   "outputs": [],
   "source": [
    "def _region_cost(region):\n",
    "    area = len(region[\"plots\"])\n",
    "    perimeter = len(region[\"edges\"])\n",
    "    return area * perimeter"
   ]
  },
  {
   "cell_type": "code",
   "execution_count": 179,
   "metadata": {},
   "outputs": [],
   "source": [
    "def sol1(dat: str):\n",
    "    regions = build_regions(dat)\n",
    "    return sum([_region_cost(regions[r]) for r in regions])\n"
   ]
  },
  {
   "cell_type": "code",
   "execution_count": 180,
   "metadata": {},
   "outputs": [
    {
     "data": {
      "text/plain": [
       "140"
      ]
     },
     "execution_count": 180,
     "metadata": {},
     "output_type": "execute_result"
    }
   ],
   "source": [
    "dat = exmp \n",
    "sol1(dat)"
   ]
  },
  {
   "cell_type": "code",
   "execution_count": 181,
   "metadata": {},
   "outputs": [
    {
     "data": {
      "text/plain": [
       "772"
      ]
     },
     "execution_count": 181,
     "metadata": {},
     "output_type": "execute_result"
    }
   ],
   "source": [
    "dat = ex2 \n",
    "sol1(dat)"
   ]
  },
  {
   "cell_type": "code",
   "execution_count": 182,
   "metadata": {},
   "outputs": [
    {
     "data": {
      "text/plain": [
       "1930"
      ]
     },
     "execution_count": 182,
     "metadata": {},
     "output_type": "execute_result"
    }
   ],
   "source": [
    "dat = ex3 \n",
    "sol1(dat)"
   ]
  },
  {
   "cell_type": "code",
   "execution_count": 183,
   "metadata": {},
   "outputs": [
    {
     "data": {
      "text/plain": [
       "1549354"
      ]
     },
     "execution_count": 183,
     "metadata": {},
     "output_type": "execute_result"
    }
   ],
   "source": [
    "dat = data \n",
    "sol1(dat)"
   ]
  },
  {
   "cell_type": "markdown",
   "metadata": {},
   "source": [
    "## part 2"
   ]
  },
  {
   "cell_type": "code",
   "execution_count": null,
   "metadata": {},
   "outputs": [],
   "source": [
    "await rephrase_pb(DAY, YEAR, 2)"
   ]
  },
  {
   "cell_type": "markdown",
   "metadata": {},
   "source": [
    "from edges I should be able to deduce sides"
   ]
  },
  {
   "cell_type": "code",
   "execution_count": 184,
   "metadata": {},
   "outputs": [],
   "source": [
    "dat = exmp \n",
    "regions = build_regions(dat)"
   ]
  },
  {
   "cell_type": "code",
   "execution_count": 190,
   "metadata": {},
   "outputs": [
    {
     "data": {
      "text/plain": [
       "{(1, 1), (1, 2), (2, 0), (2, 3), (3, 1), (3, 4), (4, 2), (4, 3)}"
      ]
     },
     "execution_count": 190,
     "metadata": {},
     "output_type": "execute_result"
    }
   ],
   "source": [
    "edg = set(regions[(2,1)]['edges'])\n",
    "edg"
   ]
  },
  {
   "cell_type": "code",
   "execution_count": 192,
   "metadata": {},
   "outputs": [
    {
     "data": {
      "text/plain": [
       "{(1, 1), (1, 2), (2, 0), (2, 3), (3, 1), (3, 4), (4, 2), (4, 3)}"
      ]
     },
     "execution_count": 192,
     "metadata": {},
     "output_type": "execute_result"
    }
   ],
   "source": [
    "edg"
   ]
  },
  {
   "cell_type": "code",
   "execution_count": 194,
   "metadata": {},
   "outputs": [],
   "source": [
    "side_symb = {\n",
    "    (1, 0): '>',\n",
    "    (-1, 0): '<',\n",
    "    (0,1): 'v',\n",
    "    (0, -1):'^',\n",
    "}"
   ]
  },
  {
   "cell_type": "code",
   "execution_count": 209,
   "metadata": {},
   "outputs": [],
   "source": [
    "def build_region_4(x,y, grid, regions, processed):\n",
    "    \n",
    "    if (x,y) in processed:\n",
    "        return \n",
    "    processed.add((x,y))\n",
    "\n",
    "    t = grid[y][x]\n",
    "    w, h = len(grid[0]), len(grid)\n",
    "    if not is_in_existing_region(x,y, regions):\n",
    "        regions[(x,y)] = {'type': t, \"plots\": {(x,y)}, \"edges\": []}\n",
    "\n",
    "    region = [regions[k] for k,v in regions.items() if (x,y) in v['plots']][0]\n",
    "    plots = region['plots']\n",
    "    edges = region['edges']\n",
    "    n_nbr = [\n",
    "        (x+xd, y+yd) \n",
    "        for xd, yd in deltas \n",
    "        if x+xd >= 0 and x+xd < w and y+yd >= 0 and y+yd < h \n",
    "        and grid[y+yd][x+xd] == t \n",
    "        and (x+xd, y+yd) not in plots\n",
    "    ]\n",
    "    n_edg = [\n",
    "        (x+xd, y+yd, side_symb[(xd,yd)]) \n",
    "        for xd, yd in deltas \n",
    "        if x+xd == -1 or x+xd == w or y+yd == -1 or y+yd == h \n",
    "        or grid[y+yd][x+xd] != t \n",
    "    ]\n",
    "    for (xe, ye, s) in n_edg: edges.append((xe,ye,s))\n",
    "    for (xn, yn) in n_nbr: plots.add((xn, yn))\n",
    "    for (xn, yn) in n_nbr: build_region_4(xn, yn, grid, regions, processed)\n"
   ]
  },
  {
   "cell_type": "code",
   "execution_count": 210,
   "metadata": {},
   "outputs": [],
   "source": [
    "def build_regions_sol2(dat: str):\n",
    "    grid, w, h = _format(dat)\n",
    "    regions = {}\n",
    "    processed = set()\n",
    "    for j in range(h):\n",
    "        for i in range(w):\n",
    "            build_region_4(i, j, grid, regions, processed)\n",
    "    return regions"
   ]
  },
  {
   "cell_type": "code",
   "execution_count": 211,
   "metadata": {},
   "outputs": [],
   "source": [
    "dat = exmp \n",
    "regions = build_regions_sol2(dat)"
   ]
  },
  {
   "cell_type": "code",
   "execution_count": 212,
   "metadata": {},
   "outputs": [],
   "source": [
    "def sol2(dat: str):\n",
    "    regions = build_regions_sol2(dat)\n",
    "    return sum([_region_cost(regions[r]) for r in regions])\n"
   ]
  },
  {
   "cell_type": "code",
   "execution_count": 215,
   "metadata": {},
   "outputs": [
    {
     "data": {
      "text/plain": [
       "{'type': 'C',\n",
       " 'plots': {(2, 1), (2, 2), (3, 2), (3, 3)},\n",
       " 'edges': [(3, 1, '>'),\n",
       "  (1, 1, '<'),\n",
       "  (2, 0, '^'),\n",
       "  (1, 2, '<'),\n",
       "  (2, 3, 'v'),\n",
       "  (4, 2, '>'),\n",
       "  (3, 1, '^'),\n",
       "  (4, 3, '>'),\n",
       "  (2, 3, '<'),\n",
       "  (3, 4, 'v')]}"
      ]
     },
     "execution_count": 215,
     "metadata": {},
     "output_type": "execute_result"
    }
   ],
   "source": [
    "region = regions[(2,1)]\n",
    "region"
   ]
  },
  {
   "cell_type": "code",
   "execution_count": 219,
   "metadata": {},
   "outputs": [
    {
     "data": {
      "text/plain": [
       "[(3, 1, '>'),\n",
       " (1, 1, '<'),\n",
       " (2, 0, '^'),\n",
       " (1, 2, '<'),\n",
       " (2, 3, 'v'),\n",
       " (4, 2, '>'),\n",
       " (3, 1, '^'),\n",
       " (4, 3, '>'),\n",
       " (2, 3, '<'),\n",
       " (3, 4, 'v')]"
      ]
     },
     "execution_count": 219,
     "metadata": {},
     "output_type": "execute_result"
    }
   ],
   "source": [
    "edges = region['edges']\n",
    "edges"
   ]
  },
  {
   "cell_type": "code",
   "execution_count": 220,
   "metadata": {},
   "outputs": [
    {
     "data": {
      "text/plain": [
       "(3, 1, '>')"
      ]
     },
     "execution_count": 220,
     "metadata": {},
     "output_type": "execute_result"
    }
   ],
   "source": [
    "e = edges[0]\n",
    "e"
   ]
  },
  {
   "cell_type": "code",
   "execution_count": 227,
   "metadata": {},
   "outputs": [],
   "source": [
    "used = set()\n",
    "sides = []"
   ]
  },
  {
   "cell_type": "code",
   "execution_count": 230,
   "metadata": {},
   "outputs": [],
   "source": [
    "f = [z for z in edges if z[2] == e[2] and z[0] == e[0] and z not in used]\n",
    "if len(f) > 0:\n",
    "    sides.append(f)\n",
    "    for z in f: used.add(z)"
   ]
  },
  {
   "cell_type": "code",
   "execution_count": 232,
   "metadata": {},
   "outputs": [],
   "source": [
    "e = edges[1]"
   ]
  },
  {
   "cell_type": "code",
   "execution_count": 234,
   "metadata": {},
   "outputs": [],
   "source": [
    "f = [z for z in edges if z[2] == e[2] and z[0] == e[0] and z not in used]\n",
    "if len(f) > 0:\n",
    "    sides.append(f)\n",
    "    for z in f: used.add(z)"
   ]
  },
  {
   "cell_type": "code",
   "execution_count": 235,
   "metadata": {},
   "outputs": [
    {
     "data": {
      "text/plain": [
       "[[(3, 1, '>')], [(1, 1, '<'), (1, 2, '<')]]"
      ]
     },
     "execution_count": 235,
     "metadata": {},
     "output_type": "execute_result"
    }
   ],
   "source": [
    "sides"
   ]
  },
  {
   "cell_type": "code",
   "execution_count": 236,
   "metadata": {},
   "outputs": [
    {
     "data": {
      "text/plain": [
       "(2, 0, '^')"
      ]
     },
     "execution_count": 236,
     "metadata": {},
     "output_type": "execute_result"
    }
   ],
   "source": [
    "e = edges[2]\n",
    "e"
   ]
  },
  {
   "cell_type": "code",
   "execution_count": 237,
   "metadata": {},
   "outputs": [],
   "source": [
    "fix_idx_map = {'^': 1, 'v': 1, '>': 0, '<':0}"
   ]
  },
  {
   "cell_type": "code",
   "execution_count": 240,
   "metadata": {},
   "outputs": [
    {
     "data": {
      "text/plain": [
       "'^'"
      ]
     },
     "execution_count": 240,
     "metadata": {},
     "output_type": "execute_result"
    }
   ],
   "source": [
    "e[2]"
   ]
  },
  {
   "cell_type": "code",
   "execution_count": 241,
   "metadata": {},
   "outputs": [],
   "source": [
    "f = [z for z in edges if z[2] == e[2] and z[fix_idx_map[e[2]]] == e[fix_idx_map[e[2]]] and z not in used]\n",
    "if len(f) > 0:\n",
    "    sides.append(f)\n",
    "    for z in f: used.add(z)"
   ]
  },
  {
   "cell_type": "code",
   "execution_count": 244,
   "metadata": {},
   "outputs": [
    {
     "data": {
      "text/plain": [
       "[[(3, 1, '>')], [(1, 1, '<'), (1, 2, '<')], [(2, 0, '^')]]"
      ]
     },
     "execution_count": 244,
     "metadata": {},
     "output_type": "execute_result"
    }
   ],
   "source": [
    "sides"
   ]
  },
  {
   "cell_type": "code",
   "execution_count": 245,
   "metadata": {},
   "outputs": [],
   "source": [
    "e = edges[3]\n",
    "f = [z for z in edges if z[2] == e[2] and z[fix_idx_map[e[2]]] == e[fix_idx_map[e[2]]] and z not in used]\n",
    "if len(f) > 0:\n",
    "    sides.append(f)\n",
    "    for z in f: used.add(z)"
   ]
  },
  {
   "cell_type": "code",
   "execution_count": 248,
   "metadata": {},
   "outputs": [
    {
     "data": {
      "text/plain": [
       "[[(-1, 0, '<')],\n",
       " [(0, 1, 'v'), (1, 1, 'v'), (2, 1, 'v'), (3, 1, 'v')],\n",
       " [(0, -1, '^'), (1, -1, '^'), (2, -1, '^'), (3, -1, '^')],\n",
       " [(4, 0, '>')]]"
      ]
     },
     "execution_count": 248,
     "metadata": {},
     "output_type": "execute_result"
    }
   ],
   "source": [
    "dat = exmp \n",
    "regions = build_regions_sol2(dat)\n",
    "region = regions[(0,0)]\n",
    "edges = region['edges']\n",
    "used = set()\n",
    "sides = []\n",
    "for e in edges:\n",
    "    f = [z for z in edges if z[2] == e[2] and z[fix_idx_map[e[2]]] == e[fix_idx_map[e[2]]] and z not in used]\n",
    "    if len(f) > 0:\n",
    "        sides.append(f)\n",
    "        for z in f: used.add(z)\n",
    "sides"
   ]
  },
  {
   "cell_type": "code",
   "execution_count": 250,
   "metadata": {},
   "outputs": [],
   "source": [
    "def _sides(region):\n",
    "    edges = region['edges']\n",
    "    used = set()\n",
    "    sides = []\n",
    "    for e in edges:\n",
    "        f = [z for z in edges if z[2] == e[2] and z[fix_idx_map[e[2]]] == e[fix_idx_map[e[2]]] and z not in used]\n",
    "        if len(f) > 0:\n",
    "            sides.append(f)\n",
    "            for z in f: used.add(z)\n",
    "    return sides"
   ]
  },
  {
   "cell_type": "code",
   "execution_count": 253,
   "metadata": {},
   "outputs": [
    {
     "name": "stdout",
     "output_type": "stream",
     "text": [
      "OOOOO\n",
      "OXOXO\n",
      "OOOOO\n",
      "OXOXO\n",
      "OOOOO\n",
      "\n"
     ]
    }
   ],
   "source": [
    "print(ex2)"
   ]
  },
  {
   "cell_type": "code",
   "execution_count": 254,
   "metadata": {},
   "outputs": [
    {
     "data": {
      "text/plain": [
       "[[(1, 1, 'v'), (3, 1, 'v')],\n",
       " [(3, 1, '<'), (3, 3, '<')],\n",
       " [(3, 3, 'v'), (1, 3, 'v')],\n",
       " [(3, 1, '^'), (1, 1, '^')],\n",
       " [(1, 3, '>'), (1, 1, '>')],\n",
       " [(1, 3, '^'), (3, 3, '^')],\n",
       " [(3, 3, '>'), (3, 1, '>')],\n",
       " [(1, 3, '<'), (1, 1, '<')],\n",
       " [(-1, 0, '<'), (-1, 2, '<'), (-1, 3, '<'), (-1, 4, '<'), (-1, 1, '<')],\n",
       " [(0, -1, '^'), (1, -1, '^'), (2, -1, '^'), (3, -1, '^'), (4, -1, '^')],\n",
       " [(5, 0, '>'), (5, 1, '>'), (5, 2, '>'), (5, 4, '>'), (5, 3, '>')],\n",
       " [(0, 5, 'v'), (1, 5, 'v'), (2, 5, 'v'), (3, 5, 'v'), (4, 5, 'v')]]"
      ]
     },
     "execution_count": 254,
     "metadata": {},
     "output_type": "execute_result"
    }
   ],
   "source": [
    "dat = ex2\n",
    "regions = build_regions_sol2(dat)\n",
    "region = regions[(0,0)]\n",
    "sorted(_sides(region), key=len)"
   ]
  },
  {
   "cell_type": "code",
   "execution_count": 255,
   "metadata": {},
   "outputs": [],
   "source": [
    "def _sides(region):\n",
    "    edges = region['edges']\n",
    "    used = set()\n",
    "    sides = []\n",
    "    for e in edges:\n",
    "        f = [z for z in edges if z[2] == e[2] and z[fix_idx_map[e[2]]] == e[fix_idx_map[e[2]]] and z not in used]\n",
    "        if len(f) > 0:\n",
    "            sides.append(f)\n",
    "            for z in f: used.add(z)\n",
    "    return sides"
   ]
  },
  {
   "cell_type": "code",
   "execution_count": 257,
   "metadata": {},
   "outputs": [],
   "source": [
    "def _contiguous_edges(e, edges):\n",
    "    ..."
   ]
  },
  {
   "cell_type": "code",
   "execution_count": 259,
   "metadata": {},
   "outputs": [
    {
     "data": {
      "text/plain": [
       "(3, -1, '^')"
      ]
     },
     "execution_count": 259,
     "metadata": {},
     "output_type": "execute_result"
    }
   ],
   "source": [
    "e"
   ]
  },
  {
   "cell_type": "code",
   "execution_count": 260,
   "metadata": {},
   "outputs": [
    {
     "data": {
      "text/plain": [
       "[(-1, 0, '<'),\n",
       " (0, 1, 'v'),\n",
       " (0, -1, '^'),\n",
       " (1, 1, 'v'),\n",
       " (1, -1, '^'),\n",
       " (2, 1, 'v'),\n",
       " (2, -1, '^'),\n",
       " (4, 0, '>'),\n",
       " (3, 1, 'v'),\n",
       " (3, -1, '^')]"
      ]
     },
     "execution_count": 260,
     "metadata": {},
     "output_type": "execute_result"
    }
   ],
   "source": [
    "edges"
   ]
  },
  {
   "cell_type": "code",
   "execution_count": 261,
   "metadata": {},
   "outputs": [],
   "source": [
    "sides = {}\n",
    "for e in edges:\n",
    "    fix_idx = fix_idx_map[e[2]]\n",
    "    mov_idx = 1 if fix_idx == 0 else 0\n",
    "    ss1 = [\n",
    "        v for k,v in sides.items() \n",
    "        if k[2] == e[2] \n",
    "        and k[fix_idx] == e[fix_idx] \n",
    "        and any([(z[mov_idx] == e[mov_idx] + 1) or (z[mov_idx] == e[mov_idx] - 1) for z in v])\n",
    "    ]\n",
    "    if len(ss1) == 0:\n",
    "        sides[e] = [e]\n",
    "    else:\n",
    "        ss1[0].append(e)"
   ]
  },
  {
   "cell_type": "code",
   "execution_count": 262,
   "metadata": {},
   "outputs": [
    {
     "data": {
      "text/plain": [
       "{(-1, 0, '<'): [(-1, 0, '<')],\n",
       " (0, 1, 'v'): [(0, 1, 'v'), (1, 1, 'v'), (2, 1, 'v'), (3, 1, 'v')],\n",
       " (0, -1, '^'): [(0, -1, '^'), (1, -1, '^'), (2, -1, '^'), (3, -1, '^')],\n",
       " (4, 0, '>'): [(4, 0, '>')]}"
      ]
     },
     "execution_count": 262,
     "metadata": {},
     "output_type": "execute_result"
    }
   ],
   "source": [
    "sides"
   ]
  },
  {
   "cell_type": "code",
   "execution_count": 270,
   "metadata": {},
   "outputs": [],
   "source": [
    "dat = ex2\n",
    "regions = build_regions_sol2(dat)\n",
    "region = regions[(0,0)]\n",
    "edges = region['edges']"
   ]
  },
  {
   "cell_type": "code",
   "execution_count": 283,
   "metadata": {},
   "outputs": [
    {
     "name": "stdout",
     "output_type": "stream",
     "text": [
      "(-1, 0, '<')\n",
      "@\n",
      "ss1: []\n",
      "(-1, 0, '<'): [(-1, 0, '<')]\n",
      "---\n",
      "(0, -1, '^')\n",
      "@\n",
      "ss1: []\n",
      "(-1, 0, '<'): [(-1, 0, '<')]\n",
      "(0, -1, '^'): [(0, -1, '^')]\n",
      "---\n",
      "(1, 1, 'v')\n",
      "@\n",
      "ss1: []\n",
      "(-1, 0, '<'): [(-1, 0, '<')]\n",
      "(0, -1, '^'): [(0, -1, '^')]\n",
      "(1, 1, 'v'): [(1, 1, 'v')]\n",
      "---\n",
      "(1, -1, '^')\n",
      "@\n",
      "ss1: [[(0, -1, '^')]]\n",
      "(-1, 0, '<'): [(-1, 0, '<')]\n",
      "(0, -1, '^'): [(0, -1, '^'), (1, -1, '^')]\n",
      "(1, 1, 'v'): [(1, 1, 'v')]\n",
      "---\n",
      "(2, -1, '^')\n",
      "@\n",
      "ss1: [[(0, -1, '^'), (1, -1, '^')]]\n",
      "(-1, 0, '<'): [(-1, 0, '<')]\n",
      "(0, -1, '^'): [(0, -1, '^'), (1, -1, '^'), (2, -1, '^')]\n",
      "(1, 1, 'v'): [(1, 1, 'v')]\n",
      "---\n",
      "(3, 1, 'v')\n",
      "@\n",
      "ss1: []\n",
      "(-1, 0, '<'): [(-1, 0, '<')]\n",
      "(0, -1, '^'): [(0, -1, '^'), (1, -1, '^'), (2, -1, '^')]\n",
      "(1, 1, 'v'): [(1, 1, 'v')]\n",
      "(3, 1, 'v'): [(3, 1, 'v')]\n",
      "---\n",
      "(3, -1, '^')\n",
      "@\n",
      "ss1: [[(0, -1, '^'), (1, -1, '^'), (2, -1, '^')]]\n",
      "(-1, 0, '<'): [(-1, 0, '<')]\n",
      "(0, -1, '^'): [(0, -1, '^'), (1, -1, '^'), (2, -1, '^'), (3, -1, '^')]\n",
      "(1, 1, 'v'): [(1, 1, 'v')]\n",
      "(3, 1, 'v'): [(3, 1, 'v')]\n",
      "---\n",
      "(5, 0, '>')\n",
      "@\n",
      "ss1: []\n",
      "(-1, 0, '<'): [(-1, 0, '<')]\n",
      "(0, -1, '^'): [(0, -1, '^'), (1, -1, '^'), (2, -1, '^'), (3, -1, '^')]\n",
      "(1, 1, 'v'): [(1, 1, 'v')]\n",
      "(3, 1, 'v'): [(3, 1, 'v')]\n",
      "(5, 0, '>'): [(5, 0, '>')]\n",
      "---\n",
      "(4, -1, '^')\n",
      "@\n",
      "ss1: [[(0, -1, '^'), (1, -1, '^'), (2, -1, '^'), (3, -1, '^')]]\n",
      "(-1, 0, '<'): [(-1, 0, '<')]\n",
      "(0, -1, '^'): [(0, -1, '^'), (1, -1, '^'), (2, -1, '^'), (3, -1, '^'), (4, -1, '^')]\n",
      "(1, 1, 'v'): [(1, 1, 'v')]\n",
      "(3, 1, 'v'): [(3, 1, 'v')]\n",
      "(5, 0, '>'): [(5, 0, '>')]\n",
      "---\n",
      "(5, 1, '>')\n",
      "@\n",
      "ss1: [[(5, 0, '>')]]\n",
      "(-1, 0, '<'): [(-1, 0, '<')]\n",
      "(0, -1, '^'): [(0, -1, '^'), (1, -1, '^'), (2, -1, '^'), (3, -1, '^'), (4, -1, '^')]\n",
      "(1, 1, 'v'): [(1, 1, 'v')]\n",
      "(3, 1, 'v'): [(3, 1, 'v')]\n",
      "(5, 0, '>'): [(5, 0, '>'), (5, 1, '>')]\n",
      "---\n",
      "(3, 1, '<')\n",
      "@\n",
      "ss1: []\n",
      "(-1, 0, '<'): [(-1, 0, '<')]\n",
      "(0, -1, '^'): [(0, -1, '^'), (1, -1, '^'), (2, -1, '^'), (3, -1, '^'), (4, -1, '^')]\n",
      "(1, 1, 'v'): [(1, 1, 'v')]\n",
      "(3, 1, 'v'): [(3, 1, 'v')]\n",
      "(5, 0, '>'): [(5, 0, '>'), (5, 1, '>')]\n",
      "(3, 1, '<'): [(3, 1, '<')]\n",
      "---\n",
      "(5, 2, '>')\n",
      "@\n",
      "ss1: [[(5, 0, '>'), (5, 1, '>')]]\n",
      "(-1, 0, '<'): [(-1, 0, '<')]\n",
      "(0, -1, '^'): [(0, -1, '^'), (1, -1, '^'), (2, -1, '^'), (3, -1, '^'), (4, -1, '^')]\n",
      "(1, 1, 'v'): [(1, 1, 'v')]\n",
      "(3, 1, 'v'): [(3, 1, 'v')]\n",
      "(5, 0, '>'): [(5, 0, '>'), (5, 1, '>'), (5, 2, '>')]\n",
      "(3, 1, '<'): [(3, 1, '<')]\n",
      "---\n",
      "(3, 3, 'v')\n",
      "@\n",
      "ss1: []\n",
      "(-1, 0, '<'): [(-1, 0, '<')]\n",
      "(0, -1, '^'): [(0, -1, '^'), (1, -1, '^'), (2, -1, '^'), (3, -1, '^'), (4, -1, '^')]\n",
      "(1, 1, 'v'): [(1, 1, 'v')]\n",
      "(3, 1, 'v'): [(3, 1, 'v')]\n",
      "(5, 0, '>'): [(5, 0, '>'), (5, 1, '>'), (5, 2, '>')]\n",
      "(3, 1, '<'): [(3, 1, '<')]\n",
      "(3, 3, 'v'): [(3, 3, 'v')]\n",
      "---\n",
      "(3, 1, '^')\n",
      "@\n",
      "ss1: []\n",
      "(-1, 0, '<'): [(-1, 0, '<')]\n",
      "(0, -1, '^'): [(0, -1, '^'), (1, -1, '^'), (2, -1, '^'), (3, -1, '^'), (4, -1, '^')]\n",
      "(1, 1, 'v'): [(1, 1, 'v')]\n",
      "(3, 1, 'v'): [(3, 1, 'v')]\n",
      "(5, 0, '>'): [(5, 0, '>'), (5, 1, '>'), (5, 2, '>')]\n",
      "(3, 1, '<'): [(3, 1, '<')]\n",
      "(3, 3, 'v'): [(3, 3, 'v')]\n",
      "(3, 1, '^'): [(3, 1, '^')]\n",
      "---\n",
      "(1, 3, 'v')\n",
      "@\n",
      "ss1: []\n",
      "(-1, 0, '<'): [(-1, 0, '<')]\n",
      "(0, -1, '^'): [(0, -1, '^'), (1, -1, '^'), (2, -1, '^'), (3, -1, '^'), (4, -1, '^')]\n",
      "(1, 1, 'v'): [(1, 1, 'v')]\n",
      "(3, 1, 'v'): [(3, 1, 'v')]\n",
      "(5, 0, '>'): [(5, 0, '>'), (5, 1, '>'), (5, 2, '>')]\n",
      "(3, 1, '<'): [(3, 1, '<')]\n",
      "(3, 3, 'v'): [(3, 3, 'v')]\n",
      "(3, 1, '^'): [(3, 1, '^')]\n",
      "(1, 3, 'v'): [(1, 3, 'v')]\n",
      "---\n",
      "(1, 1, '^')\n",
      "@\n",
      "ss1: []\n",
      "(-1, 0, '<'): [(-1, 0, '<')]\n",
      "(0, -1, '^'): [(0, -1, '^'), (1, -1, '^'), (2, -1, '^'), (3, -1, '^'), (4, -1, '^')]\n",
      "(1, 1, 'v'): [(1, 1, 'v')]\n",
      "(3, 1, 'v'): [(3, 1, 'v')]\n",
      "(5, 0, '>'): [(5, 0, '>'), (5, 1, '>'), (5, 2, '>')]\n",
      "(3, 1, '<'): [(3, 1, '<')]\n",
      "(3, 3, 'v'): [(3, 3, 'v')]\n",
      "(3, 1, '^'): [(3, 1, '^')]\n",
      "(1, 3, 'v'): [(1, 3, 'v')]\n",
      "(1, 1, '^'): [(1, 1, '^')]\n",
      "---\n",
      "(-1, 2, '<')\n",
      "@\n",
      "ss1: []\n",
      "(-1, 0, '<'): [(-1, 0, '<')]\n",
      "(0, -1, '^'): [(0, -1, '^'), (1, -1, '^'), (2, -1, '^'), (3, -1, '^'), (4, -1, '^')]\n",
      "(1, 1, 'v'): [(1, 1, 'v')]\n",
      "(3, 1, 'v'): [(3, 1, 'v')]\n",
      "(5, 0, '>'): [(5, 0, '>'), (5, 1, '>'), (5, 2, '>')]\n",
      "(3, 1, '<'): [(3, 1, '<')]\n",
      "(3, 3, 'v'): [(3, 3, 'v')]\n",
      "(3, 1, '^'): [(3, 1, '^')]\n",
      "(1, 3, 'v'): [(1, 3, 'v')]\n",
      "(1, 1, '^'): [(1, 1, '^')]\n",
      "(-1, 2, '<'): [(-1, 2, '<')]\n",
      "---\n",
      "(1, 3, '>')\n",
      "@\n",
      "ss1: []\n",
      "(-1, 0, '<'): [(-1, 0, '<')]\n",
      "(0, -1, '^'): [(0, -1, '^'), (1, -1, '^'), (2, -1, '^'), (3, -1, '^'), (4, -1, '^')]\n",
      "(1, 1, 'v'): [(1, 1, 'v')]\n",
      "(3, 1, 'v'): [(3, 1, 'v')]\n",
      "(5, 0, '>'): [(5, 0, '>'), (5, 1, '>'), (5, 2, '>')]\n",
      "(3, 1, '<'): [(3, 1, '<')]\n",
      "(3, 3, 'v'): [(3, 3, 'v')]\n",
      "(3, 1, '^'): [(3, 1, '^')]\n",
      "(1, 3, 'v'): [(1, 3, 'v')]\n",
      "(1, 1, '^'): [(1, 1, '^')]\n",
      "(-1, 2, '<'): [(-1, 2, '<')]\n",
      "(1, 3, '>'): [(1, 3, '>')]\n",
      "---\n",
      "(-1, 3, '<')\n",
      "@\n",
      "ss1: [[(-1, 2, '<')]]\n",
      "(-1, 0, '<'): [(-1, 0, '<')]\n",
      "(0, -1, '^'): [(0, -1, '^'), (1, -1, '^'), (2, -1, '^'), (3, -1, '^'), (4, -1, '^')]\n",
      "(1, 1, 'v'): [(1, 1, 'v')]\n",
      "(3, 1, 'v'): [(3, 1, 'v')]\n",
      "(5, 0, '>'): [(5, 0, '>'), (5, 1, '>'), (5, 2, '>')]\n",
      "(3, 1, '<'): [(3, 1, '<')]\n",
      "(3, 3, 'v'): [(3, 3, 'v')]\n",
      "(3, 1, '^'): [(3, 1, '^')]\n",
      "(1, 3, 'v'): [(1, 3, 'v')]\n",
      "(1, 1, '^'): [(1, 1, '^')]\n",
      "(-1, 2, '<'): [(-1, 2, '<'), (-1, 3, '<')]\n",
      "(1, 3, '>'): [(1, 3, '>')]\n",
      "---\n",
      "(-1, 4, '<')\n",
      "@\n",
      "ss1: [[(-1, 2, '<'), (-1, 3, '<')]]\n",
      "(-1, 0, '<'): [(-1, 0, '<')]\n",
      "(0, -1, '^'): [(0, -1, '^'), (1, -1, '^'), (2, -1, '^'), (3, -1, '^'), (4, -1, '^')]\n",
      "(1, 1, 'v'): [(1, 1, 'v')]\n",
      "(3, 1, 'v'): [(3, 1, 'v')]\n",
      "(5, 0, '>'): [(5, 0, '>'), (5, 1, '>'), (5, 2, '>')]\n",
      "(3, 1, '<'): [(3, 1, '<')]\n",
      "(3, 3, 'v'): [(3, 3, 'v')]\n",
      "(3, 1, '^'): [(3, 1, '^')]\n",
      "(1, 3, 'v'): [(1, 3, 'v')]\n",
      "(1, 1, '^'): [(1, 1, '^')]\n",
      "(-1, 2, '<'): [(-1, 2, '<'), (-1, 3, '<'), (-1, 4, '<')]\n",
      "(1, 3, '>'): [(1, 3, '>')]\n",
      "---\n",
      "(0, 5, 'v')\n",
      "@\n",
      "ss1: []\n",
      "(-1, 0, '<'): [(-1, 0, '<')]\n",
      "(0, -1, '^'): [(0, -1, '^'), (1, -1, '^'), (2, -1, '^'), (3, -1, '^'), (4, -1, '^')]\n",
      "(1, 1, 'v'): [(1, 1, 'v')]\n",
      "(3, 1, 'v'): [(3, 1, 'v')]\n",
      "(5, 0, '>'): [(5, 0, '>'), (5, 1, '>'), (5, 2, '>')]\n",
      "(3, 1, '<'): [(3, 1, '<')]\n",
      "(3, 3, 'v'): [(3, 3, 'v')]\n",
      "(3, 1, '^'): [(3, 1, '^')]\n",
      "(1, 3, 'v'): [(1, 3, 'v')]\n",
      "(1, 1, '^'): [(1, 1, '^')]\n",
      "(-1, 2, '<'): [(-1, 2, '<'), (-1, 3, '<'), (-1, 4, '<')]\n",
      "(1, 3, '>'): [(1, 3, '>')]\n",
      "(0, 5, 'v'): [(0, 5, 'v')]\n",
      "---\n",
      "(1, 5, 'v')\n",
      "@\n",
      "ss1: [[(0, 5, 'v')]]\n",
      "(-1, 0, '<'): [(-1, 0, '<')]\n",
      "(0, -1, '^'): [(0, -1, '^'), (1, -1, '^'), (2, -1, '^'), (3, -1, '^'), (4, -1, '^')]\n",
      "(1, 1, 'v'): [(1, 1, 'v')]\n",
      "(3, 1, 'v'): [(3, 1, 'v')]\n",
      "(5, 0, '>'): [(5, 0, '>'), (5, 1, '>'), (5, 2, '>')]\n",
      "(3, 1, '<'): [(3, 1, '<')]\n",
      "(3, 3, 'v'): [(3, 3, 'v')]\n",
      "(3, 1, '^'): [(3, 1, '^')]\n",
      "(1, 3, 'v'): [(1, 3, 'v')]\n",
      "(1, 1, '^'): [(1, 1, '^')]\n",
      "(-1, 2, '<'): [(-1, 2, '<'), (-1, 3, '<'), (-1, 4, '<')]\n",
      "(1, 3, '>'): [(1, 3, '>')]\n",
      "(0, 5, 'v'): [(0, 5, 'v'), (1, 5, 'v')]\n",
      "---\n",
      "(1, 3, '^')\n",
      "@\n",
      "ss1: []\n",
      "(-1, 0, '<'): [(-1, 0, '<')]\n",
      "(0, -1, '^'): [(0, -1, '^'), (1, -1, '^'), (2, -1, '^'), (3, -1, '^'), (4, -1, '^')]\n",
      "(1, 1, 'v'): [(1, 1, 'v')]\n",
      "(3, 1, 'v'): [(3, 1, 'v')]\n",
      "(5, 0, '>'): [(5, 0, '>'), (5, 1, '>'), (5, 2, '>')]\n",
      "(3, 1, '<'): [(3, 1, '<')]\n",
      "(3, 3, 'v'): [(3, 3, 'v')]\n",
      "(3, 1, '^'): [(3, 1, '^')]\n",
      "(1, 3, 'v'): [(1, 3, 'v')]\n",
      "(1, 1, '^'): [(1, 1, '^')]\n",
      "(-1, 2, '<'): [(-1, 2, '<'), (-1, 3, '<'), (-1, 4, '<')]\n",
      "(1, 3, '>'): [(1, 3, '>')]\n",
      "(0, 5, 'v'): [(0, 5, 'v'), (1, 5, 'v')]\n",
      "(1, 3, '^'): [(1, 3, '^')]\n",
      "---\n",
      "(2, 5, 'v')\n",
      "@\n",
      "ss1: [[(0, 5, 'v'), (1, 5, 'v')]]\n",
      "(-1, 0, '<'): [(-1, 0, '<')]\n",
      "(0, -1, '^'): [(0, -1, '^'), (1, -1, '^'), (2, -1, '^'), (3, -1, '^'), (4, -1, '^')]\n",
      "(1, 1, 'v'): [(1, 1, 'v')]\n",
      "(3, 1, 'v'): [(3, 1, 'v')]\n",
      "(5, 0, '>'): [(5, 0, '>'), (5, 1, '>'), (5, 2, '>')]\n",
      "(3, 1, '<'): [(3, 1, '<')]\n",
      "(3, 3, 'v'): [(3, 3, 'v')]\n",
      "(3, 1, '^'): [(3, 1, '^')]\n",
      "(1, 3, 'v'): [(1, 3, 'v')]\n",
      "(1, 1, '^'): [(1, 1, '^')]\n",
      "(-1, 2, '<'): [(-1, 2, '<'), (-1, 3, '<'), (-1, 4, '<')]\n",
      "(1, 3, '>'): [(1, 3, '>')]\n",
      "(0, 5, 'v'): [(0, 5, 'v'), (1, 5, 'v'), (2, 5, 'v')]\n",
      "(1, 3, '^'): [(1, 3, '^')]\n",
      "---\n",
      "(3, 5, 'v')\n",
      "@\n",
      "ss1: [[(0, 5, 'v'), (1, 5, 'v'), (2, 5, 'v')]]\n",
      "(-1, 0, '<'): [(-1, 0, '<')]\n",
      "(0, -1, '^'): [(0, -1, '^'), (1, -1, '^'), (2, -1, '^'), (3, -1, '^'), (4, -1, '^')]\n",
      "(1, 1, 'v'): [(1, 1, 'v')]\n",
      "(3, 1, 'v'): [(3, 1, 'v')]\n",
      "(5, 0, '>'): [(5, 0, '>'), (5, 1, '>'), (5, 2, '>')]\n",
      "(3, 1, '<'): [(3, 1, '<')]\n",
      "(3, 3, 'v'): [(3, 3, 'v')]\n",
      "(3, 1, '^'): [(3, 1, '^')]\n",
      "(1, 3, 'v'): [(1, 3, 'v')]\n",
      "(1, 1, '^'): [(1, 1, '^')]\n",
      "(-1, 2, '<'): [(-1, 2, '<'), (-1, 3, '<'), (-1, 4, '<')]\n",
      "(1, 3, '>'): [(1, 3, '>')]\n",
      "(0, 5, 'v'): [(0, 5, 'v'), (1, 5, 'v'), (2, 5, 'v'), (3, 5, 'v')]\n",
      "(1, 3, '^'): [(1, 3, '^')]\n",
      "---\n",
      "(3, 3, '^')\n",
      "@\n",
      "ss1: []\n",
      "(-1, 0, '<'): [(-1, 0, '<')]\n",
      "(0, -1, '^'): [(0, -1, '^'), (1, -1, '^'), (2, -1, '^'), (3, -1, '^'), (4, -1, '^')]\n",
      "(1, 1, 'v'): [(1, 1, 'v')]\n",
      "(3, 1, 'v'): [(3, 1, 'v')]\n",
      "(5, 0, '>'): [(5, 0, '>'), (5, 1, '>'), (5, 2, '>')]\n",
      "(3, 1, '<'): [(3, 1, '<')]\n",
      "(3, 3, 'v'): [(3, 3, 'v')]\n",
      "(3, 1, '^'): [(3, 1, '^')]\n",
      "(1, 3, 'v'): [(1, 3, 'v')]\n",
      "(1, 1, '^'): [(1, 1, '^')]\n",
      "(-1, 2, '<'): [(-1, 2, '<'), (-1, 3, '<'), (-1, 4, '<')]\n",
      "(1, 3, '>'): [(1, 3, '>')]\n",
      "(0, 5, 'v'): [(0, 5, 'v'), (1, 5, 'v'), (2, 5, 'v'), (3, 5, 'v')]\n",
      "(1, 3, '^'): [(1, 3, '^')]\n",
      "(3, 3, '^'): [(3, 3, '^')]\n",
      "---\n",
      "(5, 4, '>')\n",
      "@\n",
      "ss1: []\n",
      "(-1, 0, '<'): [(-1, 0, '<')]\n",
      "(0, -1, '^'): [(0, -1, '^'), (1, -1, '^'), (2, -1, '^'), (3, -1, '^'), (4, -1, '^')]\n",
      "(1, 1, 'v'): [(1, 1, 'v')]\n",
      "(3, 1, 'v'): [(3, 1, 'v')]\n",
      "(5, 0, '>'): [(5, 0, '>'), (5, 1, '>'), (5, 2, '>')]\n",
      "(3, 1, '<'): [(3, 1, '<')]\n",
      "(3, 3, 'v'): [(3, 3, 'v')]\n",
      "(3, 1, '^'): [(3, 1, '^')]\n",
      "(1, 3, 'v'): [(1, 3, 'v')]\n",
      "(1, 1, '^'): [(1, 1, '^')]\n",
      "(-1, 2, '<'): [(-1, 2, '<'), (-1, 3, '<'), (-1, 4, '<')]\n",
      "(1, 3, '>'): [(1, 3, '>')]\n",
      "(0, 5, 'v'): [(0, 5, 'v'), (1, 5, 'v'), (2, 5, 'v'), (3, 5, 'v')]\n",
      "(1, 3, '^'): [(1, 3, '^')]\n",
      "(3, 3, '^'): [(3, 3, '^')]\n",
      "(5, 4, '>'): [(5, 4, '>')]\n",
      "---\n",
      "(4, 5, 'v')\n",
      "@\n",
      "ss1: [[(0, 5, 'v'), (1, 5, 'v'), (2, 5, 'v'), (3, 5, 'v')]]\n",
      "(-1, 0, '<'): [(-1, 0, '<')]\n",
      "(0, -1, '^'): [(0, -1, '^'), (1, -1, '^'), (2, -1, '^'), (3, -1, '^'), (4, -1, '^')]\n",
      "(1, 1, 'v'): [(1, 1, 'v')]\n",
      "(3, 1, 'v'): [(3, 1, 'v')]\n",
      "(5, 0, '>'): [(5, 0, '>'), (5, 1, '>'), (5, 2, '>')]\n",
      "(3, 1, '<'): [(3, 1, '<')]\n",
      "(3, 3, 'v'): [(3, 3, 'v')]\n",
      "(3, 1, '^'): [(3, 1, '^')]\n",
      "(1, 3, 'v'): [(1, 3, 'v')]\n",
      "(1, 1, '^'): [(1, 1, '^')]\n",
      "(-1, 2, '<'): [(-1, 2, '<'), (-1, 3, '<'), (-1, 4, '<')]\n",
      "(1, 3, '>'): [(1, 3, '>')]\n",
      "(0, 5, 'v'): [(0, 5, 'v'), (1, 5, 'v'), (2, 5, 'v'), (3, 5, 'v'), (4, 5, 'v')]\n",
      "(1, 3, '^'): [(1, 3, '^')]\n",
      "(3, 3, '^'): [(3, 3, '^')]\n",
      "(5, 4, '>'): [(5, 4, '>')]\n",
      "---\n",
      "(3, 3, '>')\n",
      "@\n",
      "ss1: []\n",
      "(-1, 0, '<'): [(-1, 0, '<')]\n",
      "(0, -1, '^'): [(0, -1, '^'), (1, -1, '^'), (2, -1, '^'), (3, -1, '^'), (4, -1, '^')]\n",
      "(1, 1, 'v'): [(1, 1, 'v')]\n",
      "(3, 1, 'v'): [(3, 1, 'v')]\n",
      "(5, 0, '>'): [(5, 0, '>'), (5, 1, '>'), (5, 2, '>')]\n",
      "(3, 1, '<'): [(3, 1, '<')]\n",
      "(3, 3, 'v'): [(3, 3, 'v')]\n",
      "(3, 1, '^'): [(3, 1, '^')]\n",
      "(1, 3, 'v'): [(1, 3, 'v')]\n",
      "(1, 1, '^'): [(1, 1, '^')]\n",
      "(-1, 2, '<'): [(-1, 2, '<'), (-1, 3, '<'), (-1, 4, '<')]\n",
      "(1, 3, '>'): [(1, 3, '>')]\n",
      "(0, 5, 'v'): [(0, 5, 'v'), (1, 5, 'v'), (2, 5, 'v'), (3, 5, 'v'), (4, 5, 'v')]\n",
      "(1, 3, '^'): [(1, 3, '^')]\n",
      "(3, 3, '^'): [(3, 3, '^')]\n",
      "(5, 4, '>'): [(5, 4, '>')]\n",
      "(3, 3, '>'): [(3, 3, '>')]\n",
      "---\n",
      "(1, 3, '<')\n",
      "@\n",
      "ss1: []\n",
      "(-1, 0, '<'): [(-1, 0, '<')]\n",
      "(0, -1, '^'): [(0, -1, '^'), (1, -1, '^'), (2, -1, '^'), (3, -1, '^'), (4, -1, '^')]\n",
      "(1, 1, 'v'): [(1, 1, 'v')]\n",
      "(3, 1, 'v'): [(3, 1, 'v')]\n",
      "(5, 0, '>'): [(5, 0, '>'), (5, 1, '>'), (5, 2, '>')]\n",
      "(3, 1, '<'): [(3, 1, '<')]\n",
      "(3, 3, 'v'): [(3, 3, 'v')]\n",
      "(3, 1, '^'): [(3, 1, '^')]\n",
      "(1, 3, 'v'): [(1, 3, 'v')]\n",
      "(1, 1, '^'): [(1, 1, '^')]\n",
      "(-1, 2, '<'): [(-1, 2, '<'), (-1, 3, '<'), (-1, 4, '<')]\n",
      "(1, 3, '>'): [(1, 3, '>')]\n",
      "(0, 5, 'v'): [(0, 5, 'v'), (1, 5, 'v'), (2, 5, 'v'), (3, 5, 'v'), (4, 5, 'v')]\n",
      "(1, 3, '^'): [(1, 3, '^')]\n",
      "(3, 3, '^'): [(3, 3, '^')]\n",
      "(5, 4, '>'): [(5, 4, '>')]\n",
      "(3, 3, '>'): [(3, 3, '>')]\n",
      "(1, 3, '<'): [(1, 3, '<')]\n",
      "---\n",
      "(5, 3, '>')\n",
      "@\n",
      "ss1: [[(5, 0, '>'), (5, 1, '>'), (5, 2, '>')], [(5, 4, '>')]]\n"
     ]
    },
    {
     "ename": "AssertionError",
     "evalue": "should be < 1",
     "output_type": "error",
     "traceback": [
      "\u001b[0;31m---------------------------------------------------------------------------\u001b[0m",
      "\u001b[0;31mAssertionError\u001b[0m                            Traceback (most recent call last)",
      "Cell \u001b[0;32mIn[283], line 17\u001b[0m\n\u001b[1;32m     15\u001b[0m     sides[e] \u001b[38;5;241m=\u001b[39m [e]\n\u001b[1;32m     16\u001b[0m \u001b[38;5;28;01melif\u001b[39;00m \u001b[38;5;28mlen\u001b[39m(ss1) \u001b[38;5;241m>\u001b[39m \u001b[38;5;241m1\u001b[39m:\n\u001b[0;32m---> 17\u001b[0m     \u001b[38;5;28;01massert\u001b[39;00m \u001b[38;5;28;01mFalse\u001b[39;00m, \u001b[38;5;124m'\u001b[39m\u001b[38;5;124mshould be < 1\u001b[39m\u001b[38;5;124m'\u001b[39m\n\u001b[1;32m     18\u001b[0m \u001b[38;5;28;01melse\u001b[39;00m:\n\u001b[1;32m     19\u001b[0m     ss1[\u001b[38;5;241m0\u001b[39m]\u001b[38;5;241m.\u001b[39mappend(e)\n",
      "\u001b[0;31mAssertionError\u001b[0m: should be < 1"
     ]
    }
   ],
   "source": [
    "sides = {}\n",
    "for e in edges:\n",
    "    print(e)\n",
    "    print('@')\n",
    "    fix_idx = fix_idx_map[e[2]]\n",
    "    mov_idx = 1 if fix_idx == 0 else 0\n",
    "    ss1 = [\n",
    "        v for k,v in sides.items() \n",
    "        if k[2] == e[2] \n",
    "        and k[fix_idx] == e[fix_idx] \n",
    "        and any([(z[mov_idx] == e[mov_idx] + 1) or (z[mov_idx] == e[mov_idx] - 1) for z in v])\n",
    "    ]\n",
    "    print(f'ss1: {ss1}')\n",
    "    if len(ss1) == 0:\n",
    "        sides[e] = [e]\n",
    "    elif len(ss1) > 1:\n",
    "        assert False, 'should be < 1'\n",
    "    else:\n",
    "        ss1[0].append(e)\n",
    "    \n",
    "    for sss in sides:\n",
    "        print(f'{sss}: {sides[sss]}')\n",
    "    print('---')\n",
    "len(sides)"
   ]
  },
  {
   "cell_type": "markdown",
   "metadata": {},
   "source": [
    "This approach doesn't work"
   ]
  },
  {
   "cell_type": "code",
   "execution_count": 291,
   "metadata": {},
   "outputs": [],
   "source": [
    "dat = ex2\n",
    "regions = build_regions_sol2(dat)\n",
    "region = regions[(0,0)]\n",
    "edges = region['edges']"
   ]
  },
  {
   "cell_type": "code",
   "execution_count": 292,
   "metadata": {},
   "outputs": [
    {
     "name": "stdout",
     "output_type": "stream",
     "text": [
      "20\n"
     ]
    },
    {
     "data": {
      "text/plain": [
       "{(-1, 0, '<'): [(-1, 0, '<'),\n",
       "  (-1, 1, '<'),\n",
       "  (-1, 2, '<'),\n",
       "  (-1, 3, '<'),\n",
       "  (-1, 4, '<')],\n",
       " (0, -1, '^'): [(0, -1, '^'),\n",
       "  (1, -1, '^'),\n",
       "  (2, -1, '^'),\n",
       "  (3, -1, '^'),\n",
       "  (4, -1, '^')],\n",
       " (1, 1, 'v'): [(1, 1, 'v')],\n",
       " (3, 1, 'v'): [(3, 1, 'v')],\n",
       " (5, 0, '>'): [(5, 0, '>'),\n",
       "  (5, 1, '>'),\n",
       "  (5, 2, '>'),\n",
       "  (5, 3, '>'),\n",
       "  (5, 4, '>')],\n",
       " (3, 1, '<'): [(3, 1, '<')],\n",
       " (3, 3, 'v'): [(3, 3, 'v')],\n",
       " (3, 1, '^'): [(3, 1, '^')],\n",
       " (1, 3, 'v'): [(1, 3, 'v')],\n",
       " (1, 1, '^'): [(1, 1, '^')],\n",
       " (1, 3, '>'): [(1, 3, '>')],\n",
       " (0, 5, 'v'): [(0, 5, 'v'),\n",
       "  (1, 5, 'v'),\n",
       "  (2, 5, 'v'),\n",
       "  (3, 5, 'v'),\n",
       "  (4, 5, 'v')],\n",
       " (1, 3, '^'): [(1, 3, '^')],\n",
       " (3, 3, '^'): [(3, 3, '^')],\n",
       " (3, 3, '>'): [(3, 3, '>')],\n",
       " (1, 3, '<'): [(1, 3, '<')],\n",
       " (3, 3, '<'): [(3, 3, '<')],\n",
       " (3, 1, '>'): [(3, 1, '>')],\n",
       " (1, 1, '<'): [(1, 1, '<')],\n",
       " (1, 1, '>'): [(1, 1, '>')]}"
      ]
     },
     "execution_count": 292,
     "metadata": {},
     "output_type": "execute_result"
    }
   ],
   "source": [
    "already_used = set()\n",
    "sides = {}\n",
    "\n",
    "for e in edges:\n",
    "    if e in already_used:\n",
    "        continue\n",
    "    already_used.add(e)\n",
    "    sides[e] = [e]\n",
    "    fix_idx = fix_idx_map[e[2]]\n",
    "    mov_idx = 1 if fix_idx == 0 else 0\n",
    "    i = -1\n",
    "    while True:\n",
    "        lz = [z for z in edges if z[2] == e[2] and z[fix_idx] == e[fix_idx] and z[mov_idx] == e[mov_idx] + i]\n",
    "        if len(lz) == 0:\n",
    "            break\n",
    "        elif len(lz) > 1:\n",
    "            assert False, \"impossible\"\n",
    "        z = lz[0]\n",
    "        sides[e].append(z)\n",
    "        already_used.add(z)\n",
    "        i -= 1\n",
    "    i = +1\n",
    "    while True:\n",
    "        lz = [z for z in edges if z[2] == e[2] and z[fix_idx] == e[fix_idx] and z[mov_idx] == e[mov_idx] + i]\n",
    "        if len(lz) == 0:\n",
    "            break\n",
    "        elif len(lz) > 1:\n",
    "            assert False, \"impossible\"\n",
    "        z = lz[0]\n",
    "        sides[e].append(z)\n",
    "        already_used.add(z)\n",
    "        i += 1\n",
    "print(len(sides))\n",
    "sides"
   ]
  },
  {
   "cell_type": "code",
   "execution_count": 293,
   "metadata": {},
   "outputs": [],
   "source": [
    "def _get_sides(edges):\n",
    "\n",
    "    already_used = set()\n",
    "    sides = {}\n",
    "\n",
    "    for e in edges:\n",
    "        if e in already_used:\n",
    "            continue\n",
    "        already_used.add(e)\n",
    "        sides[e] = [e]\n",
    "        fix_idx = fix_idx_map[e[2]]\n",
    "        mov_idx = 1 if fix_idx == 0 else 0\n",
    "        i = -1\n",
    "        while True:\n",
    "            lz = [z for z in edges if z[2] == e[2] and z[fix_idx] == e[fix_idx] and z[mov_idx] == e[mov_idx] + i]\n",
    "            if len(lz) == 0:\n",
    "                break\n",
    "            elif len(lz) > 1:\n",
    "                assert False, \"impossible\"\n",
    "            z = lz[0]\n",
    "            sides[e].append(z)\n",
    "            already_used.add(z)\n",
    "            i -= 1\n",
    "        i = +1\n",
    "        while True:\n",
    "            lz = [z for z in edges if z[2] == e[2] and z[fix_idx] == e[fix_idx] and z[mov_idx] == e[mov_idx] + i]\n",
    "            if len(lz) == 0:\n",
    "                break\n",
    "            elif len(lz) > 1:\n",
    "                assert False, \"impossible\"\n",
    "            z = lz[0]\n",
    "            sides[e].append(z)\n",
    "            already_used.add(z)\n",
    "            i += 1\n",
    "    return sides"
   ]
  },
  {
   "cell_type": "code",
   "execution_count": 298,
   "metadata": {},
   "outputs": [
    {
     "data": {
      "text/plain": [
       "4"
      ]
     },
     "execution_count": 298,
     "metadata": {},
     "output_type": "execute_result"
    }
   ],
   "source": [
    "dat = ex2\n",
    "regions = build_regions_sol2(dat)\n",
    "region = regions[(1,3)]\n",
    "edges = region['edges']\n",
    "len(_get_sides(edges))"
   ]
  },
  {
   "cell_type": "code",
   "execution_count": 299,
   "metadata": {},
   "outputs": [],
   "source": [
    "def _region_cost(region):\n",
    "    area = len(region[\"plots\"])\n",
    "    edges = region[\"edges\"]\n",
    "    sides = _get_sides(edges)\n",
    "    perimeter = len(sides)\n",
    "    return area * perimeter"
   ]
  },
  {
   "cell_type": "code",
   "execution_count": 300,
   "metadata": {},
   "outputs": [],
   "source": [
    "def sol2(dat: str):\n",
    "    regions = build_regions_sol2(dat)\n",
    "    return sum([_region_cost(regions[r]) for r in regions])\n"
   ]
  },
  {
   "cell_type": "code",
   "execution_count": 302,
   "metadata": {},
   "outputs": [
    {
     "data": {
      "text/plain": [
       "436"
      ]
     },
     "execution_count": 302,
     "metadata": {},
     "output_type": "execute_result"
    }
   ],
   "source": [
    "dat = ex2\n",
    "sol2(dat)"
   ]
  },
  {
   "cell_type": "code",
   "execution_count": 303,
   "metadata": {},
   "outputs": [],
   "source": [
    "ex4 = \"\"\"EEEEE\n",
    "EXXXX\n",
    "EEEEE\n",
    "EXXXX\n",
    "EEEEE\n",
    "\"\"\""
   ]
  },
  {
   "cell_type": "code",
   "execution_count": 304,
   "metadata": {},
   "outputs": [
    {
     "data": {
      "text/plain": [
       "236"
      ]
     },
     "execution_count": 304,
     "metadata": {},
     "output_type": "execute_result"
    }
   ],
   "source": [
    "dat = ex4\n",
    "sol2(dat)"
   ]
  },
  {
   "cell_type": "code",
   "execution_count": 305,
   "metadata": {},
   "outputs": [],
   "source": [
    "ex5 = \"\"\"AAAAAA\n",
    "AAABBA\n",
    "AAABBA\n",
    "ABBAAA\n",
    "ABBAAA\n",
    "AAAAAA\n",
    "\"\"\""
   ]
  },
  {
   "cell_type": "code",
   "execution_count": 306,
   "metadata": {},
   "outputs": [
    {
     "data": {
      "text/plain": [
       "368"
      ]
     },
     "execution_count": 306,
     "metadata": {},
     "output_type": "execute_result"
    }
   ],
   "source": [
    "dat = ex5\n",
    "sol2(dat)"
   ]
  },
  {
   "cell_type": "code",
   "execution_count": 307,
   "metadata": {},
   "outputs": [
    {
     "data": {
      "text/plain": [
       "1206"
      ]
     },
     "execution_count": 307,
     "metadata": {},
     "output_type": "execute_result"
    }
   ],
   "source": [
    "dat = ex3\n",
    "sol2(dat)"
   ]
  },
  {
   "cell_type": "code",
   "execution_count": 308,
   "metadata": {},
   "outputs": [
    {
     "data": {
      "text/plain": [
       "937032"
      ]
     },
     "execution_count": 308,
     "metadata": {},
     "output_type": "execute_result"
    }
   ],
   "source": [
    "dat = data\n",
    "sol2(dat)"
   ]
  },
  {
   "cell_type": "markdown",
   "metadata": {},
   "source": [
    "## thoughts\n",
    "\n",
    "- these grid-type problems don't focus on computational complexity, but require breaking down the problem well\n",
    "\n",
    "- my solution feels messy: for each edge, move on one side until no contiguous edge found, then same in the opposite direction\n",
    "\n",
    "- There probably is a better way to model the problem\n",
    "\n",
    "- It requires modeling the FRONTIER between grid cases\n",
    "\n",
    "- It also requires taking into account indexes outside of the grid"
   ]
  }
 ],
 "metadata": {
  "kernelspec": {
   "display_name": "pydidask",
   "language": "python",
   "name": "python3"
  },
  "language_info": {
   "codemirror_mode": {
    "name": "ipython",
    "version": 3
   },
   "file_extension": ".py",
   "mimetype": "text/x-python",
   "name": "python",
   "nbconvert_exporter": "python",
   "pygments_lexer": "ipython3",
   "version": "3.12.0"
  }
 },
 "nbformat": 4,
 "nbformat_minor": 2
}
