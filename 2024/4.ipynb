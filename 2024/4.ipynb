{
 "cells": [
  {
   "cell_type": "markdown",
   "metadata": {
    "vscode": {
     "languageId": "plaintext"
    }
   },
   "source": [
    "# Day 4 - AoC 2024"
   ]
  },
  {
   "cell_type": "markdown",
   "metadata": {},
   "source": [
    "[LINK](https://adventofcode.com/2024/day/4)"
   ]
  },
  {
   "cell_type": "code",
   "execution_count": 10,
   "metadata": {},
   "outputs": [],
   "source": [
    "YEAR = 2024\n",
    "DAY = 4\n",
    "\n",
    "from aocd import get_data\n",
    "import sys\n",
    "import os\n",
    "sys.path.append(\"..\")\n",
    "from config import load_config\n",
    "load_config()\n",
    "data = get_data(year=YEAR, day=DAY)\n",
    "#print(os.getenv('AOC_SESSION'))\n",
    "\n",
    "DEBUG = True"
   ]
  },
  {
   "cell_type": "markdown",
   "metadata": {},
   "source": [
    "## try 1"
   ]
  },
  {
   "cell_type": "code",
   "execution_count": 11,
   "metadata": {},
   "outputs": [],
   "source": [
    "samp = \"\"\"MMMSXXMASM\n",
    "MSAMXMSMSA\n",
    "AMXSXMAAMM\n",
    "MSAMASMSMX\n",
    "XMASAMXAMM\n",
    "XXAMMXXAMA\n",
    "SMSMSASXSS\n",
    "SAXAMASAAA\n",
    "MAMMMXMMMM\n",
    "MXMXAXMASX\n",
    "\"\"\"\n",
    "\n",
    "sampb = \"\"\"....XXMAS.\n",
    ".SAMXMS...\n",
    "...S..A...\n",
    "..A.A.MS.X\n",
    "XMASAMX.MM\n",
    "X.....XA.A\n",
    "S.S.S.S.SS\n",
    ".A.A.A.A.A\n",
    "..M.M.M.MM\n",
    ".X.X.XMASX\n",
    "\"\"\""
   ]
  },
  {
   "cell_type": "code",
   "execution_count": 13,
   "metadata": {},
   "outputs": [
    {
     "name": "stdout",
     "output_type": "stream",
     "text": [
      "0: ....XXMAS.\n",
      "1: .SAMXMS...\n",
      "2: ...S..A...\n",
      "3: ..A.A.MS.X\n",
      "4: XMASAMX.MM\n",
      "5: X.....XA.A\n",
      "6: S.S.S.S.SS\n",
      "7: .A.A.A.A.A\n",
      "8: ..M.M.M.MM\n",
      "9: .X.X.XMASX\n"
     ]
    }
   ],
   "source": [
    "for i, l in enumerate(sampb.splitlines()):\n",
    "    print(f'{i}: {l}')"
   ]
  },
  {
   "cell_type": "markdown",
   "metadata": {},
   "source": [
    "line 0:\n",
    "- X1: (1) diagonal down east\n",
    "- X2: (1) horizontal\n",
    "\n",
    "line 1:\n",
    "- X1: (1) reverse hor\n",
    "\n",
    "line 2:\n",
    "- none\n",
    "\n",
    "line 3:\n",
    "- X1: (2) vertical down, diag south west, \n",
    "\n",
    "line 4:\n",
    "- X1: (1) hor\n",
    "- X2: (2) hor reverse, vertical up\n",
    "\n",
    "line 5:\n",
    "- X1: (1) diag north east, \n",
    "- X2: (1) diag north west\n",
    "\n",
    "line 6:\n",
    "- none\n",
    "\n",
    "line 7:\n",
    "- none\n",
    "\n",
    "line 8:\n",
    "- none\n",
    "\n",
    "line 9:\n",
    "- X1: (1) diag north east\n",
    "- X2: (2) 2 diagonals\n",
    "- X3: (3) 2 diagonals, horizontal\n",
    "- X4: (2) diag north west, vertical up\n",
    "\n",
    "\n",
    "total: 18\n"
   ]
  },
  {
   "cell_type": "markdown",
   "metadata": {},
   "source": [
    "---\n",
    "\n",
    "Let's reproduce algorithmically the approach I used visually to count the 18 occurrences:\n",
    "\n",
    "- Find all Xs\n",
    "- For each X, check possible directions for the word XMAS: left, diag up left, up, diag up right, right, diag down right, down, diad down left\n"
   ]
  },
  {
   "cell_type": "code",
   "execution_count": 14,
   "metadata": {},
   "outputs": [],
   "source": [
    "## write the expected structure of the final function to help me break down things\n",
    "def sol_2024_4_1(dat: samp):\n",
    "    grid = format_input(dat) ## list of strings, each element = 1 row of the grid \n",
    "    x_positions = get_x_pos(grid) ## extract list of X positions on grid: list[tuple[int, int]]\n",
    "    return sum([count_xmas(xpos, grid) for xpos in x_positions]) # count_xmas: counts the nb of XMAS starting from a specific X position\n"
   ]
  },
  {
   "cell_type": "code",
   "execution_count": 15,
   "metadata": {},
   "outputs": [],
   "source": [
    "Coord = tuple[int, int]"
   ]
  },
  {
   "cell_type": "code",
   "execution_count": 17,
   "metadata": {},
   "outputs": [],
   "source": [
    "def count_xmas(xpos: Coord, grid: list[str]) -> int:\n",
    "    ..."
   ]
  },
  {
   "cell_type": "code",
   "execution_count": 21,
   "metadata": {},
   "outputs": [
    {
     "data": {
      "text/plain": [
       "['MMMSXXMASM',\n",
       " 'MSAMXMSMSA',\n",
       " 'AMXSXMAAMM',\n",
       " 'MSAMASMSMX',\n",
       " 'XMASAMXAMM',\n",
       " 'XXAMMXXAMA',\n",
       " 'SMSMSASXSS',\n",
       " 'SAXAMASAAA',\n",
       " 'MAMMMXMMMM',\n",
       " 'MXMXAXMASX']"
      ]
     },
     "execution_count": 21,
     "metadata": {},
     "output_type": "execute_result"
    }
   ],
   "source": [
    "dat = samp\n",
    "grid = dat.splitlines()\n",
    "grid"
   ]
  },
  {
   "cell_type": "code",
   "execution_count": 33,
   "metadata": {},
   "outputs": [],
   "source": [
    "## possible directions\n",
    "DIRS = [\n",
    "    (0,-1), # up\n",
    "    (1,-1), # diag up right\n",
    "    (1,0), # right \n",
    "    (1,1), # diag down right\n",
    "    (0,1), # down \n",
    "    (-1,1), # diag down left \n",
    "    (-1,0), # left \n",
    "    (-1,-1), # diag up left\n",
    "]"
   ]
  },
  {
   "cell_type": "code",
   "execution_count": 34,
   "metadata": {},
   "outputs": [
    {
     "name": "stdout",
     "output_type": "stream",
     "text": [
      "Counter({(0, -1): 1, (1, -1): 1, (1, 0): 1, (1, 1): 1, (0, 1): 1, (-1, 1): 1, (-1, 0): 1, (-1, -1): 1})\n"
     ]
    }
   ],
   "source": [
    "## check I created 8 different directions\n",
    "from collections import Counter \n",
    "print(Counter(DIRS))\n",
    "assert len(set(DIRS)) == 8"
   ]
  },
  {
   "cell_type": "code",
   "execution_count": null,
   "metadata": {},
   "outputs": [],
   "source": [
    "## a function that returns True if the word XMAS is written starting from xpos in the direction dir\n",
    "def is_xmas(xpos: Coord, dir: Coord, grid: list[str]) -> bool:\n",
    "    ..."
   ]
  },
  {
   "cell_type": "code",
   "execution_count": 37,
   "metadata": {},
   "outputs": [],
   "source": [
    "def count_xmas(xpos: Coord, grid: list[str]) -> int:\n",
    "    return sum([is_xmas(xpos, dr, grid) for dr in DIRS])"
   ]
  },
  {
   "cell_type": "code",
   "execution_count": null,
   "metadata": {},
   "outputs": [
    {
     "data": {
      "text/plain": [
       "True"
      ]
     },
     "execution_count": 43,
     "metadata": {},
     "output_type": "execute_result"
    }
   ],
   "source": [
    "xpos = (4, 0) # expected: 1 (diagonal)\n",
    "dr = (1, 1)\n",
    "x, y = xpos \n",
    "i, j = dr\n",
    "xmas = True\n",
    "c = 'X'\n",
    "word = 'XMAS'\n",
    "\n",
    "for n,c in enumerate(word):\n",
    "    c = grid[y+j*n][x+i*n]\n",
    "    if c != word[n]:\n",
    "        xmas = False \n",
    "        break\n",
    "xmas"
   ]
  },
  {
   "cell_type": "code",
   "execution_count": 48,
   "metadata": {},
   "outputs": [
    {
     "ename": "IndexError",
     "evalue": "list index out of range",
     "output_type": "error",
     "traceback": [
      "\u001b[0;31m---------------------------------------------------------------------------\u001b[0m",
      "\u001b[0;31mIndexError\u001b[0m                                Traceback (most recent call last)",
      "Cell \u001b[0;32mIn[48], line 10\u001b[0m\n\u001b[1;32m      7\u001b[0m word \u001b[38;5;241m=\u001b[39m \u001b[38;5;124m'\u001b[39m\u001b[38;5;124mXMAS\u001b[39m\u001b[38;5;124m'\u001b[39m\n\u001b[1;32m      9\u001b[0m \u001b[38;5;28;01mfor\u001b[39;00m n,c \u001b[38;5;129;01min\u001b[39;00m \u001b[38;5;28menumerate\u001b[39m(word):\n\u001b[0;32m---> 10\u001b[0m     c \u001b[38;5;241m=\u001b[39m \u001b[43mgrid\u001b[49m\u001b[43m[\u001b[49m\u001b[43my\u001b[49m\u001b[38;5;241;43m+\u001b[39;49m\u001b[43mj\u001b[49m\u001b[38;5;241;43m*\u001b[39;49m\u001b[43mn\u001b[49m\u001b[43m]\u001b[49m[x\u001b[38;5;241m+\u001b[39mi\u001b[38;5;241m*\u001b[39mn]\n\u001b[1;32m     11\u001b[0m     \u001b[38;5;28;01mif\u001b[39;00m c \u001b[38;5;241m!=\u001b[39m word[n]:\n\u001b[1;32m     12\u001b[0m         xmas \u001b[38;5;241m=\u001b[39m \u001b[38;5;28;01mFalse\u001b[39;00m \n",
      "\u001b[0;31mIndexError\u001b[0m: list index out of range"
     ]
    }
   ],
   "source": [
    "xpos = (3, len(grid)-1) \n",
    "dr = (0, 1)\n",
    "x, y = xpos \n",
    "i, j = dr\n",
    "xmas = True\n",
    "c = 'X'\n",
    "word = 'XMAS'\n",
    "\n",
    "for n,c in enumerate(word):\n",
    "    c = grid[y+j*n][x+i*n]\n",
    "    if c != word[n]:\n",
    "        xmas = False \n",
    "        break\n",
    "xmas"
   ]
  },
  {
   "cell_type": "markdown",
   "metadata": {},
   "source": [
    "Handle outbounds"
   ]
  },
  {
   "cell_type": "code",
   "execution_count": 54,
   "metadata": {},
   "outputs": [
    {
     "data": {
      "text/plain": [
       "False"
      ]
     },
     "execution_count": 54,
     "metadata": {},
     "output_type": "execute_result"
    }
   ],
   "source": [
    "xpos = (3, len(grid)-1) \n",
    "dr = (0, 1)\n",
    "x, y = xpos \n",
    "i, j = dr\n",
    "xmas = True\n",
    "c = 'X'\n",
    "word = 'XMAS'\n",
    "\n",
    "for n,c in enumerate(word):\n",
    "    idx_x, idx_y = x+i*n, y+j*n\n",
    "    outbounds = (idx_x >= len(grid[0])) or (idx_x < 0) or (idx_y >= len(grid)) or (idx_y < 0)\n",
    "    if outbounds:\n",
    "        xmas = False\n",
    "        break\n",
    "    c = grid[idx_y][idx_x]\n",
    "    if c != word[n]:\n",
    "        xmas = False \n",
    "        break\n",
    "xmas"
   ]
  },
  {
   "cell_type": "code",
   "execution_count": 57,
   "metadata": {},
   "outputs": [
    {
     "data": {
      "text/plain": [
       "True"
      ]
     },
     "execution_count": 57,
     "metadata": {},
     "output_type": "execute_result"
    }
   ],
   "source": [
    "xpos = (3, len(grid)-1) \n",
    "dr = (-1, -1)\n",
    "x, y = xpos \n",
    "i, j = dr\n",
    "xmas = True\n",
    "c = 'X'\n",
    "word = 'XMAS'\n",
    "\n",
    "for n,c in enumerate(word):\n",
    "    idx_x, idx_y = x+i*n, y+j*n\n",
    "    outbounds = (idx_x >= len(grid[0])) or (idx_x < 0) or (idx_y >= len(grid)) or (idx_y < 0)\n",
    "    if outbounds:\n",
    "        xmas = False\n",
    "        break\n",
    "    c = grid[idx_y][idx_x]\n",
    "    if c != word[n]:\n",
    "        xmas = False \n",
    "        break\n",
    "xmas"
   ]
  },
  {
   "cell_type": "code",
   "execution_count": 58,
   "metadata": {},
   "outputs": [],
   "source": [
    "WORD = 'XMAS'"
   ]
  },
  {
   "cell_type": "code",
   "execution_count": 61,
   "metadata": {},
   "outputs": [],
   "source": [
    "## a function that returns True if the word XMAS is written starting from xpos in the direction dir\n",
    "def is_xmas(xpos: Coord, dr: Coord, grid: list[str]) -> bool:\n",
    "    \n",
    "    x, y = xpos \n",
    "    i, j = dr\n",
    "    word = WORD\n",
    "\n",
    "    for n,c in enumerate(word):\n",
    "        idx_x, idx_y = x+i*n, y+j*n\n",
    "        outbounds = (idx_x >= len(grid[0])) or (idx_x < 0) or (idx_y >= len(grid)) or (idx_y < 0)\n",
    "        if outbounds:\n",
    "            return False \n",
    "        c = grid[idx_y][idx_x]\n",
    "        if c != word[n]:\n",
    "            return False\n",
    "    return xmas\n",
    "    "
   ]
  },
  {
   "cell_type": "code",
   "execution_count": 62,
   "metadata": {},
   "outputs": [
    {
     "data": {
      "text/plain": [
       "True"
      ]
     },
     "execution_count": 62,
     "metadata": {},
     "output_type": "execute_result"
    }
   ],
   "source": [
    "xpos = (3, len(grid)-1) \n",
    "dr = (-1, -1)\n",
    "is_xmas(xpos, dr, grid)"
   ]
  },
  {
   "cell_type": "code",
   "execution_count": 63,
   "metadata": {},
   "outputs": [
    {
     "data": {
      "text/plain": [
       "2"
      ]
     },
     "execution_count": 63,
     "metadata": {},
     "output_type": "execute_result"
    }
   ],
   "source": [
    "xpos = (3, len(grid)-1) \n",
    "dr = (-1, -1)\n",
    "sum([is_xmas(xpos, dr, grid) for dr in DIRS])"
   ]
  },
  {
   "cell_type": "code",
   "execution_count": 64,
   "metadata": {},
   "outputs": [
    {
     "data": {
      "text/plain": [
       "1"
      ]
     },
     "execution_count": 64,
     "metadata": {},
     "output_type": "execute_result"
    }
   ],
   "source": [
    "xpos = (1, len(grid)-1) \n",
    "dr = (-1, -1)\n",
    "sum([is_xmas(xpos, dr, grid) for dr in DIRS])"
   ]
  },
  {
   "cell_type": "code",
   "execution_count": 65,
   "metadata": {},
   "outputs": [
    {
     "data": {
      "text/plain": [
       "3"
      ]
     },
     "execution_count": 65,
     "metadata": {},
     "output_type": "execute_result"
    }
   ],
   "source": [
    "xpos = (5, len(grid)-1) \n",
    "dr = (-1, -1)\n",
    "sum([is_xmas(xpos, dr, grid) for dr in DIRS])"
   ]
  },
  {
   "cell_type": "code",
   "execution_count": 66,
   "metadata": {},
   "outputs": [],
   "source": [
    "def count_xmas(xpos: Coord, grid: list[str]) -> int:\n",
    "    return sum([is_xmas(xpos, dr, grid) for dr in DIRS])"
   ]
  },
  {
   "cell_type": "code",
   "execution_count": 70,
   "metadata": {},
   "outputs": [
    {
     "data": {
      "text/plain": [
       "2"
      ]
     },
     "execution_count": 70,
     "metadata": {},
     "output_type": "execute_result"
    }
   ],
   "source": [
    "xpos = (9, len(grid)-1) \n",
    "count_xmas(xpos, grid)"
   ]
  },
  {
   "cell_type": "code",
   "execution_count": null,
   "metadata": {},
   "outputs": [],
   "source": [
    "def get_grid(dat: str) -> list[str]:\n",
    "    return dat.splitlines()"
   ]
  },
  {
   "cell_type": "code",
   "execution_count": 72,
   "metadata": {},
   "outputs": [],
   "source": [
    "def get_x_pos(grid: list[str]) -> list[Coord]:\n",
    "    ..."
   ]
  },
  {
   "cell_type": "code",
   "execution_count": null,
   "metadata": {},
   "outputs": [
    {
     "name": "stdout",
     "output_type": "stream",
     "text": [
      "[(4, 0), (5, 0), (4, 1), (2, 2), (4, 2), (9, 3), (0, 4), (6, 4), (0, 5), (1, 5), (5, 5), (6, 5), (7, 6), (2, 7), (5, 8), (1, 9), (3, 9), (5, 9), (9, 9)]\n"
     ]
    }
   ],
   "source": [
    "xs = [(i, j) for j in range(len(grid)) for i in range(len(grid[0])) if grid[j][i] == 'X']\n",
    "print(xs)"
   ]
  },
  {
   "cell_type": "code",
   "execution_count": 76,
   "metadata": {},
   "outputs": [],
   "source": [
    "def get_x_pos(grid: list[str]) -> list[Coord]:\n",
    "    return [(i, j) for j in range(len(grid)) for i in range(len(grid[0])) if grid[j][i] == 'X']"
   ]
  },
  {
   "cell_type": "code",
   "execution_count": 77,
   "metadata": {},
   "outputs": [
    {
     "data": {
      "text/plain": [
       "18"
      ]
     },
     "execution_count": 77,
     "metadata": {},
     "output_type": "execute_result"
    }
   ],
   "source": [
    "dat = samp\n",
    "grid = get_grid(dat)\n",
    "x_positions = get_x_pos(grid)\n",
    "sum([count_xmas(xpos, grid) for xpos in x_positions])"
   ]
  },
  {
   "cell_type": "code",
   "execution_count": 78,
   "metadata": {},
   "outputs": [],
   "source": [
    "def sol_2024_4_1(dat: samp):\n",
    "    grid = get_grid(dat)\n",
    "    x_positions = get_x_pos(grid)\n",
    "    return sum([count_xmas(xpos, grid) for xpos in x_positions])"
   ]
  },
  {
   "cell_type": "code",
   "execution_count": 79,
   "metadata": {},
   "outputs": [
    {
     "data": {
      "text/plain": [
       "18"
      ]
     },
     "execution_count": 79,
     "metadata": {},
     "output_type": "execute_result"
    }
   ],
   "source": [
    "dat = samp\n",
    "sol_2024_4_1(dat)"
   ]
  },
  {
   "cell_type": "code",
   "execution_count": 80,
   "metadata": {},
   "outputs": [
    {
     "data": {
      "text/plain": [
       "2662"
      ]
     },
     "execution_count": 80,
     "metadata": {},
     "output_type": "execute_result"
    }
   ],
   "source": [
    "dat = data\n",
    "sol_2024_4_1(dat)"
   ]
  },
  {
   "cell_type": "markdown",
   "metadata": {},
   "source": [
    "## Part 2"
   ]
  },
  {
   "cell_type": "code",
   "execution_count": 81,
   "metadata": {},
   "outputs": [],
   "source": [
    "samp = \"\"\".M.S......\n",
    "..A..MSMS.\n",
    ".M.S.MAA..\n",
    "..A.ASMSM.\n",
    ".M.S.M....\n",
    "..........\n",
    "S.S.S.S.S.\n",
    ".A.A.A.A..\n",
    "M.M.M.M.M.\n",
    "..........\n",
    "\"\"\""
   ]
  },
  {
   "cell_type": "markdown",
   "metadata": {},
   "source": [
    "Now the A is central. Let's find the 9 occurrences:"
   ]
  },
  {
   "cell_type": "code",
   "execution_count": 82,
   "metadata": {},
   "outputs": [
    {
     "name": "stdout",
     "output_type": "stream",
     "text": [
      "0: .M.S......\n",
      "1: ..A..MSMS.\n",
      "2: .M.S.MAA..\n",
      "3: ..A.ASMSM.\n",
      "4: .M.S.M....\n",
      "5: ..........\n",
      "6: S.S.S.S.S.\n",
      "7: .A.A.A.A..\n",
      "8: M.M.M.M.M.\n",
      "9: ..........\n"
     ]
    }
   ],
   "source": [
    "grid = samp.splitlines()\n",
    "for i, l in enumerate(grid):\n",
    "    print(f'{i}: {l}')"
   ]
  },
  {
   "cell_type": "markdown",
   "metadata": {},
   "source": [
    "line 0:\n",
    "- none \n",
    "\n",
    "line 1:\n",
    "- A1: (1) \n",
    "\n",
    "line 2:\n",
    "- A1: (1) \n",
    "- A2: (1)\n",
    "\n",
    "line 3:\n",
    "- A1: (1)\n",
    "- A2: (1)\n",
    "\n",
    "line 4:\n",
    "- none \n",
    "\n",
    "line 5:\n",
    "- none \n",
    "\n",
    "line 6:\n",
    "- none \n",
    "\n",
    "line 7:\n",
    "- (4)\n",
    "\n",
    "\n",
    "total: 9"
   ]
  },
  {
   "cell_type": "markdown",
   "metadata": {},
   "source": [
    "algo: \n",
    "\n",
    "- identify all As\n",
    "- check if A is in an X-MAS\n",
    "- if so true, else false \n",
    "- can only have 1 xmas per A"
   ]
  },
  {
   "cell_type": "code",
   "execution_count": 84,
   "metadata": {},
   "outputs": [],
   "source": [
    "def sol_2024_4_2(dat: str) -> int:\n",
    "    grid = get_grid(dat)\n",
    "    a_positions = get_a_pos(grid) # list[Coord]\n",
    "    return sum([is_a_in_xmas(apos, grid) for apos in a_positions])\n"
   ]
  },
  {
   "cell_type": "code",
   "execution_count": null,
   "metadata": {},
   "outputs": [],
   "source": [
    "def is_a_in_xmas(apos: Coord, grid: list[str]) -> bool:\n",
    "    ..."
   ]
  },
  {
   "cell_type": "code",
   "execution_count": 87,
   "metadata": {},
   "outputs": [
    {
     "data": {
      "text/plain": [
       "True"
      ]
     },
     "execution_count": 87,
     "metadata": {},
     "output_type": "execute_result"
    }
   ],
   "source": [
    "apos = (2, 1)\n",
    "x, y = apos\n",
    "is_outbound = (x in (0, len(grid[0]) - 1)) or (y in (0, len(grid)-1))\n",
    "if is_outbound:\n",
    "    is_xmas = False\n",
    "else:\n",
    "    is_d1 = (grid[y-1][x+1], grid[y+1][x-1]) in [('M', 'S'), ('S', 'M')] \n",
    "    is_d2 = (grid[y-1][x-1], grid[y+1][x+1]) in [('M', 'S'), ('S', 'M')] \n",
    "    is_xmas = is_d1 and is_d2\n",
    "is_xmas "
   ]
  },
  {
   "cell_type": "code",
   "execution_count": null,
   "metadata": {},
   "outputs": [],
   "source": [
    "apos = (2, 1)\n",
    "x, y = apos\n",
    "is_outbound = (x in (0, len(grid[0]) - 1)) or (y in (0, len(grid)-1))\n",
    "if is_outbound:\n",
    "    is_xmas = False\n",
    "else:\n",
    "    is_d1 = (grid[y-1][x+1], grid[y+1][x-1]) in [('M', 'S'), ('S', 'M')] \n",
    "    is_d2 = (grid[y-1][x-1], grid[y+1][x+1]) in [('M', 'S'), ('S', 'M')] \n",
    "    is_xmas = is_d1 and is_d2\n",
    "is_xmas "
   ]
  },
  {
   "cell_type": "code",
   "execution_count": 88,
   "metadata": {},
   "outputs": [
    {
     "data": {
      "text/plain": [
       "False"
      ]
     },
     "execution_count": 88,
     "metadata": {},
     "output_type": "execute_result"
    }
   ],
   "source": [
    "apos = (len(grid[0])-1, 7)\n",
    "x, y = apos\n",
    "is_outbound = (x in (0, len(grid[0]) - 1)) or (y in (0, len(grid)-1))\n",
    "if is_outbound:\n",
    "    is_xmas = False\n",
    "else:\n",
    "    is_d1 = (grid[y-1][x+1], grid[y+1][x-1]) in [('M', 'S'), ('S', 'M')] \n",
    "    is_d2 = (grid[y-1][x-1], grid[y+1][x+1]) in [('M', 'S'), ('S', 'M')] \n",
    "    is_xmas = is_d1 and is_d2\n",
    "is_xmas "
   ]
  },
  {
   "cell_type": "code",
   "execution_count": 89,
   "metadata": {},
   "outputs": [],
   "source": [
    "def is_a_in_xmas(apos: Coord, grid: list[str]) -> bool:\n",
    "\n",
    "    x, y = apos\n",
    "    is_outbound = (x in (0, len(grid[0]) - 1)) or (y in (0, len(grid)-1))\n",
    "    if is_outbound:\n",
    "        return False\n",
    "\n",
    "    is_d1 = (grid[y-1][x+1], grid[y+1][x-1]) in [('M', 'S'), ('S', 'M')] \n",
    "    is_d2 = (grid[y-1][x-1], grid[y+1][x+1]) in [('M', 'S'), ('S', 'M')] \n",
    "    return is_d1 and is_d2"
   ]
  },
  {
   "cell_type": "code",
   "execution_count": 90,
   "metadata": {},
   "outputs": [
    {
     "data": {
      "text/plain": [
       "False"
      ]
     },
     "execution_count": 90,
     "metadata": {},
     "output_type": "execute_result"
    }
   ],
   "source": [
    "apos = (len(grid[0])-1, 7)\n",
    "is_a_in_xmas(apos, grid)"
   ]
  },
  {
   "cell_type": "code",
   "execution_count": 91,
   "metadata": {},
   "outputs": [
    {
     "data": {
      "text/plain": [
       "True"
      ]
     },
     "execution_count": 91,
     "metadata": {},
     "output_type": "execute_result"
    }
   ],
   "source": [
    "apos = (2, 1)\n",
    "is_a_in_xmas(apos, grid)"
   ]
  },
  {
   "cell_type": "code",
   "execution_count": 92,
   "metadata": {},
   "outputs": [],
   "source": [
    "def get_a_pos(grid: list[str]) -> list[Coord]:\n",
    "    return [(i, j) for j in range(len(grid)) for i in range(len(grid[0])) if grid[j][i] == 'A']"
   ]
  },
  {
   "cell_type": "code",
   "execution_count": 93,
   "metadata": {},
   "outputs": [],
   "source": [
    "def sol_2024_4_2(dat: str) -> int:\n",
    "    grid = get_grid(dat)\n",
    "    a_positions = get_a_pos(grid) \n",
    "    return sum([is_a_in_xmas(apos, grid) for apos in a_positions])"
   ]
  },
  {
   "cell_type": "code",
   "execution_count": 94,
   "metadata": {},
   "outputs": [
    {
     "data": {
      "text/plain": [
       "9"
      ]
     },
     "execution_count": 94,
     "metadata": {},
     "output_type": "execute_result"
    }
   ],
   "source": [
    "dat = samp \n",
    "sol_2024_4_2(dat)"
   ]
  },
  {
   "cell_type": "code",
   "execution_count": 95,
   "metadata": {},
   "outputs": [
    {
     "data": {
      "text/plain": [
       "2034"
      ]
     },
     "execution_count": 95,
     "metadata": {},
     "output_type": "execute_result"
    }
   ],
   "source": [
    "dat = data \n",
    "sol_2024_4_2(dat)"
   ]
  }
 ],
 "metadata": {
  "kernelspec": {
   "display_name": "pydidask",
   "language": "python",
   "name": "python3"
  },
  "language_info": {
   "codemirror_mode": {
    "name": "ipython",
    "version": 3
   },
   "file_extension": ".py",
   "mimetype": "text/x-python",
   "name": "python",
   "nbconvert_exporter": "python",
   "pygments_lexer": "ipython3",
   "version": "3.12.0"
  }
 },
 "nbformat": 4,
 "nbformat_minor": 2
}
