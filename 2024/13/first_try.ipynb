{
 "cells": [
  {
   "cell_type": "markdown",
   "metadata": {},
   "source": [
    "# Advent of Code - Day 13 Year 2024"
   ]
  },
  {
   "cell_type": "code",
   "execution_count": 2,
   "metadata": {},
   "outputs": [
    {
     "name": "stdout",
     "output_type": "stream",
     "text": [
      "nb examples: 1\n",
      "problem link: https://adventofcode.com/2024/day/13\n"
     ]
    }
   ],
   "source": [
    "DAY = 13\n",
    "YEAR = 2024\n",
    "#######\n",
    "import json\n",
    "import sys \n",
    "sys.path.append('../../')\n",
    "from utils import get_pb_data, rephrase_pb, open_link, render_json\n",
    "link, data, exmp, ae1, ae2, exmps, out = get_pb_data(DAY, YEAR)\n",
    "\n",
    "print(f'problem link: {link}')"
   ]
  },
  {
   "cell_type": "code",
   "execution_count": 3,
   "metadata": {},
   "outputs": [],
   "source": [
    "# with open(\"./_puzzle_data.json\", \"r\") as f: inp = json.loads(f.read())\n",
    "# render_json(inp)"
   ]
  },
  {
   "cell_type": "code",
   "execution_count": 4,
   "metadata": {},
   "outputs": [
    {
     "data": {
      "text/markdown": [
       "**Problem**: Find the minimum total tokens needed to win all possible prizes from claw machines, where: \n",
       "\n",
       "Each claw machine has **two buttons**: \n",
       "- Button A (costs 3 tokens)\n",
       "- Button B (costs 1 token)\n",
       "\n",
       "Each button moves the claw by specific X and Y coordinates.\n",
       " \n",
       "You need to reach exact prize coordinates by using combinations of A and B presses.\n",
       " \n",
       "A solution exists only if there's a combination of button presses (max 100 each) that reaches the exact prize location.\n",
       " \n",
       "**Calculate the sum of tokens needed** for all winnable prizes.\n",
       " \n",
       "Input looks like:\n",
       "```\n",
       "Button A: X+94, Y+34\n",
       "Button B: X+22, Y+67\n",
       "Prize: X=8400, Y=5400\n",
       "\n",
       "Button A: X+26, Y+66\n",
       "Button B: X+67, Y+21\n",
       "Prize: X=12748, Y=12176\n",
       "```\n",
       "\n",
       "For each machine:\n",
       "- First line: Button A movement (X,Y)\n",
       "- Second line: Button B movement (X,Y)\n",
       "- Third line: Prize coordinates (X,Y)\n",
       "- Blank line separator"
      ],
      "text/plain": [
       "<IPython.core.display.Markdown object>"
      ]
     },
     "execution_count": 4,
     "metadata": {},
     "output_type": "execute_result"
    }
   ],
   "source": [
    "await rephrase_pb(DAY, YEAR, 1)"
   ]
  },
  {
   "cell_type": "markdown",
   "metadata": {},
   "source": [
    "Feels like this is a math problem"
   ]
  },
  {
   "cell_type": "code",
   "execution_count": 7,
   "metadata": {},
   "outputs": [
    {
     "name": "stdout",
     "output_type": "stream",
     "text": [
      "Button A: X+94, Y+34\n",
      "Button B: X+22, Y+67\n",
      "Prize: X=8400, Y=5400\n",
      "\n",
      "Button A: X+26, Y+66\n",
      "Button B: X+67, Y+21\n",
      "Prize: X=12748, Y=12176\n",
      "\n",
      "Button A: X+17, Y+86\n",
      "Button B: X+84, Y+37\n",
      "Prize: X=7870, Y=6450\n",
      "\n",
      "Button A: X+69, Y+23\n",
      "Button B: X+27, Y+71\n",
      "Prize: X=18641, Y=10279\n"
     ]
    }
   ],
   "source": [
    "print(exmp)"
   ]
  },
  {
   "cell_type": "markdown",
   "metadata": {},
   "source": [
    "a(94, 34) + b(22, 67) = (8400, 5400)\n",
    "\n",
    "- 94a + 22b = 8400\n",
    "- 34a + 67b = 5400"
   ]
  },
  {
   "cell_type": "markdown",
   "metadata": {},
   "source": [
    "- aXa + bXb = X\n",
    "- aYa + bYb = Y"
   ]
  },
  {
   "cell_type": "code",
   "execution_count": 8,
   "metadata": {},
   "outputs": [],
   "source": [
    "def _sol(a1,b1,c1, a2, b2, c2):\n",
    "    det = a1*b2 - a2*b1\n",
    "    detx = c1*b2 - c2*b1\n",
    "    dety = a1*c2 - a2*c1\n",
    "    if det != 0:\n",
    "        xs, ys = detx // det, dety // det\n",
    "    return (xs, ys)    "
   ]
  },
  {
   "cell_type": "code",
   "execution_count": 12,
   "metadata": {},
   "outputs": [
    {
     "data": {
      "text/plain": [
       "[['Button A: X+94, Y+34', 'Button B: X+22, Y+67', 'Prize: X=8400, Y=5400'],\n",
       " ['Button A: X+26, Y+66', 'Button B: X+67, Y+21', 'Prize: X=12748, Y=12176'],\n",
       " ['Button A: X+17, Y+86', 'Button B: X+84, Y+37', 'Prize: X=7870, Y=6450'],\n",
       " ['Button A: X+69, Y+23', 'Button B: X+27, Y+71', 'Prize: X=18641, Y=10279']]"
      ]
     },
     "execution_count": 12,
     "metadata": {},
     "output_type": "execute_result"
    }
   ],
   "source": [
    "[g.splitlines() for g in exmp.split('\\n\\n')]"
   ]
  },
  {
   "cell_type": "code",
   "execution_count": 16,
   "metadata": {},
   "outputs": [
    {
     "data": {
      "text/plain": [
       "94"
      ]
     },
     "execution_count": 16,
     "metadata": {},
     "output_type": "execute_result"
    }
   ],
   "source": [
    "z = 'Button A: X+94, Y+34'\n",
    "int(z.split('X')[1].split(',')[0])"
   ]
  },
  {
   "cell_type": "code",
   "execution_count": 21,
   "metadata": {},
   "outputs": [
    {
     "data": {
      "text/plain": [
       "34"
      ]
     },
     "execution_count": 21,
     "metadata": {},
     "output_type": "execute_result"
    }
   ],
   "source": [
    "int(int(z.split('Y')[1]))"
   ]
  },
  {
   "cell_type": "code",
   "execution_count": 24,
   "metadata": {},
   "outputs": [
    {
     "data": {
      "text/plain": [
       "'Button A: X+94, Y+34\\nButton B: X+22, Y+67\\nPrize: X=8400, Y=5400'"
      ]
     },
     "execution_count": 24,
     "metadata": {},
     "output_type": "execute_result"
    }
   ],
   "source": [
    "exmp.split('\\n\\n')[0]"
   ]
  },
  {
   "cell_type": "code",
   "execution_count": 29,
   "metadata": {},
   "outputs": [
    {
     "data": {
      "text/plain": [
       "((94, 34), (22, 67))"
      ]
     },
     "execution_count": 29,
     "metadata": {},
     "output_type": "execute_result"
    }
   ],
   "source": [
    "g = \"Button A: X+94, Y+34\\nButton B: X+22, Y+67\\nPrize: X=8400, Y=5400\"\n",
    "g.splitlines()[:2]\n",
    "(a1, b1), (a2, b2) = [(int(l.split('X')[1].split(',')[0]), int(int(l.split('Y')[1]))) for l in g.splitlines()[:2]]\n",
    "(a1, b1), (a2, b2)"
   ]
  },
  {
   "cell_type": "code",
   "execution_count": 36,
   "metadata": {},
   "outputs": [
    {
     "data": {
      "text/plain": [
       "'Prize: X=8400, Y=5400'"
      ]
     },
     "execution_count": 36,
     "metadata": {},
     "output_type": "execute_result"
    }
   ],
   "source": [
    "g.splitlines()[2]"
   ]
  },
  {
   "cell_type": "code",
   "execution_count": 37,
   "metadata": {},
   "outputs": [],
   "source": [
    "c1 = int(g.splitlines()[2].split('X=')[1].split(',')[0])\n",
    "c2 = int(g.splitlines()[2].split('Y=')[1])"
   ]
  },
  {
   "cell_type": "code",
   "execution_count": 68,
   "metadata": {},
   "outputs": [],
   "source": [
    "def _format_game(g):\n",
    "    (a1, a2), (b1, b2) = [(int(l.split('X')[1].split(',')[0]), int(int(l.split('Y')[1]))) for l in g.splitlines()[:2]]\n",
    "    c1 = int(g.splitlines()[2].split('X=')[1].split(',')[0])\n",
    "    c2 = int(g.splitlines()[2].split('Y=')[1])\n",
    "    return (a1, b1, c1, a2, b2, c2)\n"
   ]
  },
  {
   "cell_type": "code",
   "execution_count": 69,
   "metadata": {},
   "outputs": [
    {
     "name": "stdout",
     "output_type": "stream",
     "text": [
      "Button A: X+94, Y+34\n",
      "Button B: X+22, Y+67\n",
      "Prize: X=8400, Y=5400\n"
     ]
    },
    {
     "data": {
      "text/plain": [
       "(94, 22, 8400, 34, 67, 5400)"
      ]
     },
     "execution_count": 69,
     "metadata": {},
     "output_type": "execute_result"
    }
   ],
   "source": [
    "g = exmp.split('\\n\\n')[0]\n",
    "print(g)\n",
    "_format_game(g)"
   ]
  },
  {
   "cell_type": "code",
   "execution_count": 70,
   "metadata": {},
   "outputs": [],
   "source": [
    "def _format(dat):\n",
    "    gs = dat.split('\\n\\n')\n",
    "    return [_format_game(g) for g in gs]"
   ]
  },
  {
   "cell_type": "code",
   "execution_count": 71,
   "metadata": {},
   "outputs": [
    {
     "data": {
      "text/plain": [
       "[(94, 22, 8400, 34, 67, 5400),\n",
       " (26, 67, 12748, 66, 21, 12176),\n",
       " (17, 84, 7870, 86, 37, 6450),\n",
       " (69, 27, 18641, 23, 71, 10279)]"
      ]
     },
     "execution_count": 71,
     "metadata": {},
     "output_type": "execute_result"
    }
   ],
   "source": [
    "dat = exmp \n",
    "machines = _format(dat)\n",
    "machines"
   ]
  },
  {
   "cell_type": "code",
   "execution_count": 73,
   "metadata": {},
   "outputs": [],
   "source": [
    "def _sol(m):\n",
    "    a1, b1, c1, a2, b2, c2 = m\n",
    "    det = a1*b2 - a2*b1\n",
    "    print('det ', det)\n",
    "    detx = c1*b2 - c2*b1\n",
    "    print('detx ', detx)\n",
    "    dety = a1*c2 - a2*c1\n",
    "    print('dety ', dety)\n",
    "    if det != 0:\n",
    "        xs, ys = detx / det, dety / det\n",
    "        int(return (xs, ys)  \n"
   ]
  },
  {
   "cell_type": "code",
   "execution_count": 74,
   "metadata": {},
   "outputs": [
    {
     "name": "stdout",
     "output_type": "stream",
     "text": [
      "(94, 22, 8400, 34, 67, 5400)\n",
      "det  5550\n",
      "detx  444000\n",
      "dety  222000\n"
     ]
    },
    {
     "data": {
      "text/plain": [
       "(80.0, 40.0)"
      ]
     },
     "execution_count": 74,
     "metadata": {},
     "output_type": "execute_result"
    }
   ],
   "source": [
    "m = machines[0]\n",
    "print(m)\n",
    "_sol(m)"
   ]
  },
  {
   "cell_type": "code",
   "execution_count": 75,
   "metadata": {},
   "outputs": [],
   "source": [
    "z = 80.0"
   ]
  },
  {
   "cell_type": "code",
   "execution_count": 76,
   "metadata": {},
   "outputs": [
    {
     "data": {
      "text/plain": [
       "float"
      ]
     },
     "execution_count": 76,
     "metadata": {},
     "output_type": "execute_result"
    }
   ],
   "source": [
    "type(z)"
   ]
  },
  {
   "cell_type": "code",
   "execution_count": 77,
   "metadata": {},
   "outputs": [
    {
     "data": {
      "text/plain": [
       "True"
      ]
     },
     "execution_count": 77,
     "metadata": {},
     "output_type": "execute_result"
    }
   ],
   "source": [
    "z == int(z)"
   ]
  },
  {
   "cell_type": "code",
   "execution_count": 94,
   "metadata": {},
   "outputs": [],
   "source": [
    "def _sol(m):\n",
    "    a1, b1, c1, a2, b2, c2 = m\n",
    "    det = a1*b2 - a2*b1\n",
    "    print('det ', det)\n",
    "    detx = c1*b2 - c2*b1\n",
    "    print('detx ', detx)\n",
    "    dety = a1*c2 - a2*c1\n",
    "    print('dety ', dety)\n",
    "    if det != 0:\n",
    "        print('unique sol possible')\n",
    "        xs, ys = detx / det, dety / det\n",
    "        print(xs, ys)\n",
    "        if xs != int(xs) or ys != int(ys):\n",
    "            print('no int sol')\n",
    "            return None \n",
    "        return (int(xs), int(ys))\n",
    "    elif det == 0 and (detx == 0 or dety == 0):\n",
    "        print('infinite solutions')\n",
    "    elif det == 0 and (detx != 0 or dety != 0):\n",
    "        print('no sol possible')\n",
    "        return None \n",
    "    else:\n",
    "        assert False, \"Impossible ?\""
   ]
  },
  {
   "cell_type": "code",
   "execution_count": 95,
   "metadata": {},
   "outputs": [
    {
     "name": "stdout",
     "output_type": "stream",
     "text": [
      "det  0\n",
      "detx  0\n",
      "dety  0\n",
      "infinite solutions\n"
     ]
    }
   ],
   "source": [
    "m = 2,3,6,4,6,12\n",
    "_sol(m)"
   ]
  },
  {
   "cell_type": "markdown",
   "metadata": {},
   "source": [
    "in case of infinite solutions, I'll take the solution that costs the less money so no pushing of button A, meaning x = 0"
   ]
  },
  {
   "cell_type": "code",
   "execution_count": 96,
   "metadata": {},
   "outputs": [
    {
     "name": "stdout",
     "output_type": "stream",
     "text": [
      "det  -6595\n",
      "detx  -250610\n",
      "dety  -567170\n",
      "unique sol possible\n",
      "38.0 86.0\n"
     ]
    },
    {
     "data": {
      "text/plain": [
       "(38, 86)"
      ]
     },
     "execution_count": 96,
     "metadata": {},
     "output_type": "execute_result"
    }
   ],
   "source": [
    "m = machines[2]\n",
    "_sol(m)"
   ]
  },
  {
   "cell_type": "code",
   "execution_count": 98,
   "metadata": {},
   "outputs": [
    {
     "name": "stdout",
     "output_type": "stream",
     "text": [
      "det  5550\n",
      "detx  444000\n",
      "dety  222000\n",
      "unique sol possible\n",
      "80.0 40.0\n",
      "(80, 40)\n",
      "---\n",
      "det  -3876\n",
      "detx  -548084\n",
      "dety  -524792\n",
      "unique sol possible\n",
      "141.40454076367388 135.3952528379773\n",
      "no int sol\n",
      "None\n",
      "---\n",
      "det  -6595\n",
      "detx  -250610\n",
      "dety  -567170\n",
      "unique sol possible\n",
      "38.0 86.0\n",
      "(38, 86)\n",
      "---\n",
      "det  4278\n",
      "detx  1045978\n",
      "dety  280508\n",
      "unique sol possible\n",
      "244.50163627863486 65.56989247311827\n",
      "no int sol\n",
      "None\n",
      "---\n"
     ]
    }
   ],
   "source": [
    "for m in machines:\n",
    "    print(_sol(m))\n",
    "    print('---')"
   ]
  },
  {
   "cell_type": "markdown",
   "metadata": {},
   "source": [
    "subtlety lies in the \"infinite solutions\" one. We have to try every combination of (x,y) possible.\n",
    "\n",
    "knowing that we can't push the button A more than 100 times"
   ]
  },
  {
   "cell_type": "code",
   "execution_count": 110,
   "metadata": {},
   "outputs": [],
   "source": [
    "from tqdm import tqdm\n",
    "def _sol(m, debug=False):\n",
    "    a1, b1, c1, a2, b2, c2 = m\n",
    "    det = a1*b2 - a2*b1\n",
    "    if debug: print('det ', det)\n",
    "    detx = c1*b2 - c2*b1\n",
    "    if debug: print('detx ', detx)\n",
    "    dety = a1*c2 - a2*c1\n",
    "    if debug: print('dety ', dety)\n",
    "    if det != 0:\n",
    "        if debug: print('unique sol possible')\n",
    "        xs, ys = detx / det, dety / det\n",
    "        if debug: print(xs, ys)\n",
    "        if xs != int(xs) or ys != int(ys):\n",
    "            if debug: print('no int sol')\n",
    "            return None \n",
    "        return (int(xs), int(ys))\n",
    "    \n",
    "    elif det == 0 and (detx == 0 or dety == 0):\n",
    "        if debug: print('infinite solutions: Try pushing A 100 times')\n",
    "        seq = range(101)\n",
    "        if debug: seq = tdqm(seq)\n",
    "        for A in seq:\n",
    "            ss1 = (c1-a1*A)/b1\n",
    "            if ss1 == int(ss1):\n",
    "                return (A, int(ss1))\n",
    "        return None\n",
    "    elif det == 0 and (detx != 0 or dety != 0):\n",
    "        if debug: print('no sol possible')\n",
    "        return None \n",
    "    else:\n",
    "        assert False, \"Impossible ?\""
   ]
  },
  {
   "cell_type": "code",
   "execution_count": 111,
   "metadata": {},
   "outputs": [
    {
     "data": {
      "text/plain": [
       "(0, 2)"
      ]
     },
     "execution_count": 111,
     "metadata": {},
     "output_type": "execute_result"
    }
   ],
   "source": [
    "m = 2,3,6,4,6,12\n",
    "_sol(m)"
   ]
  },
  {
   "cell_type": "code",
   "execution_count": 112,
   "metadata": {},
   "outputs": [
    {
     "data": {
      "text/plain": [
       "(1, 2)"
      ]
     },
     "execution_count": 112,
     "metadata": {},
     "output_type": "execute_result"
    }
   ],
   "source": [
    "m = 3,2,7,6,4,14\n",
    "_sol(m)"
   ]
  },
  {
   "cell_type": "code",
   "execution_count": 113,
   "metadata": {},
   "outputs": [
    {
     "name": "stdout",
     "output_type": "stream",
     "text": [
      "(80, 40)\n",
      "None\n",
      "(38, 86)\n",
      "None\n"
     ]
    }
   ],
   "source": [
    "for m in machines:\n",
    "    print(_sol(m))"
   ]
  },
  {
   "cell_type": "code",
   "execution_count": 114,
   "metadata": {},
   "outputs": [],
   "source": [
    "def _cost(na, nb):\n",
    "    return na*3 + nb"
   ]
  },
  {
   "cell_type": "code",
   "execution_count": 118,
   "metadata": {},
   "outputs": [
    {
     "data": {
      "text/plain": [
       "480"
      ]
     },
     "execution_count": 118,
     "metadata": {},
     "output_type": "execute_result"
    }
   ],
   "source": [
    "dat = exmp \n",
    "machines = _format(dat)\n",
    "sols = [_sol(m) for m in machines]\n",
    "sols = [x for x in sols if x is not None]\n",
    "sum([_cost(na, nb) for na,nb in sols])"
   ]
  },
  {
   "cell_type": "code",
   "execution_count": 131,
   "metadata": {},
   "outputs": [],
   "source": [
    "def sol1(dat):\n",
    "    machines = _format(dat)\n",
    "    sols = [_sol(m) for m in machines]\n",
    "    print(sols)\n",
    "    sols = [x for x in sols if x is not None]\n",
    "    return sum([_cost(na, nb) for na,nb in sols])"
   ]
  },
  {
   "cell_type": "code",
   "execution_count": 121,
   "metadata": {},
   "outputs": [
    {
     "data": {
      "text/plain": [
       "480"
      ]
     },
     "execution_count": 121,
     "metadata": {},
     "output_type": "execute_result"
    }
   ],
   "source": [
    "dat = exmp \n",
    "sol1(dat)"
   ]
  },
  {
   "cell_type": "code",
   "execution_count": 122,
   "metadata": {},
   "outputs": [
    {
     "data": {
      "text/plain": [
       "32026"
      ]
     },
     "execution_count": 122,
     "metadata": {},
     "output_type": "execute_result"
    }
   ],
   "source": [
    "dat = data \n",
    "sol1(dat)"
   ]
  },
  {
   "cell_type": "markdown",
   "metadata": {},
   "source": [
    "## part 2"
   ]
  },
  {
   "cell_type": "code",
   "execution_count": 123,
   "metadata": {},
   "outputs": [
    {
     "data": {
      "text/markdown": [
       "**Problem**: Calculate the minimum number of button presses needed to win prizes from claw machines after adding 10000000000000 to both X and Y coordinates of prizes. \n",
       " \n",
       "Each claw machine has **two buttons (A and B)** that move the claw by specific X and Y values. \n",
       " \n",
       "You need to reach the **exact prize coordinates** through button combinations. \n",
       " \n",
       "Only win prizes where it's mathematically possible to reach the coordinates. \n",
       " \n",
       "\n",
       "**Input Example**:\n",
       "```\n",
       "Button A: X+94, Y+34\n",
       "Button B: X+22, Y+67\n",
       "Prize: X=10000000008400, Y=10000000005400\n",
       "\n",
       "Button A: X+26, Y+66\n",
       "Button B: X+67, Y+21\n",
       "Prize: X=10000000012748, Y=10000000012176\n",
       "\n",
       "Button A: X+17, Y+86\n",
       "Button B: X+84, Y+37\n",
       "Prize: X=10000000007870, Y=10000000006450\n",
       "\n",
       "Button A: X+69, Y+23\n",
       "Button B: X+27, Y+71\n",
       "Prize: X=10000000018641, Y=10000000010279\n",
       "```\n",
       "\n",
       "Find the **total minimum button presses** needed to win all possible prizes."
      ],
      "text/plain": [
       "<IPython.core.display.Markdown object>"
      ]
     },
     "execution_count": 123,
     "metadata": {},
     "output_type": "execute_result"
    }
   ],
   "source": [
    "await rephrase_pb(DAY, YEAR, 2)"
   ]
  },
  {
   "cell_type": "code",
   "execution_count": 124,
   "metadata": {},
   "outputs": [],
   "source": [
    "def _format_game(g):\n",
    "    (a1, a2), (b1, b2) = [(int(l.split('X')[1].split(',')[0]), int(int(l.split('Y')[1]))) for l in g.splitlines()[:2]]\n",
    "    c1 = int(g.splitlines()[2].split('X=')[1].split(',')[0]) + 10000000000000\n",
    "    c2 = int(g.splitlines()[2].split('Y=')[1]) + 10000000000000\n",
    "    return (a1, b1, c1, a2, b2, c2)\n"
   ]
  },
  {
   "cell_type": "code",
   "execution_count": 125,
   "metadata": {},
   "outputs": [
    {
     "data": {
      "text/plain": [
       "[(94, 22, 10000000008400, 34, 67, 10000000005400),\n",
       " (26, 67, 10000000012748, 66, 21, 10000000012176),\n",
       " (17, 84, 10000000007870, 86, 37, 10000000006450),\n",
       " (69, 27, 10000000018641, 23, 71, 10000000010279)]"
      ]
     },
     "execution_count": 125,
     "metadata": {},
     "output_type": "execute_result"
    }
   ],
   "source": [
    "dat = exmp \n",
    "_format(dat)"
   ]
  },
  {
   "cell_type": "code",
   "execution_count": 128,
   "metadata": {},
   "outputs": [
    {
     "data": {
      "text/plain": [
       "[None, (118679050709, 103199174542), None, (102851800151, 107526881786)]"
      ]
     },
     "execution_count": 128,
     "metadata": {},
     "output_type": "execute_result"
    }
   ],
   "source": [
    "dat = exmp\n",
    "machines = _format(dat)\n",
    "[_sol(m) for m in machines]"
   ]
  },
  {
   "cell_type": "code",
   "execution_count": 129,
   "metadata": {},
   "outputs": [],
   "source": [
    "from tqdm import tqdm\n",
    "def _sol(m, debug=False):\n",
    "    a1, b1, c1, a2, b2, c2 = m\n",
    "    det = a1*b2 - a2*b1\n",
    "    #if debug: print('det ', det)\n",
    "    detx = c1*b2 - c2*b1\n",
    "    #if debug: print('detx ', detx)\n",
    "    dety = a1*c2 - a2*c1\n",
    "    #if debug: print('dety ', dety)\n",
    "    if det != 0:\n",
    "        #if debug: print('unique sol possible')\n",
    "        xs, ys = detx / det, dety / det\n",
    "        #if debug: print(xs, ys)\n",
    "        if xs != int(xs) or ys != int(ys):\n",
    "            #if debug: print('no int sol')\n",
    "            return None \n",
    "        return (int(xs), int(ys))\n",
    "    \n",
    "    elif det == 0 and (detx == 0 or dety == 0):\n",
    "        if debug: print('infinite solutions: Try pushing A 100 times')\n",
    "        seq = range(100000000000)\n",
    "        if debug: seq = tdqm(seq)\n",
    "        for A in seq:\n",
    "            ss1 = (c1-a1*A)/b1\n",
    "            if ss1 == int(ss1):\n",
    "                return (A, int(ss1))\n",
    "        return None\n",
    "    elif det == 0 and (detx != 0 or dety != 0):\n",
    "        #if debug: print('no sol possible')\n",
    "        return None \n",
    "    else:\n",
    "        assert False, \"Impossible ?\""
   ]
  },
  {
   "cell_type": "code",
   "execution_count": 132,
   "metadata": {},
   "outputs": [
    {
     "name": "stdout",
     "output_type": "stream",
     "text": [
      "[None, (118679050709, 103199174542), None, (102851800151, 107526881786)]\n"
     ]
    },
    {
     "data": {
      "text/plain": [
       "875318608908"
      ]
     },
     "execution_count": 132,
     "metadata": {},
     "output_type": "execute_result"
    }
   ],
   "source": [
    "dat = exmp\n",
    "sol1(dat)"
   ]
  },
  {
   "cell_type": "code",
   "execution_count": 133,
   "metadata": {},
   "outputs": [
    {
     "name": "stdout",
     "output_type": "stream",
     "text": [
      "[(147917477893, 120669521378), (102645084980, 120410580507), None, (139303482857, 109452736529), (103092783731, 103092783566), None, None, None, (112296463124, 129140932089), (120763537383, 179197507141), (241708825231, 101180438732), None, None, None, (118361153424, 121396054753), None, (217391304224, 102301790641), None, (110605074559, 162654522094), (100367197112, 115055079789), None, (116308470347, 134007585437), None, (105263158060, 105263158072), (131839156284, 125247198435), None, (112628804236, 129403307282), (116512655851, 132583366948), (154121863893, 114695340488), (112359550571, 112359550639), (134037367990, 105605199416), (210526316030, 118421052655), None, None, None, None, (165036675208, 103911980421), (179186767757, 158511371628), None, (170648464095, 150170648680), (117370892249, 226917058024), None, None, (117096018727, 112412178132), (118740319953, 108415075024), None, (112903225965, 104838709707), None, None, None, None, None, None, None, (134477825682, 108726752535), (136054421758, 204081632942), (112788478221, 109318063690), (101371496914, 149075730414), (100519930709, 114384748844), (146198830384, 102339181539), None, None, (121739130526, 115942029129), (167064439199, 429594272559), None, (129952456354, 104595879684), None, (120288693013, 224538893741), None, (128865979430, 317869416471), (179245283115, 117924528532), (120711562713, 133418043497), None, (108031939988, 122123062690), None, (103550295902, 118343195450), None, (124202752742, 100704934588), None, (105367138764, 128416200457), None, None, None, None, (105263158058, 105263158051), (138436482267, 146579804569), (141150923099, 152008686466), None, None, None, (156424580987, 122905028206), None, (100795756126, 103448276055), None, None, (120918984345, 326481257694), None, None, None, (100891600289, 110276865371), None, (182232346231, 102505694819), None, (180481283754, 127005347719), None, (196078431035, 147058824073), (127073773546, 102364984146), (175131348846, 157618213918), (145259939161, 152905198994), None, None, (114220445390, 154197601956), (113788487430, 100401606653), (124631770018, 104237480193), (109789570304, 100640439276), (169029443845, 103598691440), (100716968300, 116080573785), (104712041940, 109947644068), None, (140421264230, 110330992974), None, None, (183559457632, 119712689463), (110356536799, 118845500750), None, None, None, None, None, None, None, (107282184815, 130039011846), None, (131636683132, 136024572113), (121096239650, 116847248992), (107632094137, 176125244711), None, None, (133274100467, 102176810435), (182077829698, 124955373292), (104089219632, 304832713587), None, None, (101382488713, 125960061312), None, None, (265486725766, 176991150890), (271528317081, 100853374791), None, None, None, None, (116984402322, 138648180457), None, None, None, None, None, (175192711914, 126138752809), None, None, (123889668267, 121552127252), None, (114192495899, 195758565112), (182648401534, 114155251352), (168970814158, 184331797579), (121400338791, 118577075239), (101930167058, 136629798572), (147058823566, 105042017022), (126353790653, 148916967965), (148626817564, 138933764204), None, (243161094422, 144376899717), None, (108695652321, 117391304388), None, (126091173832, 106692531503), (103750997787, 127693535583), (106382978921, 106382978574), (125467165097, 122797651052), (139627659597, 206117021729), None, (107620709946, 101803373967), None, (110481586625, 107648725327), None, (112044818178, 161064425809), (123893805314, 159292035843), (138592750798, 106609808069), (213631739889, 132248219949), (104679803003, 147783251162), (109625668643, 155080213923), (104691741151, 135711516240), (103324348712, 107816711896), (100349040281, 104712041964), None, (113077679183, 147492625820), None, (161839864203, 106473594434), None, (132664037260, 114736464921), (114942528844, 114942528865), None, (127723516357, 172802404253), None, None, None, None, (241038318856, 142150803756), None, (109973455035, 155479711707), (184229918961, 176860722320), None, (106783919594, 100502512685), (110619468878, 132743363142), None, None, None, (197160883463, 106466877060), None, None, None, None, (163701067674, 156583630293), (150195254114, 117152297938), (119109269895, 108751942153), None, (129830918116, 120772946764), None, None, None, None, None, (120724345922, 100603621989), None, (134281200958, 114533965302), (278184480841, 146412884100), None, (116220313360, 141485599115), (100628931061, 113207547039), (238772029953, 108015918220), None, (113168724368, 118312757239), (137195121980, 106707317197), None, None, (118247159760, 115928588178), (136022514068, 154784240288), None, None, (107913669238, 146651909482), (158794788313, 101791531042), None, (183199284980, 102770330871), None, (125120307886, 129932627794), None, None, (114942528832, 124521072884), (118553645679, 100770598688), (106680213466, 104140208357), None, None, None, None, (118460019853, 120927937055), None, (105263157800, 119298245851), None, None, (130807397540, 112764997695), None, (471014493069, 126811594393), None, None, (101062451425, 126975900596), None, (118320611021, 129770992349), None, None, (166309013133, 101931330592), None, None, None, (136986301536, 136986301549), None, None, (145739910596, 224215247070), None, (248618784507, 110497237895), None, (102040816535, 102040816496), None, None, None, None, (114795918962, 255102040677), (102659822568, 107326178518), None, None, None, (148760330650, 126721763287), None, (177252585306, 192023633674), (240357741610, 106204583786), None, (109797297148, 320945946803), None, (112359550696, 337078651742), (257510730045, 107296137372), (101156069323, 119219653406), None, None, None, None, None, (184831102957, 146590184923), None, None, (126270403383, 107791807980)]\n"
     ]
    },
    {
     "data": {
      "text/plain": [
       "89013607072065"
      ]
     },
     "execution_count": 133,
     "metadata": {},
     "output_type": "execute_result"
    }
   ],
   "source": [
    "dat = data\n",
    "sol1(dat)"
   ]
  },
  {
   "cell_type": "markdown",
   "metadata": {},
   "source": [
    "## thoughts"
   ]
  },
  {
   "cell_type": "markdown",
   "metadata": {},
   "source": [
    "- math-focused problem. Much easier if you see it as 2 equations of 2 unknowns"
   ]
  }
 ],
 "metadata": {
  "kernelspec": {
   "display_name": "pydidask",
   "language": "python",
   "name": "python3"
  },
  "language_info": {
   "codemirror_mode": {
    "name": "ipython",
    "version": 3
   },
   "file_extension": ".py",
   "mimetype": "text/x-python",
   "name": "python",
   "nbconvert_exporter": "python",
   "pygments_lexer": "ipython3",
   "version": "3.12.0"
  }
 },
 "nbformat": 4,
 "nbformat_minor": 2
}
