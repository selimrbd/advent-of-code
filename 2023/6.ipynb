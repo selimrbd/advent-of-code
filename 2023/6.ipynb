{
 "cells": [
  {
   "cell_type": "markdown",
   "metadata": {},
   "source": [
    "[LINK](https://adventofcode.com/2023/day/6)"
   ]
  },
  {
   "cell_type": "code",
   "execution_count": 20,
   "metadata": {},
   "outputs": [],
   "source": [
    "YEAR = 2023 \n",
    "DAY = 6\n",
    "\n",
    "from aocd import get_data\n",
    "import sys\n",
    "sys.path.append(\"..\")\n",
    "from config import load_config\n",
    "load_config()\n",
    "data = get_data(year=YEAR, day=DAY)"
   ]
  },
  {
   "cell_type": "markdown",
   "metadata": {},
   "source": [
    "# Part 1"
   ]
  },
  {
   "cell_type": "markdown",
   "metadata": {},
   "source": [
    "## Problem Statement"
   ]
  },
  {
   "cell_type": "markdown",
   "metadata": {},
   "source": [
    "The organizer brings you over to the area where the boat races are held. The boats are much smaller than you expected - they're actually toy boats, each with a big button on top. Holding down the button charges the boat, and releasing the button allows the boat to move. Boats move faster if their button was held longer, but time spent holding the button counts against the total race time. You can only hold the button at the start of the race, and boats don't move until the button is released.\n",
    "\n",
    "For example:"
   ]
  },
  {
   "cell_type": "code",
   "execution_count": 2,
   "metadata": {},
   "outputs": [],
   "source": [
    "samp = \"\"\"Time:      7  15   30\n",
    "Distance:  9  40  200\n",
    "\"\"\""
   ]
  },
  {
   "cell_type": "markdown",
   "metadata": {},
   "source": [
    "This document describes three races:\n",
    "\n",
    "- The first race lasts 7 milliseconds. The record distance in this race is 9 millimeters.\n",
    "- The second race lasts 15 milliseconds. The record distance in this race is 40 millimeters.\n",
    "- The third race lasts 30 milliseconds. The record distance in this race is 200 millimeters.\n",
    "- Your toy boat has a starting speed of zero millimeters per millisecond. For each whole millisecond you spend at the beginning of the race holding down the button, the boat's speed increases by one millimeter per millisecond.\n",
    "\n",
    "So, because the first race lasts 7 milliseconds, you only have a few options:\n",
    "\n",
    "- Don't hold the button at all (that is, hold it for 0 milliseconds) at the start of the race. The boat won't move; it will have traveled 0 millimeters by the end of the race.\n",
    "- Hold the button for 1 millisecond at the start of the race. Then, the boat will travel at a speed of 1 millimeter per millisecond for 6 milliseconds, reaching a total distance traveled of 6 millimeters.\n",
    "- Hold the button for 2 milliseconds, giving the boat a speed of 2 millimeters per millisecond. It will then get 5 milliseconds to move, reaching a total distance of 10 millimeters.\n",
    "- Hold the button for 3 milliseconds. After its remaining 4 milliseconds of travel time, the boat will have gone 12 millimeters.\n",
    "- Hold the button for 4 milliseconds. After its remaining 3 milliseconds of travel time, the boat will have gone 12 millimeters.\n",
    "- Hold the button for 5 milliseconds, causing the boat to travel a total of 10 millimeters.\n",
    "- Hold the button for 6 milliseconds, causing the boat to travel a total of 6 millimeters.\n",
    "- Hold the button for 7 milliseconds. That's the entire duration of the race. You never let go of the button. The boat can't move until you let go of the button. Please make sure you let go of the button so the boat gets to move. 0 millimeters.\n",
    "- Since the current record for this race is 9 millimeters, there are actually 4 different ways you could win: you could hold the button for 2, 3, 4, or 5 milliseconds at the start of the race.\n",
    "\n",
    "In the second race, you could hold the button for at least 4 milliseconds and at most 11 milliseconds and beat the record, a total of 8 different ways to win.\n",
    "\n",
    "In the third race, you could hold the button for at least 11 milliseconds and no more than 19 milliseconds and still beat the record, a total of 9 ways you could win.\n",
    "\n",
    "To see how much margin of error you have, determine the number of ways you can beat the record in each race; in this example, if you multiply these values together, you get 288 (4 * 8 * 9).\n",
    "\n",
    "Determine the number of ways you could beat the record in each race. What do you get if you multiply these numbers together?"
   ]
  },
  {
   "cell_type": "markdown",
   "metadata": {},
   "source": [
    "## try"
   ]
  },
  {
   "cell_type": "code",
   "execution_count": 7,
   "metadata": {},
   "outputs": [
    {
     "name": "stdout",
     "output_type": "stream",
     "text": [
      "Time:      7  15   30\n",
      "Distance:  9  40  200\n"
     ]
    }
   ],
   "source": [
    "times, distances = samp.splitlines()\n",
    "print(times)\n",
    "print(distances)"
   ]
  },
  {
   "cell_type": "code",
   "execution_count": null,
   "metadata": {},
   "outputs": [
    {
     "data": {
      "text/plain": [
       "'7 15 30'"
      ]
     },
     "execution_count": 12,
     "metadata": {},
     "output_type": "execute_result"
    }
   ],
   "source": [
    "import re\n",
    "\n",
    "re.sub(r'\\s+', ' ', times.split(':')[1].strip())"
   ]
  },
  {
   "cell_type": "code",
   "execution_count": 15,
   "metadata": {},
   "outputs": [
    {
     "data": {
      "text/plain": [
       "[7, 15, 30]"
      ]
     },
     "execution_count": 15,
     "metadata": {},
     "output_type": "execute_result"
    }
   ],
   "source": [
    "[int(n) for n in re.sub(r'\\s+', ' ', times.split(':')[1].strip()).split(' ')]"
   ]
  },
  {
   "cell_type": "code",
   "execution_count": 16,
   "metadata": {},
   "outputs": [
    {
     "data": {
      "text/plain": [
       "[9, 40, 200]"
      ]
     },
     "execution_count": 16,
     "metadata": {},
     "output_type": "execute_result"
    }
   ],
   "source": [
    "[int(n) for n in re.sub(r'\\s+', ' ', distances.split(':')[1].strip()).split(' ')]"
   ]
  },
  {
   "cell_type": "code",
   "execution_count": 17,
   "metadata": {},
   "outputs": [],
   "source": [
    "def format_input(dat: str) -> list[tuple[int, int]]:\n",
    "    ..."
   ]
  },
  {
   "cell_type": "code",
   "execution_count": 18,
   "metadata": {},
   "outputs": [],
   "source": [
    "import re\n",
    "def format_input(dat: str) -> list[tuple[int, int]]:\n",
    "    times, distances = dat.splitlines()\n",
    "    time_int = [int(n) for n in re.sub(r'\\s+', ' ', times.split(':')[1].strip()).split(' ')]\n",
    "    dist_int = [int(n) for n in re.sub(r'\\s+', ' ', distances.split(':')[1].strip()).split(' ')]\n",
    "    return [(t,d) for (t,d) in zip(time_int, dist_int)]"
   ]
  },
  {
   "cell_type": "code",
   "execution_count": 19,
   "metadata": {},
   "outputs": [
    {
     "data": {
      "text/plain": [
       "[(7, 9), (15, 40), (30, 200)]"
      ]
     },
     "execution_count": 19,
     "metadata": {},
     "output_type": "execute_result"
    }
   ],
   "source": [
    "dat = samp \n",
    "format_input(dat)"
   ]
  },
  {
   "cell_type": "code",
   "execution_count": 21,
   "metadata": {},
   "outputs": [
    {
     "data": {
      "text/plain": [
       "[(53, 250), (91, 1330), (67, 1081), (68, 1025)]"
      ]
     },
     "execution_count": 21,
     "metadata": {},
     "output_type": "execute_result"
    }
   ],
   "source": [
    "dat = data \n",
    "format_input(dat)"
   ]
  },
  {
   "cell_type": "markdown",
   "metadata": {},
   "source": [
    "seems we could solve this with brute force easily ?"
   ]
  },
  {
   "cell_type": "code",
   "execution_count": 25,
   "metadata": {},
   "outputs": [],
   "source": [
    "race = (7, 9)\n",
    "#race = (53, 250)\n",
    "t = race[0]\n",
    "d = race[1]"
   ]
  },
  {
   "cell_type": "code",
   "execution_count": 26,
   "metadata": {},
   "outputs": [
    {
     "data": {
      "text/plain": [
       "4"
      ]
     },
     "execution_count": 26,
     "metadata": {},
     "output_type": "execute_result"
    }
   ],
   "source": [
    "possible_outcomes = []\n",
    "sum([(i*(t-i) > d) for i in range(t)])"
   ]
  },
  {
   "cell_type": "code",
   "execution_count": null,
   "metadata": {},
   "outputs": [
    {
     "data": {
      "text/plain": [
       "4"
      ]
     },
     "execution_count": 27,
     "metadata": {},
     "output_type": "execute_result"
    }
   ],
   "source": [
    "race = (7, 9)\n",
    "#race = (53, 250)\n",
    "t = race[0]\n",
    "d = race[1]\n",
    "possible_outcomes = []\n",
    "\n",
    "sum([(i*(t-i) > d) for i in range(t)])"
   ]
  },
  {
   "cell_type": "code",
   "execution_count": 28,
   "metadata": {},
   "outputs": [
    {
     "data": {
      "text/plain": [
       "8"
      ]
     },
     "execution_count": 28,
     "metadata": {},
     "output_type": "execute_result"
    }
   ],
   "source": [
    "race = (15, 40)\n",
    "#race = (53, 250)\n",
    "t = race[0]\n",
    "d = race[1]\n",
    "possible_outcomes = []\n",
    "\n",
    "sum([(i*(t-i) > d) for i in range(t)])"
   ]
  },
  {
   "cell_type": "code",
   "execution_count": 29,
   "metadata": {},
   "outputs": [
    {
     "data": {
      "text/plain": [
       "9"
      ]
     },
     "execution_count": 29,
     "metadata": {},
     "output_type": "execute_result"
    }
   ],
   "source": [
    "race = (30, 200)\n",
    "#race = (53, 250)\n",
    "t = race[0]\n",
    "d = race[1]\n",
    "possible_outcomes = []\n",
    "\n",
    "sum([(i*(t-i) > d) for i in range(t)])"
   ]
  },
  {
   "cell_type": "code",
   "execution_count": 30,
   "metadata": {},
   "outputs": [],
   "source": [
    "def get_nb_outcomes(race: tuple[int, int]) -> int:\n",
    "    ..."
   ]
  },
  {
   "cell_type": "code",
   "execution_count": 31,
   "metadata": {},
   "outputs": [],
   "source": [
    "def get_nb_outcomes(race: tuple[int, int]) -> int:\n",
    "    t, d = race \n",
    "    return sum([(i*(t-i) > d) for i in range(t)])"
   ]
  },
  {
   "cell_type": "code",
   "execution_count": 33,
   "metadata": {},
   "outputs": [
    {
     "data": {
      "text/plain": [
       "4"
      ]
     },
     "execution_count": 33,
     "metadata": {},
     "output_type": "execute_result"
    }
   ],
   "source": [
    "race = (7, 9)\n",
    "get_nb_outcomes(race)"
   ]
  },
  {
   "cell_type": "code",
   "execution_count": 34,
   "metadata": {},
   "outputs": [
    {
     "data": {
      "text/plain": [
       "60"
      ]
     },
     "execution_count": 34,
     "metadata": {},
     "output_type": "execute_result"
    }
   ],
   "source": [
    "from functools import reduce\n",
    "f = [2, 3, 10]\n",
    "reduce(lambda x,y: x*y, f)\n"
   ]
  },
  {
   "cell_type": "code",
   "execution_count": 35,
   "metadata": {},
   "outputs": [],
   "source": [
    "from functools import reduce \n",
    "def sol_2023_6_1(dat: str) -> int:\n",
    "    races = format_input(dat)\n",
    "    nb_out = [get_nb_outcomes(race) for race in races]\n",
    "    return reduce(lambda x,y: x*y, nb_out)      "
   ]
  },
  {
   "cell_type": "code",
   "execution_count": 37,
   "metadata": {},
   "outputs": [
    {
     "data": {
      "text/plain": [
       "625968"
      ]
     },
     "execution_count": 37,
     "metadata": {},
     "output_type": "execute_result"
    }
   ],
   "source": [
    "dat = data\n",
    "sol_2023_6_1(dat)"
   ]
  },
  {
   "cell_type": "markdown",
   "metadata": {},
   "source": [
    "# part 2"
   ]
  },
  {
   "cell_type": "code",
   "execution_count": 46,
   "metadata": {},
   "outputs": [],
   "source": [
    "def format_input(dat: str) -> tuple[int, int]:\n",
    "    ..."
   ]
  },
  {
   "cell_type": "code",
   "execution_count": 47,
   "metadata": {},
   "outputs": [
    {
     "name": "stdout",
     "output_type": "stream",
     "text": [
      "Time:      7  15   30\n",
      "Distance:  9  40  200\n"
     ]
    }
   ],
   "source": [
    "times, distances = samp.splitlines()\n",
    "print(times)\n",
    "print(distances)"
   ]
  },
  {
   "cell_type": "code",
   "execution_count": 58,
   "metadata": {},
   "outputs": [],
   "source": [
    "def format_input(dat: str) -> tuple[int, int]:\n",
    "    times, distances = dat.splitlines()\n",
    "    t = int(re.sub(r'\\s', '', times.split(':')[1]))\n",
    "    d = int(re.sub(r'\\s', '', distances.split(':')[1]))\n",
    "    return (t,d)"
   ]
  },
  {
   "cell_type": "code",
   "execution_count": 59,
   "metadata": {},
   "outputs": [],
   "source": [
    "def sol_2023_6_2(dat: str) -> int:\n",
    "    race = format_input(dat)\n",
    "    return get_nb_outcomes(race)"
   ]
  },
  {
   "cell_type": "code",
   "execution_count": 60,
   "metadata": {},
   "outputs": [
    {
     "data": {
      "text/plain": [
       "71503"
      ]
     },
     "execution_count": 60,
     "metadata": {},
     "output_type": "execute_result"
    }
   ],
   "source": [
    "dat = samp \n",
    "sol_2023_6_2(dat)"
   ]
  },
  {
   "cell_type": "code",
   "execution_count": 61,
   "metadata": {},
   "outputs": [
    {
     "data": {
      "text/plain": [
       "43663323"
      ]
     },
     "execution_count": 61,
     "metadata": {},
     "output_type": "execute_result"
    }
   ],
   "source": [
    "dat = data \n",
    "sol_2023_6_2(dat)"
   ]
  },
  {
   "cell_type": "markdown",
   "metadata": {},
   "source": [
    "Conclusions: \n",
    "\n",
    "- sometimes bruteforce just works\n",
    "- problem of day (n+1) isn't necessarily harder than problem of day n"
   ]
  }
 ],
 "metadata": {
  "kernelspec": {
   "display_name": "pydidask",
   "language": "python",
   "name": "python3"
  },
  "language_info": {
   "codemirror_mode": {
    "name": "ipython",
    "version": 3
   },
   "file_extension": ".py",
   "mimetype": "text/x-python",
   "name": "python",
   "nbconvert_exporter": "python",
   "pygments_lexer": "ipython3",
   "version": "3.12.0"
  }
 },
 "nbformat": 4,
 "nbformat_minor": 2
}
