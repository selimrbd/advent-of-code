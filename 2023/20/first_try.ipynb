{
 "cells": [
  {
   "cell_type": "markdown",
   "metadata": {},
   "source": [
    "# Advent of Code - Day 20 Year 2023"
   ]
  },
  {
   "cell_type": "code",
   "execution_count": 1,
   "metadata": {},
   "outputs": [
    {
     "name": "stdout",
     "output_type": "stream",
     "text": [
      "nb examples: 2\n",
      "problem link:\n",
      "https://adventofcode.com/2023/day/20\n"
     ]
    }
   ],
   "source": [
    "DAY = 20\n",
    "YEAR = 2023\n",
    "#######\n",
    "import sys \n",
    "sys.path.append('../../')\n",
    "from utils import get_pb_data, rephrase_pb, open_link\n",
    "link, data, exmp, ae1, ae2, exmps, out = get_pb_data(DAY, YEAR)\n",
    "\n",
    "print('problem link:')\n",
    "print(link)"
   ]
  },
  {
   "cell_type": "code",
   "execution_count": 2,
   "metadata": {},
   "outputs": [
    {
     "data": {
      "text/markdown": [
       "Let me rephrase this puzzle:\n",
       "\n",
       "**You need to simulate a system of connected modules that process and send pulses.** \n",
       "\n",
       "**Three types of modules exist:**\n",
       "- **Broadcaster**: sends received pulse to all destinations\n",
       "- **Flip-flop (%)**: initially off, ignores high pulses, switches state on low pulse\n",
       "- **Conjunction (&)**: remembers last pulse from each input, sends low pulse if all inputs are high, otherwise sends high pulse\n",
       "\n",
       "**Rules:**\n",
       "- Button sends a low pulse to broadcaster\n",
       "- Must wait for all pulses to be processed before next button push\n",
       "- Pulses are processed in order of sending\n",
       "\n",
       "**Goal:** Calculate **total low pulses × total high pulses** after **1000 button presses**\n",
       "\n",
       "**Input format looks like:**\n",
       "```\n",
       "broadcaster -> a, b, c\n",
       "%a -> b\n",
       "%b -> c\n",
       "%c -> inv\n",
       "&inv -> a\n",
       "```\n",
       "\n",
       "**Example for one button press:**\n",
       "```\n",
       "button -low-> broadcaster\n",
       "broadcaster -low-> a\n",
       "broadcaster -low-> b\n",
       "broadcaster -low-> c\n",
       "a -high-> b\n",
       "b -high-> c\n",
       "c -high-> inv\n",
       "inv -low-> a\n",
       "```"
      ],
      "text/plain": [
       "<IPython.core.display.Markdown object>"
      ]
     },
     "execution_count": 2,
     "metadata": {},
     "output_type": "execute_result"
    }
   ],
   "source": [
    "await rephrase_pb(DAY, YEAR, 1)"
   ]
  },
  {
   "cell_type": "markdown",
   "metadata": {},
   "source": [
    "## part 2"
   ]
  },
  {
   "cell_type": "code",
   "execution_count": null,
   "metadata": {},
   "outputs": [],
   "source": [
    "await rephrase_pb(DAY, YEAR, 2)"
   ]
  }
 ],
 "metadata": {
  "kernelspec": {
   "display_name": "pydidask",
   "language": "python",
   "name": "python3"
  },
  "language_info": {
   "codemirror_mode": {
    "name": "ipython",
    "version": 3
   },
   "file_extension": ".py",
   "mimetype": "text/x-python",
   "name": "python",
   "nbconvert_exporter": "python",
   "pygments_lexer": "ipython3",
   "version": "3.12.0"
  }
 },
 "nbformat": 4,
 "nbformat_minor": 2
}
