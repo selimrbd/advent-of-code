{
 "cells": [
  {
   "cell_type": "markdown",
   "metadata": {},
   "source": [
    "# Day 9 - AoC 2024"
   ]
  },
  {
   "cell_type": "markdown",
   "metadata": {},
   "source": [
    "[LINK](https://adventofcode.com/2023/day/9)"
   ]
  },
  {
   "cell_type": "code",
   "execution_count": 1,
   "metadata": {},
   "outputs": [],
   "source": [
    "YEAR = 2023 \n",
    "DAY = 9\n",
    "\n",
    "from aocd import get_data\n",
    "import sys\n",
    "sys.path.append(\"..\")\n",
    "from config import load_config\n",
    "load_config()\n",
    "data = get_data(year=YEAR, day=DAY)"
   ]
  },
  {
   "cell_type": "code",
   "execution_count": 2,
   "metadata": {},
   "outputs": [],
   "source": [
    "samp = \"\"\"0 3 6 9 12 15\n",
    "1 3 6 10 15 21\n",
    "10 13 16 21 30 45\n",
    "\"\"\""
   ]
  },
  {
   "cell_type": "code",
   "execution_count": 3,
   "metadata": {},
   "outputs": [],
   "source": [
    "def format_input(dat: str) -> list[list[int]]:\n",
    "    return [[int(n) for n in l.split(' ')] for l in dat.splitlines()]"
   ]
  },
  {
   "cell_type": "code",
   "execution_count": 6,
   "metadata": {},
   "outputs": [
    {
     "data": {
      "text/plain": [
       "[[0, 3, 6, 9, 12, 15], [1, 3, 6, 10, 15, 21], [10, 13, 16, 21, 30, 45]]"
      ]
     },
     "execution_count": 6,
     "metadata": {},
     "output_type": "execute_result"
    }
   ],
   "source": [
    "sd = format_input(samp)\n",
    "sd"
   ]
  },
  {
   "cell_type": "code",
   "execution_count": 8,
   "metadata": {},
   "outputs": [
    {
     "data": {
      "text/plain": [
       "[0, 3, 6, 9, 12, 15]"
      ]
     },
     "execution_count": 8,
     "metadata": {},
     "output_type": "execute_result"
    }
   ],
   "source": [
    "d1 = sd[0]\n",
    "d1"
   ]
  },
  {
   "cell_type": "code",
   "execution_count": null,
   "metadata": {},
   "outputs": [
    {
     "data": {
      "text/plain": [
       "[3, 3, 3, 3, 3]"
      ]
     },
     "execution_count": 11,
     "metadata": {},
     "output_type": "execute_result"
    }
   ],
   "source": []
  },
  {
   "cell_type": "code",
   "execution_count": 14,
   "metadata": {},
   "outputs": [
    {
     "data": {
      "text/plain": [
       "[[0, 3, 6, 9, 12, 15], [3, 3, 3, 3, 3], [0, 0, 0, 0]]"
      ]
     },
     "execution_count": 14,
     "metadata": {},
     "output_type": "execute_result"
    }
   ],
   "source": [
    "seq = sd[0]\n",
    "diff_seqs = [seq]\n",
    "while not all([s == 0 for s in seq]):\n",
    "    seq = [seq[i+1] - seq[i] for i in range(len(seq)-1)]\n",
    "    diff_seqs.append(seq)\n",
    "diff_seqs"
   ]
  },
  {
   "cell_type": "code",
   "execution_count": 15,
   "metadata": {},
   "outputs": [],
   "source": [
    "def build_diff_seqs(seq: list[int]) -> list[list[int]]:\n",
    "    ..."
   ]
  },
  {
   "cell_type": "code",
   "execution_count": 16,
   "metadata": {},
   "outputs": [],
   "source": [
    "def build_diff_seqs(seq: list[int]) -> list[list[int]]:\n",
    "    diff_seqs = [seq]\n",
    "    while not all([s == 0 for s in seq]):\n",
    "        seq = [seq[i+1] - seq[i] for i in range(len(seq)-1)]\n",
    "        diff_seqs.append(seq)\n",
    "    return diff_seqs"
   ]
  },
  {
   "cell_type": "code",
   "execution_count": 24,
   "metadata": {},
   "outputs": [
    {
     "name": "stdout",
     "output_type": "stream",
     "text": [
      "seq: [0, 3, 6, 9, 12, 15]\n",
      "[0, 3, 6, 9, 12, 15]\n",
      "  [3, 3, 3, 3, 3]\n",
      "    [0, 0, 0, 0]\n"
     ]
    }
   ],
   "source": [
    "seq = sd[0]\n",
    "print(f'seq: {seq}')\n",
    "diff_seqs = build_diff_seqs(seq)\n",
    "display_diff_seqs(diff_seqs)"
   ]
  },
  {
   "cell_type": "code",
   "execution_count": 23,
   "metadata": {},
   "outputs": [],
   "source": [
    "def display_diff_seqs(diff_seqs: list[list[int]]):\n",
    "    for i, r in enumerate(diff_seqs):\n",
    "        print(f'{i*\"  \"}{r}')\n"
   ]
  },
  {
   "cell_type": "code",
   "execution_count": 25,
   "metadata": {},
   "outputs": [
    {
     "name": "stdout",
     "output_type": "stream",
     "text": [
      "seq: [1, 3, 6, 10, 15, 21]\n",
      "[1, 3, 6, 10, 15, 21]\n",
      "  [2, 3, 4, 5, 6]\n",
      "    [1, 1, 1, 1]\n",
      "      [0, 0, 0]\n"
     ]
    }
   ],
   "source": [
    "seq = sd[1]\n",
    "print(f'seq: {seq}')\n",
    "diff_seqs = build_diff_seqs(seq)\n",
    "display_diff_seqs(diff_seqs)"
   ]
  },
  {
   "cell_type": "code",
   "execution_count": 26,
   "metadata": {},
   "outputs": [
    {
     "name": "stdout",
     "output_type": "stream",
     "text": [
      "seq: [10, 13, 16, 21, 30, 45]\n",
      "[10, 13, 16, 21, 30, 45]\n",
      "  [3, 3, 5, 9, 15]\n",
      "    [0, 2, 4, 6]\n",
      "      [2, 2, 2]\n",
      "        [0, 0]\n"
     ]
    }
   ],
   "source": [
    "seq = sd[2]\n",
    "print(f'seq: {seq}')\n",
    "diff_seqs = build_diff_seqs(seq)\n",
    "display_diff_seqs(diff_seqs)"
   ]
  },
  {
   "cell_type": "code",
   "execution_count": 32,
   "metadata": {},
   "outputs": [
    {
     "name": "stdout",
     "output_type": "stream",
     "text": [
      "min size of last seq: 2\n",
      "max size of last seq: 19\n"
     ]
    }
   ],
   "source": [
    "dat = data \n",
    "all_diff_seqs = [build_diff_seqs(seq) for seq in format_input(dat)]\n",
    "all_last = [len(l[-1]) for l in all_diff_seqs]\n",
    "print(f'min size of last seq: {min(all_last)}')\n",
    "print(f'max size of last seq: {max(all_last)}')"
   ]
  },
  {
   "cell_type": "code",
   "execution_count": 33,
   "metadata": {},
   "outputs": [
    {
     "name": "stdout",
     "output_type": "stream",
     "text": [
      "min size of first seq: 21\n",
      "max size of first seq: 21\n"
     ]
    }
   ],
   "source": [
    "print(f'min size of first seq: {min([len(l[0]) for l in all_diff_seqs])}')\n",
    "print(f'max size of first seq: {max([len(l[0]) for l in all_diff_seqs])}')"
   ]
  },
  {
   "cell_type": "code",
   "execution_count": 35,
   "metadata": {},
   "outputs": [
    {
     "name": "stdout",
     "output_type": "stream",
     "text": [
      "nb sequences:  200\n"
     ]
    }
   ],
   "source": [
    "print('nb sequences: ', len(all_diff_seqs))"
   ]
  },
  {
   "cell_type": "code",
   "execution_count": 41,
   "metadata": {},
   "outputs": [],
   "source": [
    "dat = samp \n",
    "all_diff_seqs = [build_diff_seqs(seq) for seq in format_input(dat)]"
   ]
  },
  {
   "cell_type": "code",
   "execution_count": 42,
   "metadata": {},
   "outputs": [
    {
     "data": {
      "text/plain": [
       "[[0, 3, 6, 9, 12, 15], [3, 3, 3, 3, 3], [0, 0, 0, 0]]"
      ]
     },
     "execution_count": 42,
     "metadata": {},
     "output_type": "execute_result"
    }
   ],
   "source": [
    "diff_seqs = all_diff_seqs[0]\n",
    "diff_seqs"
   ]
  },
  {
   "cell_type": "code",
   "execution_count": 39,
   "metadata": {},
   "outputs": [
    {
     "name": "stdout",
     "output_type": "stream",
     "text": [
      "1\n",
      "0\n"
     ]
    }
   ],
   "source": [
    "for i in reversed(range(len(diff_seqs)-1)):\n",
    "    print(i)"
   ]
  },
  {
   "cell_type": "code",
   "execution_count": 40,
   "metadata": {},
   "outputs": [
    {
     "data": {
      "text/plain": [
       "18"
      ]
     },
     "execution_count": 40,
     "metadata": {},
     "output_type": "execute_result"
    }
   ],
   "source": [
    "val = 0\n",
    "for i in reversed(range(len(diff_seqs)-1)):\n",
    "    val += diff_seqs[i][-1]\n",
    "val"
   ]
  },
  {
   "cell_type": "code",
   "execution_count": 43,
   "metadata": {},
   "outputs": [
    {
     "data": {
      "text/plain": [
       "28"
      ]
     },
     "execution_count": 43,
     "metadata": {},
     "output_type": "execute_result"
    }
   ],
   "source": [
    "j = 1\n",
    "diff_seqs = all_diff_seqs[j]\n",
    "val = 0\n",
    "for i in reversed(range(len(diff_seqs)-1)):\n",
    "    val += diff_seqs[i][-1]\n",
    "val"
   ]
  },
  {
   "cell_type": "code",
   "execution_count": 44,
   "metadata": {},
   "outputs": [
    {
     "data": {
      "text/plain": [
       "68"
      ]
     },
     "execution_count": 44,
     "metadata": {},
     "output_type": "execute_result"
    }
   ],
   "source": [
    "j = 2\n",
    "diff_seqs = all_diff_seqs[j]\n",
    "val = 0\n",
    "for i in reversed(range(len(diff_seqs)-1)):\n",
    "    val += diff_seqs[i][-1]\n",
    "val"
   ]
  },
  {
   "cell_type": "code",
   "execution_count": 45,
   "metadata": {},
   "outputs": [],
   "source": [
    "def predict_value(seq: list[int]):\n",
    "    diff_seqs = build_diff_seqs(seq)\n",
    "    val = 0\n",
    "    for i in reversed(range(len(diff_seqs)-1)):\n",
    "        val += diff_seqs[i][-1]\n",
    "    return val "
   ]
  },
  {
   "cell_type": "code",
   "execution_count": 48,
   "metadata": {},
   "outputs": [
    {
     "data": {
      "text/plain": [
       "18"
      ]
     },
     "execution_count": 48,
     "metadata": {},
     "output_type": "execute_result"
    }
   ],
   "source": [
    "j = 0\n",
    "dat = samp \n",
    "sequences = format_input(dat)\n",
    "seq = sequences[j]\n",
    "predict_value(seq)"
   ]
  },
  {
   "cell_type": "code",
   "execution_count": 49,
   "metadata": {},
   "outputs": [],
   "source": [
    "def solve_2023_9_1(dat: str) -> int:\n",
    "    sequences = format_input(dat)\n",
    "    return sum([predict_value(seq) for seq in sequences])"
   ]
  },
  {
   "cell_type": "code",
   "execution_count": 51,
   "metadata": {},
   "outputs": [
    {
     "data": {
      "text/plain": [
       "1877825184"
      ]
     },
     "execution_count": 51,
     "metadata": {},
     "output_type": "execute_result"
    }
   ],
   "source": [
    "dat = data\n",
    "solve_2023_9_1(dat)"
   ]
  },
  {
   "cell_type": "markdown",
   "metadata": {},
   "source": [
    "## Part 2"
   ]
  },
  {
   "cell_type": "code",
   "execution_count": 53,
   "metadata": {},
   "outputs": [
    {
     "name": "stdout",
     "output_type": "stream",
     "text": [
      "[10, 13, 16, 21, 30, 45]\n",
      "  [3, 3, 5, 9, 15]\n",
      "    [0, 2, 4, 6]\n",
      "      [2, 2, 2]\n",
      "        [0, 0]\n"
     ]
    }
   ],
   "source": [
    "j = 2\n",
    "diff_seqs = all_diff_seqs[j]\n",
    "display_diff_seqs(diff_seqs)"
   ]
  },
  {
   "cell_type": "code",
   "execution_count": 56,
   "metadata": {},
   "outputs": [
    {
     "name": "stdout",
     "output_type": "stream",
     "text": [
      "0\n",
      "2\n",
      "-2\n",
      "5\n"
     ]
    },
    {
     "data": {
      "text/plain": [
       "5"
      ]
     },
     "execution_count": 56,
     "metadata": {},
     "output_type": "execute_result"
    }
   ],
   "source": [
    "j = 2\n",
    "diff_seqs = all_diff_seqs[j]\n",
    "val = 0\n",
    "for i in reversed(range(len(diff_seqs)-1)):\n",
    "    print(val)\n",
    "    val = diff_seqs[i][0] - val\n",
    "val "
   ]
  },
  {
   "cell_type": "code",
   "execution_count": 58,
   "metadata": {},
   "outputs": [],
   "source": [
    "def predict_value_begin(seq: list[int]):\n",
    "    diff_seqs = build_diff_seqs(seq)\n",
    "    val = 0\n",
    "    for i in reversed(range(len(diff_seqs)-1)):\n",
    "        val = diff_seqs[i][0] - val\n",
    "    return val"
   ]
  },
  {
   "cell_type": "code",
   "execution_count": 62,
   "metadata": {},
   "outputs": [
    {
     "data": {
      "text/plain": [
       "-3"
      ]
     },
     "execution_count": 62,
     "metadata": {},
     "output_type": "execute_result"
    }
   ],
   "source": [
    "j = 0\n",
    "dat = samp \n",
    "sequences = format_input(dat)\n",
    "seq = sequences[j]\n",
    "predict_value_begin(seq)"
   ]
  },
  {
   "cell_type": "code",
   "execution_count": 64,
   "metadata": {},
   "outputs": [],
   "source": [
    "def solve_2023_9_2(dat: str) -> int:\n",
    "    sequences = format_input(dat)\n",
    "    return sum([predict_value_begin(seq) for seq in sequences])"
   ]
  },
  {
   "cell_type": "code",
   "execution_count": 66,
   "metadata": {},
   "outputs": [
    {
     "data": {
      "text/plain": [
       "1108"
      ]
     },
     "execution_count": 66,
     "metadata": {},
     "output_type": "execute_result"
    }
   ],
   "source": [
    "dat = data \n",
    "solve_2023_9_2(dat)"
   ]
  },
  {
   "cell_type": "markdown",
   "metadata": {},
   "source": [
    "## Conclusion"
   ]
  },
  {
   "cell_type": "markdown",
   "metadata": {},
   "source": [
    "- I feel I have \"dodged a bullet\" without meaning (?)\n",
    "- my intuition is that the problem is playing on the performance difference between appending and prepending a value in a list"
   ]
  }
 ],
 "metadata": {
  "kernelspec": {
   "display_name": "pydidask",
   "language": "python",
   "name": "python3"
  },
  "language_info": {
   "codemirror_mode": {
    "name": "ipython",
    "version": 3
   },
   "file_extension": ".py",
   "mimetype": "text/x-python",
   "name": "python",
   "nbconvert_exporter": "python",
   "pygments_lexer": "ipython3",
   "version": "3.12.0"
  }
 },
 "nbformat": 4,
 "nbformat_minor": 2
}
