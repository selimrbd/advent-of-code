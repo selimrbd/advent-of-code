{
 "cells": [
  {
   "cell_type": "markdown",
   "metadata": {},
   "source": [
    "# Advent of Code - Day 12 Year 2023"
   ]
  },
  {
   "cell_type": "code",
   "execution_count": 1,
   "metadata": {},
   "outputs": [
    {
     "name": "stdout",
     "output_type": "stream",
     "text": [
      "nb examples: 1\n",
      "problem link: https://adventofcode.com/2023/day/12\n"
     ]
    }
   ],
   "source": [
    "DAY = 12\n",
    "YEAR = 2023\n",
    "#######\n",
    "import json\n",
    "import sys \n",
    "sys.path.append('../../')\n",
    "from utils import get_pb_data, rephrase_pb, open_link, render_json\n",
    "link, data, exmp, ae1, ae2, exmps, out = get_pb_data(DAY, YEAR)\n",
    "\n",
    "print(f'problem link: {link}')"
   ]
  },
  {
   "cell_type": "code",
   "execution_count": 2,
   "metadata": {},
   "outputs": [],
   "source": [
    "# with open(\"./_puzzle_data.json\", \"r\") as f: inp = json.loads(f.read())\n",
    "# render_json(inp)"
   ]
  },
  {
   "cell_type": "code",
   "execution_count": 3,
   "metadata": {},
   "outputs": [
    {
     "data": {
      "text/markdown": [
       "**Problem**: Given rows of springs with their conditions (operational \".\", damaged \"#\", or unknown \"?\") and groups of consecutive damaged springs, find all possible valid arrangements.\n",
       " \n",
       "**Objective**: Calculate the sum of all possible valid arrangements for each row.\n",
       " \n",
       "**A valid arrangement must**:\n",
       "- Respect the sequence of groups provided\n",
       "- Have groups separated by at least one operational spring\n",
       "- Match the known positions (# and .) in the input\n",
       " \n",
       "**Input format** looks like:\n",
       "```\n",
       "???.### 1,1,3\n",
       ".??..??...?##. 1,1,3\n",
       "?#?#?#?#?#?#?#? 1,3,1,6\n",
       "????.#...#... 4,1,1\n",
       "????.######..#####. 1,6,5\n",
       "?###???????? 3,2,1\n",
       "```\n",
       "Where:\n",
       "- Left part: string showing spring conditions (?, #, .)\n",
       "- Right part: numbers indicating consecutive damaged springs\n",
       " \n",
       "**Output needed**: Sum of all possible arrangements for all rows"
      ],
      "text/plain": [
       "<IPython.core.display.Markdown object>"
      ]
     },
     "execution_count": 3,
     "metadata": {},
     "output_type": "execute_result"
    }
   ],
   "source": [
    "await rephrase_pb(DAY, YEAR, 1)"
   ]
  },
  {
   "cell_type": "code",
   "execution_count": 8,
   "metadata": {},
   "outputs": [
    {
     "data": {
      "text/plain": [
       "'???.### 1,1,3'"
      ]
     },
     "execution_count": 8,
     "metadata": {},
     "output_type": "execute_result"
    }
   ],
   "source": [
    "dat = exmp \n",
    "lines = dat.splitlines()\n",
    "e = lines[0]\n",
    "e"
   ]
  },
  {
   "cell_type": "code",
   "execution_count": 11,
   "metadata": {},
   "outputs": [
    {
     "data": {
      "text/plain": [
       "[1, 1, 3]"
      ]
     },
     "execution_count": 11,
     "metadata": {},
     "output_type": "execute_result"
    }
   ],
   "source": [
    "pat = e.split(' ')[0]\n",
    "seq = [int(n) for n in e.split(' ')[1].split(',')]\n",
    "seq"
   ]
  },
  {
   "cell_type": "code",
   "execution_count": 12,
   "metadata": {},
   "outputs": [
    {
     "data": {
      "text/plain": [
       "'???.###'"
      ]
     },
     "execution_count": 12,
     "metadata": {},
     "output_type": "execute_result"
    }
   ],
   "source": [
    "pat"
   ]
  },
  {
   "cell_type": "code",
   "execution_count": 13,
   "metadata": {},
   "outputs": [],
   "source": [
    "## possibilities: . and #"
   ]
  },
  {
   "cell_type": "code",
   "execution_count": 14,
   "metadata": {},
   "outputs": [],
   "source": [
    "## DFS is possible here ?"
   ]
  },
  {
   "cell_type": "code",
   "execution_count": 15,
   "metadata": {},
   "outputs": [],
   "source": [
    "## let's first determine if a pattern is valid"
   ]
  },
  {
   "cell_type": "code",
   "execution_count": 26,
   "metadata": {},
   "outputs": [],
   "source": [
    "def is_valid(pat: str, seq: list[int]) -> bool:\n",
    "    ..."
   ]
  },
  {
   "cell_type": "code",
   "execution_count": 21,
   "metadata": {},
   "outputs": [
    {
     "data": {
      "text/plain": [
       "'.##...###'"
      ]
     },
     "execution_count": 21,
     "metadata": {},
     "output_type": "execute_result"
    }
   ],
   "source": [
    "pat = '.##...###'\n",
    "seq = [1,1,3]\n",
    "pat"
   ]
  },
  {
   "cell_type": "code",
   "execution_count": 25,
   "metadata": {},
   "outputs": [
    {
     "data": {
      "text/plain": [
       "True"
      ]
     },
     "execution_count": 25,
     "metadata": {},
     "output_type": "execute_result"
    }
   ],
   "source": [
    "[len(s) for s in pat.split('.') if s != '']"
   ]
  },
  {
   "cell_type": "code",
   "execution_count": 27,
   "metadata": {},
   "outputs": [],
   "source": [
    "def is_valid(pat: str, seq: list[int]) -> bool:\n",
    "    brok_seq = [len(s) for s in pat.split('.') if s != '']\n",
    "    return brok_seq == seq"
   ]
  },
  {
   "cell_type": "code",
   "execution_count": 29,
   "metadata": {},
   "outputs": [
    {
     "data": {
      "text/plain": [
       "True"
      ]
     },
     "execution_count": 29,
     "metadata": {},
     "output_type": "execute_result"
    }
   ],
   "source": [
    "pat = '.##...###'\n",
    "seq = [2,3]\n",
    "is_valid(pat, seq)"
   ]
  },
  {
   "cell_type": "code",
   "execution_count": 30,
   "metadata": {},
   "outputs": [],
   "source": [
    "## calculate all the combinations possible"
   ]
  },
  {
   "cell_type": "code",
   "execution_count": 41,
   "metadata": {},
   "outputs": [
    {
     "data": {
      "text/plain": [
       "[('.', '.', '.'),\n",
       " ('.', '.', '#'),\n",
       " ('.', '#', '.'),\n",
       " ('.', '#', '#'),\n",
       " ('#', '.', '.'),\n",
       " ('#', '.', '#'),\n",
       " ('#', '#', '.'),\n",
       " ('#', '#', '#')]"
      ]
     },
     "execution_count": 41,
     "metadata": {},
     "output_type": "execute_result"
    }
   ],
   "source": [
    "pat = \"???.###\"\n",
    "from itertools import product\n",
    "nb = sum([c == \"?\" for c in pat])\n",
    "\n",
    "options = list(product([\".\", \"#\"], repeat=nb))\n",
    "options"
   ]
  },
  {
   "cell_type": "code",
   "execution_count": 46,
   "metadata": {},
   "outputs": [
    {
     "data": {
      "text/plain": [
       "<generator object <genexpr> at 0x10cc55be0>"
      ]
     },
     "execution_count": 46,
     "metadata": {},
     "output_type": "execute_result"
    }
   ],
   "source": [
    "options = ((x for x in tup) for tup in product([\".\", \"#\"], repeat=nb))\n",
    "options"
   ]
  },
  {
   "cell_type": "code",
   "execution_count": 48,
   "metadata": {},
   "outputs": [],
   "source": [
    "## replacement"
   ]
  },
  {
   "cell_type": "code",
   "execution_count": 49,
   "metadata": {},
   "outputs": [
    {
     "data": {
      "text/plain": [
       "'..#.'"
      ]
     },
     "execution_count": 49,
     "metadata": {},
     "output_type": "execute_result"
    }
   ],
   "source": [
    "pat = \"????\"\n",
    "o = (x for x in [\".\", \".\", \"#\", \".\"])\n",
    "''.join(next(o) if c == '?' else c for c in pat)"
   ]
  },
  {
   "cell_type": "code",
   "execution_count": 51,
   "metadata": {},
   "outputs": [],
   "source": [
    "def build_pat(pat: str, o) -> str:\n",
    "    return ''.join(next(o) if c == '?' else c for c in pat)"
   ]
  },
  {
   "cell_type": "code",
   "execution_count": 53,
   "metadata": {},
   "outputs": [
    {
     "data": {
      "text/plain": [
       "'..#.'"
      ]
     },
     "execution_count": 53,
     "metadata": {},
     "output_type": "execute_result"
    }
   ],
   "source": [
    "pat = \"????\"\n",
    "o = (x for x in [\".\", \".\", \"#\", \".\"])\n",
    "build_pat(pat, o)"
   ]
  },
  {
   "cell_type": "code",
   "execution_count": 55,
   "metadata": {},
   "outputs": [],
   "source": [
    "def build_options(pat: str):\n",
    "    nb = sum([c == \"?\" for c in pat])\n",
    "    return ((x for x in tup) for tup in product([\".\", \"#\"], repeat=nb))"
   ]
  },
  {
   "cell_type": "code",
   "execution_count": 64,
   "metadata": {},
   "outputs": [
    {
     "data": {
      "text/plain": [
       "2"
      ]
     },
     "execution_count": 64,
     "metadata": {},
     "output_type": "execute_result"
    }
   ],
   "source": [
    "pat = '.??...###'\n",
    "seq = [1,3]\n",
    "cnt = 0\n",
    "os = build_options(pat)\n",
    "for o in os:\n",
    "    cnt += is_valid(build_pat(pat, o), seq)    \n",
    "cnt"
   ]
  },
  {
   "cell_type": "code",
   "execution_count": 65,
   "metadata": {},
   "outputs": [],
   "source": [
    "def nb_possib(pat, seq):\n",
    "    cnt = 0\n",
    "    os = build_options(pat)\n",
    "    for o in os:\n",
    "        cnt += is_valid(build_pat(pat, o), seq)    \n",
    "    return cnt"
   ]
  },
  {
   "cell_type": "code",
   "execution_count": 70,
   "metadata": {},
   "outputs": [],
   "source": [
    "def _fmt(dat: str):\n",
    "    ls = dat.splitlines()\n",
    "    return [(l.split(' ')[0], [int(n) for n in l.split(' ')[1].split(',')]) for l in ls]"
   ]
  },
  {
   "cell_type": "code",
   "execution_count": 73,
   "metadata": {},
   "outputs": [
    {
     "data": {
      "text/plain": [
       "[('???.###', [1, 1, 3]),\n",
       " ('.??..??...?##.', [1, 1, 3]),\n",
       " ('?#?#?#?#?#?#?#?', [1, 3, 1, 6]),\n",
       " ('????.#...#...', [4, 1, 1]),\n",
       " ('????.######..#####.', [1, 6, 5]),\n",
       " ('?###????????', [3, 2, 1])]"
      ]
     },
     "execution_count": 73,
     "metadata": {},
     "output_type": "execute_result"
    }
   ],
   "source": [
    "dat = exmp \n",
    "inp = _fmt(dat)\n",
    "inp"
   ]
  },
  {
   "cell_type": "code",
   "execution_count": 75,
   "metadata": {},
   "outputs": [
    {
     "data": {
      "text/plain": [
       "21"
      ]
     },
     "execution_count": 75,
     "metadata": {},
     "output_type": "execute_result"
    }
   ],
   "source": [
    "sum([nb_possib(pat, seq) for pat, seq in inp])"
   ]
  },
  {
   "cell_type": "code",
   "execution_count": 83,
   "metadata": {},
   "outputs": [],
   "source": [
    "from tqdm import tqdm \n",
    "def sol1(dat: str):\n",
    "    inp = _fmt(dat)\n",
    "    return sum([nb_possib(pat, seq) for pat, seq in tqdm(inp)])"
   ]
  },
  {
   "cell_type": "code",
   "execution_count": 85,
   "metadata": {},
   "outputs": [
    {
     "name": "stderr",
     "output_type": "stream",
     "text": [
      "100%|██████████| 1000/1000 [00:12<00:00, 81.68it/s]\n"
     ]
    },
    {
     "data": {
      "text/plain": [
       "7047"
      ]
     },
     "execution_count": 85,
     "metadata": {},
     "output_type": "execute_result"
    }
   ],
   "source": [
    "dat = data\n",
    "sol1(dat)"
   ]
  },
  {
   "cell_type": "code",
   "execution_count": 92,
   "metadata": {},
   "outputs": [],
   "source": [
    "def _fmt(dat: str):\n",
    "    ls = dat.splitlines()\n",
    "    res = []\n",
    "    for l in ls:\n",
    "        pat = '?'.join([l.split(' ')[0]]*5)\n",
    "        seq = ','.join([l.split(' ')[1]]*5)\n",
    "        seq = [int(n) for n in seq.split(',')]\n",
    "        res.append((pat, seq))\n",
    "    return res"
   ]
  },
  {
   "cell_type": "code",
   "execution_count": 93,
   "metadata": {},
   "outputs": [
    {
     "data": {
      "text/plain": [
       "[('???.###????.###????.###????.###????.###',\n",
       "  [1, 1, 3, 1, 1, 3, 1, 1, 3, 1, 1, 3, 1, 1, 3]),\n",
       " ('.??..??...?##.?.??..??...?##.?.??..??...?##.?.??..??...?##.?.??..??...?##.',\n",
       "  [1, 1, 3, 1, 1, 3, 1, 1, 3, 1, 1, 3, 1, 1, 3]),\n",
       " ('?#?#?#?#?#?#?#???#?#?#?#?#?#?#???#?#?#?#?#?#?#???#?#?#?#?#?#?#???#?#?#?#?#?#?#?',\n",
       "  [1, 3, 1, 6, 1, 3, 1, 6, 1, 3, 1, 6, 1, 3, 1, 6, 1, 3, 1, 6]),\n",
       " ('????.#...#...?????.#...#...?????.#...#...?????.#...#...?????.#...#...',\n",
       "  [4, 1, 1, 4, 1, 1, 4, 1, 1, 4, 1, 1, 4, 1, 1]),\n",
       " ('????.######..#####.?????.######..#####.?????.######..#####.?????.######..#####.?????.######..#####.',\n",
       "  [1, 6, 5, 1, 6, 5, 1, 6, 5, 1, 6, 5, 1, 6, 5]),\n",
       " ('?###??????????###??????????###??????????###??????????###????????',\n",
       "  [3, 2, 1, 3, 2, 1, 3, 2, 1, 3, 2, 1, 3, 2, 1])]"
      ]
     },
     "execution_count": 93,
     "metadata": {},
     "output_type": "execute_result"
    }
   ],
   "source": [
    "dat = exmp \n",
    "_fmt(dat)"
   ]
  },
  {
   "cell_type": "code",
   "execution_count": 95,
   "metadata": {},
   "outputs": [],
   "source": [
    "# ## too slow\n",
    "# dat = exmp\n",
    "# sol1(dat)"
   ]
  },
  {
   "cell_type": "code",
   "execution_count": 96,
   "metadata": {},
   "outputs": [],
   "source": [
    "## regular expressions seem efficient hear"
   ]
  },
  {
   "cell_type": "code",
   "execution_count": 131,
   "metadata": {},
   "outputs": [
    {
     "data": {
      "text/plain": [
       "'###.'"
      ]
     },
     "execution_count": 131,
     "metadata": {},
     "output_type": "execute_result"
    }
   ],
   "source": [
    "import re \n",
    "sp = \"?###.\"\n",
    "pt = r\"[#?]{3}($|\\.)\"\n",
    "m = re.search(pt, sp)\n",
    "s1, s2 = m.span()\n",
    "sp[s1:s2]"
   ]
  },
  {
   "cell_type": "markdown",
   "metadata": {},
   "source": [
    "## takeaways\n",
    "\n",
    "- same pattern of question: part 1 is possible by brute forcing, but part 2 scales and make it impossible to use the same technique\n"
   ]
  }
 ],
 "metadata": {
  "kernelspec": {
   "display_name": "pydidask",
   "language": "python",
   "name": "python3"
  },
  "language_info": {
   "codemirror_mode": {
    "name": "ipython",
    "version": 3
   },
   "file_extension": ".py",
   "mimetype": "text/x-python",
   "name": "python",
   "nbconvert_exporter": "python",
   "pygments_lexer": "ipython3",
   "version": "3.12.0"
  }
 },
 "nbformat": 4,
 "nbformat_minor": 2
}
