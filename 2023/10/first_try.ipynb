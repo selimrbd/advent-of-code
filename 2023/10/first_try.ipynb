{
 "cells": [
  {
   "cell_type": "markdown",
   "metadata": {},
   "source": [
    "# AoC day 10 - 2023"
   ]
  },
  {
   "cell_type": "markdown",
   "metadata": {},
   "source": [
    "[LINK](https://adventofcode.com/2023/day/10)"
   ]
  },
  {
   "cell_type": "code",
   "execution_count": 1,
   "metadata": {},
   "outputs": [],
   "source": [
    "YEAR = 2023 \n",
    "DAY = 10\n",
    "\n",
    "from aocd import get_data\n",
    "import sys\n",
    "sys.path.append(\"..\")\n",
    "from config import load_config\n",
    "load_config()\n",
    "data = get_data(year=YEAR, day=DAY)"
   ]
  },
  {
   "cell_type": "markdown",
   "metadata": {},
   "source": [
    "## try"
   ]
  },
  {
   "cell_type": "code",
   "execution_count": 9,
   "metadata": {},
   "outputs": [],
   "source": [
    "samp1 = \"\"\"-L|F7\n",
    "7S-7|\n",
    "L|7||\n",
    "-L-J|\n",
    "L|-JF\n",
    "\"\"\""
   ]
  },
  {
   "cell_type": "code",
   "execution_count": 10,
   "metadata": {},
   "outputs": [],
   "source": [
    "samp2 = \"\"\"7-F7-\n",
    ".FJ|7\n",
    "SJLL7\n",
    "|F--J\n",
    "LJ.LJ\n",
    "\"\"\""
   ]
  },
  {
   "cell_type": "code",
   "execution_count": null,
   "metadata": {},
   "outputs": [],
   "source": [
    "Tile = tuple[int, int, str] "
   ]
  },
  {
   "cell_type": "code",
   "execution_count": 38,
   "metadata": {},
   "outputs": [],
   "source": [
    "def can_access_tile(tile_current: Tile, tile: Tile, already_accessed: list[Tile]) -> bool:\n",
    "    if tile in already_accessed:\n",
    "        return False"
   ]
  },
  {
   "cell_type": "code",
   "execution_count": 24,
   "metadata": {},
   "outputs": [],
   "source": [
    "def get_surrounding_tiles(tile: Tile) -> list[Tile]:\n",
    "    ..."
   ]
  },
  {
   "cell_type": "code",
   "execution_count": 26,
   "metadata": {},
   "outputs": [
    {
     "name": "stdout",
     "output_type": "stream",
     "text": [
      "grid width: 5, height: 5\n",
      "grid:\n",
      "-L|F7\n",
      "7S-7|\n",
      "L|7||\n",
      "-L-J|\n",
      "L|-JF\n",
      "\n"
     ]
    },
    {
     "data": {
      "text/plain": [
       "[(3, 4, 'J'), (4, 3, '|')]"
      ]
     },
     "execution_count": 26,
     "metadata": {},
     "output_type": "execute_result"
    }
   ],
   "source": [
    "dat = samp1\n",
    "grid = dat.splitlines()\n",
    "width = len(grid[0])\n",
    "height = len(grid)\n",
    "print(f'grid width: {width}, height: {height}')\n",
    "print(f'grid:\\n{dat}')\n",
    "x, y = width-1, height-1\n",
    "tile = (x, y, grid[y][x])\n",
    "surrounding_tiles = []\n",
    "if x > 0:\n",
    "    x2, y2 = x-1, y\n",
    "    surrounding_tiles.append((x2, y2, grid[y2][x2]))\n",
    "if y > 0:\n",
    "    x2, y2 = (x, y-1)\n",
    "    surrounding_tiles.append((x2, y2, grid[y2][x2]))\n",
    "if x < width - 1:\n",
    "    x2, y2 = (x+1, y)\n",
    "    surrounding_tiles.append((x2, y2, grid[y2][x2]))\n",
    "if y < height - 1:\n",
    "    x2, y2 = (x, y+1)\n",
    "    surrounding_tiles.append((x2, y2, grid[y2][x2]))\n",
    "surrounding_tiles"
   ]
  },
  {
   "cell_type": "code",
   "execution_count": 36,
   "metadata": {},
   "outputs": [],
   "source": [
    "def get_surrounding_tiles(tile: Tile, grid: list[str]) -> list[Tile]:\n",
    "\n",
    "    width = len(grid[0])\n",
    "    height = len(grid)\n",
    "    x, y, _ = tile\n",
    "    surrounding_tiles = []\n",
    "    if x > 0:\n",
    "        x2, y2 = x-1, y\n",
    "        surrounding_tiles.append((x2, y2, grid[y2][x2]))\n",
    "    if y > 0:\n",
    "        x2, y2 = (x, y-1)\n",
    "        surrounding_tiles.append((x2, y2, grid[y2][x2]))\n",
    "    if x < width - 1:\n",
    "        x2, y2 = (x+1, y)\n",
    "        surrounding_tiles.append((x2, y2, grid[y2][x2]))\n",
    "    if y < height - 1:\n",
    "        x2, y2 = (x, y+1)\n",
    "        surrounding_tiles.append((x2, y2, grid[y2][x2]))\n",
    "    return surrounding_tiles\n",
    "    "
   ]
  },
  {
   "cell_type": "code",
   "execution_count": 37,
   "metadata": {},
   "outputs": [
    {
     "data": {
      "text/plain": [
       "[(0, 2, 'L'), (1, 1, 'S'), (2, 2, '7'), (1, 3, 'L')]"
      ]
     },
     "execution_count": 37,
     "metadata": {},
     "output_type": "execute_result"
    }
   ],
   "source": [
    "dat = samp1\n",
    "grid = dat.splitlines()\n",
    "x, y = (1,2)\n",
    "tile = (x, y, grid[y][x])\n",
    "get_surrounding_tiles(tile, grid)"
   ]
  },
  {
   "cell_type": "code",
   "execution_count": 39,
   "metadata": {},
   "outputs": [],
   "source": [
    "def can_access_tile(tile_current: Tile, tile: Tile, already_accessed: list[Tile]) -> bool:\n",
    "    if tile in already_accessed:\n",
    "        return False"
   ]
  },
  {
   "cell_type": "code",
   "execution_count": 46,
   "metadata": {},
   "outputs": [],
   "source": [
    "from enum import Enum, auto\n",
    "class D(Enum):\n",
    "    SOUTH = auto()\n",
    "    WEST = auto()\n",
    "    NORTH = auto()\n",
    "    EAST = auto()"
   ]
  },
  {
   "cell_type": "code",
   "execution_count": 45,
   "metadata": {},
   "outputs": [],
   "source": [
    "## given a tile and a direction, return a boolean as to whether the tile can connect to that direction\n",
    "def connects_to(tile: Tile, direction: Direction) -> bool:\n",
    "    ..."
   ]
  },
  {
   "cell_type": "code",
   "execution_count": 63,
   "metadata": {},
   "outputs": [],
   "source": [
    "## given a tile and a direction, return a boolean as to whether the tile can connect to that direction\n",
    "def connects_to(tile: Tile, direction: Direction) -> bool:\n",
    "    t = tile[2]\n",
    "    if t == '|':\n",
    "        return direction in [D.NORTH, D.SOUTH]\n",
    "    if t == '-':\n",
    "        return direction in [D.WEST, D.EAST]\n",
    "    if t == \"L\":\n",
    "        return direction in [D.NORTH, D.EAST]\n",
    "    if t == \"J\":\n",
    "        return direction in [D.WEST, D.NORTH]\n",
    "    if t == \"7\":\n",
    "        return direction in [D.WEST, D.SOUTH]\n",
    "    if t == \"F\":\n",
    "        return direction in [D.SOUTH, D.EAST]\n",
    "    if t == \".\":\n",
    "        return False "
   ]
  },
  {
   "cell_type": "code",
   "execution_count": 64,
   "metadata": {},
   "outputs": [
    {
     "data": {
      "text/plain": [
       "True"
      ]
     },
     "execution_count": 64,
     "metadata": {},
     "output_type": "execute_result"
    }
   ],
   "source": [
    "tile = (1,2,\"J\")\n",
    "connects_to(tile, D.NORTH)"
   ]
  },
  {
   "cell_type": "code",
   "execution_count": 65,
   "metadata": {},
   "outputs": [
    {
     "data": {
      "text/plain": [
       "False"
      ]
     },
     "execution_count": 65,
     "metadata": {},
     "output_type": "execute_result"
    }
   ],
   "source": [
    "tile = (1,2,\"J\")\n",
    "connects_to(tile, D.EAST)"
   ]
  },
  {
   "cell_type": "code",
   "execution_count": 68,
   "metadata": {},
   "outputs": [
    {
     "data": {
      "text/plain": [
       "False"
      ]
     },
     "execution_count": 68,
     "metadata": {},
     "output_type": "execute_result"
    }
   ],
   "source": [
    "tile = (1,2,\"J\")\n",
    "connects_to(tile, D.SOUTH)"
   ]
  },
  {
   "cell_type": "code",
   "execution_count": 79,
   "metadata": {},
   "outputs": [],
   "source": [
    "def get_tile_position(tile_current: Tile, tile: Tile) -> D:\n",
    "    ..."
   ]
  },
  {
   "cell_type": "code",
   "execution_count": 80,
   "metadata": {},
   "outputs": [],
   "source": [
    "def get_tile_position(tile_current: Tile, tile: Tile) -> D:\n",
    "    x1, y1, _ = tile_current\n",
    "    x2, y2, _ = tile \n",
    "    if x2 == x1 + 1:\n",
    "        return D.EAST\n",
    "    if x2 == x1 - 1:\n",
    "        return D.WEST\n",
    "    if y2 == y1 + 1:\n",
    "        return D.SOUTH\n",
    "    if y2 == y1 - 1:\n",
    "        return D.NORTH \n",
    "    raise ValueError('the tiles dont appear to be adjacent ')"
   ]
  },
  {
   "cell_type": "code",
   "execution_count": 81,
   "metadata": {},
   "outputs": [
    {
     "data": {
      "text/plain": [
       "<D.WEST: 2>"
      ]
     },
     "execution_count": 81,
     "metadata": {},
     "output_type": "execute_result"
    }
   ],
   "source": [
    "tile1 = (1,2,'.')\n",
    "tile2 = (0,1, '.')\n",
    "get_tile_position(tile1, tile2)"
   ]
  },
  {
   "cell_type": "code",
   "execution_count": 82,
   "metadata": {},
   "outputs": [],
   "source": [
    "def can_tiles_connect(tile_current: Tile, tile: Tile) -> bool:\n",
    "    pos1 = get_tile_position(tile_current, tile)\n",
    "    pos2 = get_tile_position(tile, tile_current)\n",
    "    b1 = connects_to(tile_current, pos1)\n",
    "    b2 = connects_to(tile, pos2)\n",
    "    return b1 and b2"
   ]
  },
  {
   "cell_type": "code",
   "execution_count": 87,
   "metadata": {},
   "outputs": [
    {
     "data": {
      "text/plain": [
       "True"
      ]
     },
     "execution_count": 87,
     "metadata": {},
     "output_type": "execute_result"
    }
   ],
   "source": [
    "tile1 = (1,1,'F')\n",
    "tile2 = (1,2, 'J')\n",
    "can_tiles_connect(tile1, tile2)"
   ]
  },
  {
   "cell_type": "markdown",
   "metadata": {},
   "source": [
    "## Conclusion"
   ]
  },
  {
   "cell_type": "markdown",
   "metadata": {},
   "source": [
    "- difficulty: 2D arrays"
   ]
  }
 ],
 "metadata": {
  "kernelspec": {
   "display_name": "pydidask",
   "language": "python",
   "name": "python3"
  },
  "language_info": {
   "codemirror_mode": {
    "name": "ipython",
    "version": 3
   },
   "file_extension": ".py",
   "mimetype": "text/x-python",
   "name": "python",
   "nbconvert_exporter": "python",
   "pygments_lexer": "ipython3",
   "version": "3.12.0"
  }
 },
 "nbformat": 4,
 "nbformat_minor": 2
}
