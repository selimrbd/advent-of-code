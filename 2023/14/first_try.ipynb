{
 "cells": [
  {
   "cell_type": "markdown",
   "metadata": {},
   "source": [
    "# Advent of Code - Day 14 Year 2023"
   ]
  },
  {
   "cell_type": "code",
   "execution_count": 1,
   "metadata": {},
   "outputs": [
    {
     "name": "stdout",
     "output_type": "stream",
     "text": [
      "nb examples: 1\n",
      "problem link: https://adventofcode.com/2023/day/14\n"
     ]
    }
   ],
   "source": [
    "DAY = 14\n",
    "YEAR = 2023\n",
    "#######\n",
    "import json\n",
    "import sys \n",
    "sys.path.append('../../')\n",
    "from utils import get_pb_data, rephrase_pb, open_link, render_json\n",
    "link, data, exmp, ae1, ae2, exmps, out = get_pb_data(DAY, YEAR)\n",
    "\n",
    "print(f'problem link: {link}')"
   ]
  },
  {
   "cell_type": "code",
   "execution_count": 2,
   "metadata": {},
   "outputs": [],
   "source": [
    "# with open(\"./_puzzle_data.json\", \"r\") as f: inp = json.loads(f.read())\n",
    "# render_json(inp)"
   ]
  },
  {
   "cell_type": "code",
   "execution_count": 3,
   "metadata": {},
   "outputs": [
    {
     "data": {
      "text/markdown": [
       "Let me rephrase the problem:\n",
       "\n",
       "**Objective**: Calculate the total load on north support beams after tilting a platform with rocks northward. \n",
       "\n",
       "**Key Elements**:\n",
       "- Platform contains two types of rocks and empty spaces\n",
       "- O = rounded rocks (can roll)\n",
       "- # = cube rocks (stay in place)\n",
       "- . = empty spaces\n",
       "- When tilted north, rounded rocks roll until hitting another rock or platform edge\n",
       "\n",
       "**Load Calculation**:\n",
       "- Each rounded rock (O) contributes to load\n",
       "- Load = number of rows from rock to south edge (including rock's row)\n",
       "- Cube rocks (#) don't contribute to load\n",
       "- Total load = sum of all rounded rocks' loads\n",
       "\n",
       "**Input looks like**:\n",
       "```\n",
       "O....#....\n",
       "O.OO#....#\n",
       ".....##...\n",
       "OO.#O....O\n",
       ".O.....O#.\n",
       "O.#..O.#.#\n",
       "..O..#O..O\n",
       ".......O..\n",
       "#....###..\n",
       "#OO..#....\n",
       "```\n",
       "\n",
       "**Task**: Calculate total load after tilting platform north and letting rounded rocks roll"
      ],
      "text/plain": [
       "<IPython.core.display.Markdown object>"
      ]
     },
     "execution_count": 3,
     "metadata": {},
     "output_type": "execute_result"
    }
   ],
   "source": [
    "await rephrase_pb(DAY, YEAR, 1)"
   ]
  },
  {
   "cell_type": "markdown",
   "metadata": {},
   "source": [
    "first, tilt the rocks."
   ]
  },
  {
   "cell_type": "code",
   "execution_count": 4,
   "metadata": {},
   "outputs": [
    {
     "name": "stdout",
     "output_type": "stream",
     "text": [
      "O....#....\n",
      "O.OO#....#\n",
      ".....##...\n",
      "OO.#O....O\n",
      ".O.....O#.\n",
      "O.#..O.#.#\n",
      "..O..#O..O\n",
      ".......O..\n",
      "#....###..\n",
      "#OO..#....\n"
     ]
    }
   ],
   "source": [
    "print(exmp)"
   ]
  },
  {
   "cell_type": "code",
   "execution_count": 5,
   "metadata": {},
   "outputs": [],
   "source": [
    "def _format(dat):\n",
    "    return [[c for c in l]  for l in dat.splitlines()]"
   ]
  },
  {
   "cell_type": "code",
   "execution_count": 6,
   "metadata": {},
   "outputs": [
    {
     "data": {
      "text/plain": [
       "[['O', '.', '.', '.', '.', '#', '.', '.', '.', '.'],\n",
       " ['O', '.', 'O', 'O', '#', '.', '.', '.', '.', '#'],\n",
       " ['.', '.', '.', '.', '.', '#', '#', '.', '.', '.'],\n",
       " ['O', 'O', '.', '#', 'O', '.', '.', '.', '.', 'O'],\n",
       " ['.', 'O', '.', '.', '.', '.', '.', 'O', '#', '.'],\n",
       " ['O', '.', '#', '.', '.', 'O', '.', '#', '.', '#'],\n",
       " ['.', '.', 'O', '.', '.', '#', 'O', '.', '.', 'O'],\n",
       " ['.', '.', '.', '.', '.', '.', '.', 'O', '.', '.'],\n",
       " ['#', '.', '.', '.', '.', '#', '#', '#', '.', '.'],\n",
       " ['#', 'O', 'O', '.', '.', '#', '.', '.', '.', '.']]"
      ]
     },
     "execution_count": 6,
     "metadata": {},
     "output_type": "execute_result"
    }
   ],
   "source": [
    "dat = exmp\n",
    "plat = _format(dat)\n",
    "plat"
   ]
  },
  {
   "cell_type": "code",
   "execution_count": 7,
   "metadata": {},
   "outputs": [
    {
     "data": {
      "text/plain": [
       "[['O', '.', '.', '.', '.', '#', '.', '.', '.', '.'],\n",
       " ['O', '.', 'O', 'O', '#', '.', '.', '.', '.', '#'],\n",
       " ['.', '.', '.', '.', '.', '#', '#', '.', '.', '.'],\n",
       " ['O', 'O', '.', '#', 'O', '.', '.', '.', '.', 'O'],\n",
       " ['O', 'O', '.', '.', '.', '.', '.', 'O', '#', '.'],\n",
       " ['.', '.', '#', '.', '.', 'O', '.', '#', '.', '#'],\n",
       " ['.', '.', 'O', '.', '.', '#', 'O', '.', '.', 'O'],\n",
       " ['.', '.', '.', '.', '.', '.', '.', 'O', '.', '.'],\n",
       " ['#', '.', '.', '.', '.', '#', '#', '#', '.', '.'],\n",
       " ['#', 'O', 'O', '.', '.', '#', '.', '.', '.', '.']]"
      ]
     },
     "execution_count": 7,
     "metadata": {},
     "output_type": "execute_result"
    }
   ],
   "source": [
    "x,y = (0,5)\n",
    "j = y\n",
    "while j > 0:\n",
    "    j -= 1\n",
    "    if plat[j][x] != '.':\n",
    "        break\n",
    "    plat[j][x] = 'O'    \n",
    "    plat[j+1][x] = '.'\n",
    "plat"
   ]
  },
  {
   "cell_type": "code",
   "execution_count": 8,
   "metadata": {},
   "outputs": [],
   "source": [
    "def _roll(x,y, plat):\n",
    "    j = y\n",
    "    while j > 0:\n",
    "        j -= 1\n",
    "        if plat[j][x] != '.':\n",
    "            break\n",
    "        plat[j][x] = 'O'    \n",
    "        plat[j+1][x] = '.'\n",
    "    return plat"
   ]
  },
  {
   "cell_type": "code",
   "execution_count": 9,
   "metadata": {},
   "outputs": [
    {
     "data": {
      "text/plain": [
       "[['O', '.', '.', '.', '.', '#', '.', '.', '.', '.'],\n",
       " ['O', '.', 'O', 'O', '#', '.', '.', '.', '.', '#'],\n",
       " ['.', '.', '.', '.', '.', '#', '#', '.', '.', '.'],\n",
       " ['O', 'O', '.', '#', 'O', '.', '.', '.', '.', 'O'],\n",
       " ['.', 'O', '.', '.', '.', '.', '.', 'O', '#', '.'],\n",
       " ['O', '.', '#', '.', '.', 'O', '.', '#', '.', '#'],\n",
       " ['.', '.', 'O', '.', '.', '#', 'O', '.', '.', 'O'],\n",
       " ['.', '.', '.', '.', '.', '.', '.', 'O', '.', '.'],\n",
       " ['#', '.', '.', '.', '.', '#', '#', '#', '.', '.'],\n",
       " ['#', 'O', 'O', '.', '.', '#', '.', '.', '.', '.']]"
      ]
     },
     "execution_count": 9,
     "metadata": {},
     "output_type": "execute_result"
    }
   ],
   "source": [
    "dat = exmp\n",
    "plat = _format(dat)\n",
    "plat"
   ]
  },
  {
   "cell_type": "code",
   "execution_count": 10,
   "metadata": {},
   "outputs": [
    {
     "data": {
      "text/plain": [
       "[['O', '.', '.', '.', '.', '#', '.', '.', '.', '.'],\n",
       " ['O', '.', 'O', 'O', '#', '.', '.', '.', '.', '#'],\n",
       " ['.', '.', '.', '.', 'O', '#', '#', '.', '.', '.'],\n",
       " ['O', 'O', '.', '#', '.', '.', '.', '.', '.', 'O'],\n",
       " ['.', 'O', '.', '.', '.', '.', '.', 'O', '#', '.'],\n",
       " ['O', '.', '#', '.', '.', 'O', '.', '#', '.', '#'],\n",
       " ['.', '.', 'O', '.', '.', '#', 'O', '.', '.', 'O'],\n",
       " ['.', '.', '.', '.', '.', '.', '.', 'O', '.', '.'],\n",
       " ['#', '.', '.', '.', '.', '#', '#', '#', '.', '.'],\n",
       " ['#', 'O', 'O', '.', '.', '#', '.', '.', '.', '.']]"
      ]
     },
     "execution_count": 10,
     "metadata": {},
     "output_type": "execute_result"
    }
   ],
   "source": [
    "x,y = (4,3)\n",
    "_roll(x,y,plat)"
   ]
  },
  {
   "cell_type": "code",
   "execution_count": 11,
   "metadata": {},
   "outputs": [
    {
     "data": {
      "text/plain": [
       "[['O', '.', '.', '.', '.', '#', '.', '.', '.', '.'],\n",
       " ['O', '.', 'O', 'O', '#', '.', '.', '.', '.', '#'],\n",
       " ['.', '.', '.', '.', 'O', '#', '#', '.', '.', '.'],\n",
       " ['O', 'O', '.', '#', '.', '.', '.', '.', '.', 'O'],\n",
       " ['.', 'O', '.', '.', '.', '.', '.', 'O', '#', '.'],\n",
       " ['O', '.', '#', '.', '.', 'O', '.', '#', '.', '#'],\n",
       " ['.', '.', 'O', '.', '.', '#', 'O', '.', '.', 'O'],\n",
       " ['.', '.', '.', '.', '.', '.', '.', 'O', '.', '.'],\n",
       " ['#', '.', '.', '.', '.', '#', '#', '#', '.', '.'],\n",
       " ['#', 'O', 'O', '.', '.', '#', '.', '.', '.', '.']]"
      ]
     },
     "execution_count": 11,
     "metadata": {},
     "output_type": "execute_result"
    }
   ],
   "source": [
    "plat"
   ]
  },
  {
   "cell_type": "code",
   "execution_count": 12,
   "metadata": {},
   "outputs": [
    {
     "data": {
      "text/plain": [
       "[(0, 0),\n",
       " (0, 1),\n",
       " (2, 1),\n",
       " (3, 1),\n",
       " (4, 2),\n",
       " (0, 3),\n",
       " (1, 3),\n",
       " (9, 3),\n",
       " (1, 4),\n",
       " (7, 4),\n",
       " (0, 5),\n",
       " (5, 5),\n",
       " (2, 6),\n",
       " (6, 6),\n",
       " (9, 6),\n",
       " (7, 7),\n",
       " (1, 9),\n",
       " (2, 9)]"
      ]
     },
     "execution_count": 12,
     "metadata": {},
     "output_type": "execute_result"
    }
   ],
   "source": [
    "w,h = len(plat[0]), len(plat)\n",
    "[(x,y) for y,l in enumerate(plat) for x,c in enumerate(l) if c == 'O']"
   ]
  },
  {
   "cell_type": "code",
   "execution_count": 13,
   "metadata": {},
   "outputs": [],
   "source": [
    "def _rocks(plat):\n",
    "    return [(x,y) for y,l in enumerate(plat) for x,c in enumerate(l) if c == 'O']"
   ]
  },
  {
   "cell_type": "code",
   "execution_count": 14,
   "metadata": {},
   "outputs": [
    {
     "data": {
      "text/plain": [
       "[['O', 'O', 'O', 'O', '.', '#', '.', 'O', '.', '.'],\n",
       " ['O', 'O', '.', '.', '#', '.', '.', '.', '.', '#'],\n",
       " ['O', 'O', '.', '.', 'O', '#', '#', '.', '.', 'O'],\n",
       " ['O', '.', '.', '#', '.', 'O', 'O', '.', '.', '.'],\n",
       " ['.', '.', '.', '.', '.', '.', '.', '.', '#', '.'],\n",
       " ['.', '.', '#', '.', '.', '.', '.', '#', '.', '#'],\n",
       " ['.', '.', 'O', '.', '.', '#', '.', 'O', '.', 'O'],\n",
       " ['.', '.', 'O', '.', '.', '.', '.', '.', '.', '.'],\n",
       " ['#', '.', '.', '.', '.', '#', '#', '#', '.', '.'],\n",
       " ['#', '.', '.', '.', '.', '#', '.', '.', '.', '.']]"
      ]
     },
     "execution_count": 14,
     "metadata": {},
     "output_type": "execute_result"
    }
   ],
   "source": [
    "dat = exmp\n",
    "plat = _format(dat)\n",
    "rocks = _rocks(plat)\n",
    "for x,y in rocks:\n",
    "    _roll(x,y,plat)\n",
    "plat"
   ]
  },
  {
   "cell_type": "code",
   "execution_count": 15,
   "metadata": {},
   "outputs": [
    {
     "data": {
      "text/plain": [
       "136"
      ]
     },
     "execution_count": 15,
     "metadata": {},
     "output_type": "execute_result"
    }
   ],
   "source": [
    "h = len(plat)\n",
    "sum([(h-i)*sum([c == 'O' for c in l]) for i,l in enumerate(plat)])"
   ]
  },
  {
   "cell_type": "code",
   "execution_count": 16,
   "metadata": {},
   "outputs": [],
   "source": [
    "def _load(plat):\n",
    "    h = len(plat)\n",
    "    return sum([(h-i)*sum([c == 'O' for c in l]) for i,l in enumerate(plat)])"
   ]
  },
  {
   "cell_type": "code",
   "execution_count": 17,
   "metadata": {},
   "outputs": [
    {
     "data": {
      "text/plain": [
       "136"
      ]
     },
     "execution_count": 17,
     "metadata": {},
     "output_type": "execute_result"
    }
   ],
   "source": [
    "dat = exmp\n",
    "plat = _format(dat)\n",
    "rocks = _rocks(plat)\n",
    "for x,y in rocks:\n",
    "    _roll(x,y,plat)\n",
    "_load(plat)"
   ]
  },
  {
   "cell_type": "code",
   "execution_count": 18,
   "metadata": {},
   "outputs": [],
   "source": [
    "def sol1(dat):\n",
    "    plat = _format(dat)\n",
    "    rocks = _rocks(plat)\n",
    "    for x,y in rocks:\n",
    "        _roll(x,y,plat)\n",
    "    return _load(plat)"
   ]
  },
  {
   "cell_type": "code",
   "execution_count": 19,
   "metadata": {},
   "outputs": [
    {
     "data": {
      "text/plain": [
       "136"
      ]
     },
     "execution_count": 19,
     "metadata": {},
     "output_type": "execute_result"
    }
   ],
   "source": [
    "dat = exmp \n",
    "sol1(dat)"
   ]
  },
  {
   "cell_type": "code",
   "execution_count": 20,
   "metadata": {},
   "outputs": [
    {
     "data": {
      "text/plain": [
       "112048"
      ]
     },
     "execution_count": 20,
     "metadata": {},
     "output_type": "execute_result"
    }
   ],
   "source": [
    "dat = data \n",
    "sol1(dat)"
   ]
  },
  {
   "cell_type": "markdown",
   "metadata": {},
   "source": [
    "## part 2"
   ]
  },
  {
   "cell_type": "code",
   "execution_count": 21,
   "metadata": {},
   "outputs": [
    {
     "data": {
      "text/markdown": [
       "**Problem**: Calculate the total load on north support beams after running a specific number of spin cycles on a platform with rocks.\n",
       " \n",
       "**One spin cycle consists of**:\n",
       "- Tilt north\n",
       "- Tilt west\n",
       "- Tilt south\n",
       "- Tilt east\n",
       " \n",
       "**Rocks roll** as far as possible after each tilt before the next direction.\n",
       " \n",
       "**Goal**: Find total load after **1000000000** cycles.\n",
       " \n",
       "**Input Example**:\n",
       "```\n",
       ".....#....\n",
       "....#...O#\n",
       "...OO##...\n",
       ".OO#......\n",
       ".....OOO#.\n",
       ".O#...O#.#\n",
       "....O#....\n",
       "......OOOO\n",
       "#...O###..\n",
       "#..OO#....\n",
       "```\n",
       "Where:\n",
       "- **O** = rounded rocks that roll\n",
       "- **#** = cube-shaped rocks (fixed)\n",
       "- **.** = empty space"
      ],
      "text/plain": [
       "<IPython.core.display.Markdown object>"
      ]
     },
     "execution_count": 21,
     "metadata": {},
     "output_type": "execute_result"
    }
   ],
   "source": [
    "await rephrase_pb(DAY, YEAR, 2)"
   ]
  },
  {
   "cell_type": "code",
   "execution_count": 22,
   "metadata": {},
   "outputs": [],
   "source": [
    "def _col(plat, i):\n",
    "    return [l[i] for l in plat]"
   ]
  },
  {
   "cell_type": "code",
   "execution_count": 23,
   "metadata": {},
   "outputs": [],
   "source": [
    "def _t(plat):\n",
    "    return [_col(plat,i) for i in range(len(plat[0]))]"
   ]
  },
  {
   "cell_type": "code",
   "execution_count": 24,
   "metadata": {},
   "outputs": [
    {
     "data": {
      "text/plain": [
       "[['O', 'O', 'O', 'O', '.', '#', '.', 'O', '.', '.'],\n",
       " ['O', 'O', '.', '.', '#', '.', '.', '.', '.', '#'],\n",
       " ['O', 'O', '.', '.', 'O', '#', '#', '.', '.', 'O'],\n",
       " ['O', '.', '.', '#', '.', 'O', 'O', '.', '.', '.'],\n",
       " ['.', '.', '.', '.', '.', '.', '.', '.', '#', '.'],\n",
       " ['.', '.', '#', '.', '.', '.', '.', '#', '.', '#'],\n",
       " ['.', '.', 'O', '.', '.', '#', '.', 'O', '.', 'O'],\n",
       " ['.', '.', 'O', '.', '.', '.', '.', '.', '.', '.'],\n",
       " ['#', '.', '.', '.', '.', '#', '#', '#', '.', '.'],\n",
       " ['#', '.', '.', '.', '.', '#', '.', '.', '.', '.']]"
      ]
     },
     "execution_count": 24,
     "metadata": {},
     "output_type": "execute_result"
    }
   ],
   "source": [
    "plat"
   ]
  },
  {
   "cell_type": "code",
   "execution_count": 25,
   "metadata": {},
   "outputs": [
    {
     "data": {
      "text/plain": [
       "[['O', 'O', 'O', 'O', '.', '.', '.', '.', '#', '#'],\n",
       " ['O', 'O', 'O', '.', '.', '.', '.', '.', '.', '.'],\n",
       " ['O', '.', '.', '.', '.', '#', 'O', 'O', '.', '.'],\n",
       " ['O', '.', '.', '#', '.', '.', '.', '.', '.', '.'],\n",
       " ['.', '#', 'O', '.', '.', '.', '.', '.', '.', '.'],\n",
       " ['#', '.', '#', 'O', '.', '.', '#', '.', '#', '#'],\n",
       " ['.', '.', '#', 'O', '.', '.', '.', '.', '#', '.'],\n",
       " ['O', '.', '.', '.', '.', '#', 'O', '.', '#', '.'],\n",
       " ['.', '.', '.', '.', '#', '.', '.', '.', '.', '.'],\n",
       " ['.', '#', 'O', '.', '.', '#', 'O', '.', '.', '.']]"
      ]
     },
     "execution_count": 25,
     "metadata": {},
     "output_type": "execute_result"
    }
   ],
   "source": [
    "_t(plat)"
   ]
  },
  {
   "cell_type": "code",
   "execution_count": 26,
   "metadata": {},
   "outputs": [],
   "source": [
    "def _roll_n(x,y, plat):\n",
    "    j = y\n",
    "    h = len(plat)\n",
    "    while j > 0 and j <= h - 1:\n",
    "        j -= 1\n",
    "        if plat[j][x] != '.':\n",
    "            break\n",
    "        plat[j][x] = 'O'    \n",
    "        plat[j+1][x] = '.'\n",
    "    return plat\n",
    "\n",
    "def _roll_s(x,y, plat):\n",
    "    j = y\n",
    "    h = len(plat)\n",
    "    while j >= 0 and j < h - 1:\n",
    "        j += 1\n",
    "        if plat[j][x] != '.':\n",
    "            break\n",
    "        plat[j][x] = 'O'    \n",
    "        plat[j-1][x] = '.'\n",
    "    return plat\n",
    "\n",
    "def _roll_all_n(plat):\n",
    "    rocks = _rocks(plat)\n",
    "    for x,y in rocks:\n",
    "        _roll_n(x,y, plat)\n",
    "    return plat\n",
    "\n",
    "def _roll_all_s(plat):\n",
    "    rocks = _rocks(plat)[::-1]\n",
    "    for x,y in rocks:\n",
    "        _roll_s(x,y, plat)\n",
    "    return plat\n",
    "\n",
    "def _roll_all_w(plat):\n",
    "    pt = _t(plat)\n",
    "    pt = _roll_all_n(pt)\n",
    "    return _t(pt)\n",
    "\n",
    "def _roll_all_e(plat):\n",
    "    pt = _t(plat)\n",
    "    pt = _roll_all_s(pt)\n",
    "    return _t(pt)"
   ]
  },
  {
   "cell_type": "code",
   "execution_count": 27,
   "metadata": {},
   "outputs": [
    {
     "data": {
      "text/plain": [
       "[3, 2, 1]"
      ]
     },
     "execution_count": 27,
     "metadata": {},
     "output_type": "execute_result"
    }
   ],
   "source": [
    "a = [1,2,3]\n",
    "a[::-1]"
   ]
  },
  {
   "cell_type": "code",
   "execution_count": 28,
   "metadata": {},
   "outputs": [
    {
     "data": {
      "text/plain": [
       "[['O', '.', '.', '.', '.', '#', '.', '.', '.', '.'],\n",
       " ['O', '.', 'O', 'O', '#', '.', '.', '.', '.', '#'],\n",
       " ['.', '.', '.', '.', '.', '#', '#', '.', '.', '.'],\n",
       " ['O', 'O', '.', '#', 'O', '.', '.', '.', '.', 'O'],\n",
       " ['.', 'O', '.', '.', '.', '.', '.', 'O', '#', '.'],\n",
       " ['O', '.', '#', '.', '.', 'O', '.', '#', '.', '#'],\n",
       " ['.', '.', 'O', '.', '.', '#', 'O', '.', '.', 'O'],\n",
       " ['.', '.', '.', '.', '.', '.', '.', 'O', '.', '.'],\n",
       " ['#', '.', '.', '.', '.', '#', '#', '#', '.', '.'],\n",
       " ['#', 'O', 'O', '.', '.', '#', '.', '.', '.', '.']]"
      ]
     },
     "execution_count": 28,
     "metadata": {},
     "output_type": "execute_result"
    }
   ],
   "source": [
    "dat = exmp\n",
    "plat = _format(dat)\n",
    "plat"
   ]
  },
  {
   "cell_type": "code",
   "execution_count": 29,
   "metadata": {},
   "outputs": [
    {
     "data": {
      "text/plain": [
       "[['O', '.', '.', '.', '.', '#', '.', '.', '.', '.'],\n",
       " ['O', 'O', 'O', '.', '#', '.', '.', '.', '.', '#'],\n",
       " ['.', '.', '.', '.', '.', '#', '#', '.', '.', '.'],\n",
       " ['O', 'O', '.', '#', 'O', 'O', '.', '.', '.', '.'],\n",
       " ['O', 'O', '.', '.', '.', '.', '.', '.', '#', '.'],\n",
       " ['O', '.', '#', 'O', '.', '.', '.', '#', '.', '#'],\n",
       " ['O', '.', '.', '.', '.', '#', 'O', 'O', '.', '.'],\n",
       " ['O', '.', '.', '.', '.', '.', '.', '.', '.', '.'],\n",
       " ['#', '.', '.', '.', '.', '#', '#', '#', '.', '.'],\n",
       " ['#', 'O', 'O', '.', '.', '#', '.', '.', '.', '.']]"
      ]
     },
     "execution_count": 29,
     "metadata": {},
     "output_type": "execute_result"
    }
   ],
   "source": [
    "plat = _roll_all_w(plat)\n",
    "plat"
   ]
  },
  {
   "cell_type": "code",
   "execution_count": 30,
   "metadata": {},
   "outputs": [],
   "source": [
    "def _spin(plat):\n",
    "    plat = _roll_all_n(plat)\n",
    "    plat = _roll_all_w(plat)\n",
    "    plat = _roll_all_s(plat)\n",
    "    plat = _roll_all_e(plat)\n",
    "    return plat\n"
   ]
  },
  {
   "cell_type": "code",
   "execution_count": 31,
   "metadata": {},
   "outputs": [
    {
     "data": {
      "text/plain": [
       "[['O', '.', '.', '.', '.', '#', '.', '.', '.', '.'],\n",
       " ['O', '.', 'O', 'O', '#', '.', '.', '.', '.', '#'],\n",
       " ['.', '.', '.', '.', '.', '#', '#', '.', '.', '.'],\n",
       " ['O', 'O', '.', '#', 'O', '.', '.', '.', '.', 'O'],\n",
       " ['.', 'O', '.', '.', '.', '.', '.', 'O', '#', '.'],\n",
       " ['O', '.', '#', '.', '.', 'O', '.', '#', '.', '#'],\n",
       " ['.', '.', 'O', '.', '.', '#', 'O', '.', '.', 'O'],\n",
       " ['.', '.', '.', '.', '.', '.', '.', 'O', '.', '.'],\n",
       " ['#', '.', '.', '.', '.', '#', '#', '#', '.', '.'],\n",
       " ['#', 'O', 'O', '.', '.', '#', '.', '.', '.', '.']]"
      ]
     },
     "execution_count": 31,
     "metadata": {},
     "output_type": "execute_result"
    }
   ],
   "source": [
    "dat = exmp\n",
    "plat = _format(dat)\n",
    "plat"
   ]
  },
  {
   "cell_type": "code",
   "execution_count": 32,
   "metadata": {},
   "outputs": [
    {
     "data": {
      "text/plain": [
       "[['.', '.', '.', '.', '.', '#', '.', '.', '.', '.'],\n",
       " ['.', '.', '.', '.', '#', '.', '.', '.', 'O', '#'],\n",
       " ['.', '.', '.', 'O', 'O', '#', '#', '.', '.', '.'],\n",
       " ['.', 'O', 'O', '#', '.', '.', '.', '.', '.', '.'],\n",
       " ['.', '.', '.', '.', '.', 'O', 'O', 'O', '#', '.'],\n",
       " ['.', 'O', '#', '.', '.', '.', 'O', '#', '.', '#'],\n",
       " ['.', '.', '.', '.', 'O', '#', '.', '.', '.', '.'],\n",
       " ['.', '.', '.', '.', '.', '.', 'O', 'O', 'O', 'O'],\n",
       " ['#', '.', '.', '.', 'O', '#', '#', '#', '.', '.'],\n",
       " ['#', '.', '.', 'O', 'O', '#', '.', '.', '.', '.']]"
      ]
     },
     "execution_count": 32,
     "metadata": {},
     "output_type": "execute_result"
    }
   ],
   "source": [
    "_spin(plat)"
   ]
  },
  {
   "cell_type": "code",
   "execution_count": 33,
   "metadata": {},
   "outputs": [],
   "source": [
    "# ## going to take too long\n",
    "# from tqdm import tqdm \n",
    "# for i in tqdm(range(1*10**9)):\n",
    "#     plat = _spin(plat)"
   ]
  },
  {
   "cell_type": "code",
   "execution_count": null,
   "metadata": {},
   "outputs": [],
   "source": [
    "def _str(plat):\n",
    "    return '\\n'.join([''.join(l) for l in plat])"
   ]
  },
  {
   "cell_type": "code",
   "execution_count": 332,
   "metadata": {},
   "outputs": [
    {
     "data": {
      "text/plain": [
       "[['O', '.', '.', '.', '.', '#', '.', '.', '.', '.'],\n",
       " ['O', '.', 'O', 'O', '#', '.', '.', '.', '.', '#'],\n",
       " ['.', '.', '.', '.', '.', '#', '#', '.', '.', '.'],\n",
       " ['O', 'O', '.', '#', 'O', '.', '.', '.', '.', 'O'],\n",
       " ['.', 'O', '.', '.', '.', '.', '.', 'O', '#', '.'],\n",
       " ['O', '.', '#', '.', '.', 'O', '.', '#', '.', '#'],\n",
       " ['.', '.', 'O', '.', '.', '#', 'O', '.', '.', 'O'],\n",
       " ['.', '.', '.', '.', '.', '.', '.', 'O', '.', '.'],\n",
       " ['#', '.', '.', '.', '.', '#', '#', '#', '.', '.'],\n",
       " ['#', 'O', 'O', '.', '.', '#', '.', '.', '.', '.']]"
      ]
     },
     "execution_count": 332,
     "metadata": {},
     "output_type": "execute_result"
    }
   ],
   "source": [
    "dat = exmp\n",
    "plat = _format(dat)\n",
    "saw = set()\n",
    "saw.add(_str(plat))\n",
    "seq = [_str(plat)]\n",
    "cnt = 0\n",
    "plat"
   ]
  },
  {
   "cell_type": "code",
   "execution_count": 333,
   "metadata": {},
   "outputs": [
    {
     "data": {
      "text/plain": [
       "3"
      ]
     },
     "execution_count": 333,
     "metadata": {},
     "output_type": "execute_result"
    }
   ],
   "source": [
    "while True:\n",
    "    id = None\n",
    "    plat = _spin(plat)\n",
    "    cnt += 1\n",
    "    sstr = _str(plat)\n",
    "    if sstr in saw:\n",
    "        id = seq.index(sstr)\n",
    "        break\n",
    "    saw.add(sstr)\n",
    "    seq.append(sstr)\n",
    "id"
   ]
  },
  {
   "cell_type": "code",
   "execution_count": 334,
   "metadata": {},
   "outputs": [
    {
     "data": {
      "text/plain": [
       "10"
      ]
     },
     "execution_count": 334,
     "metadata": {},
     "output_type": "execute_result"
    }
   ],
   "source": [
    "cnt"
   ]
  },
  {
   "cell_type": "code",
   "execution_count": 335,
   "metadata": {},
   "outputs": [
    {
     "name": "stdout",
     "output_type": "stream",
     "text": [
      "7\n"
     ]
    }
   ],
   "source": [
    "cbef = id-1\n",
    "cycle_l = cnt-id\n",
    "print(cycle_l)"
   ]
  },
  {
   "cell_type": "code",
   "execution_count": 336,
   "metadata": {},
   "outputs": [
    {
     "data": {
      "text/plain": [
       "2"
      ]
     },
     "execution_count": 336,
     "metadata": {},
     "output_type": "execute_result"
    }
   ],
   "source": [
    "cbef"
   ]
  },
  {
   "cell_type": "code",
   "execution_count": 321,
   "metadata": {},
   "outputs": [
    {
     "data": {
      "text/plain": [
       "999999998"
      ]
     },
     "execution_count": 321,
     "metadata": {},
     "output_type": "execute_result"
    }
   ],
   "source": [
    "left = 10**9-cbef\n",
    "left"
   ]
  },
  {
   "cell_type": "code",
   "execution_count": 322,
   "metadata": {},
   "outputs": [
    {
     "data": {
      "text/plain": [
       "142857142"
      ]
     },
     "execution_count": 322,
     "metadata": {},
     "output_type": "execute_result"
    }
   ],
   "source": [
    "cycle_nb = left // cycle_l\n",
    "cycle_nb"
   ]
  },
  {
   "cell_type": "code",
   "execution_count": 323,
   "metadata": {},
   "outputs": [
    {
     "data": {
      "text/plain": [
       "4"
      ]
     },
     "execution_count": 323,
     "metadata": {},
     "output_type": "execute_result"
    }
   ],
   "source": [
    "neq = left - cycle_nb*cycle_l\n",
    "neq"
   ]
  },
  {
   "cell_type": "code",
   "execution_count": 345,
   "metadata": {},
   "outputs": [
    {
     "name": "stdout",
     "output_type": "stream",
     "text": [
      "6\n"
     ]
    },
    {
     "data": {
      "text/plain": [
       "[['.', '.', '.', '.', '.', '#', '.', '.', '.', '.'],\n",
       " ['.', '.', '.', '.', '#', '.', '.', '.', 'O', '#'],\n",
       " ['.', '.', '.', '.', '.', '#', '#', '.', '.', '.'],\n",
       " ['.', '.', '.', '#', '.', '.', '.', '.', '.', '.'],\n",
       " ['.', '.', '.', '.', '.', 'O', 'O', 'O', '#', '.'],\n",
       " ['.', 'O', '#', '.', '.', '.', 'O', '#', '.', '#'],\n",
       " ['.', '.', '.', '.', 'O', '#', '.', '.', '.', 'O'],\n",
       " ['.', '.', '.', '.', '.', '.', 'O', 'O', 'O', 'O'],\n",
       " ['#', '.', '.', '.', '.', '#', '#', '#', '.', 'O'],\n",
       " ['#', '.', 'O', 'O', 'O', '#', '.', '.', 'O', 'O']]"
      ]
     },
     "execution_count": 345,
     "metadata": {},
     "output_type": "execute_result"
    }
   ],
   "source": [
    "dat = exmp \n",
    "plat = _format(dat)\n",
    "nnn = cbef+neq\n",
    "print(nnn)\n",
    "for i in range(nnn):\n",
    "    plat = _spin(plat)\n",
    "plat"
   ]
  },
  {
   "cell_type": "code",
   "execution_count": 325,
   "metadata": {},
   "outputs": [
    {
     "data": {
      "text/plain": [
       "64"
      ]
     },
     "execution_count": 325,
     "metadata": {},
     "output_type": "execute_result"
    }
   ],
   "source": [
    "_load(plat)"
   ]
  },
  {
   "cell_type": "code",
   "execution_count": 350,
   "metadata": {},
   "outputs": [],
   "source": [
    "def sol2(dat):\n",
    "    plat = _format(dat)\n",
    "    saw = set()\n",
    "    saw.add(_str(plat))\n",
    "    seq = [_str(plat)]\n",
    "    cnt = 0\n",
    "    id = None\n",
    "    while True:\n",
    "        plat = _spin(plat)\n",
    "        cnt += 1\n",
    "        sstr = _str(plat)\n",
    "        if sstr in saw:\n",
    "            id = seq.index(sstr)\n",
    "            break\n",
    "        saw.add(sstr)\n",
    "        seq.append(sstr)\n",
    "    cbef = id-1\n",
    "    cycle_l = cnt-id\n",
    "    left = 10**9-cbef\n",
    "    cycle_nb = left // cycle_l\n",
    "    neq = left - cycle_nb*cycle_l\n",
    "    nnn = cbef+neq\n",
    "    # print('id ',id)\n",
    "    # print('cnt ', cnt)\n",
    "    # print('cycle_l ', cycle_l)\n",
    "    # print('cbef ', cbef)\n",
    "    # print('left ', left)\n",
    "    # print('cycle_nb ', cycle_nb)\n",
    "    # print('neq ', neq)\n",
    "    # print('nnn ', nnn)\n",
    "    plat = _format(dat)\n",
    "    for _ in range(nnn):\n",
    "        plat = _spin(plat)\n",
    "    return _load(plat)\n",
    "    "
   ]
  },
  {
   "cell_type": "code",
   "execution_count": 351,
   "metadata": {},
   "outputs": [
    {
     "data": {
      "text/plain": [
       "64"
      ]
     },
     "execution_count": 351,
     "metadata": {},
     "output_type": "execute_result"
    }
   ],
   "source": [
    "dat = exmp\n",
    "sol2(dat)"
   ]
  },
  {
   "cell_type": "code",
   "execution_count": 354,
   "metadata": {},
   "outputs": [
    {
     "data": {
      "text/plain": [
       "105606"
      ]
     },
     "execution_count": 354,
     "metadata": {},
     "output_type": "execute_result"
    }
   ],
   "source": [
    "dat = data\n",
    "sol2(dat)"
   ]
  },
  {
   "cell_type": "code",
   "execution_count": null,
   "metadata": {},
   "outputs": [],
   "source": []
  }
 ],
 "metadata": {
  "kernelspec": {
   "display_name": "pydidask",
   "language": "python",
   "name": "python3"
  },
  "language_info": {
   "codemirror_mode": {
    "name": "ipython",
    "version": 3
   },
   "file_extension": ".py",
   "mimetype": "text/x-python",
   "name": "python",
   "nbconvert_exporter": "python",
   "pygments_lexer": "ipython3",
   "version": "3.12.0"
  }
 },
 "nbformat": 4,
 "nbformat_minor": 2
}
