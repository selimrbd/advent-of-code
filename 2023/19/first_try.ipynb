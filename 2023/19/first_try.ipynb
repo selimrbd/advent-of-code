{
 "cells": [
  {
   "cell_type": "markdown",
   "metadata": {},
   "source": [
    "# Advent of Code - Day 19 Year 2023"
   ]
  },
  {
   "cell_type": "code",
   "execution_count": null,
   "metadata": {},
   "outputs": [],
   "source": [
    "DAY = 19\n",
    "YEAR = 2023\n",
    "#######\n",
    "import json\n",
    "import sys \n",
    "sys.path.append('../../')\n",
    "from utils import get_pb_data, rephrase_pb, open_link, render_json\n",
    "link, data, exmp, ae1, ae2, exmps, out = get_pb_data(DAY, YEAR)\n",
    "\n",
    "print(f'problem link: {link}')"
   ]
  },
  {
   "cell_type": "code",
   "execution_count": 1,
   "metadata": {},
   "outputs": [],
   "source": [
    "# with open(\"./_puzzle_data.json\", \"r\") as f: inp = json.loads(f.read())\n",
    "# render_json(inp)"
   ]
  },
  {
   "cell_type": "code",
   "execution_count": null,
   "metadata": {},
   "outputs": [],
   "source": [
    "await rephrase_pb(DAY, YEAR, 1)"
   ]
  },
  {
   "cell_type": "markdown",
   "metadata": {},
   "source": [
    "## part 2"
   ]
  },
  {
   "cell_type": "code",
   "execution_count": null,
   "metadata": {},
   "outputs": [],
   "source": [
    "await rephrase_pb(DAY, YEAR, 2)"
   ]
  }
 ],
 "metadata": {
  "kernelspec": {
   "display_name": "pydidask",
   "language": "python",
   "name": "python3"
  },
  "language_info": {
   "codemirror_mode": {
    "name": "ipython",
    "version": 3
   },
   "file_extension": ".py",
   "mimetype": "text/x-python",
   "name": "python",
   "nbconvert_exporter": "python",
   "pygments_lexer": "ipython3",
   "version": "3.12.0"
  }
 },
 "nbformat": 4,
 "nbformat_minor": 2
}
