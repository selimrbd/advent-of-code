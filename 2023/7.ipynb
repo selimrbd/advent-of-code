{
 "cells": [
  {
   "cell_type": "markdown",
   "metadata": {},
   "source": [
    "[LINK](https://adventofcode.com/2023/day/7)"
   ]
  },
  {
   "cell_type": "markdown",
   "metadata": {},
   "source": [
    "# Day 7 - AoC 2023"
   ]
  },
  {
   "cell_type": "code",
   "execution_count": 1,
   "metadata": {},
   "outputs": [],
   "source": [
    "YEAR = 2023 \n",
    "DAY = 7\n",
    "\n",
    "from aocd import get_data\n",
    "import sys\n",
    "sys.path.append(\"..\")\n",
    "from config import load_config\n",
    "load_config()\n",
    "data = get_data(year=YEAR, day=DAY)"
   ]
  },
  {
   "cell_type": "code",
   "execution_count": 2,
   "metadata": {},
   "outputs": [
    {
     "data": {
      "text/plain": [
       "1000"
      ]
     },
     "execution_count": 2,
     "metadata": {},
     "output_type": "execute_result"
    }
   ],
   "source": [
    "nb_hands = len(data.splitlines())\n",
    "nb_hands"
   ]
  },
  {
   "cell_type": "markdown",
   "metadata": {},
   "source": [
    "## Try 1"
   ]
  },
  {
   "cell_type": "code",
   "execution_count": 3,
   "metadata": {},
   "outputs": [],
   "source": [
    "samp = \"\"\"32T3K 765\n",
    "T55J5 684\n",
    "KK677 28\n",
    "KTJJT 220\n",
    "QQQJA 483\n",
    "\"\"\""
   ]
  },
  {
   "cell_type": "markdown",
   "metadata": {},
   "source": [
    "steps to solve:\n",
    "\n",
    "- **order the hands by rank**\n",
    "- multiply bidding by rank\n",
    "- sum total\n"
   ]
  },
  {
   "cell_type": "markdown",
   "metadata": {},
   "source": [
    "If I can define a function that compares 2 cards, I can easily sort the card hands.\n",
    "\n",
    "I want to define an object that represents a hand, and define > and < operators to compare two hands\n",
    "\n",
    "First let's format the input data into hands and biddings"
   ]
  },
  {
   "cell_type": "code",
   "execution_count": 4,
   "metadata": {},
   "outputs": [
    {
     "data": {
      "text/plain": [
       "['32T3K 765', 'T55J5 684', 'KK677 28', 'KTJJT 220', 'QQQJA 483']"
      ]
     },
     "execution_count": 4,
     "metadata": {},
     "output_type": "execute_result"
    }
   ],
   "source": [
    "dat = samp\n",
    "lines = dat.splitlines()\n",
    "lines"
   ]
  },
  {
   "cell_type": "code",
   "execution_count": 5,
   "metadata": {},
   "outputs": [
    {
     "data": {
      "text/plain": [
       "['32T3K', 'T55J5', 'KK677', 'KTJJT', 'QQQJA']"
      ]
     },
     "execution_count": 5,
     "metadata": {},
     "output_type": "execute_result"
    }
   ],
   "source": [
    "hands = [l.split(' ')[0] for l in lines]\n",
    "hands"
   ]
  },
  {
   "cell_type": "code",
   "execution_count": 6,
   "metadata": {},
   "outputs": [
    {
     "data": {
      "text/plain": [
       "[765, 684, 28, 220, 483]"
      ]
     },
     "execution_count": 6,
     "metadata": {},
     "output_type": "execute_result"
    }
   ],
   "source": [
    "biddings = [int(l.split(' ')[1]) for l in lines]\n",
    "biddings"
   ]
  },
  {
   "cell_type": "code",
   "execution_count": 7,
   "metadata": {},
   "outputs": [],
   "source": [
    "def format_input(dat: str) -> tuple[list[str], list[int]]:\n",
    "    ..."
   ]
  },
  {
   "cell_type": "code",
   "execution_count": 8,
   "metadata": {},
   "outputs": [],
   "source": [
    "def format_input(dat: str) -> tuple[list[str], list[int]]:\n",
    "    lines = dat.splitlines()\n",
    "    hands = [l.split(' ')[0] for l in lines]\n",
    "    biddings = [int(l.split(' ')[1]) for l in lines]\n",
    "    return (hands, biddings)"
   ]
  },
  {
   "cell_type": "code",
   "execution_count": 9,
   "metadata": {},
   "outputs": [
    {
     "name": "stdout",
     "output_type": "stream",
     "text": [
      "['32T3K', 'T55J5', 'KK677', 'KTJJT', 'QQQJA']\n",
      "[765, 684, 28, 220, 483]\n"
     ]
    }
   ],
   "source": [
    "dat = samp\n",
    "hands, biddings = format_input(dat)\n",
    "print(hands)\n",
    "print(biddings)"
   ]
  },
  {
   "cell_type": "markdown",
   "metadata": {},
   "source": [
    "let's determine the type of each hand"
   ]
  },
  {
   "cell_type": "code",
   "execution_count": 10,
   "metadata": {},
   "outputs": [],
   "source": [
    "from enum import IntEnum\n",
    "\n",
    "class HandType(IntEnum):\n",
    "    HIGH = 1 \n",
    "    ONE_PAIR = 2 \n",
    "    TWO_PAIR = 3\n",
    "    THREE_KIND = 4\n",
    "    FULL_HOUSE = 5\n",
    "    FOUR_KIND = 6\n",
    "    FIVE_KIND = 7\n",
    "    UNDEFINED = -1"
   ]
  },
  {
   "cell_type": "code",
   "execution_count": 11,
   "metadata": {},
   "outputs": [
    {
     "data": {
      "text/plain": [
       "True"
      ]
     },
     "execution_count": 11,
     "metadata": {},
     "output_type": "execute_result"
    }
   ],
   "source": [
    "## we can compare hand types now\n",
    "HandType.TWO_PAIR > HandType.ONE_PAIR"
   ]
  },
  {
   "cell_type": "code",
   "execution_count": 12,
   "metadata": {},
   "outputs": [
    {
     "data": {
      "text/plain": [
       "True"
      ]
     },
     "execution_count": 12,
     "metadata": {},
     "output_type": "execute_result"
    }
   ],
   "source": [
    "## find a way to compare cards\n",
    "ORD = ['2', '3', '4', '5', '6', '7', '8', '9', 'T', 'J', 'Q', 'K', 'A']\n",
    "ORD.index('K') > ORD.index('2')"
   ]
  },
  {
   "cell_type": "code",
   "execution_count": 13,
   "metadata": {},
   "outputs": [],
   "source": [
    "def get_hand_type(hand: str) -> HandType:\n",
    "    ..."
   ]
  },
  {
   "cell_type": "code",
   "execution_count": 14,
   "metadata": {},
   "outputs": [],
   "source": [
    "from collections import Counter"
   ]
  },
  {
   "cell_type": "code",
   "execution_count": 15,
   "metadata": {},
   "outputs": [
    {
     "data": {
      "text/plain": [
       "True"
      ]
     },
     "execution_count": 15,
     "metadata": {},
     "output_type": "execute_result"
    }
   ],
   "source": [
    "# HIGH\n",
    "hand = \"234KA\"\n",
    "counts = Counter(hand).most_common()\n",
    "len(counts) == 5"
   ]
  },
  {
   "cell_type": "code",
   "execution_count": 16,
   "metadata": {},
   "outputs": [
    {
     "data": {
      "text/plain": [
       "True"
      ]
     },
     "execution_count": 16,
     "metadata": {},
     "output_type": "execute_result"
    }
   ],
   "source": [
    "# ONE PAIR\n",
    "hand = \"233KA\"\n",
    "counts = Counter(hand).most_common()\n",
    "len([c for c in counts if c[1] == 2]) == 1"
   ]
  },
  {
   "cell_type": "code",
   "execution_count": 17,
   "metadata": {},
   "outputs": [
    {
     "data": {
      "text/plain": [
       "True"
      ]
     },
     "execution_count": 17,
     "metadata": {},
     "output_type": "execute_result"
    }
   ],
   "source": [
    "## TWO PAIRS\n",
    "hand = \"233K2\"\n",
    "counts = Counter(hand).most_common()\n",
    "len([c for c in counts if c[1] == 2]) == 2"
   ]
  },
  {
   "cell_type": "code",
   "execution_count": 18,
   "metadata": {},
   "outputs": [
    {
     "data": {
      "text/plain": [
       "False"
      ]
     },
     "execution_count": 18,
     "metadata": {},
     "output_type": "execute_result"
    }
   ],
   "source": [
    "## THREE_KIND\n",
    "hand = \"23332\"\n",
    "counts = Counter(hand).most_common()\n",
    "(len([c for c in counts if c[1] == 3]) == 1) and (len([c for c in counts if c[1] == 2]) == 0) "
   ]
  },
  {
   "cell_type": "code",
   "execution_count": 19,
   "metadata": {},
   "outputs": [
    {
     "data": {
      "text/plain": [
       "True"
      ]
     },
     "execution_count": 19,
     "metadata": {},
     "output_type": "execute_result"
    }
   ],
   "source": [
    "## THREE_KIND\n",
    "hand = \"2333A\"\n",
    "counts = Counter(hand).most_common()\n",
    "(len([c for c in counts if c[1] == 3]) == 1) and (len([c for c in counts if c[1] == 2]) == 0) "
   ]
  },
  {
   "cell_type": "code",
   "execution_count": 20,
   "metadata": {},
   "outputs": [
    {
     "data": {
      "text/plain": [
       "True"
      ]
     },
     "execution_count": 20,
     "metadata": {},
     "output_type": "execute_result"
    }
   ],
   "source": [
    "## FULL HOUSE\n",
    "hand = \"A333A\"\n",
    "counts = Counter(hand).most_common()\n",
    "(len([c for c in counts if c[1] == 3]) == 1) and (len([c for c in counts if c[1] == 2]) == 1) "
   ]
  },
  {
   "cell_type": "code",
   "execution_count": 21,
   "metadata": {},
   "outputs": [
    {
     "data": {
      "text/plain": [
       "False"
      ]
     },
     "execution_count": 21,
     "metadata": {},
     "output_type": "execute_result"
    }
   ],
   "source": [
    "## FULL HOUSE\n",
    "hand = \"A3332\"\n",
    "counts = Counter(hand).most_common()\n",
    "(len([c for c in counts if c[1] == 3]) == 1) and (len([c for c in counts if c[1] == 2]) == 1) "
   ]
  },
  {
   "cell_type": "code",
   "execution_count": 22,
   "metadata": {},
   "outputs": [
    {
     "data": {
      "text/plain": [
       "True"
      ]
     },
     "execution_count": 22,
     "metadata": {},
     "output_type": "execute_result"
    }
   ],
   "source": [
    "## FOUR_KIND\n",
    "hand = \"A3AAA\"\n",
    "counts = Counter(hand).most_common()\n",
    "(len([c for c in counts if c[1] == 4]) == 1)"
   ]
  },
  {
   "cell_type": "code",
   "execution_count": 23,
   "metadata": {},
   "outputs": [
    {
     "data": {
      "text/plain": [
       "True"
      ]
     },
     "execution_count": 23,
     "metadata": {},
     "output_type": "execute_result"
    }
   ],
   "source": [
    "## FIVE_KIND\n",
    "hand = \"AAAAA\"\n",
    "counts = Counter(hand).most_common()\n",
    "len(counts) == 1"
   ]
  },
  {
   "cell_type": "code",
   "execution_count": 24,
   "metadata": {},
   "outputs": [],
   "source": [
    "## the order in which the if statements are written matters\n",
    "def get_hand_type(hand: str) -> HandType:\n",
    "    counts = Counter(hand).most_common()\n",
    "    if len(counts) == 5:\n",
    "        return HandType.HIGH\n",
    "    elif (len([c for c in counts if c[1] == 4]) == 1):\n",
    "        return HandType.FOUR_KIND\n",
    "    elif len(counts) == 1:\n",
    "        return HandType.FIVE_KIND\n",
    "    elif (len([c for c in counts if c[1] == 3]) == 1) and (len([c for c in counts if c[1] == 2]) == 1):\n",
    "        return HandType.FULL_HOUSE \n",
    "    elif (len([c for c in counts if c[1] == 3]) == 1) and (len([c for c in counts if c[1] == 2]) == 0):\n",
    "        return HandType.THREE_KIND\n",
    "    elif len([c for c in counts if c[1] == 2]) == 2:\n",
    "        return HandType.TWO_PAIR\n",
    "    elif len([c for c in counts if c[1] == 2]) == 1:\n",
    "        return HandType.ONE_PAIR\n",
    "    else:\n",
    "        return HandType.UNDEFINED\n",
    "        "
   ]
  },
  {
   "cell_type": "code",
   "execution_count": 25,
   "metadata": {},
   "outputs": [
    {
     "data": {
      "text/plain": [
       "[<HandType.HIGH: 1>,\n",
       " <HandType.ONE_PAIR: 2>,\n",
       " <HandType.TWO_PAIR: 3>,\n",
       " <HandType.THREE_KIND: 4>,\n",
       " <HandType.FULL_HOUSE: 5>,\n",
       " <HandType.FOUR_KIND: 6>,\n",
       " <HandType.FIVE_KIND: 7>]"
      ]
     },
     "execution_count": 25,
     "metadata": {},
     "output_type": "execute_result"
    }
   ],
   "source": [
    "class HandType(IntEnum):\n",
    "    HIGH = 1 \n",
    "    ONE_PAIR = 2 \n",
    "    TWO_PAIR = 3\n",
    "    THREE_KIND = 4\n",
    "    FULL_HOUSE = 5\n",
    "    FOUR_KIND = 6\n",
    "    FIVE_KIND = 7\n",
    "    UNDEFINED = -1\n",
    "\n",
    "hands = [\"A2356\", \"AA274\", \"AAKK3\", \"333AK\", \"333AA\", \"9999A\", \"22222\"]\n",
    "[get_hand_type(h) for h in hands]"
   ]
  },
  {
   "cell_type": "code",
   "execution_count": 26,
   "metadata": {},
   "outputs": [
    {
     "data": {
      "text/plain": [
       "Counter({<HandType.THREE_KIND: 4>: 2,\n",
       "         <HandType.TWO_PAIR: 3>: 2,\n",
       "         <HandType.ONE_PAIR: 2>: 1})"
      ]
     },
     "execution_count": 26,
     "metadata": {},
     "output_type": "execute_result"
    }
   ],
   "source": [
    "dat = samp \n",
    "hands, _ = format_input(dat)\n",
    "Counter([get_hand_type(h) for h in hands])"
   ]
  },
  {
   "cell_type": "code",
   "execution_count": 27,
   "metadata": {},
   "outputs": [
    {
     "data": {
      "text/plain": [
       "Counter({<HandType.ONE_PAIR: 2>: 261,\n",
       "         <HandType.HIGH: 1>: 201,\n",
       "         <HandType.THREE_KIND: 4>: 173,\n",
       "         <HandType.TWO_PAIR: 3>: 171,\n",
       "         <HandType.FULL_HOUSE: 5>: 100,\n",
       "         <HandType.FOUR_KIND: 6>: 93,\n",
       "         <HandType.FIVE_KIND: 7>: 1})"
      ]
     },
     "execution_count": 27,
     "metadata": {},
     "output_type": "execute_result"
    }
   ],
   "source": [
    "dat = data \n",
    "hands, _ = format_input(dat)\n",
    "Counter([get_hand_type(h) for h in hands])"
   ]
  },
  {
   "cell_type": "code",
   "execution_count": 28,
   "metadata": {},
   "outputs": [],
   "source": [
    "def compare_hand_order(h1: str, h2: str) -> int:\n",
    "    \"\"\"\n",
    "    -1 : h1 strict inf to h2\n",
    "    0: equal \n",
    "    1: h1 strict sup to h2\n",
    "    \"\"\"\n",
    "    i = 0 \n",
    "    while i <= 4:\n",
    "        if ORD.index(h1[i]) > ORD.index(h2[i]): \n",
    "            return 1\n",
    "        if ORD.index(h1[i]) < ORD.index(h2[i]): \n",
    "            return -1    \n",
    "        i += 1\n",
    "    return 0\n"
   ]
  },
  {
   "cell_type": "code",
   "execution_count": 29,
   "metadata": {},
   "outputs": [
    {
     "data": {
      "text/plain": [
       "0"
      ]
     },
     "execution_count": 29,
     "metadata": {},
     "output_type": "execute_result"
    }
   ],
   "source": [
    "h1 = '23456'\n",
    "h2 = '23456'\n",
    "compare_hand_order(h1, h2)"
   ]
  },
  {
   "cell_type": "code",
   "execution_count": 30,
   "metadata": {},
   "outputs": [
    {
     "data": {
      "text/plain": [
       "1"
      ]
     },
     "execution_count": 30,
     "metadata": {},
     "output_type": "execute_result"
    }
   ],
   "source": [
    "h1 = 'A345A'\n",
    "h2 = '2K456'\n",
    "compare_hand_order(h1, h2)"
   ]
  },
  {
   "cell_type": "code",
   "execution_count": 31,
   "metadata": {},
   "outputs": [],
   "source": [
    "def compare_hand_type(t1: HandType, t2: HandType):\n",
    "    if t1 > t2: \n",
    "        return 1 \n",
    "    elif t1 < t2:\n",
    "        return -1 \n",
    "    else:\n",
    "        return 0"
   ]
  },
  {
   "cell_type": "code",
   "execution_count": 32,
   "metadata": {},
   "outputs": [],
   "source": [
    "def compare_hands(h1: str, h2: str) -> int:\n",
    "    t1 = get_hand_type(h1)\n",
    "    t2 = get_hand_type(h2)\n",
    "    if t1 == t2:\n",
    "        return compare_hand_order(h1, h2)\n",
    "    return compare_hand_type(t1, t2)"
   ]
  },
  {
   "cell_type": "code",
   "execution_count": 33,
   "metadata": {},
   "outputs": [
    {
     "data": {
      "text/plain": [
       "1"
      ]
     },
     "execution_count": 33,
     "metadata": {},
     "output_type": "execute_result"
    }
   ],
   "source": [
    "h1 = 'A345A'\n",
    "h2 = '2K456'\n",
    "compare_hands(h1, h2)"
   ]
  },
  {
   "cell_type": "code",
   "execution_count": 34,
   "metadata": {},
   "outputs": [
    {
     "data": {
      "text/plain": [
       "-1"
      ]
     },
     "execution_count": 34,
     "metadata": {},
     "output_type": "execute_result"
    }
   ],
   "source": [
    "h1 = 'A345A'\n",
    "h2 = '22222'\n",
    "compare_hands(h1, h2)"
   ]
  },
  {
   "cell_type": "code",
   "execution_count": 35,
   "metadata": {},
   "outputs": [
    {
     "data": {
      "text/plain": [
       "-1"
      ]
     },
     "execution_count": 35,
     "metadata": {},
     "output_type": "execute_result"
    }
   ],
   "source": [
    "h1 = '444AA'\n",
    "h2 = '22224'\n",
    "compare_hands(h1, h2)"
   ]
  },
  {
   "cell_type": "code",
   "execution_count": 36,
   "metadata": {},
   "outputs": [
    {
     "data": {
      "text/plain": [
       "-1"
      ]
     },
     "execution_count": 36,
     "metadata": {},
     "output_type": "execute_result"
    }
   ],
   "source": [
    "h1 = '4444A'\n",
    "h2 = 'A2222'\n",
    "compare_hands(h1, h2)"
   ]
  },
  {
   "cell_type": "code",
   "execution_count": 37,
   "metadata": {},
   "outputs": [],
   "source": [
    "def format_input(dat: str) -> tuple[list[str], list[int]]:\n",
    "    lines = dat.splitlines()\n",
    "    hands = [l.split(' ')[0] for l in lines]\n",
    "    biddings = [int(l.split(' ')[1]) for l in lines]\n",
    "    return [(h,b) for (h,b) in zip(hands, biddings)]"
   ]
  },
  {
   "cell_type": "code",
   "execution_count": 38,
   "metadata": {},
   "outputs": [
    {
     "data": {
      "text/plain": [
       "[('32T3K', 765), ('T55J5', 684), ('KK677', 28), ('KTJJT', 220), ('QQQJA', 483)]"
      ]
     },
     "execution_count": 38,
     "metadata": {},
     "output_type": "execute_result"
    }
   ],
   "source": [
    "dat = samp \n",
    "inp = format_input(dat)\n",
    "inp"
   ]
  },
  {
   "cell_type": "code",
   "execution_count": 39,
   "metadata": {},
   "outputs": [],
   "source": [
    "from functools import cmp_to_key\n",
    "\n",
    "def compare_hands_tuple(v1: tuple[str, int], v2: tuple[str, int]):\n",
    "    return compare_hands(v1[0], v2[0])\n",
    "cmp_hands_key = cmp_to_key(compare_hands_tuple)"
   ]
  },
  {
   "cell_type": "code",
   "execution_count": 40,
   "metadata": {},
   "outputs": [],
   "source": [
    "def rank_hands(inp: list[tuple[str, int]]) -> list[tuple[str, int]]:\n",
    "    ..."
   ]
  },
  {
   "cell_type": "code",
   "execution_count": 41,
   "metadata": {},
   "outputs": [],
   "source": [
    "def rank_hands(inp: list[tuple[str, int]]) -> list[tuple[str, int]]:\n",
    "    def compare_hands_tuple(v1: tuple[str, int], v2: tuple[str, int]):\n",
    "        return compare_hands(v1[0], v2[0])\n",
    "    cmp_hands_key = cmp_to_key(compare_hands_tuple)\n",
    "    return sorted(inp, key=cmp_hands_key)"
   ]
  },
  {
   "cell_type": "code",
   "execution_count": 42,
   "metadata": {},
   "outputs": [
    {
     "data": {
      "text/plain": [
       "[('32T3K', 765), ('KTJJT', 220), ('KK677', 28), ('T55J5', 684), ('QQQJA', 483)]"
      ]
     },
     "execution_count": 42,
     "metadata": {},
     "output_type": "execute_result"
    }
   ],
   "source": [
    "dat = samp \n",
    "inp = format_input(dat)\n",
    "rk = rank_hands(inp)\n",
    "rk"
   ]
  },
  {
   "cell_type": "code",
   "execution_count": 43,
   "metadata": {},
   "outputs": [
    {
     "data": {
      "text/plain": [
       "[765, 440, 84, 2736, 2415]"
      ]
     },
     "execution_count": 43,
     "metadata": {},
     "output_type": "execute_result"
    }
   ],
   "source": [
    "[r[1]*(i+1) for i,r in enumerate(rk)]"
   ]
  },
  {
   "cell_type": "code",
   "execution_count": 44,
   "metadata": {},
   "outputs": [
    {
     "data": {
      "text/plain": [
       "6440"
      ]
     },
     "execution_count": 44,
     "metadata": {},
     "output_type": "execute_result"
    }
   ],
   "source": [
    "sum([r[1]*(i+1) for i,r in enumerate(rk)])"
   ]
  },
  {
   "cell_type": "code",
   "execution_count": 45,
   "metadata": {},
   "outputs": [],
   "source": [
    "def sol_2023_7_1(dat: str) -> int:\n",
    "    inp = format_input(dat)\n",
    "    rk = rank_hands(inp)\n",
    "    return sum([r[1]*(i+1) for i,r in enumerate(rk)])\n"
   ]
  },
  {
   "cell_type": "code",
   "execution_count": 46,
   "metadata": {},
   "outputs": [
    {
     "data": {
      "text/plain": [
       "6440"
      ]
     },
     "execution_count": 46,
     "metadata": {},
     "output_type": "execute_result"
    }
   ],
   "source": [
    "dat = samp \n",
    "sol_2023_7_1(dat)"
   ]
  },
  {
   "cell_type": "code",
   "execution_count": 47,
   "metadata": {},
   "outputs": [
    {
     "data": {
      "text/plain": [
       "251545216"
      ]
     },
     "execution_count": 47,
     "metadata": {},
     "output_type": "execute_result"
    }
   ],
   "source": [
    "dat = data \n",
    "sol_2023_7_1(dat)"
   ]
  },
  {
   "cell_type": "markdown",
   "metadata": {},
   "source": [
    "## Part 2"
   ]
  },
  {
   "cell_type": "code",
   "execution_count": 48,
   "metadata": {},
   "outputs": [],
   "source": [
    "## new order for J\n",
    "ORD = ['J', '2', '3', '4', '5', '6', '7', '8', '9', 'T', 'Q', 'K', 'A']"
   ]
  },
  {
   "cell_type": "code",
   "execution_count": 49,
   "metadata": {},
   "outputs": [],
   "source": [
    "## determine how to replace each J to make hand as strong as possible\n",
    "def replace_jokers(hand: str) -> str:\n",
    "    ..."
   ]
  },
  {
   "cell_type": "code",
   "execution_count": 50,
   "metadata": {},
   "outputs": [],
   "source": [
    "def compare_hands_with_joker(h1: str, h2: str) -> int:\n",
    "    h1r = replace_jokers(h1)\n",
    "    h2r = replace_jokers(h2)\n",
    "    t1, t2 = get_hand_type(h1r), get_hand_type(h2r)\n",
    "    if t1 == t2:\n",
    "        ## compare hands with the original joker\n",
    "        return compare_hand_order(h1, h2)\n",
    "    return compare_hand_type(t1, t2)"
   ]
  },
  {
   "cell_type": "code",
   "execution_count": 51,
   "metadata": {},
   "outputs": [
    {
     "data": {
      "text/plain": [
       "'J2345'"
      ]
     },
     "execution_count": 51,
     "metadata": {},
     "output_type": "execute_result"
    }
   ],
   "source": [
    "'J2345'"
   ]
  },
  {
   "cell_type": "code",
   "execution_count": 52,
   "metadata": {},
   "outputs": [
    {
     "data": {
      "text/plain": [
       "12"
      ]
     },
     "execution_count": 52,
     "metadata": {},
     "output_type": "execute_result"
    }
   ],
   "source": [
    "# brute force: generate all possible combinations of hands, and take the highest one\n",
    "# how many possibilities max ? \n",
    "len(ORD)-1"
   ]
  },
  {
   "cell_type": "code",
   "execution_count": 53,
   "metadata": {},
   "outputs": [
    {
     "data": {
      "text/plain": [
       "144"
      ]
     },
     "execution_count": 53,
     "metadata": {},
     "output_type": "execute_result"
    }
   ],
   "source": [
    "(len(ORD)-1)**2"
   ]
  },
  {
   "cell_type": "code",
   "execution_count": 54,
   "metadata": {},
   "outputs": [
    {
     "data": {
      "text/plain": [
       "12"
      ]
     },
     "execution_count": 54,
     "metadata": {},
     "output_type": "execute_result"
    }
   ],
   "source": [
    "(len(ORD)-1)**1"
   ]
  },
  {
   "cell_type": "code",
   "execution_count": 55,
   "metadata": {},
   "outputs": [],
   "source": [
    "## brute force sucks :/\n",
    "## algo to replace ? \n",
    "## go from highest hand to lowest hand and determine if that hand is possible \n",
    "## for each possibility rank by decreasing nb \n",
    "## from all possibilities, rank by decreasing order of "
   ]
  },
  {
   "cell_type": "code",
   "execution_count": 56,
   "metadata": {},
   "outputs": [],
   "source": [
    "# acutally brute force is fine, because for high number of J the best option is evident\n",
    "# 5 J --> 5 A \n",
    "# 4 J --> Same as the other card for 5_KIND\n",
    "# 3 J --> Same as highest of 2 cards\n",
    "# 2 J --> cas1: all same (--> same), 2 same (--> same), all distinct --> highest card. Conclusion: order by highest count then highest card\n",
    "# 1 J --> Check all possibilities\n",
    "# actually it seems it is always the same algo: order first by count then by card and take the highest option"
   ]
  },
  {
   "cell_type": "code",
   "execution_count": 57,
   "metadata": {},
   "outputs": [
    {
     "data": {
      "text/plain": [
       "'2345'"
      ]
     },
     "execution_count": 57,
     "metadata": {},
     "output_type": "execute_result"
    }
   ],
   "source": [
    "import re \n",
    "hand = 'J2345'\n",
    "re.sub('J','', hand)"
   ]
  },
  {
   "cell_type": "code",
   "execution_count": 58,
   "metadata": {},
   "outputs": [
    {
     "data": {
      "text/plain": [
       "Counter({'2': 1, '3': 1, '4': 1, '5': 1})"
      ]
     },
     "execution_count": 58,
     "metadata": {},
     "output_type": "execute_result"
    }
   ],
   "source": [
    "Counter(re.sub('J','', hand))"
   ]
  },
  {
   "cell_type": "code",
   "execution_count": 59,
   "metadata": {},
   "outputs": [
    {
     "data": {
      "text/plain": [
       "[('2', 1), ('3', 1), ('4', 1), ('5', 1)]"
      ]
     },
     "execution_count": 59,
     "metadata": {},
     "output_type": "execute_result"
    }
   ],
   "source": [
    "Counter(re.sub('J','', hand)).most_common()"
   ]
  },
  {
   "cell_type": "code",
   "execution_count": 60,
   "metadata": {},
   "outputs": [],
   "source": [
    "def compare_card(c1n: tuple[str, int], c2n: tuple[str, int]) -> int:\n",
    "    c1 = c1n[0]\n",
    "    c2 = c2n[0]\n",
    "    n1 = c1n[1]\n",
    "    n2 = c2n[1]\n",
    "    \n",
    "    if n1 > n2:\n",
    "        return 1 \n",
    "    if n1 < n2:\n",
    "        return -1\n",
    "    if ORD.index(c1) > ORD.index(c2):\n",
    "        return 1\n",
    "    elif ORD.index(c1) < ORD.index(c2):\n",
    "        return -1\n",
    "    return 0 \n",
    "    \n",
    "compare_card_key = cmp_to_key(compare_card)"
   ]
  },
  {
   "cell_type": "code",
   "execution_count": 61,
   "metadata": {},
   "outputs": [
    {
     "data": {
      "text/plain": [
       "[('2', 1), ('3', 1), ('4', 1), ('5', 1)]"
      ]
     },
     "execution_count": 61,
     "metadata": {},
     "output_type": "execute_result"
    }
   ],
   "source": [
    "s_cnt = Counter(re.sub('J','', hand)).most_common()\n",
    "sorted(s_cnt, key=compare_card_key)"
   ]
  },
  {
   "cell_type": "code",
   "execution_count": 62,
   "metadata": {},
   "outputs": [],
   "source": [
    "def rank_cards(hand: str) -> list[tuple[str, int]]:\n",
    "    s_cnt = Counter(re.sub('J','', hand)).most_common()\n",
    "    rk = sorted(s_cnt, key=compare_card_key)\n",
    "    return rk"
   ]
  },
  {
   "cell_type": "code",
   "execution_count": 63,
   "metadata": {},
   "outputs": [
    {
     "data": {
      "text/plain": [
       "[('Q', 1), ('A', 1), ('2', 3)]"
      ]
     },
     "execution_count": 63,
     "metadata": {},
     "output_type": "execute_result"
    }
   ],
   "source": [
    "hand = '222QA'\n",
    "rank_cards(hand)"
   ]
  },
  {
   "cell_type": "code",
   "execution_count": 64,
   "metadata": {},
   "outputs": [
    {
     "data": {
      "text/plain": [
       "[('2', 1), ('A', 1), ('4', 2)]"
      ]
     },
     "execution_count": 64,
     "metadata": {},
     "output_type": "execute_result"
    }
   ],
   "source": [
    "hand = '4A2J4'\n",
    "rank_cards(hand)"
   ]
  },
  {
   "cell_type": "code",
   "execution_count": 65,
   "metadata": {},
   "outputs": [],
   "source": [
    "def replace_jokers(hand: str) -> str:\n",
    "    if hand == 'JJJJJ':\n",
    "        return 'AAAAA'\n",
    "    rk = rank_cards(hand)\n",
    "    ## replace allm jokers with highest ranking hand\n",
    "    choice = rk[-1][0]\n",
    "    return re.sub('J', choice, hand)"
   ]
  },
  {
   "cell_type": "code",
   "execution_count": 66,
   "metadata": {},
   "outputs": [
    {
     "data": {
      "text/plain": [
       "'42244'"
      ]
     },
     "execution_count": 66,
     "metadata": {},
     "output_type": "execute_result"
    }
   ],
   "source": [
    "hand = '422J4'\n",
    "replace_jokers(hand)"
   ]
  },
  {
   "cell_type": "code",
   "execution_count": 67,
   "metadata": {},
   "outputs": [
    {
     "name": "stdout",
     "output_type": "stream",
     "text": [
      "[('K', 1), ('T', 2)]\n"
     ]
    },
    {
     "data": {
      "text/plain": [
       "'KTTTT'"
      ]
     },
     "execution_count": 67,
     "metadata": {},
     "output_type": "execute_result"
    }
   ],
   "source": [
    "hand = 'KTJJT'\n",
    "print(rank_cards(hand))\n",
    "replace_jokers(hand)"
   ]
  },
  {
   "cell_type": "code",
   "execution_count": 68,
   "metadata": {},
   "outputs": [
    {
     "name": "stdout",
     "output_type": "stream",
     "text": [
      "[('A', 1), ('Q', 3)]\n"
     ]
    },
    {
     "data": {
      "text/plain": [
       "'QQQQA'"
      ]
     },
     "execution_count": 68,
     "metadata": {},
     "output_type": "execute_result"
    }
   ],
   "source": [
    "hand = 'QQQJA'\n",
    "print(rank_cards(hand))\n",
    "replace_jokers(hand)"
   ]
  },
  {
   "cell_type": "code",
   "execution_count": 69,
   "metadata": {},
   "outputs": [],
   "source": [
    "def compare_hands_with_joker(h1: str, h2: str) -> int:\n",
    "    h1r, h2r = replace_jokers(h1), replace_jokers(h2)\n",
    "    #print(h1r, h2r)\n",
    "    t1, t2 = get_hand_type(h1r), get_hand_type(h2r)\n",
    "    #print(t1.name, t2.name)\n",
    "    if t1 == t2:\n",
    "        ## compare hands with the original joker\n",
    "        return compare_hand_order(h1, h2)\n",
    "    return compare_hand_type(t1, t2)\n",
    "cmp2 = cmp_to_key(compare_hands_with_joker)"
   ]
  },
  {
   "cell_type": "code",
   "execution_count": 70,
   "metadata": {},
   "outputs": [
    {
     "data": {
      "text/plain": [
       "[('32T3K', 765), ('KK677', 28), ('T55J5', 684), ('QQQJA', 483), ('KTJJT', 220)]"
      ]
     },
     "execution_count": 70,
     "metadata": {},
     "output_type": "execute_result"
    }
   ],
   "source": [
    "dat = samp \n",
    "inp = format_input(dat)\n",
    "sorted(inp, key=lambda tp: cmp2(tp[0]))"
   ]
  },
  {
   "cell_type": "code",
   "execution_count": 71,
   "metadata": {},
   "outputs": [
    {
     "data": {
      "text/plain": [
       "1"
      ]
     },
     "execution_count": 71,
     "metadata": {},
     "output_type": "execute_result"
    }
   ],
   "source": [
    "h1 = \"QQQJA\"\n",
    "h2 = \"KK677\"\n",
    "compare_hands_with_joker(h1, h2)"
   ]
  },
  {
   "cell_type": "code",
   "execution_count": 72,
   "metadata": {},
   "outputs": [
    {
     "data": {
      "text/plain": [
       "<HandType.THREE_KIND: 4>"
      ]
     },
     "execution_count": 72,
     "metadata": {},
     "output_type": "execute_result"
    }
   ],
   "source": [
    "get_hand_type(h1)"
   ]
  },
  {
   "cell_type": "code",
   "execution_count": 73,
   "metadata": {},
   "outputs": [],
   "source": [
    "def rank_hands_with_joker(inp: list[tuple[str, int]]) -> list[tuple[str, int]]:\n",
    "    return sorted(inp, key=lambda tp: cmp2(tp[0]))"
   ]
  },
  {
   "cell_type": "code",
   "execution_count": 74,
   "metadata": {},
   "outputs": [],
   "source": [
    "def sol_2023_7_2(dat: str) -> int:\n",
    "    inp = format_input(dat)\n",
    "    rk = rank_hands_with_joker(inp)\n",
    "    return sum([r[1]*(i+1) for i,r in enumerate(rk)])\n"
   ]
  },
  {
   "cell_type": "code",
   "execution_count": 75,
   "metadata": {},
   "outputs": [
    {
     "data": {
      "text/plain": [
       "5905"
      ]
     },
     "execution_count": 75,
     "metadata": {},
     "output_type": "execute_result"
    }
   ],
   "source": [
    "dat = samp\n",
    "sol_2023_7_2(dat)"
   ]
  },
  {
   "cell_type": "code",
   "execution_count": 76,
   "metadata": {},
   "outputs": [
    {
     "data": {
      "text/plain": [
       "250384185"
      ]
     },
     "execution_count": 76,
     "metadata": {},
     "output_type": "execute_result"
    }
   ],
   "source": [
    "dat = data\n",
    "sol_2023_7_2(dat)"
   ]
  }
 ],
 "metadata": {
  "kernelspec": {
   "display_name": "pydidask",
   "language": "python",
   "name": "python3"
  },
  "language_info": {
   "codemirror_mode": {
    "name": "ipython",
    "version": 3
   },
   "file_extension": ".py",
   "mimetype": "text/x-python",
   "name": "python",
   "nbconvert_exporter": "python",
   "pygments_lexer": "ipython3",
   "version": "3.12.0"
  }
 },
 "nbformat": 4,
 "nbformat_minor": 2
}
