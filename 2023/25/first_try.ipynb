{
 "cells": [
  {
   "cell_type": "markdown",
   "metadata": {},
   "source": [
    "# Advent of Code - Day 25 Year 2023"
   ]
  },
  {
   "cell_type": "code",
   "execution_count": 31,
   "metadata": {},
   "outputs": [
    {
     "name": "stdout",
     "output_type": "stream",
     "text": [
      "nb examples: 1\n",
      "problem link: https://adventofcode.com/2023/day/25\n"
     ]
    }
   ],
   "source": [
    "DAY = 25\n",
    "YEAR = 2023\n",
    "#######\n",
    "import json\n",
    "import sys \n",
    "sys.path.append('../../')\n",
    "from utils import get_pb_data, rephrase_pb, open_link, render_json\n",
    "link, data, exmp, ae1, ae2, exmps, out = get_pb_data(DAY, YEAR)\n",
    "\n",
    "print(f'problem link: {link}')"
   ]
  },
  {
   "cell_type": "code",
   "execution_count": 32,
   "metadata": {},
   "outputs": [
    {
     "data": {
      "text/plain": [
       "32"
      ]
     },
     "execution_count": 32,
     "metadata": {},
     "output_type": "execute_result"
    }
   ],
   "source": [
    "len(get_ipython().user_ns['In']) - 1"
   ]
  },
  {
   "cell_type": "code",
   "execution_count": 33,
   "metadata": {},
   "outputs": [],
   "source": [
    "# with open(\"./_puzzle_data.json\", \"r\") as f: inp = json.loads(f.read())\n",
    "# render_json(inp)"
   ]
  },
  {
   "cell_type": "code",
   "execution_count": 34,
   "metadata": {},
   "outputs": [
    {
     "data": {
      "text/markdown": [
       "**Problem**: Find 3 wires to disconnect in a network of interconnected components that will split the network into 2 separate groups. Multiply the number of components in each group to get the answer. \n",
       "\n",
       "**Input**: List of components and their connections in format:\n",
       "```\n",
       "jqt: rhn xhk nvd\n",
       "rsh: frs pzl lsr\n",
       "[component]: [connected_component1] [connected_component2] ...\n",
       "```\n",
       "\n",
       "**Key points**:\n",
       "- Connections are bidirectional\n",
       "- Each connection appears only once\n",
       "- Need to find exactly 3 wires to cut\n",
       "- Must result in 2 disconnected groups\n",
       "- The goal is to maximize the product of group sizes\n",
       "\n",
       "**Example Solution**: \n",
       "- Cut wires between: hfx/pzl, bvb/cmg, nvd/jqt\n",
       "- Results in:\n",
       "  - Group 1: 9 components (cmg, frs, lhk, lsr, nvd, pzl, qnr, rsh, rzs)\n",
       "  - Group 2: 6 components (bvb, hfx, jqt, ntq, rhn, xhk)\n",
       "- Answer: 9 * 6 = 54"
      ],
      "text/plain": [
       "<IPython.core.display.Markdown object>"
      ]
     },
     "execution_count": 34,
     "metadata": {},
     "output_type": "execute_result"
    }
   ],
   "source": [
    "await rephrase_pb(DAY, YEAR, 1)"
   ]
  },
  {
   "cell_type": "markdown",
   "metadata": {},
   "source": [
    "## part 2"
   ]
  },
  {
   "cell_type": "code",
   "execution_count": 21,
   "metadata": {},
   "outputs": [],
   "source": [
    "import IPython \n",
    "from pathlib import Path\n",
    "import nbformat \n",
    "\n",
    "def get_current_nb_path():\n",
    "    \"\"\"Assumes that current notebook is the last that was run in IPython.\"\"\"\n",
    "    ipython = IPython.get_ipython()\n",
    "    if ipython is None:\n",
    "        raise RuntimeError(\"Must be run from IPython\")\n",
    "    notebooks = Path(ipython.run_line_magic('pwd', '')).glob('*.ipynb')\n",
    "    return max(notebooks, key=lambda p: p.stat().st_mtime)\n",
    "\n",
    "def get_nb_content(notebook_path):\n",
    "   return nbformat.read(notebook_path, as_version=4).dict()\n",
    "\n",
    "def get_current_nb_content():\n",
    "   pth = get_current_nb_path()\n",
    "   return nbformat.read(pth, as_version=4).dict()\n",
    "\n",
    "def get_current_cell_execution_count():\n",
    "   return get_ipython().execution_count\n",
    "\n",
    "def get_current_cell_index():\n",
    "   ex = get_current_cell_execution_count()\n",
    "   ct = get_current_nb_content()\n",
    "   ct"
   ]
  },
  {
   "cell_type": "code",
   "execution_count": 22,
   "metadata": {},
   "outputs": [
    {
     "ename": "NameError",
     "evalue": "name 'alzkje' is not defined",
     "output_type": "error",
     "traceback": [
      "\u001b[0;31m---------------------------------------------------------------------------\u001b[0m",
      "\u001b[0;31mNameError\u001b[0m                                 Traceback (most recent call last)",
      "Cell \u001b[0;32mIn[22], line 1\u001b[0m\n\u001b[0;32m----> 1\u001b[0m \u001b[43malzkje\u001b[49m\n",
      "\u001b[0;31mNameError\u001b[0m: name 'alzkje' is not defined"
     ]
    }
   ],
   "source": [
    "alzkje"
   ]
  },
  {
   "cell_type": "code",
   "execution_count": 19,
   "metadata": {},
   "outputs": [],
   "source": []
  },
  {
   "cell_type": "code",
   "execution_count": 23,
   "metadata": {},
   "outputs": [
    {
     "data": {
      "text/plain": [
       "23"
      ]
     },
     "execution_count": 23,
     "metadata": {},
     "output_type": "execute_result"
    }
   ],
   "source": [
    "ex = get_current_cell_execution_count()\n",
    "ex"
   ]
  },
  {
   "cell_type": "code",
   "execution_count": 24,
   "metadata": {},
   "outputs": [
    {
     "data": {
      "text/plain": [
       "[]"
      ]
     },
     "execution_count": 24,
     "metadata": {},
     "output_type": "execute_result"
    }
   ],
   "source": [
    "nb = get_current_nb_content()\n",
    "#if c.get('execution_count', -1) == ex\n",
    "[c.get('execution_count', -1) for i,c in enumerate(nb[\"cells\"]) if 'execution_count' in c and c[\"execution_count\"] == ex]"
   ]
  },
  {
   "cell_type": "code",
   "execution_count": 25,
   "metadata": {},
   "outputs": [
    {
     "data": {
      "text/plain": [
       "dict"
      ]
     },
     "execution_count": 25,
     "metadata": {},
     "output_type": "execute_result"
    }
   ],
   "source": [
    "type(dict(nb))"
   ]
  },
  {
   "cell_type": "code",
   "execution_count": 26,
   "metadata": {},
   "outputs": [
    {
     "data": {
      "text/html": [
       "<div id=\"e7f26cf9-7339-4544-8728-7b676b6df952\" style=\"height: auto; width:100%;\"></div>"
      ],
      "text/plain": [
       "<IPython.core.display.HTML object>"
      ]
     },
     "metadata": {},
     "output_type": "display_data"
    },
    {
     "data": {
      "text/html": [
       "<script>\n",
       "        require([\"https://rawgit.com/caldwell/renderjson/master/renderjson.js\"], function() {\n",
       "          renderjson.set_show_to_level(1)\n",
       "          document.getElementById('e7f26cf9-7339-4544-8728-7b676b6df952').appendChild(renderjson({\"cells\": [{\"cell_type\": \"markdown\", \"metadata\": {}, \"source\": \"# Advent of Code - Day 25 Year 2023\"}, {\"cell_type\": \"code\", \"execution_count\": \"1\", \"metadata\": {}, \"outputs\": [{\"name\": \"stdout\", \"output_type\": \"stream\", \"text\": \"nb examples: 1\\\\nproblem link: https://adventofcode.com/2023/day/25\\\\n\"}], \"source\": \"DAY = 25\\\\nYEAR = 2023\\\\n#######\\\\nimport json\\\\nimport sys \\\\nsys.path.append('../../')\\\\nfrom utils import get_pb_data, rephrase_pb, open_link, render_json\\\\nlink, data, exmp, ae1, ae2, exmps, out = get_pb_data(DAY, YEAR)\\\\n\\\\nprint(f'problem link: {link}')\"}, {\"cell_type\": \"code\", \"execution_count\": \"2\", \"metadata\": {}, \"outputs\": [{\"data\": {\"text/plain\": \"2\"}, \"execution_count\": \"2\", \"metadata\": {}, \"output_type\": \"execute_result\"}], \"source\": \"len(get_ipython().user_ns['In']) - 1\"}, {\"cell_type\": \"code\", \"execution_count\": \"3\", \"metadata\": {}, \"outputs\": [], \"source\": \"# with open(\\\\\\\"./_puzzle_data.json\\\\\\\", \\\\\\\"r\\\\\\\") as f: inp = json.loads(f.read())\\\\n# render_json(inp)\"}, {\"cell_type\": \"code\", \"execution_count\": \"None\", \"metadata\": {}, \"outputs\": [], \"source\": \"await rephrase_pb(DAY, YEAR, 1)\"}, {\"cell_type\": \"markdown\", \"metadata\": {}, \"source\": \"## part 2\"}, {\"cell_type\": \"code\", \"execution_count\": \"3\", \"metadata\": {}, \"outputs\": [], \"source\": \"import IPython \\\\nfrom pathlib import Path\\\\nimport nbformat \\\\n\\\\ndef get_current_nb_path():\\\\n    \\\\\\\"\\\\\\\"\\\\\\\"Assumes that current notebook is the last that was run in IPython.\\\\\\\"\\\\\\\"\\\\\\\"\\\\n    ipython = IPython.get_ipython()\\\\n    if ipython is None:\\\\n        raise RuntimeError(\\\\\\\"Must be run from IPython\\\\\\\")\\\\n    notebooks = Path(ipython.run_line_magic('pwd', '')).glob('*.ipynb')\\\\n    return max(notebooks, key=lambda p: p.stat().st_mtime)\\\\n\\\\ndef get_nb_content(notebook_path):\\\\n   return nbformat.read(notebook_path, as_version=4).dict()\\\\n\\\\ndef get_current_nb_content():\\\\n   pth = get_current_nb_path()\\\\n   return nbformat.read(pth, as_version=4).dict()\\\\n\\\\ndef get_current_cell_execution_count():\\\\n   return get_ipython().execution_count\\\\n\\\\ndef get_current_cell_index():\\\\n   ex = get_current_cell_execution_count()\\\\n   ct = get_current_nb_content()\\\\n   ct\"}, {\"cell_type\": \"code\", \"execution_count\": \"4\", \"metadata\": {}, \"outputs\": [{\"ename\": \"NameError\", \"evalue\": \"name 'alzkje' is not defined\", \"output_type\": \"error\", \"traceback\": [\"\\\\u001b[0;31m---------------------------------------------------------------------------\\\\u001b[0m\", \"\\\\u001b[0;31mNameError\\\\u001b[0m                                 Traceback (most recent call last)\", \"Cell \\\\u001b[0;32mIn[4], line 1\\\\u001b[0m\\\\n\\\\u001b[0;32m----> 1\\\\u001b[0m \\\\u001b[43malzkje\\\\u001b[49m\\\\n\", \"\\\\u001b[0;31mNameError\\\\u001b[0m: name 'alzkje' is not defined\"]}], \"source\": \"alzkje\"}, {\"cell_type\": \"code\", \"execution_count\": \"19\", \"metadata\": {}, \"outputs\": [], \"source\": \"\"}, {\"cell_type\": \"code\", \"execution_count\": \"9\", \"metadata\": {}, \"outputs\": [{\"data\": {\"text/plain\": \"9\"}, \"execution_count\": \"9\", \"metadata\": {}, \"output_type\": \"execute_result\"}], \"source\": \"ex = get_current_cell_execution_count()\\\\nex\"}, {\"cell_type\": \"code\", \"execution_count\": \"10\", \"metadata\": {}, \"outputs\": [{\"data\": {\"text/plain\": \"[]\"}, \"execution_count\": \"10\", \"metadata\": {}, \"output_type\": \"execute_result\"}], \"source\": \"nb = get_current_nb_content()\\\\n#if c.get('execution_count', -1) == ex\\\\n[c.get('execution_count', -1) for i,c in enumerate(nb[\\\\\\\"cells\\\\\\\"]) if 'execution_count' in c and c[\\\\\\\"execution_count\\\\\\\"] == ex]\"}, {\"cell_type\": \"code\", \"execution_count\": \"16\", \"metadata\": {}, \"outputs\": [{\"data\": {\"text/plain\": \"dict\"}, \"execution_count\": \"16\", \"metadata\": {}, \"output_type\": \"execute_result\"}], \"source\": \"type(dict(nb))\"}, {\"cell_type\": \"code\", \"execution_count\": \"18\", \"metadata\": {}, \"outputs\": [{\"data\": {\"text/html\": \"<div id=\\\\\\\"c1270ff5-3407-42ae-9c25-b427570ef8c2\\\\\\\" style=\\\\\\\"height: auto; width:100%;\\\\\\\"></div>\", \"text/plain\": \"<IPython.core.display.HTML object>\"}, \"metadata\": {}, \"output_type\": \"display_data\"}, {\"data\": {\"text/html\": \"<script>\\\\n        require([\\\\\\\"https://rawgit.com/caldwell/renderjson/master/renderjson.js\\\\\\\"], function() {\\\\n          renderjson.set_show_to_level(1)\\\\n          document.getElementById('c1270ff5-3407-42ae-9c25-b427570ef8c2').appendChild(renderjson({\\\\\\\"cells\\\\\\\": [{\\\\\\\"cell_type\\\\\\\": \\\\\\\"markdown\\\\\\\", \\\\\\\"metadata\\\\\\\": {}, \\\\\\\"source\\\\\\\": \\\\\\\"# Advent of Code - Day 25 Year 2023\\\\\\\"}, {\\\\\\\"cell_type\\\\\\\": \\\\\\\"code\\\\\\\", \\\\\\\"execution_count\\\\\\\": \\\\\\\"1\\\\\\\", \\\\\\\"metadata\\\\\\\": {}, \\\\\\\"outputs\\\\\\\": [{\\\\\\\"name\\\\\\\": \\\\\\\"stdout\\\\\\\", \\\\\\\"output_type\\\\\\\": \\\\\\\"stream\\\\\\\", \\\\\\\"text\\\\\\\": \\\\\\\"nb examples: 1\\\\\\\\\\\\\\\\nproblem link: https://adventofcode.com/2023/day/25\\\\\\\\\\\\\\\\n\\\\\\\"}], \\\\\\\"source\\\\\\\": \\\\\\\"DAY = 25\\\\\\\\\\\\\\\\nYEAR = 2023\\\\\\\\\\\\\\\\n#######\\\\\\\\\\\\\\\\nimport json\\\\\\\\\\\\\\\\nimport sys \\\\\\\\\\\\\\\\nsys.path.append('../../')\\\\\\\\\\\\\\\\nfrom utils import get_pb_data, rephrase_pb, open_link, render_json\\\\\\\\\\\\\\\\nlink, data, exmp, ae1, ae2, exmps, out = get_pb_data(DAY, YEAR)\\\\\\\\\\\\\\\\n\\\\\\\\\\\\\\\\nprint(f'problem link: {link}')\\\\\\\"}, {\\\\\\\"cell_type\\\\\\\": \\\\\\\"code\\\\\\\", \\\\\\\"execution_count\\\\\\\": \\\\\\\"10\\\\\\\", \\\\\\\"metadata\\\\\\\": {}, \\\\\\\"outputs\\\\\\\": [{\\\\\\\"data\\\\\\\": {\\\\\\\"text/plain\\\\\\\": \\\\\\\"10\\\\\\\"}, \\\\\\\"execution_count\\\\\\\": \\\\\\\"10\\\\\\\", \\\\\\\"metadata\\\\\\\": {}, \\\\\\\"output_type\\\\\\\": \\\\\\\"execute_result\\\\\\\"}], \\\\\\\"source\\\\\\\": \\\\\\\"len(get_ipython().user_ns['In']) - 1\\\\\\\"}, {\\\\\\\"cell_type\\\\\\\": \\\\\\\"code\\\\\\\", \\\\\\\"execution_count\\\\\\\": \\\\\\\"2\\\\\\\", \\\\\\\"metadata\\\\\\\": {}, \\\\\\\"outputs\\\\\\\": [], \\\\\\\"source\\\\\\\": \\\\\\\"# with open(\\\\\\\\\\\\\\\\\\\\\\\\\\\\\\\"./_puzzle_data.json\\\\\\\\\\\\\\\\\\\\\\\\\\\\\\\", \\\\\\\\\\\\\\\\\\\\\\\\\\\\\\\"r\\\\\\\\\\\\\\\\\\\\\\\\\\\\\\\") as f: inp = json.loads(f.read())\\\\\\\\\\\\\\\\n# render_json(inp)\\\\\\\"}, {\\\\\\\"cell_type\\\\\\\": \\\\\\\"code\\\\\\\", \\\\\\\"execution_count\\\\\\\": \\\\\\\"3\\\\\\\", \\\\\\\"metadata\\\\\\\": {}, \\\\\\\"outputs\\\\\\\": [{\\\\\\\"data\\\\\\\": {\\\\\\\"text/markdown\\\\\\\": \\\\\\\"**Task**: Find 3 wires to disconnect to split a network into 2 separate groups, and multiply the sizes of these groups together. \\\\\\\\\\\\\\\\n\\\\\\\\\\\\\\\\n**Input format**:\\\\\\\\\\\\\\\\nEach line represents a component and its connections:\\\\\\\\\\\\\\\\n```\\\\\\\\\\\\\\\\njqt: rhn xhk nvd\\\\\\\\\\\\\\\\nrsh: frs pzl lsr\\\\\\\\\\\\\\\\n```\\\\\\\\\\\\\\\\n\\\\\\\\\\\\\\\\n**Key points**: \\\\\\\\\\\\\\\\n- Connections are bidirectional\\\\\\\\\\\\\\\\n- Each connection appears only once\\\\\\\\\\\\\\\\n- Need to find optimal 3 wires to cut\\\\\\\\\\\\\\\\n- Must result in exactly 2 disconnected groups\\\\\\\\\\\\\\\\n- Goal is to maximize the product of group sizes\\\\\\\\\\\\\\\\n\\\\\\\\\\\\\\\\n**Example result**: \\\\\\\\\\\\\\\\n- After cutting wires between hfx/pzl, bvb/cmg, and nvd/jqt\\\\\\\\\\\\\\\\n- Group 1: 9 components (cmg, frs, lhk, lsr, nvd, pzl, qnr, rsh, rzs)\\\\\\\\\\\\\\\\n- Group 2: 6 components (bvb, hfx, jqt, ntq, rhn, xhk)\\\\\\\\\\\\\\\\n- Answer: 9 * 6 = 54\\\\\\\", \\\\\\\"text/plain\\\\\\\": \\\\\\\"<IPython.core.display.Markdown object>\\\\\\\"}, \\\\\\\"execution_count\\\\\\\": \\\\\\\"3\\\\\\\", \\\\\\\"metadata\\\\\\\": {}, \\\\\\\"output_type\\\\\\\": \\\\\\\"execute_result\\\\\\\"}], \\\\\\\"source\\\\\\\": \\\\\\\"await rephrase_pb(DAY, YEAR, 1)\\\\\\\"}, {\\\\\\\"cell_type\\\\\\\": \\\\\\\"markdown\\\\\\\", \\\\\\\"metadata\\\\\\\": {}, \\\\\\\"source\\\\\\\": \\\\\\\"## part 2\\\\\\\"}, {\\\\\\\"cell_type\\\\\\\": \\\\\\\"code\\\\\\\", \\\\\\\"execution_count\\\\\\\": \\\\\\\"4\\\\\\\", \\\\\\\"metadata\\\\\\\": {}, \\\\\\\"outputs\\\\\\\": [], \\\\\\\"source\\\\\\\": \\\\\\\"import IPython \\\\\\\\\\\\\\\\nfrom pathlib import Path\\\\\\\\\\\\\\\\nimport nbformat \\\\\\\\\\\\\\\\n\\\\\\\\\\\\\\\\ndef get_current_nb_path():\\\\\\\\\\\\\\\\n    \\\\\\\\\\\\\\\\\\\\\\\\\\\\\\\"\\\\\\\\\\\\\\\\\\\\\\\\\\\\\\\"\\\\\\\\\\\\\\\\\\\\\\\\\\\\\\\"Assumes that current notebook is the last that was run in IPython.\\\\\\\\\\\\\\\\\\\\\\\\\\\\\\\"\\\\\\\\\\\\\\\\\\\\\\\\\\\\\\\"\\\\\\\\\\\\\\\\\\\\\\\\\\\\\\\"\\\\\\\\\\\\\\\\n    ipython = IPython.get_ipython()\\\\\\\\\\\\\\\\n    if ipython is None:\\\\\\\\\\\\\\\\n        raise RuntimeError(\\\\\\\\\\\\\\\\\\\\\\\\\\\\\\\"Must be run from IPython\\\\\\\\\\\\\\\\\\\\\\\\\\\\\\\")\\\\\\\\\\\\\\\\n    notebooks = Path(ipython.run_line_magic('pwd', '')).glob('*.ipynb')\\\\\\\\\\\\\\\\n    return max(notebooks, key=lambda p: p.stat().st_mtime)\\\\\\\\\\\\\\\\n\\\\\\\\\\\\\\\\ndef get_nb_content(notebook_path):\\\\\\\\\\\\\\\\n   return nbformat.read(notebook_path, as_version=4).dict()\\\\\\\\\\\\\\\\n\\\\\\\\\\\\\\\\ndef get_current_nb_content():\\\\\\\\\\\\\\\\n   pth = get_current_nb_path()\\\\\\\\\\\\\\\\n   return nbformat.read(pth, as_version=4).dict()\\\\\\\\\\\\\\\\n\\\\\\\\\\\\\\\\ndef get_current_cell_execution_count():\\\\\\\\\\\\\\\\n   return get_ipython().execution_count\\\\\\\\\\\\\\\\n\\\\\\\\\\\\\\\\ndef get_current_cell_index():\\\\\\\\\\\\\\\\n   ex = get_current_cell_execution_count()\\\\\\\\\\\\\\\\n   ct = get_current_nb_content()\\\\\\\\\\\\\\\\n   ct\\\\\\\"}, {\\\\\\\"cell_type\\\\\\\": \\\\\\\"code\\\\\\\", \\\\\\\"execution_count\\\\\\\": \\\\\\\"5\\\\\\\", \\\\\\\"metadata\\\\\\\": {}, \\\\\\\"outputs\\\\\\\": [{\\\\\\\"ename\\\\\\\": \\\\\\\"NameError\\\\\\\", \\\\\\\"evalue\\\\\\\": \\\\\\\"name 'alzkje' is not defined\\\\\\\", \\\\\\\"output_type\\\\\\\": \\\\\\\"error\\\\\\\", \\\\\\\"traceback\\\\\\\": [\\\\\\\"\\\\\\\\\\\\\\\\u001b[0;31m---------------------------------------------------------------------------\\\\\\\\\\\\\\\\u001b[0m\\\\\\\", \\\\\\\"\\\\\\\\\\\\\\\\u001b[0;31mNameError\\\\\\\\\\\\\\\\u001b[0m                                 Traceback (most recent call last)\\\\\\\", \\\\\\\"Cell \\\\\\\\\\\\\\\\u001b[0;32mIn[5], line 1\\\\\\\\\\\\\\\\u001b[0m\\\\\\\\\\\\\\\\n\\\\\\\\\\\\\\\\u001b[0;32m----> 1\\\\\\\\\\\\\\\\u001b[0m \\\\\\\\\\\\\\\\u001b[43malzkje\\\\\\\\\\\\\\\\u001b[49m\\\\\\\\\\\\\\\\n\\\\\\\", \\\\\\\"\\\\\\\\\\\\\\\\u001b[0;31mNameError\\\\\\\\\\\\\\\\u001b[0m: name 'alzkje' is not defined\\\\\\\"]}], \\\\\\\"source\\\\\\\": \\\\\\\"alzkje\\\\\\\"}, {\\\\\\\"cell_type\\\\\\\": \\\\\\\"code\\\\\\\", \\\\\\\"execution_count\\\\\\\": \\\\\\\"19\\\\\\\", \\\\\\\"metadata\\\\\\\": {}, \\\\\\\"outputs\\\\\\\": [], \\\\\\\"source\\\\\\\": \\\\\\\"nb = get_nb_content(get_nb_path())\\\\\\\"}, {\\\\\\\"cell_type\\\\\\\": \\\\\\\"code\\\\\\\", \\\\\\\"execution_count\\\\\\\": \\\\\\\"39\\\\\\\", \\\\\\\"metadata\\\\\\\": {}, \\\\\\\"outputs\\\\\\\": [{\\\\\\\"data\\\\\\\": {\\\\\\\"text/plain\\\\\\\": \\\\\\\"39\\\\\\\"}, \\\\\\\"execution_count\\\\\\\": \\\\\\\"39\\\\\\\", \\\\\\\"metadata\\\\\\\": {}, \\\\\\\"output_type\\\\\\\": \\\\\\\"execute_result\\\\\\\"}], \\\\\\\"source\\\\\\\": \\\\\\\"ex = get_current_cell_execution_count()\\\\\\\\\\\\\\\\nex\\\\\\\"}, {\\\\\\\"cell_type\\\\\\\": \\\\\\\"code\\\\\\\", \\\\\\\"execution_count\\\\\\\": \\\\\\\"38\\\\\\\", \\\\\\\"metadata\\\\\\\": {}, \\\\\\\"outputs\\\\\\\": [{\\\\\\\"data\\\\\\\": {\\\\\\\"text/plain\\\\\\\": \\\\\\\"[-1, 1, 2, 3, -1, 4, 5, 56, None, None]\\\\\\\"}, \\\\\\\"execution_count\\\\\\\": \\\\\\\"38\\\\\\\", \\\\\\\"metadata\\\\\\\": {}, \\\\\\\"output_type\\\\\\\": \\\\\\\"execute_result\\\\\\\"}], \\\\\\\"source\\\\\\\": \\\\\\\"#if c.get('execution_count', -1) == ex\\\\\\\\\\\\\\\\n[c.get('execution_count', -1) for i,c in enumerate(nb[\\\\\\\\\\\\\\\\\\\\\\\\\\\\\\\"cells\\\\\\\\\\\\\\\\\\\\\\\\\\\\\\\"]) if 'execution_count' in c and c[\\\\\\\\\\\\\\\\\\\\\\\\\\\\\\\"execution_count\\\\\\\\\\\\\\\\\\\\\\\\\\\\\\\"] == ex]\\\\\\\"}, {\\\\\\\"cell_type\\\\\\\": \\\\\\\"code\\\\\\\", \\\\\\\"execution_count\\\\\\\": \\\\\\\"8\\\\\\\", \\\\\\\"metadata\\\\\\\": {}, \\\\\\\"outputs\\\\\\\": [{\\\\\\\"data\\\\\\\": {\\\\\\\"text/html\\\\\\\": \\\\\\\"<div id=\\\\\\\\\\\\\\\\\\\\\\\\\\\\\\\"5bdc6753-f856-47e8-b8fc-4e1419031e73\\\\\\\\\\\\\\\\\\\\\\\\\\\\\\\" style=\\\\\\\\\\\\\\\\\\\\\\\\\\\\\\\"height: auto; width:100%;\\\\\\\\\\\\\\\\\\\\\\\\\\\\\\\"></div>\\\\\\\", \\\\\\\"text/plain\\\\\\\": \\\\\\\"<IPython.core.display.HTML object>\\\\\\\"}, \\\\\\\"metadata\\\\\\\": {}, \\\\\\\"output_type\\\\\\\": \\\\\\\"display_data\\\\\\\"}, {\\\\\\\"data\\\\\\\": {\\\\\\\"text/html\\\\\\\": \\\\\\\"<script>\\\\\\\\\\\\\\\\n        require([\\\\\\\\\\\\\\\\\\\\\\\\\\\\\\\"https://rawgit.com/caldwell/renderjson/master/renderjson.js\\\\\\\\\\\\\\\\\\\\\\\\\\\\\\\"], function() {\\\\\\\\\\\\\\\\n          renderjson.set_show_to_level(1)\\\\\\\\\\\\\\\\n          document.getElementById('5bdc6753-f856-47e8-b8fc-4e1419031e73').appendChild(renderjson({\\\\\\\\\\\\\\\\\\\\\\\\\\\\\\\"cells\\\\\\\\\\\\\\\\\\\\\\\\\\\\\\\": [{\\\\\\\\\\\\\\\\\\\\\\\\\\\\\\\"cell_type\\\\\\\\\\\\\\\\\\\\\\\\\\\\\\\": \\\\\\\\\\\\\\\\\\\\\\\\\\\\\\\"markdown\\\\\\\\\\\\\\\\\\\\\\\\\\\\\\\", \\\\\\\\\\\\\\\\\\\\\\\\\\\\\\\"metadata\\\\\\\\\\\\\\\\\\\\\\\\\\\\\\\": {}, \\\\\\\\\\\\\\\\\\\\\\\\\\\\\\\"source\\\\\\\\\\\\\\\\\\\\\\\\\\\\\\\": \\\\\\\\\\\\\\\\\\\\\\\\\\\\\\\"# Advent of Code - Day 25 Year 2023\\\\\\\\\\\\\\\\\\\\\\\\\\\\\\\"}, {\\\\\\\\\\\\\\\\\\\\\\\\\\\\\\\"cell_type\\\\\\\\\\\\\\\\\\\\\\\\\\\\\\\": \\\\\\\\\\\\\\\\\\\\\\\\\\\\\\\"code\\\\\\\\\\\\\\\\\\\\\\\\\\\\\\\", \\\\\\\\\\\\\\\\\\\\\\\\\\\\\\\"execution_count\\\\\\\\\\\\\\\\\\\\\\\\\\\\\\\": \\\\\\\\\\\\\\\\\\\\\\\\\\\\\\\"1\\\\\\\\\\\\\\\\\\\\\\\\\\\\\\\", \\\\\\\\\\\\\\\\\\\\\\\\\\\\\\\"metadata\\\\\\\\\\\\\\\\\\\\\\\\\\\\\\\": {}, \\\\\\\\\\\\\\\\\\\\\\\\\\\\\\\"outputs\\\\\\\\\\\\\\\\\\\\\\\\\\\\\\\": [{\\\\\\\\\\\\\\\\\\\\\\\\\\\\\\\"name\\\\\\\\\\\\\\\\\\\\\\\\\\\\\\\": \\\\\\\\\\\\\\\\\\\\\\\\\\\\\\\"stdout\\\\\\\\\\\\\\\\\\\\\\\\\\\\\\\", \\\\\\\\\\\\\\\\\\\\\\\\\\\\\\\"output_type\\\\\\\\\\\\\\\\\\\\\\\\\\\\\\\": \\\\\\\\\\\\\\\\\\\\\\\\\\\\\\\"stream\\\\\\\\\\\\\\\\\\\\\\\\\\\\\\\", \\\\\\\\\\\\\\\\\\\\\\\\\\\\\\\"text\\\\\\\\\\\\\\\\\\\\\\\\\\\\\\\": \\\\\\\\\\\\\\\\\\\\\\\\\\\\\\\"nb examples: 1\\\\\\\\\\\\\\\\\\\\\\\\\\\\\\\\\\\\\\\\\\\\\\\\\\\\\\\\\\\\\\\\nproblem link: https://adventofcode.com/2023/day/25\\\\\\\\\\\\\\\\\\\\\\\\\\\\\\\\\\\\\\\\\\\\\\\\\\\\\\\\\\\\\\\\n\\\\\\\\\\\\\\\\\\\\\\\\\\\\\\\"}], \\\\\\\\\\\\\\\\\\\\\\\\\\\\\\\"source\\\\\\\\\\\\\\\\\\\\\\\\\\\\\\\": \\\\\\\\\\\\\\\\\\\\\\\\\\\\\\\"DAY = 25\\\\\\\\\\\\\\\\\\\\\\\\\\\\\\\\\\\\\\\\\\\\\\\\\\\\\\\\\\\\\\\\nYEAR = 2023\\\\\\\\\\\\\\\\\\\\\\\\\\\\\\\\\\\\\\\\\\\\\\\\\\\\\\\\\\\\\\\\n#######\\\\\\\\\\\\\\\\\\\\\\\\\\\\\\\\\\\\\\\\\\\\\\\\\\\\\\\\\\\\\\\\nimport json\\\\\\\\\\\\\\\\\\\\\\\\\\\\\\\\\\\\\\\\\\\\\\\\\\\\\\\\\\\\\\\\nimport sys \\\\\\\\\\\\\\\\\\\\\\\\\\\\\\\\\\\\\\\\\\\\\\\\\\\\\\\\\\\\\\\\nsys.path.append('../../')\\\\\\\\\\\\\\\\\\\\\\\\\\\\\\\\\\\\\\\\\\\\\\\\\\\\\\\\\\\\\\\\nfrom utils import get_pb_data, rephrase_pb, open_link, render_json\\\\\\\\\\\\\\\\\\\\\\\\\\\\\\\\\\\\\\\\\\\\\\\\\\\\\\\\\\\\\\\\nlink, data, exmp, ae1, ae2, exmps, out = get_pb_data(DAY, YEAR)\\\\\\\\\\\\\\\\\\\\\\\\\\\\\\\\\\\\\\\\\\\\\\\\\\\\\\\\\\\\\\\\n\\\\\\\\\\\\\\\\\\\\\\\\\\\\\\\\\\\\\\\\\\\\\\\\\\\\\\\\\\\\\\\\nprint(f'problem link: {link}')\\\\\\\\\\\\\\\\\\\\\\\\\\\\\\\"}, {\\\\\\\\\\\\\\\\\\\\\\\\\\\\\\\"cell_type\\\\\\\\\\\\\\\\\\\\\\\\\\\\\\\": \\\\\\\\\\\\\\\\\\\\\\\\\\\\\\\"code\\\\\\\\\\\\\\\\\\\\\\\\\\\\\\\", \\\\\\\\\\\\\\\\\\\\\\\\\\\\\\\"execution_count\\\\\\\\\\\\\\\\\\\\\\\\\\\\\\\": \\\\\\\\\\\\\\\\\\\\\\\\\\\\\\\"2\\\\\\\\\\\\\\\\\\\\\\\\\\\\\\\", \\\\\\\\\\\\\\\\\\\\\\\\\\\\\\\"metadata\\\\\\\\\\\\\\\\\\\\\\\\\\\\\\\": {}, \\\\\\\\\\\\\\\\\\\\\\\\\\\\\\\"outputs\\\\\\\\\\\\\\\\\\\\\\\\\\\\\\\": [], \\\\\\\\\\\\\\\\\\\\\\\\\\\\\\\"source\\\\\\\\\\\\\\\\\\\\\\\\\\\\\\\": \\\\\\\\\\\\\\\\\\\\\\\\\\\\\\\"# with open(\\\\\\\\\\\\\\\\\\\\\\\\\\\\\\\\\\\\\\\\\\\\\\\\\\\\\\\\\\\\\\\\\\\\\\\\\\\\\\\\\\\\\\\\\\\\\\\\\\\\\\\\\\\\\\\\\\\\\\\\\\\\\\\"./_puzzle_data.json\\\\\\\\\\\\\\\\\\\\\\\\\\\\\\\\\\\\\\\\\\\\\\\\\\\\\\\\\\\\\\\\\\\\\\\\\\\\\\\\\\\\\\\\\\\\\\\\\\\\\\\\\\\\\\\\\\\\\\\\\\\\\\\", \\\\\\\\\\\\\\\\\\\\\\\\\\\\\\\\\\\\\\\\\\\\\\\\\\\\\\\\\\\\\\\\\\\\\\\\\\\\\\\\\\\\\\\\\\\\\\\\\\\\\\\\\\\\\\\\\\\\\\\\\\\\\\\"r\\\\\\\\\\\\\\\\\\\\\\\\\\\\\\\\\\\\\\\\\\\\\\\\\\\\\\\\\\\\\\\\\\\\\\\\\\\\\\\\\\\\\\\\\\\\\\\\\\\\\\\\\\\\\\\\\\\\\\\\\\\\\\\") as f: inp = json.loads(f.read())\\\\\\\\\\\\\\\\\\\\\\\\\\\\\\\\\\\\\\\\\\\\\\\\\\\\\\\\\\\\\\\\n# render_json(inp)\\\\\\\\\\\\\\\\\\\\\\\\\\\\\\\"}, {\\\\\\\\\\\\\\\\\\\\\\\\\\\\\\\"cell_type\\\\\\\\\\\\\\\\\\\\\\\\\\\\\\\": \\\\\\\\\\\\\\\\\\\\\\\\\\\\\\\"code\\\\\\\\\\\\\\\\\\\\\\\\\\\\\\\", \\\\\\\\\\\\\\\\\\\\\\\\\\\\\\\"execution_count\\\\\\\\\\\\\\\\\\\\\\\\\\\\\\\": \\\\\\\\\\\\\\\\\\\\\\\\\\\\\\\"3\\\\\\\\\\\\\\\\\\\\\\\\\\\\\\\", \\\\\\\\\\\\\\\\\\\\\\\\\\\\\\\"metadata\\\\\\\\\\\\\\\\\\\\\\\\\\\\\\\": {}, \\\\\\\\\\\\\\\\\\\\\\\\\\\\\\\"outputs\\\\\\\\\\\\\\\\\\\\\\\\\\\\\\\": [{\\\\\\\\\\\\\\\\\\\\\\\\\\\\\\\"data\\\\\\\\\\\\\\\\\\\\\\\\\\\\\\\": {\\\\\\\\\\\\\\\\\\\\\\\\\\\\\\\"text/markdown\\\\\\\\\\\\\\\\\\\\\\\\\\\\\\\": \\\\\\\\\\\\\\\\\\\\\\\\\\\\\\\"**Problem**: Find 3 wires to disconnect in a network of components to split it into 2 separate groups, then multiply the sizes of these groups together. \\\\\\\\\\\\\\\\\\\\\\\\\\\\\\\\\\\\\\\\\\\\\\\\\\\\\\\\\\\\\\\\n\\\\\\\\\\\\\\\\\\\\\\\\\\\\\\\\\\\\\\\\\\\\\\\\\\\\\\\\\\\\\\\\n**Input format**: Lines showing component connections in the format:\\\\\\\\\\\\\\\\\\\\\\\\\\\\\\\\\\\\\\\\\\\\\\\\\\\\\\\\\\\\\\\\n```\\\\\\\\\\\\\\\\\\\\\\\\\\\\\\\\\\\\\\\\\\\\\\\\\\\\\\\\\\\\\\\\ncomponent: connected_component1 connected_component2 ...\\\\\\\\\\\\\\\\\\\\\\\\\\\\\\\\\\\\\\\\\\\\\\\\\\\\\\\\\\\\\\\\n```\\\\\\\\\\\\\\\\\\\\\\\\\\\\\\\\\\\\\\\\\\\\\\\\\\\\\\\\\\\\\\\\n\\\\\\\\\\\\\\\\\\\\\\\\\\\\\\\\\\\\\\\\\\\\\\\\\\\\\\\\\\\\\\\\n**Key points**:\\\\\\\\\\\\\\\\\\\\\\\\\\\\\\\\\\\\\\\\\\\\\\\\\\\\\\\\\\\\\\\\n- Connections are bidirectional \\\\\\\\\\\\\\\\\\\\\\\\\\\\\\\\\\\\\\\\\\\\\\\\\\\\\\\\\\\\\\\\n- Each connection is listed only once \\\\\\\\\\\\\\\\\\\\\\\\\\\\\\\\\\\\\\\\\\\\\\\\\\\\\\\\\\\\\\\\n- Need to find exactly 3 wires to cut \\\\\\\\\\\\\\\\\\\\\\\\\\\\\\\\\\\\\\\\\\\\\\\\\\\\\\\\\\\\\\\\n- Must result in exactly 2 disconnected groups \\\\\\\\\\\\\\\\\\\\\\\\\\\\\\\\\\\\\\\\\\\\\\\\\\\\\\\\\\\\\\\\n- Must minimize component connectivity between groups \\\\\\\\\\\\\\\\\\\\\\\\\\\\\\\\\\\\\\\\\\\\\\\\\\\\\\\\\\\\\\\\n\\\\\\\\\\\\\\\\\\\\\\\\\\\\\\\\\\\\\\\\\\\\\\\\\\\\\\\\\\\\\\\\n**Example**:\\\\\\\\\\\\\\\\\\\\\\\\\\\\\\\\\\\\\\\\\\\\\\\\\\\\\\\\\\\\\\\\n```\\\\\\\\\\\\\\\\\\\\\\\\\\\\\\\\\\\\\\\\\\\\\\\\\\\\\\\\\\\\\\\\njqt: rhn xhk nvd\\\\\\\\\\\\\\\\\\\\\\\\\\\\\\\\\\\\\\\\\\\\\\\\\\\\\\\\\\\\\\\\nrsh: frs pzl lsr\\\\\\\\\\\\\\\\\\\\\\\\\\\\\\\\\\\\\\\\\\\\\\\\\\\\\\\\\\\\\\\\nxhk: hfx\\\\\\\\\\\\\\\\\\\\\\\\\\\\\\\\\\\\\\\\\\\\\\\\\\\\\\\\\\\\\\\\ncmg: qnr nvd lhk bvb\\\\\\\\\\\\\\\\\\\\\\\\\\\\\\\\\\\\\\\\\\\\\\\\\\\\\\\\\\\\\\\\nrhn: xhk bvb hfx\\\\\\\\\\\\\\\\\\\\\\\\\\\\\\\\\\\\\\\\\\\\\\\\\\\\\\\\\\\\\\\\nbvb: xhk hfx\\\\\\\\\\\\\\\\\\\\\\\\\\\\\\\\\\\\\\\\\\\\\\\\\\\\\\\\\\\\\\\\npzl: lsr hfx nvd\\\\\\\\\\\\\\\\\\\\\\\\\\\\\\\\\\\\\\\\\\\\\\\\\\\\\\\\\\\\\\\\nqnr: nvd\\\\\\\\\\\\\\\\\\\\\\\\\\\\\\\\\\\\\\\\\\\\\\\\\\\\\\\\\\\\\\\\nntq: jqt hfx bvb xhk\\\\\\\\\\\\\\\\\\\\\\\\\\\\\\\\\\\\\\\\\\\\\\\\\\\\\\\\\\\\\\\\nnvd: lhk\\\\\\\\\\\\\\\\\\\\\\\\\\\\\\\\\\\\\\\\\\\\\\\\\\\\\\\\\\\\\\\\nlsr: lhk\\\\\\\\\\\\\\\\\\\\\\\\\\\\\\\\\\\\\\\\\\\\\\\\\\\\\\\\\\\\\\\\nrzs: qnr cmg lsr rsh\\\\\\\\\\\\\\\\\\\\\\\\\\\\\\\\\\\\\\\\\\\\\\\\\\\\\\\\\\\\\\\\nfrs: qnr lhk lsr\\\\\\\\\\\\\\\\\\\\\\\\\\\\\\\\\\\\\\\\\\\\\\\\\\\\\\\\\\\\\\\\n```\\\\\\\\\\\\\\\\\\\\\\\\\\\\\\\\\\\\\\\\\\\\\\\\\\\\\\\\\\\\\\\\n\\\\\\\\\\\\\\\\\\\\\\\\\\\\\\\\\\\\\\\\\\\\\\\\\\\\\\\\\\\\\\\\n**Goal**: Find which 3 wires to cut to get 2 groups, then multiply their sizes together (example answer: 54 = 9 \\\\\\\\\\\\\\\\\\\\\\\\\\\\\\\\\\\\\\\\\\\\\\\\\\\\\\\\\\\\\\\\u00d7 6)\\\\\\\\\\\\\\\\\\\\\\\\\\\\\\\", \\\\\\\\\\\\\\\\\\\\\\\\\\\\\\\"text/plain\\\\\\\\\\\\\\\\\\\\\\\\\\\\\\\": \\\\\\\\\\\\\\\\\\\\\\\\\\\\\\\"<IPython.core.display.Markdown object>\\\\\\\\\\\\\\\\\\\\\\\\\\\\\\\"}, \\\\\\\\\\\\\\\\\\\\\\\\\\\\\\\"execution_count\\\\\\\\\\\\\\\\\\\\\\\\\\\\\\\": \\\\\\\\\\\\\\\\\\\\\\\\\\\\\\\"3\\\\\\\\\\\\\\\\\\\\\\\\\\\\\\\", \\\\\\\\\\\\\\\\\\\\\\\\\\\\\\\"metadata\\\\\\\\\\\\\\\\\\\\\\\\\\\\\\\": {}, \\\\\\\\\\\\\\\\\\\\\\\\\\\\\\\"output_type\\\\\\\\\\\\\\\\\\\\\\\\\\\\\\\": \\\\\\\\\\\\\\\\\\\\\\\\\\\\\\\"execute_result\\\\\\\\\\\\\\\\\\\\\\\\\\\\\\\"}], \\\\\\\\\\\\\\\\\\\\\\\\\\\\\\\"source\\\\\\\\\\\\\\\\\\\\\\\\\\\\\\\": \\\\\\\\\\\\\\\\\\\\\\\\\\\\\\\"await rephrase_pb(DAY, YEAR, 1)\\\\\\\\\\\\\\\\\\\\\\\\\\\\\\\"}, {\\\\\\\\\\\\\\\\\\\\\\\\\\\\\\\"cell_type\\\\\\\\\\\\\\\\\\\\\\\\\\\\\\\": \\\\\\\\\\\\\\\\\\\\\\\\\\\\\\\"markdown\\\\\\\\\\\\\\\\\\\\\\\\\\\\\\\", \\\\\\\\\\\\\\\\\\\\\\\\\\\\\\\"metadata\\\\\\\\\\\\\\\\\\\\\\\\\\\\\\\": {}, \\\\\\\\\\\\\\\\\\\\\\\\\\\\\\\"source\\\\\\\\\\\\\\\\\\\\\\\\\\\\\\\": \\\\\\\\\\\\\\\\\\\\\\\\\\\\\\\"## part 2\\\\\\\\\\\\\\\\\\\\\\\\\\\\\\\"}, {\\\\\\\\\\\\\\\\\\\\\\\\\\\\\\\"cell_type\\\\\\\\\\\\\\\\\\\\\\\\\\\\\\\": \\\\\\\\\\\\\\\\\\\\\\\\\\\\\\\"code\\\\\\\\\\\\\\\\\\\\\\\\\\\\\\\", \\\\\\\\\\\\\\\\\\\\\\\\\\\\\\\"execution_count\\\\\\\\\\\\\\\\\\\\\\\\\\\\\\\": \\\\\\\\\\\\\\\\\\\\\\\\\\\\\\\"4\\\\\\\\\\\\\\\\\\\\\\\\\\\\\\\", \\\\\\\\\\\\\\\\\\\\\\\\\\\\\\\"metadata\\\\\\\\\\\\\\\\\\\\\\\\\\\\\\\": {}, \\\\\\\\\\\\\\\\\\\\\\\\\\\\\\\"outputs\\\\\\\\\\\\\\\\\\\\\\\\\\\\\\\": [], \\\\\\\\\\\\\\\\\\\\\\\\\\\\\\\"source\\\\\\\\\\\\\\\\\\\\\\\\\\\\\\\": \\\\\\\\\\\\\\\\\\\\\\\\\\\\\\\"import IPython \\\\\\\\\\\\\\\\\\\\\\\\\\\\\\\\\\\\\\\\\\\\\\\\\\\\\\\\\\\\\\\\nfrom pathlib import Path\\\\\\\\\\\\\\\\\\\\\\\\\\\\\\\\\\\\\\\\\\\\\\\\\\\\\\\\\\\\\\\\nimport nbformat \\\\\\\\\\\\\\\\\\\\\\\\\\\\\\\\\\\\\\\\\\\\\\\\\\\\\\\\\\\\\\\\n\\\\\\\\\\\\\\\\\\\\\\\\\\\\\\\\\\\\\\\\\\\\\\\\\\\\\\\\\\\\\\\\ndef get_nb_path():\\\\\\\\\\\\\\\\\\\\\\\\\\\\\\\\\\\\\\\\\\\\\\\\\\\\\\\\\\\\\\\\n    \\\\\\\\\\\\\\\\\\\\\\\\\\\\\\\\\\\\\\\\\\\\\\\\\\\\\\\\\\\\\\\\\\\\\\\\\\\\\\\\\\\\\\\\\\\\\\\\\\\\\\\\\\\\\\\\\\\\\\\\\\\\\\\"\\\\\\\\\\\\\\\\\\\\\\\\\\\\\\\\\\\\\\\\\\\\\\\\\\\\\\\\\\\\\\\\\\\\\\\\\\\\\\\\\\\\\\\\\\\\\\\\\\\\\\\\\\\\\\\\\\\\\\\\\\\\\\\"\\\\\\\\\\\\\\\\\\\\\\\\\\\\\\\\\\\\\\\\\\\\\\\\\\\\\\\\\\\\\\\\\\\\\\\\\\\\\\\\\\\\\\\\\\\\\\\\\\\\\\\\\\\\\\\\\\\\\\\\\\\\\\\"Assumes that current notebook is the last that was run in IPython.\\\\\\\\\\\\\\\\\\\\\\\\\\\\\\\\\\\\\\\\\\\\\\\\\\\\\\\\\\\\\\\\\\\\\\\\\\\\\\\\\\\\\\\\\\\\\\\\\\\\\\\\\\\\\\\\\\\\\\\\\\\\\\\"\\\\\\\\\\\\\\\\\\\\\\\\\\\\\\\\\\\\\\\\\\\\\\\\\\\\\\\\\\\\\\\\\\\\\\\\\\\\\\\\\\\\\\\\\\\\\\\\\\\\\\\\\\\\\\\\\\\\\\\\\\\\\\\"\\\\\\\\\\\\\\\\\\\\\\\\\\\\\\\\\\\\\\\\\\\\\\\\\\\\\\\\\\\\\\\\\\\\\\\\\\\\\\\\\\\\\\\\\\\\\\\\\\\\\\\\\\\\\\\\\\\\\\\\\\\\\\\"\\\\\\\\\\\\\\\\\\\\\\\\\\\\\\\\\\\\\\\\\\\\\\\\\\\\\\\\\\\\\\\\n    ipython = IPython.get_ipython()\\\\\\\\\\\\\\\\\\\\\\\\\\\\\\\\\\\\\\\\\\\\\\\\\\\\\\\\\\\\\\\\n    if ipython is None:\\\\\\\\\\\\\\\\\\\\\\\\\\\\\\\\\\\\\\\\\\\\\\\\\\\\\\\\\\\\\\\\n        raise RuntimeError(\\\\\\\\\\\\\\\\\\\\\\\\\\\\\\\\\\\\\\\\\\\\\\\\\\\\\\\\\\\\\\\\\\\\\\\\\\\\\\\\\\\\\\\\\\\\\\\\\\\\\\\\\\\\\\\\\\\\\\\\\\\\\\\"Must be run from IPython\\\\\\\\\\\\\\\\\\\\\\\\\\\\\\\\\\\\\\\\\\\\\\\\\\\\\\\\\\\\\\\\\\\\\\\\\\\\\\\\\\\\\\\\\\\\\\\\\\\\\\\\\\\\\\\\\\\\\\\\\\\\\\\")\\\\\\\\\\\\\\\\\\\\\\\\\\\\\\\\\\\\\\\\\\\\\\\\\\\\\\\\\\\\\\\\n    notebooks = Path(ipython.run_line_magic('pwd', '')).glob('*.ipynb')\\\\\\\\\\\\\\\\\\\\\\\\\\\\\\\\\\\\\\\\\\\\\\\\\\\\\\\\\\\\\\\\n    return max(notebooks, key=lambda p: p.stat().st_mtime)\\\\\\\\\\\\\\\\\\\\\\\\\\\\\\\\\\\\\\\\\\\\\\\\\\\\\\\\\\\\\\\\n\\\\\\\\\\\\\\\\\\\\\\\\\\\\\\\\\\\\\\\\\\\\\\\\\\\\\\\\\\\\\\\\ndef get_nb_content(notebook_path):\\\\\\\\\\\\\\\\\\\\\\\\\\\\\\\\\\\\\\\\\\\\\\\\\\\\\\\\\\\\\\\\n   return nbformat.read(notebook_path, as_version=4).dict()\\\\\\\\\\\\\\\\\\\\\\\\\\\\\\\"}, {\\\\\\\\\\\\\\\\\\\\\\\\\\\\\\\"cell_type\\\\\\\\\\\\\\\\\\\\\\\\\\\\\\\": \\\\\\\\\\\\\\\\\\\\\\\\\\\\\\\"code\\\\\\\\\\\\\\\\\\\\\\\\\\\\\\\", \\\\\\\\\\\\\\\\\\\\\\\\\\\\\\\"execution_count\\\\\\\\\\\\\\\\\\\\\\\\\\\\\\\": \\\\\\\\\\\\\\\\\\\\\\\\\\\\\\\"5\\\\\\\\\\\\\\\\\\\\\\\\\\\\\\\", \\\\\\\\\\\\\\\\\\\\\\\\\\\\\\\"metadata\\\\\\\\\\\\\\\\\\\\\\\\\\\\\\\": {}, \\\\\\\\\\\\\\\\\\\\\\\\\\\\\\\"outputs\\\\\\\\\\\\\\\\\\\\\\\\\\\\\\\": [{\\\\\\\\\\\\\\\\\\\\\\\\\\\\\\\"ename\\\\\\\\\\\\\\\\\\\\\\\\\\\\\\\": \\\\\\\\\\\\\\\\\\\\\\\\\\\\\\\"NameError\\\\\\\\\\\\\\\\\\\\\\\\\\\\\\\", \\\\\\\\\\\\\\\\\\\\\\\\\\\\\\\"evalue\\\\\\\\\\\\\\\\\\\\\\\\\\\\\\\": \\\\\\\\\\\\\\\\\\\\\\\\\\\\\\\"name 'alzkje' is not defined\\\\\\\\\\\\\\\\\\\\\\\\\\\\\\\", \\\\\\\\\\\\\\\\\\\\\\\\\\\\\\\"output_type\\\\\\\\\\\\\\\\\\\\\\\\\\\\\\\": \\\\\\\\\\\\\\\\\\\\\\\\\\\\\\\"error\\\\\\\\\\\\\\\\\\\\\\\\\\\\\\\", \\\\\\\\\\\\\\\\\\\\\\\\\\\\\\\"traceback\\\\\\\\\\\\\\\\\\\\\\\\\\\\\\\": [\\\\\\\\\\\\\\\\\\\\\\\\\\\\\\\"\\\\\\\\\\\\\\\\\\\\\\\\\\\\\\\\\\\\\\\\\\\\\\\\\\\\\\\\\\\\\\\\u001b[0;31m---------------------------------------------------------------------------\\\\\\\\\\\\\\\\\\\\\\\\\\\\\\\\\\\\\\\\\\\\\\\\\\\\\\\\\\\\\\\\u001b[0m\\\\\\\\\\\\\\\\\\\\\\\\\\\\\\\", \\\\\\\\\\\\\\\\\\\\\\\\\\\\\\\"\\\\\\\\\\\\\\\\\\\\\\\\\\\\\\\\\\\\\\\\\\\\\\\\\\\\\\\\\\\\\\\\u001b[0;31mNameError\\\\\\\\\\\\\\\\\\\\\\\\\\\\\\\\\\\\\\\\\\\\\\\\\\\\\\\\\\\\\\\\u001b[0m                                 Traceback (most recent call last)\\\\\\\\\\\\\\\\\\\\\\\\\\\\\\\", \\\\\\\\\\\\\\\\\\\\\\\\\\\\\\\"Cell \\\\\\\\\\\\\\\\\\\\\\\\\\\\\\\\\\\\\\\\\\\\\\\\\\\\\\\\\\\\\\\\u001b[0;32mIn[5], line 1\\\\\\\\\\\\\\\\\\\\\\\\\\\\\\\\\\\\\\\\\\\\\\\\\\\\\\\\\\\\\\\\u001b[0m\\\\\\\\\\\\\\\\\\\\\\\\\\\\\\\\\\\\\\\\\\\\\\\\\\\\\\\\\\\\\\\\n\\\\\\\\\\\\\\\\\\\\\\\\\\\\\\\\\\\\\\\\\\\\\\\\\\\\\\\\\\\\\\\\u001b[0;32m----> 1\\\\\\\\\\\\\\\\\\\\\\\\\\\\\\\\\\\\\\\\\\\\\\\\\\\\\\\\\\\\\\\\u001b[0m \\\\\\\\\\\\\\\\\\\\\\\\\\\\\\\\\\\\\\\\\\\\\\\\\\\\\\\\\\\\\\\\u001b[43malzkje\\\\\\\\\\\\\\\\\\\\\\\\\\\\\\\\\\\\\\\\\\\\\\\\\\\\\\\\\\\\\\\\u001b[49m\\\\\\\\\\\\\\\\\\\\\\\\\\\\\\\\\\\\\\\\\\\\\\\\\\\\\\\\\\\\\\\\n\\\\\\\\\\\\\\\\\\\\\\\\\\\\\\\", \\\\\\\\\\\\\\\\\\\\\\\\\\\\\\\"\\\\\\\\\\\\\\\\\\\\\\\\\\\\\\\\\\\\\\\\\\\\\\\\\\\\\\\\\\\\\\\\u001b[0;31mNameError\\\\\\\\\\\\\\\\\\\\\\\\\\\\\\\\\\\\\\\\\\\\\\\\\\\\\\\\\\\\\\\\u001b[0m: name 'alzkje' is not defined\\\\\\\\\\\\\\\\\\\\\\\\\\\\\\\"]}], \\\\\\\\\\\\\\\\\\\\\\\\\\\\\\\"source\\\\\\\\\\\\\\\\\\\\\\\\\\\\\\\": \\\\\\\\\\\\\\\\\\\\\\\\\\\\\\\"alzkje\\\\\\\\\\\\\\\\\\\\\\\\\\\\\\\"}, {\\\\\\\\\\\\\\\\\\\\\\\\\\\\\\\"cell_type\\\\\\\\\\\\\\\\\\\\\\\\\\\\\\\": \\\\\\\\\\\\\\\\\\\\\\\\\\\\\\\"code\\\\\\\\\\\\\\\\\\\\\\\\\\\\\\\", \\\\\\\\\\\\\\\\\\\\\\\\\\\\\\\"execution_count\\\\\\\\\\\\\\\\\\\\\\\\\\\\\\\": \\\\\\\\\\\\\\\\\\\\\\\\\\\\\\\"56\\\\\\\\\\\\\\\\\\\\\\\\\\\\\\\", \\\\\\\\\\\\\\\\\\\\\\\\\\\\\\\"metadata\\\\\\\\\\\\\\\\\\\\\\\\\\\\\\\": {}, \\\\\\\\\\\\\\\\\\\\\\\\\\\\\\\"outputs\\\\\\\\\\\\\\\\\\\\\\\\\\\\\\\": [], \\\\\\\\\\\\\\\\\\\\\\\\\\\\\\\"source\\\\\\\\\\\\\\\\\\\\\\\\\\\\\\\": \\\\\\\\\\\\\\\\\\\\\\\\\\\\\\\"nb = get_nb_content(get_nb_path())\\\\\\\\\\\\\\\\\\\\\\\\\\\\\\\"}, {\\\\\\\\\\\\\\\\\\\\\\\\\\\\\\\"cell_type\\\\\\\\\\\\\\\\\\\\\\\\\\\\\\\": \\\\\\\\\\\\\\\\\\\\\\\\\\\\\\\"code\\\\\\\\\\\\\\\\\\\\\\\\\\\\\\\", \\\\\\\\\\\\\\\\\\\\\\\\\\\\\\\"execution_count\\\\\\\\\\\\\\\\\\\\\\\\\\\\\\\": \\\\\\\\\\\\\\\\\\\\\\\\\\\\\\\"None\\\\\\\\\\\\\\\\\\\\\\\\\\\\\\\", \\\\\\\\\\\\\\\\\\\\\\\\\\\\\\\"metadata\\\\\\\\\\\\\\\\\\\\\\\\\\\\\\\": {}, \\\\\\\\\\\\\\\\\\\\\\\\\\\\\\\"outputs\\\\\\\\\\\\\\\\\\\\\\\\\\\\\\\": [], \\\\\\\\\\\\\\\\\\\\\\\\\\\\\\\"source\\\\\\\\\\\\\\\\\\\\\\\\\\\\\\\": \\\\\\\\\\\\\\\\\\\\\\\\\\\\\\\"render_json(delete_str=True)\\\\\\\\\\\\\\\\\\\\\\\\\\\\\\\"}, {\\\\\\\\\\\\\\\\\\\\\\\\\\\\\\\"cell_type\\\\\\\\\\\\\\\\\\\\\\\\\\\\\\\": \\\\\\\\\\\\\\\\\\\\\\\\\\\\\\\"code\\\\\\\\\\\\\\\\\\\\\\\\\\\\\\\", \\\\\\\\\\\\\\\\\\\\\\\\\\\\\\\"execution_count\\\\\\\\\\\\\\\\\\\\\\\\\\\\\\\": \\\\\\\\\\\\\\\\\\\\\\\\\\\\\\\"None\\\\\\\\\\\\\\\\\\\\\\\\\\\\\\\", \\\\\\\\\\\\\\\\\\\\\\\\\\\\\\\"metadata\\\\\\\\\\\\\\\\\\\\\\\\\\\\\\\": {}, \\\\\\\\\\\\\\\\\\\\\\\\\\\\\\\"outputs\\\\\\\\\\\\\\\\\\\\\\\\\\\\\\\": [], \\\\\\\\\\\\\\\\\\\\\\\\\\\\\\\"source\\\\\\\\\\\\\\\\\\\\\\\\\\\\\\\": \\\\\\\\\\\\\\\\\\\\\\\\\\\\\\\"await rephrase_pb(DAY, YEAR, 2)\\\\\\\\\\\\\\\\\\\\\\\\\\\\\\\"}], \\\\\\\\\\\\\\\\\\\\\\\\\\\\\\\"metadata\\\\\\\\\\\\\\\\\\\\\\\\\\\\\\\": {\\\\\\\\\\\\\\\\\\\\\\\\\\\\\\\"kernelspec\\\\\\\\\\\\\\\\\\\\\\\\\\\\\\\": {\\\\\\\\\\\\\\\\\\\\\\\\\\\\\\\"display_name\\\\\\\\\\\\\\\\\\\\\\\\\\\\\\\": \\\\\\\\\\\\\\\\\\\\\\\\\\\\\\\"pydidask\\\\\\\\\\\\\\\\\\\\\\\\\\\\\\\", \\\\\\\\\\\\\\\\\\\\\\\\\\\\\\\"language\\\\\\\\\\\\\\\\\\\\\\\\\\\\\\\": \\\\\\\\\\\\\\\\\\\\\\\\\\\\\\\"python\\\\\\\\\\\\\\\\\\\\\\\\\\\\\\\", \\\\\\\\\\\\\\\\\\\\\\\\\\\\\\\"name\\\\\\\\\\\\\\\\\\\\\\\\\\\\\\\": \\\\\\\\\\\\\\\\\\\\\\\\\\\\\\\"python3\\\\\\\\\\\\\\\\\\\\\\\\\\\\\\\"}, \\\\\\\\\\\\\\\\\\\\\\\\\\\\\\\"language_info\\\\\\\\\\\\\\\\\\\\\\\\\\\\\\\": {\\\\\\\\\\\\\\\\\\\\\\\\\\\\\\\"codemirror_mode\\\\\\\\\\\\\\\\\\\\\\\\\\\\\\\": {\\\\\\\\\\\\\\\\\\\\\\\\\\\\\\\"name\\\\\\\\\\\\\\\\\\\\\\\\\\\\\\\": \\\\\\\\\\\\\\\\\\\\\\\\\\\\\\\"ipython\\\\\\\\\\\\\\\\\\\\\\\\\\\\\\\", \\\\\\\\\\\\\\\\\\\\\\\\\\\\\\\"version\\\\\\\\\\\\\\\\\\\\\\\\\\\\\\\": \\\\\\\\\\\\\\\\\\\\\\\\\\\\\\\"3\\\\\\\\\\\\\\\\\\\\\\\\\\\\\\\"}, \\\\\\\\\\\\\\\\\\\\\\\\\\\\\\\"file_extension\\\\\\\\\\\\\\\\\\\\\\\\\\\\\\\": \\\\\\\\\\\\\\\\\\\\\\\\\\\\\\\".py\\\\\\\\\\\\\\\\\\\\\\\\\\\\\\\", \\\\\\\\\\\\\\\\\\\\\\\\\\\\\\\"mimetype\\\\\\\\\\\\\\\\\\\\\\\\\\\\\\\": \\\\\\\\\\\\\\\\\\\\\\\\\\\\\\\"text/x-python\\\\\\\\\\\\\\\\\\\\\\\\\\\\\\\", \\\\\\\\\\\\\\\\\\\\\\\\\\\\\\\"name\\\\\\\\\\\\\\\\\\\\\\\\\\\\\\\": \\\\\\\\\\\\\\\\\\\\\\\\\\\\\\\"python\\\\\\\\\\\\\\\\\\\\\\\\\\\\\\\", \\\\\\\\\\\\\\\\\\\\\\\\\\\\\\\"nbconvert_exporter\\\\\\\\\\\\\\\\\\\\\\\\\\\\\\\": \\\\\\\\\\\\\\\\\\\\\\\\\\\\\\\"python\\\\\\\\\\\\\\\\\\\\\\\\\\\\\\\", \\\\\\\\\\\\\\\\\\\\\\\\\\\\\\\"pygments_lexer\\\\\\\\\\\\\\\\\\\\\\\\\\\\\\\": \\\\\\\\\\\\\\\\\\\\\\\\\\\\\\\"ipython3\\\\\\\\\\\\\\\\\\\\\\\\\\\\\\\", \\\\\\\\\\\\\\\\\\\\\\\\\\\\\\\"version\\\\\\\\\\\\\\\\\\\\\\\\\\\\\\\": \\\\\\\\\\\\\\\\\\\\\\\\\\\\\\\"3.12.0\\\\\\\\\\\\\\\\\\\\\\\\\\\\\\\"}}, \\\\\\\\\\\\\\\\\\\\\\\\\\\\\\\"nbformat\\\\\\\\\\\\\\\\\\\\\\\\\\\\\\\": \\\\\\\\\\\\\\\\\\\\\\\\\\\\\\\"4\\\\\\\\\\\\\\\\\\\\\\\\\\\\\\\", \\\\\\\\\\\\\\\\\\\\\\\\\\\\\\\"nbformat_minor\\\\\\\\\\\\\\\\\\\\\\\\\\\\\\\": \\\\\\\\\\\\\\\\\\\\\\\\\\\\\\\"2\\\\\\\\\\\\\\\\\\\\\\\\\\\\\\\"}))\\\\\\\\\\\\\\\\n        });</script>\\\\\\\\\\\\\\\\n        \\\\\\\", \\\\\\\"text/plain\\\\\\\": \\\\\\\"<IPython.core.display.HTML object>\\\\\\\"}, \\\\\\\"metadata\\\\\\\": {}, \\\\\\\"output_type\\\\\\\": \\\\\\\"display_data\\\\\\\"}], \\\\\\\"source\\\\\\\": \\\\\\\"render_json(nb)\\\\\\\"}, {\\\\\\\"cell_type\\\\\\\": \\\\\\\"code\\\\\\\", \\\\\\\"execution_count\\\\\\\": \\\\\\\"None\\\\\\\", \\\\\\\"metadata\\\\\\\": {}, \\\\\\\"outputs\\\\\\\": [], \\\\\\\"source\\\\\\\": \\\\\\\"await rephrase_pb(DAY, YEAR, 2)\\\\\\\"}, {\\\\\\\"cell_type\\\\\\\": \\\\\\\"code\\\\\\\", \\\\\\\"execution_count\\\\\\\": \\\\\\\"28\\\\\\\", \\\\\\\"metadata\\\\\\\": {}, \\\\\\\"outputs\\\\\\\": [], \\\\\\\"source\\\\\\\": \\\\\\\"\\\\\\\"}, {\\\\\\\"cell_type\\\\\\\": \\\\\\\"code\\\\\\\", \\\\\\\"execution_count\\\\\\\": \\\\\\\"30\\\\\\\", \\\\\\\"metadata\\\\\\\": {}, \\\\\\\"outputs\\\\\\\": [{\\\\\\\"data\\\\\\\": {\\\\\\\"text/plain\\\\\\\": \\\\\\\"30\\\\\\\"}, \\\\\\\"execution_count\\\\\\\": \\\\\\\"30\\\\\\\", \\\\\\\"metadata\\\\\\\": {}, \\\\\\\"output_type\\\\\\\": \\\\\\\"execute_result\\\\\\\"}], \\\\\\\"source\\\\\\\": \\\\\\\"get_current_cell_execution_count()\\\\\\\"}, {\\\\\\\"cell_type\\\\\\\": \\\\\\\"code\\\\\\\", \\\\\\\"execution_count\\\\\\\": \\\\\\\"None\\\\\\\", \\\\\\\"metadata\\\\\\\": {}, \\\\\\\"outputs\\\\\\\": [], \\\\\\\"source\\\\\\\": \\\\\\\"\\\\\\\"}], \\\\\\\"metadata\\\\\\\": {\\\\\\\"kernelspec\\\\\\\": {\\\\\\\"display_name\\\\\\\": \\\\\\\"pydidask\\\\\\\", \\\\\\\"language\\\\\\\": \\\\\\\"python\\\\\\\", \\\\\\\"name\\\\\\\": \\\\\\\"python3\\\\\\\"}, \\\\\\\"language_info\\\\\\\": {\\\\\\\"codemirror_mode\\\\\\\": {\\\\\\\"name\\\\\\\": \\\\\\\"ipython\\\\\\\", \\\\\\\"version\\\\\\\": \\\\\\\"3\\\\\\\"}, \\\\\\\"file_extension\\\\\\\": \\\\\\\".py\\\\\\\", \\\\\\\"mimetype\\\\\\\": \\\\\\\"text/x-python\\\\\\\", \\\\\\\"name\\\\\\\": \\\\\\\"python\\\\\\\", \\\\\\\"nbconvert_exporter\\\\\\\": \\\\\\\"python\\\\\\\", \\\\\\\"pygments_lexer\\\\\\\": \\\\\\\"ipython3\\\\\\\", \\\\\\\"version\\\\\\\": \\\\\\\"3.12.0\\\\\\\"}}, \\\\\\\"nbformat\\\\\\\": \\\\\\\"4\\\\\\\", \\\\\\\"nbformat_minor\\\\\\\": \\\\\\\"2\\\\\\\"}))\\\\n        });</script>\\\\n        \", \"text/plain\": \"<IPython.core.display.HTML object>\"}, \"metadata\": {}, \"output_type\": \"display_data\"}], \"source\": \"render_json(dict(nb))\"}, {\"cell_type\": \"code\", \"execution_count\": \"None\", \"metadata\": {}, \"outputs\": [], \"source\": \"await rephrase_pb(DAY, YEAR, 2)\"}, {\"cell_type\": \"code\", \"execution_count\": \"28\", \"metadata\": {}, \"outputs\": [], \"source\": \"\"}, {\"cell_type\": \"code\", \"execution_count\": \"None\", \"metadata\": {}, \"outputs\": [], \"source\": \"get_current_cell_execution_count()\"}, {\"cell_type\": \"code\", \"execution_count\": \"None\", \"metadata\": {}, \"outputs\": [], \"source\": \"\"}], \"metadata\": {\"kernelspec\": {\"display_name\": \"pydidask\", \"language\": \"python\", \"name\": \"python3\"}, \"language_info\": {\"codemirror_mode\": {\"name\": \"ipython\", \"version\": \"3\"}, \"file_extension\": \".py\", \"mimetype\": \"text/x-python\", \"name\": \"python\", \"nbconvert_exporter\": \"python\", \"pygments_lexer\": \"ipython3\", \"version\": \"3.12.0\"}}, \"nbformat\": \"4\", \"nbformat_minor\": \"2\"}))\n",
       "        });</script>\n",
       "        "
      ],
      "text/plain": [
       "<IPython.core.display.HTML object>"
      ]
     },
     "metadata": {},
     "output_type": "display_data"
    }
   ],
   "source": [
    "render_json(dict(nb))"
   ]
  },
  {
   "cell_type": "code",
   "execution_count": null,
   "metadata": {},
   "outputs": [],
   "source": [
    "await rephrase_pb(DAY, YEAR, 2)"
   ]
  },
  {
   "cell_type": "code",
   "execution_count": 28,
   "metadata": {},
   "outputs": [],
   "source": []
  },
  {
   "cell_type": "code",
   "execution_count": null,
   "metadata": {},
   "outputs": [],
   "source": [
    "get_current_cell_execution_count()"
   ]
  },
  {
   "cell_type": "code",
   "execution_count": null,
   "metadata": {},
   "outputs": [],
   "source": []
  }
 ],
 "metadata": {
  "kernelspec": {
   "display_name": "pydidask",
   "language": "python",
   "name": "python3"
  },
  "language_info": {
   "codemirror_mode": {
    "name": "ipython",
    "version": 3
   },
   "file_extension": ".py",
   "mimetype": "text/x-python",
   "name": "python",
   "nbconvert_exporter": "python",
   "pygments_lexer": "ipython3",
   "version": "3.12.0"
  }
 },
 "nbformat": 4,
 "nbformat_minor": 2
}
