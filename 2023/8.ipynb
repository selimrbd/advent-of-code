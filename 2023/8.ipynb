{
 "cells": [
  {
   "cell_type": "markdown",
   "metadata": {
    "vscode": {
     "languageId": "plaintext"
    }
   },
   "source": [
    "[LINK](https://adventofcode.com/2023/day/8)"
   ]
  },
  {
   "cell_type": "code",
   "execution_count": null,
   "metadata": {},
   "outputs": [],
   "source": [
    "YEAR = 2023 \n",
    "DAY = 8\n",
    "\n",
    "from aocd import get_data\n",
    "import sys\n",
    "sys.path.append(\"..\")\n",
    "from config import load_config\n",
    "load_config()\n",
    "data = get_data(year=YEAR, day=DAY)"
   ]
  },
  {
   "cell_type": "markdown",
   "metadata": {},
   "source": [
    "## try 1"
   ]
  },
  {
   "cell_type": "code",
   "execution_count": null,
   "metadata": {},
   "outputs": [],
   "source": [
    "samp = \"\"\"RL\n",
    "\n",
    "AAA = (BBB, CCC)\n",
    "BBB = (DDD, EEE)\n",
    "CCC = (ZZZ, GGG)\n",
    "DDD = (DDD, DDD)\n",
    "EEE = (EEE, EEE)\n",
    "GGG = (GGG, GGG)\n",
    "ZZZ = (ZZZ, ZZZ)\n",
    "\"\"\""
   ]
  },
  {
   "cell_type": "code",
   "execution_count": null,
   "metadata": {},
   "outputs": [],
   "source": [
    "# wanna parse the input, to return a dict:\n",
    "I = [\"L\", \"R\"]\n",
    "seq = \"LLR\"\n",
    "map = {\n",
    "    \"AAA\": (\"BBB\", \"BBB\"),\n",
    "    \"BBB\": (\"AAA\", \"ZZZ\"),\n",
    "    \"ZZZ\": (\"ZZZ\", \"ZZZ\")\n",
    "}"
   ]
  },
  {
   "cell_type": "code",
   "execution_count": null,
   "metadata": {},
   "outputs": [],
   "source": [
    "dat = samp \n",
    "dat.splitlines()"
   ]
  },
  {
   "cell_type": "code",
   "execution_count": null,
   "metadata": {},
   "outputs": [],
   "source": [
    "seq = dat.splitlines()[0]\n",
    "seq"
   ]
  },
  {
   "cell_type": "code",
   "execution_count": null,
   "metadata": {},
   "outputs": [],
   "source": [
    "dat.splitlines()[2:]"
   ]
  },
  {
   "cell_type": "code",
   "execution_count": null,
   "metadata": {},
   "outputs": [],
   "source": [
    "l = 'AAA = (BBB, CCC)'\n",
    "l.split('=')"
   ]
  },
  {
   "cell_type": "code",
   "execution_count": null,
   "metadata": {},
   "outputs": [],
   "source": [
    "l.split('=')[0].strip()"
   ]
  },
  {
   "cell_type": "code",
   "execution_count": null,
   "metadata": {},
   "outputs": [],
   "source": [
    "import re \n",
    "l.split('=')[1].strip()"
   ]
  },
  {
   "cell_type": "code",
   "execution_count": null,
   "metadata": {},
   "outputs": [],
   "source": [
    "re.sub(r'\\(|\\)', '', l.split('=')[1].strip())"
   ]
  },
  {
   "cell_type": "code",
   "execution_count": null,
   "metadata": {},
   "outputs": [],
   "source": [
    "tmp1 = re.sub(r'\\(|\\)', '', l.split('=')[1].strip()).split(',')\n",
    "tmp1"
   ]
  },
  {
   "cell_type": "code",
   "execution_count": null,
   "metadata": {},
   "outputs": [],
   "source": [
    "(tmp1[0].strip(), tmp1[1].strip())"
   ]
  },
  {
   "cell_type": "code",
   "execution_count": null,
   "metadata": {},
   "outputs": [],
   "source": [
    "l = 'AAA = (BBB, CCC)'\n",
    "k = l.split('=')[0].strip()\n",
    "v = (tmp1[0].strip(), tmp1[1].strip())\n",
    "print(k, v)"
   ]
  },
  {
   "cell_type": "code",
   "execution_count": null,
   "metadata": {},
   "outputs": [],
   "source": [
    "def format_line(l: str) -> dict[str, tuple[str, str]]:\n",
    "    ..."
   ]
  },
  {
   "cell_type": "code",
   "execution_count": null,
   "metadata": {},
   "outputs": [],
   "source": [
    "def format_line(l: str) -> dict[str, tuple[str, str]]:\n",
    "    k = l.split('=')[0].strip()\n",
    "    tmp1 = re.sub(r'\\(|\\)', '', l.split('=')[1].strip()).split(',')\n",
    "    v = (tmp1[0].strip(), tmp1[1].strip())\n",
    "    return {k:v}"
   ]
  },
  {
   "cell_type": "code",
   "execution_count": null,
   "metadata": {},
   "outputs": [],
   "source": [
    "l = 'AAA = (BBB, CCC)'\n",
    "format_line(l)"
   ]
  },
  {
   "cell_type": "code",
   "execution_count": null,
   "metadata": {},
   "outputs": [],
   "source": [
    "paths = [format_line(l) for l in dat.splitlines()[2:]]\n",
    "paths"
   ]
  },
  {
   "cell_type": "code",
   "execution_count": null,
   "metadata": {},
   "outputs": [],
   "source": [
    "map = {}\n",
    "for p in paths:\n",
    "    map.update(p)\n",
    "map"
   ]
  },
  {
   "cell_type": "code",
   "execution_count": null,
   "metadata": {},
   "outputs": [],
   "source": [
    "def format_input(dat: str) -> tuple[str, dict[str, str]]:\n",
    "    ..."
   ]
  },
  {
   "cell_type": "code",
   "execution_count": null,
   "metadata": {},
   "outputs": [],
   "source": [
    "def format_input(dat: str) -> tuple[str, dict[str, str]]:\n",
    "    lines = dat.splitlines()\n",
    "    seq = lines[0]\n",
    "    paths = [format_line(l) for l in lines[2:]]\n",
    "    map = {}\n",
    "    for p in paths:\n",
    "        map.update(p)\n",
    "    map\n",
    "    return (seq, map)    "
   ]
  },
  {
   "cell_type": "code",
   "execution_count": null,
   "metadata": {},
   "outputs": [],
   "source": [
    "dat = samp\n",
    "seq, map = format_input(dat)\n",
    "print(seq)\n",
    "print(map)"
   ]
  },
  {
   "cell_type": "code",
   "execution_count": null,
   "metadata": {},
   "outputs": [],
   "source": [
    "def traverse_map(seq: str, map: dict[str, str]) -> int:\n",
    "    ..."
   ]
  },
  {
   "cell_type": "code",
   "execution_count": null,
   "metadata": {},
   "outputs": [],
   "source": [
    "cnt = 5\n",
    "current = \"AAA\"\n",
    "move = seq[cnt%len(seq)]\n",
    "move"
   ]
  },
  {
   "cell_type": "code",
   "execution_count": null,
   "metadata": {},
   "outputs": [],
   "source": [
    "cnt = 0\n",
    "current = \"AAA\"\n",
    "while current != \"ZZZ\":\n",
    "    move = seq[cnt%len(seq)]\n",
    "    current = map[current][I.index(move)]\n",
    "    cnt += 1\n",
    "cnt"
   ]
  },
  {
   "cell_type": "code",
   "execution_count": null,
   "metadata": {},
   "outputs": [],
   "source": [
    "seq = \"LLR\"\n",
    "mapp = {\n",
    "    \"AAA\": (\"BBB\", \"BBB\"),\n",
    "    \"BBB\": (\"AAA\", \"ZZZ\"),\n",
    "    \"ZZZ\": (\"ZZZ\", \"ZZZ\")\n",
    "}\n",
    "cnt = 0\n",
    "current = \"AAA\"\n",
    "while current != \"ZZZ\":\n",
    "    idx = cnt%len(seq)\n",
    "    print(idx)\n",
    "    move = seq[idx]\n",
    "    current = mapp[current][I.index(move)]\n",
    "    print(current)\n",
    "    cnt += 1\n",
    "cnt"
   ]
  },
  {
   "cell_type": "code",
   "execution_count": null,
   "metadata": {},
   "outputs": [],
   "source": [
    "dat = samp\n",
    "seq, mapp = format_input(dat)\n",
    "cnt = 0\n",
    "current = \"AAA\"\n",
    "while current != \"ZZZ\":\n",
    "    idx = cnt%len(seq)\n",
    "    move = seq[idx]\n",
    "    current = mapp[current][I.index(move)]\n",
    "    cnt += 1\n",
    "cnt"
   ]
  },
  {
   "cell_type": "code",
   "execution_count": null,
   "metadata": {},
   "outputs": [],
   "source": [
    "def solve_2023_8_1(dat: str) -> int:\n",
    "    seq, mapp = format_input(dat)\n",
    "    cnt = 0\n",
    "    current = \"AAA\"\n",
    "    while current != \"ZZZ\":\n",
    "        idx = cnt%len(seq)\n",
    "        move = seq[idx]\n",
    "        current = mapp[current][I.index(move)]\n",
    "        cnt += 1\n",
    "    return cnt"
   ]
  },
  {
   "cell_type": "code",
   "execution_count": null,
   "metadata": {},
   "outputs": [],
   "source": [
    "dat = samp \n",
    "solve_2023_8_1(dat)"
   ]
  },
  {
   "cell_type": "code",
   "execution_count": null,
   "metadata": {},
   "outputs": [],
   "source": [
    "samp2 = \"\"\"LLR\n",
    "\n",
    "AAA = (BBB, BBB)\n",
    "BBB = (AAA, ZZZ)\n",
    "ZZZ = (ZZZ, ZZZ)\n",
    "\"\"\""
   ]
  },
  {
   "cell_type": "code",
   "execution_count": null,
   "metadata": {},
   "outputs": [],
   "source": [
    "dat = samp2 \n",
    "solve_2023_8_1(dat)"
   ]
  },
  {
   "cell_type": "code",
   "execution_count": null,
   "metadata": {},
   "outputs": [],
   "source": [
    "dat = data \n",
    "solve_2023_8_1(dat)"
   ]
  },
  {
   "cell_type": "code",
   "execution_count": null,
   "metadata": {},
   "outputs": [],
   "source": [
    "samp3 = \"\"\"LR\n",
    "\n",
    "11A = (11B, XXX)\n",
    "11B = (XXX, 11Z)\n",
    "11Z = (11B, XXX)\n",
    "22A = (22B, XXX)\n",
    "22B = (22C, 22C)\n",
    "22C = (22Z, 22Z)\n",
    "22Z = (22B, 22B)\n",
    "XXX = (XXX, XXX)\n",
    "\"\"\""
   ]
  },
  {
   "cell_type": "code",
   "execution_count": null,
   "metadata": {},
   "outputs": [],
   "source": [
    "#dat = samp3\n",
    "dat = data\n",
    "seq, mapp = format_input(dat)\n",
    "currents = [k for k in mapp.keys() if k.endswith('A')]\n",
    "currents"
   ]
  },
  {
   "cell_type": "code",
   "execution_count": null,
   "metadata": {},
   "outputs": [],
   "source": [
    "# cnt = 0\n",
    "# while not all([c.endswith('Z') for c in currents]):\n",
    "#     if (cnt % 10**6 == 0 and cnt != 0):\n",
    "#         print(cnt)\n",
    "#     idx = cnt%len(seq)\n",
    "#     move = seq[idx]\n",
    "#     currents = [mapp[c][I.index(move)] for c in currents]\n",
    "#     cnt += 1\n",
    "# cnt"
   ]
  },
  {
   "cell_type": "code",
   "execution_count": null,
   "metadata": {},
   "outputs": [],
   "source": [
    "## brute traversing doesn't seem to cut it. What more intelligent way could I try ?"
   ]
  },
  {
   "cell_type": "code",
   "execution_count": null,
   "metadata": {},
   "outputs": [],
   "source": [
    "# I can determine for each start, how many steps is necessary to reach the end.\n",
    "# then using some math I can determine the total nb of steps"
   ]
  },
  {
   "cell_type": "code",
   "execution_count": null,
   "metadata": {},
   "outputs": [],
   "source": [
    "#dat = samp3\n",
    "dat = data\n",
    "seq, mapp = format_input(dat)\n",
    "currents = [k for k in mapp.keys() if k.endswith('A')]\n",
    "currents"
   ]
  },
  {
   "cell_type": "code",
   "execution_count": null,
   "metadata": {},
   "outputs": [],
   "source": [
    "def determine_nb_steps_1start(seq: str, map: dict[str, tuple[str, str]], start: str) -> list[int]:\n",
    "    ..."
   ]
  },
  {
   "cell_type": "code",
   "execution_count": null,
   "metadata": {},
   "outputs": [],
   "source": [
    "from typing import Optional \n",
    "def determine_nb_steps_1start(seq: str, map: dict[str, tuple[str, str]], start: str, exclude: Optional[list[str]] = None) -> int:\n",
    "    exclude = [] if exclude is None else exclude\n",
    "    cnt = 0\n",
    "    current = start\n",
    "    print('current')\n",
    "    print(current)\n",
    "\n",
    "    while (not current.endswith('Z') or current in exclude):\n",
    "        idx = cnt%len(seq)\n",
    "        move = seq[idx]\n",
    "        options = mapp[current]\n",
    "\n",
    "        ## we reached a dead end\n",
    "        if current == options[0] and options[0] == options[1]:\n",
    "            break\n",
    "        current = options[I.index(move)]\n",
    "        cnt += 1\n",
    "\n",
    "    return cnt"
   ]
  },
  {
   "cell_type": "code",
   "execution_count": null,
   "metadata": {},
   "outputs": [],
   "source": [
    "## oh but I guess there are multiple possible arrivals, not a unique one\n",
    "determine_nb_steps_1start(seq, mapp, \"AAA\")"
   ]
  },
  {
   "cell_type": "code",
   "execution_count": null,
   "metadata": {},
   "outputs": [],
   "source": [
    "def determine_nb_steps_1start(seq: str, map: dict[str, tuple[str, str]], start: str) -> list[tuple[str, int]]:\n",
    "    ..."
   ]
  },
  {
   "cell_type": "code",
   "execution_count": null,
   "metadata": {},
   "outputs": [],
   "source": [
    "## determine all possible ways to reach a Z path until you are cycling or reached a dead end\n",
    "## dead end is easy to determine\n",
    "## detecting cycles is the challenge"
   ]
  },
  {
   "cell_type": "code",
   "execution_count": null,
   "metadata": {},
   "outputs": [],
   "source": [
    "## break if cycle\n",
    "## break if no possible ending left \n",
    "## break if dead end"
   ]
  },
  {
   "cell_type": "code",
   "execution_count": null,
   "metadata": {},
   "outputs": [],
   "source": [
    "Map = dict[str, tuple[str, str]]\n",
    "Endings = list[tuple[str, int]]"
   ]
  },
  {
   "cell_type": "code",
   "execution_count": null,
   "metadata": {},
   "outputs": [],
   "source": [
    "dat = samp3\n",
    "start = '11A'\n",
    "seq, mapp = format_input(dat)\n",
    "path_previous = []\n",
    "path_current = []\n",
    "current = start\n",
    "cnt = 0"
   ]
  },
  {
   "cell_type": "code",
   "execution_count": null,
   "metadata": {},
   "outputs": [],
   "source": [
    "def get_deadends(mapp) -> str:\n",
    "    return [k for k,v in mapp.items() if k == v[0] and k == v[1]]"
   ]
  },
  {
   "cell_type": "markdown",
   "metadata": {},
   "source": [
    "Building the while loop for traversing the network"
   ]
  },
  {
   "cell_type": "code",
   "execution_count": 134,
   "metadata": {},
   "outputs": [
    {
     "name": "stdout",
     "output_type": "stream",
     "text": [
      "-- INITIALIZATION --\n",
      "seq: LR\n",
      "dead_ends: ['XXX']\n",
      "start: 11A\n",
      "first move: L\n",
      "tracks: ['11A-L-0']\n",
      "current: 11A\n"
     ]
    }
   ],
   "source": [
    "print('-- INITIALIZATION --')\n",
    "dat = samp3\n",
    "start = '11A'\n",
    "seq, mapp = format_input(dat)\n",
    "#seq = \"LLLLLR\"\n",
    "current_node = start\n",
    "cnt = 0\n",
    "possible_ends = []\n",
    "tracks = []\n",
    "current_move_idx = 0\n",
    "current_move = seq[current_move_idx]\n",
    "tracks.append(f'{current_node}-{current_move}-{current_move_idx}')\n",
    "full_path = [start]\n",
    "dead_ends = get_deadends(mapp)\n",
    "\n",
    "print(f'seq: {seq}')\n",
    "print(f'dead_ends: {dead_ends}')\n",
    "print(f'start: {start}')\n",
    "print(f'first move: {move}')\n",
    "print(f'tracks: {tracks}')\n",
    "print(f'current: {current}')"
   ]
  },
  {
   "cell_type": "code",
   "execution_count": 136,
   "metadata": {},
   "outputs": [
    {
     "name": "stdout",
     "output_type": "stream",
     "text": [
      "step #2\n",
      "------------------\n",
      "adding possible end: 11Z\n",
      "--- end values ---\n",
      "cnt = 2\n",
      "current move: R (index = 1)\n",
      "full path: ['11A', '11B', '11Z']\n",
      "possible ends: [('11Z', 2)]\n",
      "tracks: ['11A-L-0', '11B-R-1', '11Z-L-0']\n"
     ]
    }
   ],
   "source": [
    "print(f'step #{cnt+1}')\n",
    "print('------------------')\n",
    "cnt += 1\n",
    "\n",
    "current_move_idx = (cnt-1)%len(seq) \n",
    "next_move_idx = cnt%len(seq)\n",
    "current_move = seq[current_move_idx]\n",
    "next_move = seq[next_move_idx]\n",
    "current_move_type_idx = I.index(current_move)\n",
    "next_move_type_idx = I.index(next_move)\n",
    "next_node = mapp[current_node][current_move_type_idx]\n",
    "tr = f'{next_node}-{next_move}-{next_move_idx}'\n",
    "\n",
    "if tr in tracks:\n",
    "    assert False, 'STOPPING: LOOP DETECTED ! {tr}'\n",
    "\n",
    "tracks.append(tr)\n",
    "current_node = next_node\n",
    "full_path.append(current_node)\n",
    "\n",
    "if current_node.endswith('Z'):\n",
    "    print(f'adding possible end: {current_node}')\n",
    "    possible_ends.append((current_node, cnt))\n",
    "\n",
    "if current_node in dead_ends:\n",
    "    assert False, \"STOPPING: Reached a dead end\"\n",
    "\n",
    "\n",
    "print('--- end values ---')\n",
    "print(f'cnt = {cnt}')\n",
    "print(f'current move: {current_move} (index = {current_move_idx})')\n",
    "print(f'full path: {full_path}')\n",
    "print(f'possible ends: {possible_ends}')\n",
    "print(f'tracks: {tracks}')"
   ]
  },
  {
   "cell_type": "code",
   "execution_count": 137,
   "metadata": {},
   "outputs": [
    {
     "name": "stdout",
     "output_type": "stream",
     "text": [
      "full path: ['11A', '11B', '11Z']\n",
      "possible ends: [('11Z', 2)]\n",
      "tracks: ['11A-L-0', '11B-R-1', '11Z-L-0']\n"
     ]
    }
   ],
   "source": [
    "print(f'full path: {full_path}')\n",
    "print(f'possible ends: {possible_ends}')\n",
    "print(f'tracks: {tracks}')"
   ]
  },
  {
   "cell_type": "code",
   "execution_count": 141,
   "metadata": {},
   "outputs": [],
   "source": [
    "def find_possible_ends(start: str, seq: str, mapp: Map) -> list[tuple[str, int]]:\n",
    "\n",
    "    current_node = start\n",
    "    cnt = 0\n",
    "    possible_ends = []\n",
    "    tracks = []\n",
    "    current_move_idx = 0\n",
    "    current_move = seq[current_move_idx]\n",
    "    tr = f'{current_node}-{current_move}-{current_move_idx}'\n",
    "    tracks.append(tr)\n",
    "    full_path = [start]\n",
    "    dead_ends = get_deadends(mapp)\n",
    "\n",
    "    while True:\n",
    "        cnt += 1\n",
    "        current_move_idx = (cnt-1)%len(seq) \n",
    "        next_move_idx = cnt%len(seq)\n",
    "        current_move = seq[current_move_idx]\n",
    "        next_move = seq[next_move_idx]\n",
    "        current_move_type_idx = I.index(current_move)\n",
    "        next_node = mapp[current_node][current_move_type_idx]\n",
    "        tr = f'{next_node}-{next_move}-{next_move_idx}'\n",
    "\n",
    "        ## stop condition 1: reached a loop\n",
    "        if tr in tracks:\n",
    "            print(f'STOPPING: LOOP DETECTED ! {tr}')\n",
    "            break\n",
    "\n",
    "        tracks.append(tr)\n",
    "        current_node = next_node\n",
    "        full_path.append(current_node)\n",
    "\n",
    "        if current_node.endswith('Z'):\n",
    "            print(f'adding possible end: {current_node}')\n",
    "            possible_ends.append((current_node, cnt))\n",
    "\n",
    "        ## stop condition 2: reached a dead end\n",
    "        if current_node in dead_ends:\n",
    "            print(\"STOPPING: Reached a dead end\")\n",
    "            break\n",
    "\n",
    "    return possible_ends"
   ]
  },
  {
   "cell_type": "code",
   "execution_count": 144,
   "metadata": {},
   "outputs": [
    {
     "name": "stdout",
     "output_type": "stream",
     "text": [
      "adding possible end: 22Z\n",
      "adding possible end: 22Z\n",
      "STOPPING: LOOP DETECTED ! 22B-R-1\n"
     ]
    },
    {
     "data": {
      "text/plain": [
       "[('22Z', 3), ('22Z', 6)]"
      ]
     },
     "execution_count": 144,
     "metadata": {},
     "output_type": "execute_result"
    }
   ],
   "source": [
    "dat = samp3\n",
    "start = '22A'\n",
    "seq, mapp = format_input(dat)\n",
    "find_possible_ends(start, seq, mapp)"
   ]
  },
  {
   "cell_type": "code",
   "execution_count": 147,
   "metadata": {},
   "outputs": [],
   "source": [
    "def find_starting_nodes(mapp) -> list[str]:\n",
    "    return [k for k in mapp.keys() if k.endswith('A')]"
   ]
  },
  {
   "cell_type": "code",
   "execution_count": 148,
   "metadata": {},
   "outputs": [
    {
     "data": {
      "text/plain": [
       "['11A', '22A']"
      ]
     },
     "execution_count": 148,
     "metadata": {},
     "output_type": "execute_result"
    }
   ],
   "source": [
    "find_starting_nodes(mapp)"
   ]
  },
  {
   "cell_type": "code",
   "execution_count": 149,
   "metadata": {},
   "outputs": [
    {
     "name": "stdout",
     "output_type": "stream",
     "text": [
      "adding possible end: 11Z\n",
      "STOPPING: LOOP DETECTED ! 11B-R-1\n",
      "adding possible end: 22Z\n",
      "adding possible end: 22Z\n",
      "STOPPING: LOOP DETECTED ! 22B-R-1\n"
     ]
    },
    {
     "data": {
      "text/plain": [
       "{'11A': [('11Z', 2)], '22A': [('22Z', 3), ('22Z', 6)]}"
      ]
     },
     "execution_count": 149,
     "metadata": {},
     "output_type": "execute_result"
    }
   ],
   "source": [
    "dat = samp3\n",
    "start = '22A'\n",
    "seq, mapp = format_input(dat)\n",
    "starting_nodes = find_starting_nodes(mapp)\n",
    "{start: find_possible_ends(start, seq, mapp) for start in starting_nodes}"
   ]
  },
  {
   "cell_type": "code",
   "execution_count": 151,
   "metadata": {},
   "outputs": [
    {
     "name": "stdout",
     "output_type": "stream",
     "text": [
      "adding possible end: ZZZ\n",
      "STOPPING: LOOP DETECTED ! DSH-L-2\n",
      "adding possible end: KJZ\n",
      "STOPPING: LOOP DETECTED ! LMM-L-2\n",
      "adding possible end: XVZ\n",
      "STOPPING: LOOP DETECTED ! XLT-L-2\n",
      "adding possible end: SCZ\n",
      "STOPPING: LOOP DETECTED ! GNM-L-4\n",
      "adding possible end: XTZ\n",
      "STOPPING: LOOP DETECTED ! VHT-L-2\n",
      "adding possible end: LDZ\n",
      "STOPPING: LOOP DETECTED ! VLL-L-2\n"
     ]
    },
    {
     "data": {
      "text/plain": [
       "{'AAA': [('ZZZ', 13207)],\n",
       " 'PRA': [('KJZ', 19951)],\n",
       " 'PVA': [('XVZ', 14893)],\n",
       " 'XLA': [('SCZ', 12083)],\n",
       " 'PTA': [('XTZ', 20513)],\n",
       " 'FBA': [('LDZ', 22199)]}"
      ]
     },
     "execution_count": 151,
     "metadata": {},
     "output_type": "execute_result"
    }
   ],
   "source": [
    "dat = data\n",
    "start = '22A'\n",
    "seq, mapp = format_input(dat)\n",
    "starting_nodes = find_starting_nodes(mapp)\n",
    "poss_ends = {start: find_possible_ends(start, seq, mapp) for start in starting_nodes}\n",
    "poss_ends"
   ]
  },
  {
   "cell_type": "code",
   "execution_count": null,
   "metadata": {},
   "outputs": [],
   "source": [
    "all_nums = []"
   ]
  },
  {
   "cell_type": "code",
   "execution_count": 152,
   "metadata": {},
   "outputs": [],
   "source": [
    "def lcm(n1: int, n2: int) -> int:\n",
    "    ..."
   ]
  },
  {
   "cell_type": "code",
   "execution_count": 153,
   "metadata": {},
   "outputs": [],
   "source": [
    "def gcd(n1: int, n2: int) -> int:\n",
    "    ..."
   ]
  },
  {
   "cell_type": "code",
   "execution_count": null,
   "metadata": {},
   "outputs": [],
   "source": [
    "def gcd(n1: int, n2: int) -> int:\n",
    "    ..."
   ]
  },
  {
   "cell_type": "code",
   "execution_count": 154,
   "metadata": {},
   "outputs": [],
   "source": [
    "# CLAUDE: \"function in python to calculate the gcd of 2 numbers ?\""
   ]
  },
  {
   "cell_type": "code",
   "execution_count": 155,
   "metadata": {},
   "outputs": [],
   "source": [
    "def gcd(a, b):\n",
    "   while b:\n",
    "       a, b = b, a % b\n",
    "   return a"
   ]
  },
  {
   "cell_type": "code",
   "execution_count": 156,
   "metadata": {},
   "outputs": [],
   "source": [
    "def lcm(a, b):\n",
    "   return abs(a * b) // gcd(a, b)"
   ]
  },
  {
   "cell_type": "code",
   "execution_count": 162,
   "metadata": {},
   "outputs": [
    {
     "data": {
      "text/plain": [
       "[13207, 19951, 14893, 12083, 20513, 22199]"
      ]
     },
     "execution_count": 162,
     "metadata": {},
     "output_type": "execute_result"
    }
   ],
   "source": [
    "indices = [v[0][1] for v in poss_ends.values()]\n",
    "indices"
   ]
  },
  {
   "cell_type": "code",
   "execution_count": 163,
   "metadata": {},
   "outputs": [
    {
     "data": {
      "text/plain": [
       "12324145107121"
      ]
     },
     "execution_count": 163,
     "metadata": {},
     "output_type": "execute_result"
    }
   ],
   "source": [
    "from functools import reduce\n",
    "\n",
    "reduce(lcm, indices)"
   ]
  },
  {
   "cell_type": "code",
   "execution_count": 164,
   "metadata": {},
   "outputs": [],
   "source": [
    "## right answer !"
   ]
  },
  {
   "cell_type": "markdown",
   "metadata": {},
   "source": [
    "## conclusions\n",
    "\n",
    "- Theme: graphs\n",
    "- Hard part: determining conditions to stop the traversal --> a loop has been reached\n",
    "- This one relies on math. Wouldn't have cracked as fast if didn't know the concepts of GCD and LCM\n",
    "- Sometimes you shouldn't OVEROPTIMIZE. I was thinking about calc the LCM for all possible combination of ends, but in the end there was only 1 possible ending by start, so it wasn't needed."
   ]
  }
 ],
 "metadata": {
  "kernelspec": {
   "display_name": "pydidask",
   "language": "python",
   "name": "python3"
  },
  "language_info": {
   "codemirror_mode": {
    "name": "ipython",
    "version": 3
   },
   "file_extension": ".py",
   "mimetype": "text/x-python",
   "name": "python",
   "nbconvert_exporter": "python",
   "pygments_lexer": "ipython3",
   "version": "3.12.0"
  }
 },
 "nbformat": 4,
 "nbformat_minor": 2
}
