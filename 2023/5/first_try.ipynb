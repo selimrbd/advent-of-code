{
 "cells": [
  {
   "cell_type": "markdown",
   "metadata": {},
   "source": [
    "[link](https://adventofcode.com/2023/day/5)"
   ]
  },
  {
   "cell_type": "code",
   "execution_count": 1,
   "metadata": {},
   "outputs": [],
   "source": [
    "YEAR = 2023 \n",
    "DAY = 5\n",
    "\n",
    "from aocd import get_data\n",
    "import sys\n",
    "sys.path.append(\"..\")\n",
    "from config import load_config\n",
    "load_config()\n",
    "data = get_data(year=YEAR, day=DAY)"
   ]
  },
  {
   "cell_type": "markdown",
   "metadata": {},
   "source": [
    "# part 1"
   ]
  },
  {
   "cell_type": "markdown",
   "metadata": {},
   "source": [
    "## problem statement"
   ]
  },
  {
   "cell_type": "markdown",
   "metadata": {},
   "source": [
    "The almanac (your puzzle input) lists all of the seeds that need to be planted. It also lists what type of soil to use with each kind of seed, what type of fertilizer to use with each kind of soil, what type of water to use with each kind of fertilizer, and so on. Every type of seed, soil, fertilizer and so on is identified with a number, but numbers are reused by each category - that is, soil 123 and fertilizer 123 aren't necessarily related to each other.\n",
    "\n",
    "For example:"
   ]
  },
  {
   "cell_type": "code",
   "execution_count": 2,
   "metadata": {},
   "outputs": [],
   "source": [
    "samp = \"\"\"seeds: 79 14 55 13\n",
    "\n",
    "seed-to-soil map:\n",
    "50 98 2\n",
    "52 50 48\n",
    "\n",
    "soil-to-fertilizer map:\n",
    "0 15 37\n",
    "37 52 2\n",
    "39 0 15\n",
    "\n",
    "fertilizer-to-water map:\n",
    "49 53 8\n",
    "0 11 42\n",
    "42 0 7\n",
    "57 7 4\n",
    "\n",
    "water-to-light map:\n",
    "88 18 7\n",
    "18 25 70\n",
    "\n",
    "light-to-temperature map:\n",
    "45 77 23\n",
    "81 45 19\n",
    "68 64 13\n",
    "\n",
    "temperature-to-humidity map:\n",
    "0 69 1\n",
    "1 0 69\n",
    "\n",
    "humidity-to-location map:\n",
    "60 56 37\n",
    "56 93 4\n",
    "\"\"\""
   ]
  },
  {
   "cell_type": "markdown",
   "metadata": {},
   "source": [
    "The almanac starts by listing which seeds need to be planted: seeds 79, 14, 55, and 13.\n",
    "\n",
    "The rest of the almanac contains a list of maps which describe how to convert numbers from a source category into numbers in a destination category. That is, the section that starts with seed-to-soil map: describes how to convert a seed number (the source) to a soil number (the destination). This lets the gardener and his team know which soil to use with which seeds, which water to use with which fertilizer, and so on.\n",
    "\n",
    "Rather than list every source number and its corresponding destination number one by one, the maps describe entire ranges of numbers that can be converted. Each line within a map contains three numbers: the destination range start, the source range start, and the range length.\n",
    "\n",
    "Consider again the example seed-to-soil map:\n",
    "\n",
    "50 98 2\n",
    "52 50 48\n",
    "The first line has a destination range start of 50, a source range start of 98, and a range length of 2. This line means that the source range starts at 98 and contains two values: 98 and 99. The destination range is the same length, but it starts at 50, so its two values are 50 and 51. With this information, you know that seed number 98 corresponds to soil number 50 and that seed number 99 corresponds to soil number 51.\n",
    "\n",
    "The second line means that the source range starts at 50 and contains 48 values: 50, 51, ..., 96, 97. This corresponds to a destination range starting at 52 and also containing 48 values: 52, 53, ..., 98, 99. So, seed number 53 corresponds to soil number 55.\n",
    "\n",
    "Any source numbers that aren't mapped correspond to the same destination number. So, seed number 10 corresponds to soil number 10.\n",
    "\n",
    "So, the entire list of seed numbers and their corresponding soil numbers looks like this:\n",
    "\n",
    "```\n",
    "seed  soil\n",
    "0     0\n",
    "1     1\n",
    "...   ...\n",
    "48    48\n",
    "49    49\n",
    "50    52\n",
    "51    53\n",
    "...   ...\n",
    "96    98\n",
    "97    99\n",
    "98    50\n",
    "99    51\n",
    "```"
   ]
  },
  {
   "cell_type": "markdown",
   "metadata": {},
   "source": [
    "## try 1 (fail)"
   ]
  },
  {
   "cell_type": "code",
   "execution_count": 3,
   "metadata": {},
   "outputs": [],
   "source": [
    "dat = samp"
   ]
  },
  {
   "cell_type": "code",
   "execution_count": 4,
   "metadata": {},
   "outputs": [
    {
     "data": {
      "text/plain": [
       "'79 14 55 13'"
      ]
     },
     "execution_count": 4,
     "metadata": {},
     "output_type": "execute_result"
    }
   ],
   "source": [
    "dat.splitlines()[0].split(':')[1].strip()"
   ]
  },
  {
   "cell_type": "code",
   "execution_count": 5,
   "metadata": {},
   "outputs": [
    {
     "data": {
      "text/plain": [
       "[79, 14, 55, 13]"
      ]
     },
     "execution_count": 5,
     "metadata": {},
     "output_type": "execute_result"
    }
   ],
   "source": [
    "numbers = [int(n) for n in dat.splitlines()[0].split(':')[1].strip().split(' ')]\n",
    "numbers"
   ]
  },
  {
   "cell_type": "code",
   "execution_count": 6,
   "metadata": {},
   "outputs": [],
   "source": [
    "def int_list(line: str):\n",
    "    return [int(n) for n in line.strip().split(' ')]"
   ]
  },
  {
   "cell_type": "code",
   "execution_count": 7,
   "metadata": {},
   "outputs": [
    {
     "data": {
      "text/plain": [
       "[798, 14, 55, 13]"
      ]
     },
     "execution_count": 7,
     "metadata": {},
     "output_type": "execute_result"
    }
   ],
   "source": [
    "line = '798 14 55 13'\n",
    "int_list(line)"
   ]
  },
  {
   "cell_type": "code",
   "execution_count": 8,
   "metadata": {},
   "outputs": [
    {
     "data": {
      "text/plain": [
       "['',\n",
       " 'seed-to-soil map:',\n",
       " '50 98 2',\n",
       " '52 50 48',\n",
       " '',\n",
       " 'soil-to-fertilizer map:',\n",
       " '0 15 37',\n",
       " '37 52 2',\n",
       " '39 0 15',\n",
       " '',\n",
       " 'fertilizer-to-water map:',\n",
       " '49 53 8',\n",
       " '0 11 42',\n",
       " '42 0 7',\n",
       " '57 7 4',\n",
       " '',\n",
       " 'water-to-light map:',\n",
       " '88 18 7',\n",
       " '18 25 70',\n",
       " '',\n",
       " 'light-to-temperature map:',\n",
       " '45 77 23',\n",
       " '81 45 19',\n",
       " '68 64 13',\n",
       " '',\n",
       " 'temperature-to-humidity map:',\n",
       " '0 69 1',\n",
       " '1 0 69',\n",
       " '',\n",
       " 'humidity-to-location map:',\n",
       " '60 56 37',\n",
       " '56 93 4']"
      ]
     },
     "execution_count": 8,
     "metadata": {},
     "output_type": "execute_result"
    }
   ],
   "source": [
    "xs = samp.splitlines()[1:]\n",
    "xs"
   ]
  },
  {
   "cell_type": "code",
   "execution_count": 9,
   "metadata": {},
   "outputs": [
    {
     "name": "stdout",
     "output_type": "stream",
     "text": [
      "0: not a map\n",
      "1: not a map\n",
      "2: map !\n",
      "3: map !\n",
      "ranges_str: [[50, 98, 2], [52, 50, 48]]\n",
      "4: not a map\n",
      "5: not a map\n",
      "6: map !\n",
      "7: map !\n",
      "8: map !\n",
      "ranges_str: [[0, 15, 37], [37, 52, 2], [39, 0, 15]]\n",
      "9: not a map\n",
      "10: not a map\n",
      "11: map !\n",
      "12: map !\n",
      "13: map !\n",
      "14: map !\n",
      "ranges_str: [[49, 53, 8], [0, 11, 42], [42, 0, 7], [57, 7, 4]]\n",
      "15: not a map\n",
      "16: not a map\n",
      "17: map !\n",
      "18: map !\n",
      "ranges_str: [[88, 18, 7], [18, 25, 70]]\n",
      "19: not a map\n",
      "20: not a map\n",
      "21: map !\n",
      "22: map !\n",
      "23: map !\n",
      "ranges_str: [[45, 77, 23], [81, 45, 19], [68, 64, 13]]\n",
      "24: not a map\n",
      "25: not a map\n",
      "26: map !\n",
      "27: map !\n",
      "ranges_str: [[0, 69, 1], [1, 0, 69]]\n",
      "28: not a map\n",
      "29: not a map\n",
      "30: map !\n",
      "31: map !\n",
      "ranges_str: [[60, 56, 37], [56, 93, 4]]\n"
     ]
    }
   ],
   "source": [
    "all_ranges_str = []\n",
    "i = 0 \n",
    "while i < len(xs):\n",
    "    if (len(xs[i]) == 0) or not xs[i][0].isdigit():\n",
    "        print(f'{i}: not a map')\n",
    "        i += 1\n",
    "        continue    \n",
    "    ranges_str = []\n",
    "    while i < len(xs) and len(xs[i]) > 0 and xs[i][0].isdigit():\n",
    "        print(f'{i}: map !')\n",
    "        ranges_str.append(int_list(xs[i]))\n",
    "        i += 1 \n",
    "    print(f'ranges_str: {ranges_str}')\n",
    "    all_ranges_str.append(ranges_str)"
   ]
  },
  {
   "cell_type": "code",
   "execution_count": 10,
   "metadata": {},
   "outputs": [],
   "source": [
    "def extract_ranges(xs: list[str]) -> list[tuple[int, int, int]]:\n",
    "    all_ranges_str = []\n",
    "    i = 0 \n",
    "    while i < len(xs):\n",
    "        if (len(xs[i]) == 0) or not xs[i][0].isdigit():\n",
    "            i += 1\n",
    "            continue    \n",
    "        ranges_str = []\n",
    "        while i < len(xs) and len(xs[i]) > 0 and xs[i][0].isdigit():\n",
    "            ranges_str.append(int_list(xs[i]))\n",
    "            i += 1 \n",
    "        all_ranges_str.append(ranges_str)\n",
    "    return all_ranges_str"
   ]
  },
  {
   "cell_type": "code",
   "execution_count": 11,
   "metadata": {},
   "outputs": [
    {
     "data": {
      "text/plain": [
       "[[[50, 98, 2], [52, 50, 48]],\n",
       " [[0, 15, 37], [37, 52, 2], [39, 0, 15]],\n",
       " [[49, 53, 8], [0, 11, 42], [42, 0, 7], [57, 7, 4]],\n",
       " [[88, 18, 7], [18, 25, 70]],\n",
       " [[45, 77, 23], [81, 45, 19], [68, 64, 13]],\n",
       " [[0, 69, 1], [1, 0, 69]],\n",
       " [[60, 56, 37], [56, 93, 4]]]"
      ]
     },
     "execution_count": 11,
     "metadata": {},
     "output_type": "execute_result"
    }
   ],
   "source": [
    "xs = samp.splitlines()[1:]\n",
    "extract_ranges(xs)"
   ]
  },
  {
   "cell_type": "code",
   "execution_count": 12,
   "metadata": {},
   "outputs": [],
   "source": [
    "def build_lookup_from_range(range_int: tuple[int, int, int]) -> dict[int, int]:\n",
    "    ..."
   ]
  },
  {
   "cell_type": "code",
   "execution_count": 13,
   "metadata": {},
   "outputs": [
    {
     "data": {
      "text/plain": [
       "{18: 88, 19: 89, 20: 90, 21: 91, 22: 92, 23: 93, 24: 94}"
      ]
     },
     "execution_count": 13,
     "metadata": {},
     "output_type": "execute_result"
    }
   ],
   "source": [
    "range_int = [88, 18, 7]\n",
    "dst_start, src_start, le = range_int\n",
    "lookup = {s:d for (s,d) in zip(range(src_start, src_start + le), range(dst_start, dst_start + le))}\n",
    "lookup"
   ]
  },
  {
   "cell_type": "code",
   "execution_count": 14,
   "metadata": {},
   "outputs": [],
   "source": [
    "def build_lookup_from_range(range_int: tuple[int, int, int]) -> dict[int, int]:\n",
    "    dst_start, src_start, le = range_int\n",
    "    return {s:d for (s,d) in zip(range(src_start, src_start + le), range(dst_start, dst_start + le))}"
   ]
  },
  {
   "cell_type": "code",
   "execution_count": 15,
   "metadata": {},
   "outputs": [
    {
     "data": {
      "text/plain": [
       "{18: 88, 19: 89, 20: 90, 21: 91, 22: 92, 23: 93, 24: 94}"
      ]
     },
     "execution_count": 15,
     "metadata": {},
     "output_type": "execute_result"
    }
   ],
   "source": [
    "range_int = [88, 18, 7]\n",
    "build_lookup_from_range(range_int)"
   ]
  },
  {
   "cell_type": "code",
   "execution_count": 16,
   "metadata": {},
   "outputs": [],
   "source": [
    "def build_lookup_from_ranges(ranges_int: list[tuple[int, int, int]]) -> dict[int, int]:\n",
    "    ..."
   ]
  },
  {
   "cell_type": "code",
   "execution_count": 17,
   "metadata": {},
   "outputs": [
    {
     "name": "stdout",
     "output_type": "stream",
     "text": [
      "[50, 98, 2]\n",
      "[52, 50, 48]\n"
     ]
    },
    {
     "data": {
      "text/plain": [
       "{50: 52,\n",
       " 51: 53,\n",
       " 52: 54,\n",
       " 53: 55,\n",
       " 54: 56,\n",
       " 55: 57,\n",
       " 56: 58,\n",
       " 57: 59,\n",
       " 58: 60,\n",
       " 59: 61,\n",
       " 60: 62,\n",
       " 61: 63,\n",
       " 62: 64,\n",
       " 63: 65,\n",
       " 64: 66,\n",
       " 65: 67,\n",
       " 66: 68,\n",
       " 67: 69,\n",
       " 68: 70,\n",
       " 69: 71,\n",
       " 70: 72,\n",
       " 71: 73,\n",
       " 72: 74,\n",
       " 73: 75,\n",
       " 74: 76,\n",
       " 75: 77,\n",
       " 76: 78,\n",
       " 77: 79,\n",
       " 78: 80,\n",
       " 79: 81,\n",
       " 80: 82,\n",
       " 81: 83,\n",
       " 82: 84,\n",
       " 83: 85,\n",
       " 84: 86,\n",
       " 85: 87,\n",
       " 86: 88,\n",
       " 87: 89,\n",
       " 88: 90,\n",
       " 89: 91,\n",
       " 90: 92,\n",
       " 91: 93,\n",
       " 92: 94,\n",
       " 93: 95,\n",
       " 94: 96,\n",
       " 95: 97,\n",
       " 96: 98,\n",
       " 97: 99,\n",
       " 98: 50,\n",
       " 99: 51}"
      ]
     },
     "execution_count": 17,
     "metadata": {},
     "output_type": "execute_result"
    }
   ],
   "source": [
    "ranges_int = [[50, 98, 2], [52, 50, 48]]\n",
    "lookup = {}\n",
    "for range_int in ranges_int:\n",
    "    print(range_int)\n",
    "    lookup.update(build_lookup_from_range(range_int))\n",
    "lookup = {k: lookup[k] for k in sorted(lookup.keys())}\n",
    "lookup"
   ]
  },
  {
   "cell_type": "code",
   "execution_count": 18,
   "metadata": {},
   "outputs": [],
   "source": [
    "def build_lookup_from_ranges(ranges_int: list[tuple[int, int, int]], sort_keys: bool = True) -> dict[int, int]:\n",
    "    ranges_int = [[50, 98, 2], [52, 50, 48]]\n",
    "    lookup = {}\n",
    "    for range_int in ranges_int:\n",
    "        lookup.update(build_lookup_from_range(range_int))\n",
    "    if sort_keys:\n",
    "        lookup = {k: lookup[k] for k in sorted(lookup.keys())}\n",
    "    return lookup"
   ]
  },
  {
   "cell_type": "code",
   "execution_count": 19,
   "metadata": {},
   "outputs": [
    {
     "data": {
      "text/plain": [
       "{50: 52,\n",
       " 51: 53,\n",
       " 52: 54,\n",
       " 53: 55,\n",
       " 54: 56,\n",
       " 55: 57,\n",
       " 56: 58,\n",
       " 57: 59,\n",
       " 58: 60,\n",
       " 59: 61,\n",
       " 60: 62,\n",
       " 61: 63,\n",
       " 62: 64,\n",
       " 63: 65,\n",
       " 64: 66,\n",
       " 65: 67,\n",
       " 66: 68,\n",
       " 67: 69,\n",
       " 68: 70,\n",
       " 69: 71,\n",
       " 70: 72,\n",
       " 71: 73,\n",
       " 72: 74,\n",
       " 73: 75,\n",
       " 74: 76,\n",
       " 75: 77,\n",
       " 76: 78,\n",
       " 77: 79,\n",
       " 78: 80,\n",
       " 79: 81,\n",
       " 80: 82,\n",
       " 81: 83,\n",
       " 82: 84,\n",
       " 83: 85,\n",
       " 84: 86,\n",
       " 85: 87,\n",
       " 86: 88,\n",
       " 87: 89,\n",
       " 88: 90,\n",
       " 89: 91,\n",
       " 90: 92,\n",
       " 91: 93,\n",
       " 92: 94,\n",
       " 93: 95,\n",
       " 94: 96,\n",
       " 95: 97,\n",
       " 96: 98,\n",
       " 97: 99,\n",
       " 98: 50,\n",
       " 99: 51}"
      ]
     },
     "execution_count": 19,
     "metadata": {},
     "output_type": "execute_result"
    }
   ],
   "source": [
    "ranges_int = [[50, 98, 2], [52, 50, 48]]\n",
    "build_lookup_from_ranges(ranges_int)"
   ]
  },
  {
   "cell_type": "code",
   "execution_count": 20,
   "metadata": {},
   "outputs": [
    {
     "data": {
      "text/plain": [
       "[79, 14, 55, 13]"
      ]
     },
     "execution_count": 20,
     "metadata": {},
     "output_type": "execute_result"
    }
   ],
   "source": [
    "numbers = [int(n) for n in samp.splitlines()[0].split(':')[1].strip().split(' ')]\n",
    "numbers"
   ]
  },
  {
   "cell_type": "code",
   "execution_count": 21,
   "metadata": {},
   "outputs": [
    {
     "data": {
      "text/plain": [
       "[81, 14, 57, 13]"
      ]
     },
     "execution_count": 21,
     "metadata": {},
     "output_type": "execute_result"
    }
   ],
   "source": [
    "numbers = [lookup.get(n, n) for n in numbers]\n",
    "numbers"
   ]
  },
  {
   "cell_type": "code",
   "execution_count": 22,
   "metadata": {},
   "outputs": [
    {
     "data": {
      "text/plain": [
       "[[[50, 98, 2], [52, 50, 48]],\n",
       " [[0, 15, 37], [37, 52, 2], [39, 0, 15]],\n",
       " [[49, 53, 8], [0, 11, 42], [42, 0, 7], [57, 7, 4]],\n",
       " [[88, 18, 7], [18, 25, 70]],\n",
       " [[45, 77, 23], [81, 45, 19], [68, 64, 13]],\n",
       " [[0, 69, 1], [1, 0, 69]],\n",
       " [[60, 56, 37], [56, 93, 4]]]"
      ]
     },
     "execution_count": 22,
     "metadata": {},
     "output_type": "execute_result"
    }
   ],
   "source": [
    "dat = samp\n",
    "\n",
    "numbers = [int(n) for n in dat.splitlines()[0].split(':')[1].strip().split(' ')]\n",
    "xs = dat.splitlines()[1:]\n",
    "all_ranges_int = extract_ranges(xs)\n",
    "all_ranges_int"
   ]
  },
  {
   "cell_type": "code",
   "execution_count": 23,
   "metadata": {},
   "outputs": [
    {
     "name": "stdout",
     "output_type": "stream",
     "text": [
      "[93, 14, 69, 13]\n"
     ]
    }
   ],
   "source": [
    "for ranges_int in all_ranges_int:\n",
    "    lookup = build_lookup_from_ranges(ranges_int)\n",
    "    numbers = [lookup.get(n, n) for n in numbers]\n",
    "print(numbers)"
   ]
  },
  {
   "cell_type": "code",
   "execution_count": 24,
   "metadata": {},
   "outputs": [
    {
     "name": "stdout",
     "output_type": "stream",
     "text": [
      "13\n"
     ]
    }
   ],
   "source": [
    "print(min(numbers))\n",
    "assert min(numbers) == 13"
   ]
  },
  {
   "cell_type": "code",
   "execution_count": 25,
   "metadata": {},
   "outputs": [],
   "source": [
    "def sol_2023_5_1(dat: str) -> int:\n",
    "    numbers = [int(n) for n in dat.splitlines()[0].split(':')[1].strip().split(' ')]\n",
    "    xs = dat.splitlines()[1:]\n",
    "    all_ranges_int = extract_ranges(xs)\n",
    "    for ranges_int in all_ranges_int:\n",
    "        lookup = build_lookup_from_ranges(ranges_int)\n",
    "        numbers = [lookup.get(n, n) for n in numbers]\n",
    "    return min(numbers)"
   ]
  },
  {
   "cell_type": "code",
   "execution_count": 26,
   "metadata": {},
   "outputs": [
    {
     "data": {
      "text/plain": [
       "13"
      ]
     },
     "execution_count": 26,
     "metadata": {},
     "output_type": "execute_result"
    }
   ],
   "source": [
    "sol_2023_5_1(samp)"
   ]
  },
  {
   "cell_type": "code",
   "execution_count": 27,
   "metadata": {},
   "outputs": [],
   "source": [
    "#sol_2023_5_1(data)"
   ]
  },
  {
   "cell_type": "markdown",
   "metadata": {},
   "source": [
    "This takes forever to compute --> fail.\n",
    "\n",
    "It is inefficient to create a dict for lookups. We need to find another way"
   ]
  },
  {
   "cell_type": "markdown",
   "metadata": {},
   "source": [
    "## try 2"
   ]
  },
  {
   "cell_type": "markdown",
   "metadata": {},
   "source": [
    "We don't need to build a dictionary. For each number, we can directly compute the mapping given the range information"
   ]
  },
  {
   "cell_type": "code",
   "execution_count": 28,
   "metadata": {},
   "outputs": [],
   "source": [
    "# what we keep\n",
    "dat = samp \n",
    "\n",
    "numbers = [int(n) for n in dat.splitlines()[0].split(':')[1].strip().split(' ')]\n",
    "\n",
    "xs = dat.splitlines()[1:]\n",
    "\n",
    "def int_list(line: str):\n",
    "    return [int(n) for n in line.strip().split(' ')]\n",
    "\n",
    "def extract_ranges(xs: list[str]) -> list[tuple[int, int, int]]:\n",
    "    all_ranges_str = []\n",
    "    i = 0 \n",
    "    while i < len(xs):\n",
    "        if (len(xs[i]) == 0) or not xs[i][0].isdigit():\n",
    "            i += 1\n",
    "            continue    \n",
    "        ranges_str = []\n",
    "        while i < len(xs) and len(xs[i]) > 0 and xs[i][0].isdigit():\n",
    "            ranges_str.append(int_list(xs[i]))\n",
    "            i += 1 \n",
    "        all_ranges_str.append(ranges_str)\n",
    "    return all_ranges_str"
   ]
  },
  {
   "cell_type": "code",
   "execution_count": 29,
   "metadata": {},
   "outputs": [],
   "source": [
    "nb = 99\n",
    "ranges_int = [[50, 98, 2], [52, 50, 48]]"
   ]
  },
  {
   "cell_type": "code",
   "execution_count": 30,
   "metadata": {},
   "outputs": [
    {
     "data": {
      "text/plain": [
       "51"
      ]
     },
     "execution_count": 30,
     "metadata": {},
     "output_type": "execute_result"
    }
   ],
   "source": [
    "nb2 = None\n",
    "for range_int in ranges_int:\n",
    "    dst, src, l = range_int \n",
    "    if nb >= src and nb < src + l:\n",
    "        nb2 = dst + (nb - src)\n",
    "if nb2 is None:\n",
    "    nb2 = nb\n",
    "nb2"
   ]
  },
  {
   "cell_type": "code",
   "execution_count": 31,
   "metadata": {},
   "outputs": [],
   "source": [
    "def lookup_nb(nb: int, ranges_int: list[tuple[int, int, int]]) -> int:\n",
    "    ..."
   ]
  },
  {
   "cell_type": "code",
   "execution_count": 32,
   "metadata": {},
   "outputs": [],
   "source": [
    "def lookup_nb(nb: int, ranges_int: list[tuple[int, int, int]]) -> int:\n",
    "    nb2 = None\n",
    "    for range_int in ranges_int:\n",
    "        dst, src, l = range_int \n",
    "        if nb >= src and nb < src + l:\n",
    "            nb2 = dst + (nb - src)\n",
    "    if nb2 is None:\n",
    "        nb2 = nb\n",
    "    return nb2"
   ]
  },
  {
   "cell_type": "code",
   "execution_count": 33,
   "metadata": {},
   "outputs": [
    {
     "data": {
      "text/plain": [
       "79"
      ]
     },
     "execution_count": 33,
     "metadata": {},
     "output_type": "execute_result"
    }
   ],
   "source": [
    "nb = 77\n",
    "ranges_int = [[50, 98, 2], [52, 50, 48]]\n",
    "lookup_nb(nb, ranges_int)"
   ]
  },
  {
   "cell_type": "code",
   "execution_count": 34,
   "metadata": {},
   "outputs": [],
   "source": [
    "dat = samp \n",
    "\n",
    "numbers = [int(n) for n in dat.splitlines()[0].split(':')[1].strip().split(' ')]\n",
    "xs = dat.splitlines()[1:]\n",
    "all_ranges_int = extract_ranges(xs)"
   ]
  },
  {
   "cell_type": "code",
   "execution_count": 35,
   "metadata": {},
   "outputs": [
    {
     "name": "stdout",
     "output_type": "stream",
     "text": [
      "[82, 43, 86, 35]\n",
      "35\n"
     ]
    }
   ],
   "source": [
    "for ranges_int in all_ranges_int:\n",
    "    numbers = [lookup_nb(n, ranges_int) for n in numbers]\n",
    "print(numbers)\n",
    "print(min(numbers))"
   ]
  },
  {
   "cell_type": "code",
   "execution_count": 36,
   "metadata": {},
   "outputs": [],
   "source": [
    "def sol_2023_5_1(dat: str) -> int:\n",
    "    numbers = [int(n) for n in dat.splitlines()[0].split(':')[1].strip().split(' ')]\n",
    "    xs = dat.splitlines()[1:]\n",
    "    all_ranges_int = extract_ranges(xs)\n",
    "    for ranges_int in all_ranges_int:\n",
    "        numbers = [lookup_nb(n, ranges_int) for n in numbers]\n",
    "    return min(numbers)"
   ]
  },
  {
   "cell_type": "code",
   "execution_count": 37,
   "metadata": {},
   "outputs": [
    {
     "data": {
      "text/plain": [
       "35"
      ]
     },
     "execution_count": 37,
     "metadata": {},
     "output_type": "execute_result"
    }
   ],
   "source": [
    "sol_2023_5_1(samp)"
   ]
  },
  {
   "cell_type": "code",
   "execution_count": 38,
   "metadata": {},
   "outputs": [
    {
     "data": {
      "text/plain": [
       "57075758"
      ]
     },
     "execution_count": 38,
     "metadata": {},
     "output_type": "execute_result"
    }
   ],
   "source": [
    "sol_2023_5_1(data)"
   ]
  },
  {
   "cell_type": "markdown",
   "metadata": {},
   "source": [
    "# Part 2 "
   ]
  },
  {
   "cell_type": "markdown",
   "metadata": {},
   "source": [
    "## Problem statement"
   ]
  },
  {
   "cell_type": "markdown",
   "metadata": {},
   "source": [
    "Everyone will starve if you only plant such a small number of seeds. Re-reading the almanac, it looks like the seeds: line actually describes ranges of seed numbers.\n",
    "\n",
    "The values on the initial seeds: line come in pairs. Within each pair, the first value is the start of the range and the second value is the length of the range. So, in the first line of the example above:\n",
    "\n",
    "seeds: 79 14 55 13\n",
    "This line describes two ranges of seed numbers to be planted in the garden. The first range starts with seed number 79 and contains 14 values: 79, 80, ..., 91, 92. The second range starts with seed number 55 and contains 13 values: 55, 56, ..., 66, 67.\n",
    "\n",
    "Now, rather than considering four seed numbers, you need to consider a total of 27 seed numbers.\n",
    "\n",
    "In the above example, the lowest location number can be obtained from seed number 82, which corresponds to soil 84, fertilizer 84, water 84, light 77, temperature 45, humidity 46, and location 46. So, the lowest location number is 46.\n",
    "\n",
    "Consider all of the initial seed numbers listed in the ranges on the first line of the almanac. What is the lowest location number that corresponds to any of the initial seed numbers?"
   ]
  },
  {
   "cell_type": "markdown",
   "metadata": {},
   "source": [
    "## Process"
   ]
  },
  {
   "cell_type": "markdown",
   "metadata": {},
   "source": [
    "### try 1 (fail)"
   ]
  },
  {
   "cell_type": "code",
   "execution_count": 39,
   "metadata": {},
   "outputs": [],
   "source": [
    "# what we keep\n",
    "dat = samp \n",
    "\n",
    "numbers = [int(n) for n in dat.splitlines()[0].split(':')[1].strip().split(' ')]\n",
    "\n",
    "xs = dat.splitlines()[1:]\n",
    "\n",
    "def int_list(line: str):\n",
    "    return [int(n) for n in line.strip().split(' ')]\n",
    "\n",
    "def extract_ranges(xs: list[str]) -> list[tuple[int, int, int]]:\n",
    "    all_ranges_str = []\n",
    "    i = 0 \n",
    "    while i < len(xs):\n",
    "        if (len(xs[i]) == 0) or not xs[i][0].isdigit():\n",
    "            i += 1\n",
    "            continue    \n",
    "        ranges_str = []\n",
    "        while i < len(xs) and len(xs[i]) > 0 and xs[i][0].isdigit():\n",
    "            ranges_str.append(int_list(xs[i]))\n",
    "            i += 1 \n",
    "        all_ranges_str.append(ranges_str)\n",
    "    return all_ranges_str\n",
    "\n",
    "def lookup_nb(nb: int, ranges_int: list[tuple[int, int, int]]) -> int:\n",
    "    nb2 = None\n",
    "    for range_int in ranges_int:\n",
    "        dst, src, l = range_int \n",
    "        if nb >= src and nb < src + l:\n",
    "            nb2 = dst + (nb - src)\n",
    "    if nb2 is None:\n",
    "        nb2 = nb\n",
    "    return nb2"
   ]
  },
  {
   "cell_type": "code",
   "execution_count": 40,
   "metadata": {},
   "outputs": [],
   "source": [
    "#assert answer == 46"
   ]
  },
  {
   "cell_type": "code",
   "execution_count": 41,
   "metadata": {},
   "outputs": [],
   "source": [
    "def get_init_numbers(numbers_range: list[int]) -> list[int]:\n",
    "    ..."
   ]
  },
  {
   "cell_type": "code",
   "execution_count": 42,
   "metadata": {},
   "outputs": [
    {
     "data": {
      "text/plain": [
       "[79, 14, 55, 13]"
      ]
     },
     "execution_count": 42,
     "metadata": {},
     "output_type": "execute_result"
    }
   ],
   "source": [
    "numbers_range = [int(n) for n in dat.splitlines()[0].split(':')[1].strip().split(' ')]\n",
    "numbers_range"
   ]
  },
  {
   "cell_type": "code",
   "execution_count": 43,
   "metadata": {},
   "outputs": [
    {
     "data": {
      "text/plain": [
       "3"
      ]
     },
     "execution_count": 43,
     "metadata": {},
     "output_type": "execute_result"
    }
   ],
   "source": [
    "numbers_range = [79, 14, 55, 13, 1, 2]\n",
    "nb_ranges = int(len(numbers_range) / 2)\n",
    "nb_ranges"
   ]
  },
  {
   "cell_type": "code",
   "execution_count": 44,
   "metadata": {},
   "outputs": [
    {
     "data": {
      "text/plain": [
       "[79,\n",
       " 80,\n",
       " 81,\n",
       " 82,\n",
       " 83,\n",
       " 84,\n",
       " 85,\n",
       " 86,\n",
       " 87,\n",
       " 88,\n",
       " 89,\n",
       " 90,\n",
       " 91,\n",
       " 92,\n",
       " 55,\n",
       " 56,\n",
       " 57,\n",
       " 58,\n",
       " 59,\n",
       " 60,\n",
       " 61,\n",
       " 62,\n",
       " 63,\n",
       " 64,\n",
       " 65,\n",
       " 66,\n",
       " 67,\n",
       " 1,\n",
       " 2]"
      ]
     },
     "execution_count": 44,
     "metadata": {},
     "output_type": "execute_result"
    }
   ],
   "source": [
    "all_numbers = []\n",
    "for i in range(nb_ranges):\n",
    "    all_numbers += list(range(numbers_range[2*i], numbers_range[2*i] + numbers_range[2*i+1]))\n",
    "all_numbers"
   ]
  },
  {
   "cell_type": "code",
   "execution_count": 45,
   "metadata": {},
   "outputs": [],
   "source": [
    "def get_init_numbers(numbers_range: list[int]) -> list[int]:\n",
    "    nb_ranges = int(len(numbers_range) / 2)\n",
    "    all_numbers = []\n",
    "    for i in range(nb_ranges):\n",
    "        all_numbers += list(range(numbers_range[2*i], numbers_range[2*i] + numbers_range[2*i+1]))\n",
    "    return all_numbers "
   ]
  },
  {
   "cell_type": "code",
   "execution_count": 46,
   "metadata": {},
   "outputs": [
    {
     "data": {
      "text/plain": [
       "[79,\n",
       " 80,\n",
       " 81,\n",
       " 82,\n",
       " 83,\n",
       " 84,\n",
       " 85,\n",
       " 86,\n",
       " 87,\n",
       " 88,\n",
       " 89,\n",
       " 90,\n",
       " 91,\n",
       " 92,\n",
       " 55,\n",
       " 56,\n",
       " 57,\n",
       " 58,\n",
       " 59,\n",
       " 60,\n",
       " 61,\n",
       " 62,\n",
       " 63,\n",
       " 64,\n",
       " 65,\n",
       " 66,\n",
       " 67,\n",
       " 1,\n",
       " 2]"
      ]
     },
     "execution_count": 46,
     "metadata": {},
     "output_type": "execute_result"
    }
   ],
   "source": [
    "numbers_range = [79, 14, 55, 13, 1, 2]\n",
    "get_init_numbers(numbers_range)"
   ]
  },
  {
   "cell_type": "code",
   "execution_count": 47,
   "metadata": {},
   "outputs": [],
   "source": [
    "def sol_2023_5_2(dat: str) -> int:\n",
    "    numbers_range = [int(n) for n in dat.splitlines()[0].split(':')[1].strip().split(' ')]\n",
    "    numbers = get_init_numbers(numbers_range)\n",
    "    print(numbers)\n",
    "    return \n",
    "    xs = dat.splitlines()[1:]\n",
    "    all_ranges_int = extract_ranges(xs)\n",
    "    for ranges_int in all_ranges_int:\n",
    "        numbers = [lookup_nb(n, ranges_int) for n in numbers]\n",
    "    return min(numbers)"
   ]
  },
  {
   "cell_type": "code",
   "execution_count": 48,
   "metadata": {},
   "outputs": [
    {
     "name": "stdout",
     "output_type": "stream",
     "text": [
      "[79, 80, 81, 82, 83, 84, 85, 86, 87, 88, 89, 90, 91, 92, 55, 56, 57, 58, 59, 60, 61, 62, 63, 64, 65, 66, 67]\n"
     ]
    }
   ],
   "source": [
    "sol_2023_5_2(samp)"
   ]
  },
  {
   "cell_type": "code",
   "execution_count": 49,
   "metadata": {},
   "outputs": [],
   "source": [
    "#sol_2023_5_2(data)"
   ]
  },
  {
   "cell_type": "markdown",
   "metadata": {},
   "source": [
    "Takes forever to compute: need to find a more efficient way"
   ]
  },
  {
   "cell_type": "markdown",
   "metadata": {},
   "source": [
    "### try 2"
   ]
  },
  {
   "cell_type": "markdown",
   "metadata": {},
   "source": [
    "To make it more efficient, I need to take advantage of the fact that most numbers to lookup are **adjacent**\n",
    "\n",
    "Other approach: seeing it as **translations of integer intervals** performed in sequence\n",
    "\n",
    "Example: "
   ]
  },
  {
   "cell_type": "code",
   "execution_count": 50,
   "metadata": {},
   "outputs": [],
   "source": [
    "seeds = '79 14 55 13'\n",
    "seed_intervals = [[79, 79+13], [55, 55 + 12]]"
   ]
  },
  {
   "cell_type": "code",
   "execution_count": 51,
   "metadata": {},
   "outputs": [
    {
     "data": {
      "text/plain": [
       "[[79, 92], [55, 67]]"
      ]
     },
     "execution_count": 51,
     "metadata": {},
     "output_type": "execute_result"
    }
   ],
   "source": [
    "seed_intervals"
   ]
  },
  {
   "cell_type": "code",
   "execution_count": 52,
   "metadata": {},
   "outputs": [
    {
     "data": {
      "text/plain": [
       "[98, 99]"
      ]
     },
     "execution_count": 52,
     "metadata": {},
     "output_type": "execute_result"
    }
   ],
   "source": [
    "# first lookup\n",
    "\"50 98 2\"\n",
    "[98, 98+1] # translated by (-98+50)"
   ]
  },
  {
   "cell_type": "markdown",
   "metadata": {},
   "source": [
    "intersection of [79, 92] and [98, 98+1] is null so it remains the same interval"
   ]
  },
  {
   "cell_type": "markdown",
   "metadata": {},
   "source": [
    "itv1 \n",
    "itv2\n",
    "\n",
    "I want to divide itv1 using the intersection between itv1 and itv2\n",
    "\n",
    "\n",
    "```\n",
    "1\n",
    "|-----------|\n",
    "         \n",
    "2\n",
    "   |-----|\n",
    "\n",
    "   =\n",
    "\n",
    "|-||-----|--| \n",
    "```\n",
    "\n",
    "\n",
    "if: \n",
    "- itv1 = [a1, b1]\n",
    "- itv2 = [a2, b2]\n",
    "- itv1 INTERSECT itv2 = [i1, i2]\n",
    "\n",
    "The interval is divided as :\n",
    "\n",
    "[a1, i1-1], [i1, i2], [i2+1, b1]"
   ]
  },
  {
   "cell_type": "markdown",
   "metadata": {},
   "source": [
    "let's build a function that gives the intersection between 2 intervals:"
   ]
  },
  {
   "cell_type": "code",
   "execution_count": 53,
   "metadata": {},
   "outputs": [],
   "source": [
    "from typing import Optional\n",
    "Itv = tuple[int, int]\n",
    "def intersect(itv1: Itv, itv2: Itv) -> Optional[Itv]:\n",
    "    ..."
   ]
  },
  {
   "cell_type": "code",
   "execution_count": 54,
   "metadata": {},
   "outputs": [],
   "source": [
    "def intersect(itv1: Itv, itv2: Itv) -> Optional[Itv]:\n",
    "    a1, b1 = itv1 \n",
    "    a2, b2 = itv2 \n",
    "    if b1 < a2 or b2 < a1:\n",
    "        return None \n",
    "    i1 = max(a1, a2)\n",
    "    i2 = min(b1, b2)\n",
    "    return i1, i2"
   ]
  },
  {
   "cell_type": "code",
   "execution_count": 55,
   "metadata": {},
   "outputs": [
    {
     "data": {
      "text/plain": [
       "(8, 10)"
      ]
     },
     "execution_count": 55,
     "metadata": {},
     "output_type": "execute_result"
    }
   ],
   "source": [
    "itv1 = [5,10]\n",
    "itv2 = [8,15]\n",
    "intersect(itv1, itv2)"
   ]
  },
  {
   "cell_type": "code",
   "execution_count": 56,
   "metadata": {},
   "outputs": [],
   "source": [
    "## toy example for each cases\n",
    "# case 1\n",
    "itv1 = [5,10]\n",
    "itv2 = [8,15]\n",
    "out = [[5,7],[8,10]]\n",
    "\n",
    "# case 2\n",
    "itv1 = [5,10]\n",
    "itv2 = [2,9]\n",
    "out = [[5,9],[10]]\n",
    "\n",
    "# case 3\n",
    "itv1 = [5,10]\n",
    "itv2 = [4,20]\n",
    "out = [[5,10]]\n",
    "\n",
    "# case 4\n",
    "itv1 = [5,10]\n",
    "itv2 = [6,8]\n",
    "out = [[5], [6,8], [9,10]]\n"
   ]
  },
  {
   "cell_type": "code",
   "execution_count": 57,
   "metadata": {},
   "outputs": [],
   "source": [
    "def cut_interval(itv1: tuple[int, int], itv2: tuple[int, int]) -> list[tuple[int, int]]:\n",
    "    ..."
   ]
  },
  {
   "cell_type": "code",
   "execution_count": 58,
   "metadata": {},
   "outputs": [],
   "source": [
    "def cut_interval(itv1: tuple[int, int], itsect: Optional[tuple[int, int]]) -> list[tuple[int, int]]:\n",
    "\n",
    "    a1, b1 = itv1 \n",
    "\n",
    "    if itsect is None :\n",
    "        return [itv1]\n",
    "    i1, i2 = itsect\n",
    "\n",
    "    intervals = []\n",
    "    \n",
    "    if i1 >= (a1 + 1):\n",
    "        intervals.append((a1, i1-1))\n",
    "    \n",
    "    intervals.append(itsect)\n",
    "\n",
    "    if (i2 + 1) <= b1:\n",
    "        intervals.append((i2+1, b1))\n",
    "    \n",
    "    return intervals\n"
   ]
  },
  {
   "cell_type": "code",
   "execution_count": 59,
   "metadata": {},
   "outputs": [
    {
     "data": {
      "text/plain": [
       "[(5, 7), [8, 15]]"
      ]
     },
     "execution_count": 59,
     "metadata": {},
     "output_type": "execute_result"
    }
   ],
   "source": [
    "itv1 = [5,10]\n",
    "itv2 = [8,15]\n",
    "out = [[5,7],[8,10]]\n",
    "cut_interval(itv1, itv2)"
   ]
  },
  {
   "cell_type": "code",
   "execution_count": 60,
   "metadata": {},
   "outputs": [
    {
     "data": {
      "text/plain": [
       "[[2, 9], (10, 10)]"
      ]
     },
     "execution_count": 60,
     "metadata": {},
     "output_type": "execute_result"
    }
   ],
   "source": [
    "# case 2\n",
    "itv1 = [5,10]\n",
    "itv2 = [2,9]\n",
    "cut_interval(itv1, itv2)"
   ]
  },
  {
   "cell_type": "code",
   "execution_count": 61,
   "metadata": {},
   "outputs": [
    {
     "data": {
      "text/plain": [
       "[[4, 20]]"
      ]
     },
     "execution_count": 61,
     "metadata": {},
     "output_type": "execute_result"
    }
   ],
   "source": [
    "# case 3\n",
    "itv1 = [5,10]\n",
    "itv2 = [4,20]\n",
    "cut_interval(itv1, itv2)"
   ]
  },
  {
   "cell_type": "code",
   "execution_count": 62,
   "metadata": {},
   "outputs": [
    {
     "data": {
      "text/plain": [
       "[(5, 5), [6, 8], (9, 10)]"
      ]
     },
     "execution_count": 62,
     "metadata": {},
     "output_type": "execute_result"
    }
   ],
   "source": [
    "# case 4\n",
    "itv1 = [5,10]\n",
    "itv2 = [6,8]\n",
    "cut_interval(itv1, itv2)"
   ]
  },
  {
   "cell_type": "code",
   "execution_count": 63,
   "metadata": {},
   "outputs": [],
   "source": [
    "def translate(itv: Itv, bias: int):\n",
    "    return [itv[0] + bias, itv[1] + bias]"
   ]
  },
  {
   "cell_type": "code",
   "execution_count": 64,
   "metadata": {},
   "outputs": [
    {
     "data": {
      "text/plain": [
       "[1, 5]"
      ]
     },
     "execution_count": 64,
     "metadata": {},
     "output_type": "execute_result"
    }
   ],
   "source": [
    "itv = [4,8]\n",
    "translate(itv, -3)"
   ]
  },
  {
   "cell_type": "markdown",
   "metadata": {},
   "source": [
    "transform a range mapping into an interval + bias:"
   ]
  },
  {
   "cell_type": "code",
   "execution_count": 65,
   "metadata": {},
   "outputs": [],
   "source": [
    "def convert_mapping(map: tuple[int, int, int]) -> tuple[Itv, int]:\n",
    "    ..."
   ]
  },
  {
   "cell_type": "code",
   "execution_count": 66,
   "metadata": {},
   "outputs": [
    {
     "data": {
      "text/plain": [
       "[50, 98, 2]"
      ]
     },
     "execution_count": 66,
     "metadata": {},
     "output_type": "execute_result"
    }
   ],
   "source": [
    "map = \"50 98 2\"\n",
    "int_list(map)"
   ]
  },
  {
   "cell_type": "code",
   "execution_count": 67,
   "metadata": {},
   "outputs": [
    {
     "data": {
      "text/plain": [
       "[98, 99]"
      ]
     },
     "execution_count": 67,
     "metadata": {},
     "output_type": "execute_result"
    }
   ],
   "source": [
    "itv = [int_list(map)[1], int_list(map)[1] + int_list(map)[2] -1] \n",
    "itv"
   ]
  },
  {
   "cell_type": "code",
   "execution_count": 68,
   "metadata": {},
   "outputs": [
    {
     "data": {
      "text/plain": [
       "-48"
      ]
     },
     "execution_count": 68,
     "metadata": {},
     "output_type": "execute_result"
    }
   ],
   "source": [
    "bias = -int_list(map)[1] + int_list(map)[0]\n",
    "bias"
   ]
  },
  {
   "cell_type": "code",
   "execution_count": 69,
   "metadata": {},
   "outputs": [],
   "source": [
    "def convert_mapping(map: tuple[int, int, int]) -> tuple[Itv, int]:\n",
    "    itv = [map[1], map[1] + map[2]-1] \n",
    "    bias = -map[1] + map[0]\n",
    "    return (itv, bias)"
   ]
  },
  {
   "cell_type": "code",
   "execution_count": 70,
   "metadata": {},
   "outputs": [
    {
     "data": {
      "text/plain": [
       "([98, 99], -48)"
      ]
     },
     "execution_count": 70,
     "metadata": {},
     "output_type": "execute_result"
    }
   ],
   "source": [
    "map = [50, 98, 2]\n",
    "map_fmt = convert_mapping(map)\n",
    "map_fmt"
   ]
  },
  {
   "cell_type": "code",
   "execution_count": 71,
   "metadata": {},
   "outputs": [
    {
     "name": "stdout",
     "output_type": "stream",
     "text": [
      "[79, 92]\n",
      "[98, 99]\n",
      "None\n",
      "[[79, 92]]\n",
      "-48\n"
     ]
    }
   ],
   "source": [
    "itv1 = [79, 79 + 13]\n",
    "itv2 = map_fmt[0]\n",
    "bias = map_fmt[1]\n",
    "itsect = intersect(itv1, itv2)\n",
    "\n",
    "print(itv1)\n",
    "print(itv2)\n",
    "print(itsect)\n",
    "print(cut_interval(itv1, itsect))\n",
    "print(bias)"
   ]
  },
  {
   "cell_type": "code",
   "execution_count": 72,
   "metadata": {},
   "outputs": [
    {
     "name": "stdout",
     "output_type": "stream",
     "text": [
      "None\n",
      "[[79, 92]]\n"
     ]
    }
   ],
   "source": [
    "itsect = intersect(itv1, itv2)\n",
    "cuts = cut_interval(itv1, itsect)\n",
    "print(itsect)\n",
    "print(cuts)"
   ]
  },
  {
   "cell_type": "code",
   "execution_count": 73,
   "metadata": {},
   "outputs": [
    {
     "name": "stdout",
     "output_type": "stream",
     "text": [
      "[(79, 92)]\n"
     ]
    }
   ],
   "source": [
    "cuts = [(a+bias,b+bias) if (a,b) == itsect else (a,b) for (a,b) in cuts]\n",
    "print(cuts)"
   ]
  },
  {
   "cell_type": "code",
   "execution_count": 74,
   "metadata": {},
   "outputs": [],
   "source": [
    "def transform_itv(itv1: Itv, itv2: Itv, bias: int) -> tuple[list[Itv], list[Itv]]:\n",
    "    itsect = intersect(itv1, itv2)\n",
    "    cuts = cut_interval(itv1, itsect)\n",
    "    transformed = [(a+bias,b+bias) for (a,b) in cuts if (a,b) == itsect]\n",
    "    same = [(a,b) for (a,b) in cuts if (a,b) != itsect]\n",
    "    \n",
    "    return (transformed, same)"
   ]
  },
  {
   "cell_type": "code",
   "execution_count": 75,
   "metadata": {},
   "outputs": [
    {
     "data": {
      "text/plain": [
       "([], [(79, 92)])"
      ]
     },
     "execution_count": 75,
     "metadata": {},
     "output_type": "execute_result"
    }
   ],
   "source": [
    "itv1 = [79, 79 + 13]\n",
    "itv2 = map_fmt[0]\n",
    "bias = map_fmt[1]\n",
    "transform_itv(itv1, itv2, bias)"
   ]
  },
  {
   "cell_type": "code",
   "execution_count": 76,
   "metadata": {},
   "outputs": [
    {
     "name": "stdout",
     "output_type": "stream",
     "text": [
      "79 14 55 13\n"
     ]
    }
   ],
   "source": [
    "init_str = \"seeds: 79 14 55 13\"\n",
    "init_str2 = init_str.split(':')[1].strip()\n",
    "print(init_str2)"
   ]
  },
  {
   "cell_type": "code",
   "execution_count": 77,
   "metadata": {},
   "outputs": [
    {
     "data": {
      "text/plain": [
       "[79, 14, 55, 13]"
      ]
     },
     "execution_count": 77,
     "metadata": {},
     "output_type": "execute_result"
    }
   ],
   "source": [
    "init_int = int_list(init_str2)\n",
    "init_int"
   ]
  },
  {
   "cell_type": "code",
   "execution_count": 78,
   "metadata": {},
   "outputs": [],
   "source": [
    "def init_intervals(str_init: str) -> list[Itv]:\n",
    "    ..."
   ]
  },
  {
   "cell_type": "code",
   "execution_count": 79,
   "metadata": {},
   "outputs": [
    {
     "data": {
      "text/plain": [
       "[[79, 92], [55, 67]]"
      ]
     },
     "execution_count": 79,
     "metadata": {},
     "output_type": "execute_result"
    }
   ],
   "source": [
    "nb_init_itv = int(len(init_int) / 2)\n",
    "[[init_int[2*i], init_int[2*i] + init_int[2*i+1]-1] for i in range(nb_init_itv)]"
   ]
  },
  {
   "cell_type": "code",
   "execution_count": 80,
   "metadata": {},
   "outputs": [],
   "source": [
    "def init_intervals(init_str: str) -> list[Itv]:\n",
    "    init_str2 = init_str.split(':')[1].strip()\n",
    "    init_int = int_list(init_str2)\n",
    "    nb_init_itv = int(len(init_int) / 2)\n",
    "    return [[init_int[2*i], init_int[2*i] + init_int[2*i+1]-1] for i in range(nb_init_itv)]"
   ]
  },
  {
   "cell_type": "code",
   "execution_count": 81,
   "metadata": {},
   "outputs": [
    {
     "data": {
      "text/plain": [
       "[[79, 92], [55, 67]]"
      ]
     },
     "execution_count": 81,
     "metadata": {},
     "output_type": "execute_result"
    }
   ],
   "source": [
    "init_str = \"seeds: 79 14 55 13\"\n",
    "init_intervals(init_str)"
   ]
  },
  {
   "cell_type": "code",
   "execution_count": 82,
   "metadata": {},
   "outputs": [
    {
     "name": "stdout",
     "output_type": "stream",
     "text": [
      "seeds: 79 14 55 13\n",
      "\n",
      "seed-to-soil map:\n",
      "50 98 2\n",
      "52 50 48\n",
      "\n",
      "soil-to-fertilizer map:\n",
      "0 15 37\n",
      "37 52 2\n",
      "39 0 15\n",
      "\n",
      "fertilizer-to-water map:\n",
      "49 53 8\n",
      "0 11 42\n",
      "42 0 7\n",
      "57 7 4\n",
      "\n",
      "water-to-light map:\n",
      "88 18 7\n",
      "18 25 70\n",
      "\n",
      "light-to-temperature map:\n",
      "45 77 23\n",
      "81 45 19\n",
      "68 64 13\n",
      "\n",
      "temperature-to-humidity map:\n",
      "0 69 1\n",
      "1 0 69\n",
      "\n",
      "humidity-to-location map:\n",
      "60 56 37\n",
      "56 93 4\n",
      "\n"
     ]
    }
   ],
   "source": [
    "dat = samp\n",
    "print(dat)"
   ]
  },
  {
   "cell_type": "code",
   "execution_count": 83,
   "metadata": {},
   "outputs": [
    {
     "name": "stdout",
     "output_type": "stream",
     "text": [
      "[[79, 92], [55, 67]]\n"
     ]
    }
   ],
   "source": [
    "init_str = dat.splitlines()[0]\n",
    "xs = dat.splitlines()[1:]\n",
    "\n",
    "intervals = init_intervals(init_str)\n",
    "print(intervals)"
   ]
  },
  {
   "cell_type": "code",
   "execution_count": 84,
   "metadata": {},
   "outputs": [],
   "source": [
    "mappings = extract_ranges(xs)"
   ]
  },
  {
   "cell_type": "code",
   "execution_count": 85,
   "metadata": {},
   "outputs": [
    {
     "data": {
      "text/plain": [
       "[[([98, 99], -48), ([50, 97], 2)],\n",
       " [([15, 51], -15), ([52, 53], -15), ([0, 14], 39)],\n",
       " [([53, 60], -4), ([11, 52], -11), ([0, 6], 42), ([7, 10], 50)],\n",
       " [([18, 24], 70), ([25, 94], -7)],\n",
       " [([77, 99], -32), ([45, 63], 36), ([64, 76], 4)],\n",
       " [([69, 69], -69), ([0, 68], 1)],\n",
       " [([56, 92], 4), ([93, 96], -37)]]"
      ]
     },
     "execution_count": 85,
     "metadata": {},
     "output_type": "execute_result"
    }
   ],
   "source": [
    "converted_mappings = [[convert_mapping(map) for map in maps] for maps in mappings]\n",
    "converted_mappings"
   ]
  },
  {
   "cell_type": "code",
   "execution_count": 86,
   "metadata": {},
   "outputs": [
    {
     "data": {
      "text/plain": [
       "[[79, 92], [55, 67]]"
      ]
     },
     "execution_count": 86,
     "metadata": {},
     "output_type": "execute_result"
    }
   ],
   "source": [
    "intervals"
   ]
  },
  {
   "cell_type": "code",
   "execution_count": 87,
   "metadata": {},
   "outputs": [
    {
     "data": {
      "text/plain": [
       "[55, 67]"
      ]
     },
     "execution_count": 87,
     "metadata": {},
     "output_type": "execute_result"
    }
   ],
   "source": [
    "itv1 = intervals[1]\n",
    "itv1"
   ]
  },
  {
   "cell_type": "code",
   "execution_count": 88,
   "metadata": {},
   "outputs": [
    {
     "name": "stdout",
     "output_type": "stream",
     "text": [
      "[50, 97]\n",
      "2\n"
     ]
    }
   ],
   "source": [
    "itv2, bias = converted_mappings[0][1]\n",
    "print(itv2)\n",
    "print(bias)"
   ]
  },
  {
   "cell_type": "code",
   "execution_count": 89,
   "metadata": {},
   "outputs": [
    {
     "data": {
      "text/plain": [
       "([(57, 69)], [])"
      ]
     },
     "execution_count": 89,
     "metadata": {},
     "output_type": "execute_result"
    }
   ],
   "source": [
    "transform_itv(itv1, itv2, bias)"
   ]
  },
  {
   "cell_type": "code",
   "execution_count": 90,
   "metadata": {},
   "outputs": [
    {
     "data": {
      "text/plain": [
       "[[79, 92], [55, 67]]"
      ]
     },
     "execution_count": 90,
     "metadata": {},
     "output_type": "execute_result"
    }
   ],
   "source": [
    "dat = samp\n",
    "init_str = dat.splitlines()[0]\n",
    "xs = dat.splitlines()[1:]\n",
    "\n",
    "intervals = init_intervals(init_str)\n",
    "intervals"
   ]
  },
  {
   "cell_type": "code",
   "execution_count": 91,
   "metadata": {},
   "outputs": [
    {
     "name": "stdout",
     "output_type": "stream",
     "text": [
      "[([98, 99], -48), ([50, 97], 2)]\n",
      "[([15, 51], -15), ([52, 53], -15), ([0, 14], 39)]\n",
      "[([53, 60], -4), ([11, 52], -11), ([0, 6], 42), ([7, 10], 50)]\n",
      "[([18, 24], 70), ([25, 94], -7)]\n",
      "[([77, 99], -32), ([45, 63], 36), ([64, 76], 4)]\n",
      "[([69, 69], -69), ([0, 68], 1)]\n",
      "[([56, 92], 4), ([93, 96], -37)]\n"
     ]
    }
   ],
   "source": [
    "mappings = extract_ranges(xs)\n",
    "converted_mappings = [[convert_mapping(map) for map in maps] for maps in mappings]\n",
    "for maps in converted_mappings:\n",
    "    print(maps)"
   ]
  },
  {
   "cell_type": "code",
   "execution_count": 92,
   "metadata": {},
   "outputs": [
    {
     "name": "stdout",
     "output_type": "stream",
     "text": [
      "[79, 92]\n",
      "[([98, 99], -48), ([50, 97], 2)]\n"
     ]
    }
   ],
   "source": [
    "itv = intervals[0]\n",
    "print(itv)\n",
    "maps = converted_mappings[0]\n",
    "print(maps)"
   ]
  },
  {
   "cell_type": "code",
   "execution_count": 93,
   "metadata": {},
   "outputs": [],
   "source": [
    "m = []\n",
    "same = [itv]\n",
    "for map in maps:\n",
    "    itv2, bias = map\n",
    "    [transform_itv(s, itv2, bias) for s in same]"
   ]
  },
  {
   "cell_type": "code",
   "execution_count": 94,
   "metadata": {},
   "outputs": [],
   "source": [
    "# intervals = init_intervals(init_str)\n",
    "# for itv in intervals:\n",
    "#     itv_out = []\n",
    "\n",
    "#     for i,maps in enumerate(converted_mappings):\n",
    "#         for map in maps:\n",
    "#             itv2, bias = map\n",
    "#             transformed, same = transform_itv(itv, itv2, bias)\n",
    "#         mm = [map for map in maps if intersect(itv, map[0]) is not None]\n",
    "#         assert len(mm) <= 1, i\n",
    "#         if len(mm) == 0:\n",
    "#             itv_out.append(itv)\n",
    "#         else:\n",
    "#             itv2, bias = mm[0]\n",
    "#             itv_out.append(transform_itv(itv, itv2, bias))\n",
    "    \n",
    "# print(itv_out)\n"
   ]
  },
  {
   "cell_type": "code",
   "execution_count": 95,
   "metadata": {},
   "outputs": [
    {
     "data": {
      "text/plain": [
       "[([77, 99], -32), ([45, 63], 36), ([64, 76], 4)]"
      ]
     },
     "execution_count": 95,
     "metadata": {},
     "output_type": "execute_result"
    }
   ],
   "source": [
    "converted_mappings[4]"
   ]
  },
  {
   "cell_type": "markdown",
   "metadata": {},
   "source": [
    "## new try"
   ]
  },
  {
   "cell_type": "markdown",
   "metadata": {},
   "source": [
    "I assume that at each step, mappings don't intersect (otherwise the result would change depending on the order in which mappings are applied)\n",
    "\n",
    "If so, for each input interval I can iterate through all mappings and return only the TRANSFORMED PART (corresponding to the intersection)\n",
    "\n",
    "At the end, I also need to add the parts of the interval that WERE NOT AFFECTED, by \"removing\" each intersection"
   ]
  },
  {
   "cell_type": "code",
   "execution_count": 96,
   "metadata": {},
   "outputs": [],
   "source": [
    "## functions to keep \n",
    "\n",
    "def int_list(line: str):\n",
    "    return [int(n) for n in line.strip().split(' ')]\n",
    "\n",
    "def init_intervals(dat: str) -> list[Itv]:\n",
    "    init_str = dat.splitlines()[0]\n",
    "    init_str2 = init_str.split(':')[1].strip()\n",
    "    init_int = int_list(init_str2)\n",
    "    nb_init_itv = int(len(init_int) / 2)\n",
    "    return [[init_int[2*i], init_int[2*i] + init_int[2*i+1]-1] for i in range(nb_init_itv)]\n",
    "\n",
    "\n",
    "def convert_mapping(map: tuple[int, int, int]) -> tuple[Itv, int]:\n",
    "    itv = [map[1], map[1] + map[2]-1] \n",
    "    bias = -map[1] + map[0]\n",
    "    return (itv, bias)\n",
    "\n",
    "\n",
    "def extract_ranges(dat: str) -> list[tuple[int, int, int]]:\n",
    "    xs = dat.splitlines()[1:]\n",
    "    all_ranges = []\n",
    "    i = 0 \n",
    "    while i < len(xs):\n",
    "        if (len(xs[i]) == 0) or not xs[i][0].isdigit():\n",
    "            i += 1\n",
    "            continue    \n",
    "        ranges_raw = []\n",
    "        while i < len(xs) and len(xs[i]) > 0 and xs[i][0].isdigit():\n",
    "            ranges_raw.append(int_list(xs[i]))\n",
    "            i += 1 \n",
    "        ranges_cvt = [convert_mapping(r) for r in ranges_raw]\n",
    "        all_ranges.append(ranges_cvt)\n",
    "    return all_ranges\n",
    "\n",
    "\n",
    "def intersect(itv1: Itv, itv2: Itv) -> Optional[Itv]:\n",
    "    a1, b1 = itv1 \n",
    "    a2, b2 = itv2 \n",
    "    if b1 < a2 or b2 < a1:\n",
    "        return None \n",
    "    i1 = max(a1, a2)\n",
    "    i2 = min(b1, b2)\n",
    "    return i1, i2"
   ]
  },
  {
   "cell_type": "code",
   "execution_count": 97,
   "metadata": {},
   "outputs": [
    {
     "name": "stdout",
     "output_type": "stream",
     "text": [
      "seeds: 79 14 55 13\n",
      "\n",
      "seed-to-soil map:\n",
      "50 98 2\n",
      "52 50 48\n",
      "\n",
      "soil-to-fertilizer map:\n",
      "0 15 37\n",
      "37 52 2\n",
      "39 0 15\n",
      "\n",
      "fertilizer-to-water map:\n",
      "49 53 8\n",
      "0 11 42\n",
      "42 0 7\n",
      "57 7 4\n",
      "\n",
      "water-to-light map:\n",
      "88 18 7\n",
      "18 25 70\n",
      "\n",
      "light-to-temperature map:\n",
      "45 77 23\n",
      "81 45 19\n",
      "68 64 13\n",
      "\n",
      "temperature-to-humidity map:\n",
      "0 69 1\n",
      "1 0 69\n",
      "\n",
      "humidity-to-location map:\n",
      "60 56 37\n",
      "56 93 4\n",
      "\n"
     ]
    }
   ],
   "source": [
    "dat = samp\n",
    "print(dat)"
   ]
  },
  {
   "cell_type": "code",
   "execution_count": 98,
   "metadata": {},
   "outputs": [
    {
     "data": {
      "text/plain": [
       "[[79, 92], [55, 67]]"
      ]
     },
     "execution_count": 98,
     "metadata": {},
     "output_type": "execute_result"
    }
   ],
   "source": [
    "intervals = init_intervals(dat)\n",
    "intervals"
   ]
  },
  {
   "cell_type": "code",
   "execution_count": null,
   "metadata": {},
   "outputs": [
    {
     "data": {
      "text/plain": [
       "[[([98, 99], -48), ([50, 97], 2)],\n",
       " [([15, 51], -15), ([52, 53], -15), ([0, 14], 39)],\n",
       " [([53, 60], -4), ([11, 52], -11), ([0, 6], 42), ([7, 10], 50)],\n",
       " [([18, 24], 70), ([25, 94], -7)],\n",
       " [([77, 99], -32), ([45, 63], 36), ([64, 76], 4)],\n",
       " [([69, 69], -69), ([0, 68], 1)],\n",
       " [([56, 92], 4), ([93, 96], -37)]]"
      ]
     },
     "execution_count": 99,
     "metadata": {},
     "output_type": "execute_result"
    }
   ],
   "source": [
    "mappings = extract_ranges(dat)\n",
    "mappings"
   ]
  },
  {
   "cell_type": "code",
   "execution_count": 100,
   "metadata": {},
   "outputs": [
    {
     "name": "stdout",
     "output_type": "stream",
     "text": [
      "[79, 92]\n",
      "([50, 97], 2)\n"
     ]
    }
   ],
   "source": [
    "itv1 = intervals[0]\n",
    "print(itv1)\n",
    "map = mappings[0][1]\n",
    "itv2 = map[0]\n",
    "bias = map[1]\n",
    "print(map)"
   ]
  },
  {
   "cell_type": "code",
   "execution_count": 101,
   "metadata": {},
   "outputs": [
    {
     "data": {
      "text/plain": [
       "(81, 94)"
      ]
     },
     "execution_count": 101,
     "metadata": {},
     "output_type": "execute_result"
    }
   ],
   "source": [
    "a, b = intersect(itv1, itv2)\n",
    "(a+bias, b+bias)"
   ]
  },
  {
   "cell_type": "code",
   "execution_count": 102,
   "metadata": {},
   "outputs": [],
   "source": [
    "def transform_intersection_with_map(itv: Itv, map: tuple[Itv, int]) -> list[Itv]:\n",
    "    itv_map = map[0]\n",
    "    bias = map[1]\n",
    "    its = intersect(itv, itv_map)\n",
    "    if its is None:\n",
    "        return []\n",
    "    a,b = its\n",
    "    return [(a+bias, b+bias)]"
   ]
  },
  {
   "cell_type": "code",
   "execution_count": 103,
   "metadata": {},
   "outputs": [
    {
     "data": {
      "text/plain": [
       "[(12, 15)]"
      ]
     },
     "execution_count": 103,
     "metadata": {},
     "output_type": "execute_result"
    }
   ],
   "source": [
    "itv1 = (10, 20)\n",
    "map = [(3, 13), 2]\n",
    "transform_intersection_with_map(itv1, map)"
   ]
  },
  {
   "cell_type": "markdown",
   "metadata": {},
   "source": [
    "Now we need a function to remove from itv1 its intersection with itv2 "
   ]
  },
  {
   "cell_type": "code",
   "execution_count": 104,
   "metadata": {},
   "outputs": [],
   "source": [
    "def remove_intersection_with_map(itv: Itv, map: tuple[Itv, int]) -> list[Itv]:\n",
    "    ..."
   ]
  },
  {
   "cell_type": "code",
   "execution_count": 105,
   "metadata": {},
   "outputs": [
    {
     "data": {
      "text/plain": [
       "(11, 13)"
      ]
     },
     "execution_count": 105,
     "metadata": {},
     "output_type": "execute_result"
    }
   ],
   "source": [
    "itv = (10, 20)\n",
    "map = [(11, 13), 2]\n",
    "itv_map = map[0]\n",
    "its = intersect(itv, itv_map)\n",
    "its"
   ]
  },
  {
   "cell_type": "code",
   "execution_count": 106,
   "metadata": {},
   "outputs": [
    {
     "data": {
      "text/plain": [
       "[(10, 10), (14, 20)]"
      ]
     },
     "execution_count": 106,
     "metadata": {},
     "output_type": "execute_result"
    }
   ],
   "source": [
    "a, b = itv \n",
    "if its is None:\n",
    "    res = [itv]\n",
    "else:\n",
    "    i1, i2 = its\n",
    "    res = []\n",
    "    if i1 >= (a+1):\n",
    "        res.append((a, i1-1))\n",
    "    if i2 <= (b-1):\n",
    "        res.append((i2+1, b))\n",
    "res"
   ]
  },
  {
   "cell_type": "code",
   "execution_count": 160,
   "metadata": {},
   "outputs": [],
   "source": [
    "def remove_intersection_with_map(itv: Itv, map: tuple[Itv, int]) -> list[Itv]:\n",
    "    itv_map = map[0]\n",
    "    its = intersect(itv, itv_map)\n",
    "    a, b = itv\n",
    "    if its is None:\n",
    "        res = [itv]\n",
    "    elif its == itv:\n",
    "        res = []\n",
    "    else:\n",
    "        i1, i2 = its\n",
    "        res = []\n",
    "        if i1 >= (a+1):\n",
    "            res.append((a, i1-1))\n",
    "        if i2 <= (b-1):\n",
    "            res.append((i2+1, b))\n",
    "    return res"
   ]
  },
  {
   "cell_type": "code",
   "execution_count": 161,
   "metadata": {},
   "outputs": [
    {
     "data": {
      "text/plain": [
       "[]"
      ]
     },
     "execution_count": 161,
     "metadata": {},
     "output_type": "execute_result"
    }
   ],
   "source": [
    "itv = (12, 13)\n",
    "map = [(12, 13), 2]\n",
    "remove_intersection_with_map(itv, map)"
   ]
  },
  {
   "cell_type": "code",
   "execution_count": 162,
   "metadata": {},
   "outputs": [
    {
     "data": {
      "text/plain": [
       "[(2, 4)]"
      ]
     },
     "execution_count": 162,
     "metadata": {},
     "output_type": "execute_result"
    }
   ],
   "source": [
    "itv = (2, 4)\n",
    "map = [(12, 13), 2]\n",
    "remove_intersection_with_map(itv, map)"
   ]
  },
  {
   "cell_type": "code",
   "execution_count": 163,
   "metadata": {},
   "outputs": [
    {
     "data": {
      "text/plain": [
       "[(10, 11), (14, 14)]"
      ]
     },
     "execution_count": 163,
     "metadata": {},
     "output_type": "execute_result"
    }
   ],
   "source": [
    "itv = (10, 14)\n",
    "map = [(12, 13), 2]\n",
    "remove_intersection_with_map(itv, map)"
   ]
  },
  {
   "cell_type": "markdown",
   "metadata": {},
   "source": [
    "let's see how we gonna loop now"
   ]
  },
  {
   "cell_type": "code",
   "execution_count": 164,
   "metadata": {},
   "outputs": [
    {
     "name": "stdout",
     "output_type": "stream",
     "text": [
      "(45, 110)\n"
     ]
    },
    {
     "data": {
      "text/plain": [
       "[([98, 99], -48), ([50, 97], 2)]"
      ]
     },
     "execution_count": 164,
     "metadata": {},
     "output_type": "execute_result"
    }
   ],
   "source": [
    "itv = (45, 110)\n",
    "print(itv)\n",
    "mapping = mappings[0]\n",
    "mapping"
   ]
  },
  {
   "cell_type": "code",
   "execution_count": 165,
   "metadata": {},
   "outputs": [
    {
     "data": {
      "text/plain": [
       "[(50, 51), (52, 99)]"
      ]
     },
     "execution_count": 165,
     "metadata": {},
     "output_type": "execute_result"
    }
   ],
   "source": [
    "res = []\n",
    "for map in mapping:\n",
    "    res += transform_intersection_with_map(itv, map)\n",
    "res"
   ]
  },
  {
   "cell_type": "code",
   "execution_count": 166,
   "metadata": {},
   "outputs": [
    {
     "data": {
      "text/plain": [
       "[(45, 49), (100, 110)]"
      ]
     },
     "execution_count": 166,
     "metadata": {},
     "output_type": "execute_result"
    }
   ],
   "source": [
    "res2 = [itv]\n",
    "for map in mapping:\n",
    "    res2 = [itv1 for elm in res2 for itv1 in remove_intersection_with_map(elm, map)]\n",
    "res2 "
   ]
  },
  {
   "cell_type": "code",
   "execution_count": 167,
   "metadata": {},
   "outputs": [],
   "source": [
    "Map = tuple[Itv, bias]\n",
    "def remove_intersection_with_mappings(itv: Itv, mappings: list[Map]):\n",
    "    ..."
   ]
  },
  {
   "cell_type": "code",
   "execution_count": 168,
   "metadata": {},
   "outputs": [],
   "source": [
    "def remove_intersection_with_mapping(itv: Itv, mappings: list[Map]):\n",
    "    res2 = [itv]\n",
    "    for map in mappings:\n",
    "        res2 = [itv1 for elm in res2 for itv1 in remove_intersection_with_map(elm, map)]\n",
    "    return res2 "
   ]
  },
  {
   "cell_type": "code",
   "execution_count": 169,
   "metadata": {},
   "outputs": [
    {
     "name": "stdout",
     "output_type": "stream",
     "text": [
      "(45, 110)\n",
      "[([98, 99], -48), ([50, 97], 2)]\n"
     ]
    },
    {
     "data": {
      "text/plain": [
       "[(45, 49), (100, 110)]"
      ]
     },
     "execution_count": 169,
     "metadata": {},
     "output_type": "execute_result"
    }
   ],
   "source": [
    "itv = (45, 110)\n",
    "print(itv)\n",
    "mapping = mappings[0]\n",
    "print(mapping)\n",
    "remove_intersection_with_mapping(itv, mapping)"
   ]
  },
  {
   "cell_type": "code",
   "execution_count": 170,
   "metadata": {},
   "outputs": [],
   "source": [
    "def pass_through_mapping(itv: Itv, mapping: list[Map]) -> list[Itv]:\n",
    "    res = []\n",
    "    for map in mapping:\n",
    "        res += transform_intersection_with_map(itv, map)\n",
    "    res2 = remove_intersection_with_mapping(itv, mapping)\n",
    "    out = sorted(res + res2, key = lambda x: x[0]) \n",
    "    return out"
   ]
  },
  {
   "cell_type": "code",
   "execution_count": 171,
   "metadata": {},
   "outputs": [
    {
     "name": "stdout",
     "output_type": "stream",
     "text": [
      "(10, 70)\n",
      "[([15, 51], -15), ([52, 53], -15), ([0, 14], 39)]\n"
     ]
    },
    {
     "data": {
      "text/plain": [
       "[(0, 36), (37, 38), (49, 53), (54, 70)]"
      ]
     },
     "execution_count": 171,
     "metadata": {},
     "output_type": "execute_result"
    }
   ],
   "source": [
    "itv = (10, 70)\n",
    "print(itv)\n",
    "mapping = mappings[1]\n",
    "print(mapping)\n",
    "pass_through_mapping(itv, mapping)"
   ]
  },
  {
   "cell_type": "code",
   "execution_count": 172,
   "metadata": {},
   "outputs": [],
   "source": [
    "def merge_intervals(intervals):\n",
    "    if not intervals:\n",
    "        return []\n",
    "    if len(intervals) == 1:\n",
    "        return intervals\n",
    "    \n",
    "    intervals.sort(key=lambda x: x[0])\n",
    "    \n",
    "    merged = []\n",
    "    current_start, current_end = intervals[0]\n",
    "    \n",
    "    for start, end in intervals[1:]:\n",
    "        if start <= current_end + 1:\n",
    "            current_end = max(current_end, end)\n",
    "        else:\n",
    "            merged.append((current_start, current_end))\n",
    "            current_start, current_end = start, end\n",
    "    \n",
    "    if not merged or merged[-1][1] < current_end:\n",
    "        merged.append((current_start, current_end))\n",
    "    \n",
    "    return merged"
   ]
  },
  {
   "cell_type": "code",
   "execution_count": 173,
   "metadata": {},
   "outputs": [
    {
     "data": {
      "text/plain": [
       "[(0, 38), (49, 70)]"
      ]
     },
     "execution_count": 173,
     "metadata": {},
     "output_type": "execute_result"
    }
   ],
   "source": [
    "out = [(0, 36), (37, 38), (49, 53), (54, 70)]\n",
    "merge_intervals(out)"
   ]
  },
  {
   "cell_type": "code",
   "execution_count": 174,
   "metadata": {},
   "outputs": [],
   "source": [
    "def pass_through_mapping(itv: Itv, mapping: list[Map]) -> list[Itv]:\n",
    "    res = []\n",
    "    for map in mapping:\n",
    "        res += transform_intersection_with_map(itv, map)\n",
    "    res2 = remove_intersection_with_mapping(itv, mapping)\n",
    "    out = sorted(res + res2, key = lambda x: x[0]) \n",
    "    out = merge_intervals(out)\n",
    "    return out"
   ]
  },
  {
   "cell_type": "code",
   "execution_count": 175,
   "metadata": {},
   "outputs": [
    {
     "name": "stdout",
     "output_type": "stream",
     "text": [
      "(0, 30)\n",
      "[([53, 60], -4), ([11, 52], -11), ([0, 6], 42), ([7, 10], 50)]\n"
     ]
    },
    {
     "data": {
      "text/plain": [
       "[(0, 19), (42, 48), (57, 60)]"
      ]
     },
     "execution_count": 175,
     "metadata": {},
     "output_type": "execute_result"
    }
   ],
   "source": [
    "itv = (0, 30)\n",
    "print(itv)\n",
    "mapping = mappings[2]\n",
    "print(mapping)\n",
    "pass_through_mapping(itv, mapping)"
   ]
  },
  {
   "cell_type": "code",
   "execution_count": 176,
   "metadata": {},
   "outputs": [
    {
     "data": {
      "text/plain": [
       "[(46, 60), (82, 84), (86, 89), (94, 98)]"
      ]
     },
     "execution_count": 176,
     "metadata": {},
     "output_type": "execute_result"
    }
   ],
   "source": [
    "dat = samp\n",
    "intervals = init_intervals(dat)\n",
    "mappings = extract_ranges(dat)\n",
    "intervals_out = []\n",
    "\n",
    "for itv in intervals:\n",
    "    itvs = [itv]\n",
    "    for mapping in mappings:\n",
    "        itvs = [itv2 for itv1 in itvs for itv2 in pass_through_mapping(itv1, mapping)]\n",
    "    intervals_out += itvs\n",
    "intervals_out = merge_intervals(intervals_out)\n",
    "intervals_out"
   ]
  },
  {
   "cell_type": "code",
   "execution_count": 180,
   "metadata": {},
   "outputs": [
    {
     "name": "stdout",
     "output_type": "stream",
     "text": [
      "46\n"
     ]
    }
   ],
   "source": [
    "print(intervals_out[0][0])"
   ]
  },
  {
   "cell_type": "code",
   "execution_count": 181,
   "metadata": {},
   "outputs": [],
   "source": [
    "def sol_2023_5_2(dat: str) -> int:\n",
    "    intervals = init_intervals(dat)\n",
    "    mappings = extract_ranges(dat)\n",
    "    intervals_out = []\n",
    "\n",
    "    for itv in intervals:\n",
    "        itvs = [itv]\n",
    "        for mapping in mappings:\n",
    "            itvs = [itv2 for itv1 in itvs for itv2 in pass_through_mapping(itv1, mapping)]\n",
    "        intervals_out += itvs\n",
    "    intervals_out = merge_intervals(intervals_out)\n",
    "    return intervals_out[0][0]\n"
   ]
  },
  {
   "cell_type": "code",
   "execution_count": 182,
   "metadata": {},
   "outputs": [
    {
     "data": {
      "text/plain": [
       "46"
      ]
     },
     "execution_count": 182,
     "metadata": {},
     "output_type": "execute_result"
    }
   ],
   "source": [
    "dat = samp\n",
    "sol_2023_5_2(dat)"
   ]
  },
  {
   "cell_type": "code",
   "execution_count": 183,
   "metadata": {},
   "outputs": [
    {
     "data": {
      "text/plain": [
       "31161857"
      ]
     },
     "execution_count": 183,
     "metadata": {},
     "output_type": "execute_result"
    }
   ],
   "source": [
    "dat = data\n",
    "sol_2023_5_2(dat)"
   ]
  }
 ],
 "metadata": {
  "kernelspec": {
   "display_name": "pydidask",
   "language": "python",
   "name": "python3"
  },
  "language_info": {
   "codemirror_mode": {
    "name": "ipython",
    "version": 3
   },
   "file_extension": ".py",
   "mimetype": "text/x-python",
   "name": "python",
   "nbconvert_exporter": "python",
   "pygments_lexer": "ipython3",
   "version": "3.12.0"
  }
 },
 "nbformat": 4,
 "nbformat_minor": 2
}
