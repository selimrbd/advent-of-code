{
 "cells": [
  {
   "cell_type": "markdown",
   "metadata": {},
   "source": [
    "# Advent of Code - Day 13 Year 2023"
   ]
  },
  {
   "cell_type": "code",
   "execution_count": 1,
   "metadata": {},
   "outputs": [
    {
     "name": "stdout",
     "output_type": "stream",
     "text": [
      "nb examples: 1\n",
      "problem link: https://adventofcode.com/2023/day/13\n"
     ]
    }
   ],
   "source": [
    "DAY = 13\n",
    "YEAR = 2023\n",
    "#######\n",
    "import json\n",
    "import sys \n",
    "sys.path.append('../../')\n",
    "from utils import get_pb_data, rephrase_pb, open_link, render_json\n",
    "link, data, exmp, ae1, ae2, exmps, out = get_pb_data(DAY, YEAR)\n",
    "\n",
    "print(f'problem link: {link}')"
   ]
  },
  {
   "cell_type": "code",
   "execution_count": 2,
   "metadata": {},
   "outputs": [],
   "source": [
    "# with open(\"./_puzzle_data.json\", \"r\") as f: inp = json.loads(f.read())\n",
    "# render_json(inp)"
   ]
  },
  {
   "cell_type": "code",
   "execution_count": 3,
   "metadata": {},
   "outputs": [
    {
     "data": {
      "text/markdown": [
       "**Problem**: Find reflection lines in patterns of ash (.) and rocks (#), and calculate a summary number. \n",
       "\n",
       "**Rules**:\n",
       "- Reflection can be **horizontal** (between rows) or **vertical** (between columns)\n",
       "- Reflection must be **perfect** (exact matching)\n",
       "- For **vertical** reflection, count columns to the left of the line\n",
       "- For **horizontal** reflection, multiply rows above the line by 100\n",
       "- Sum all these numbers for the final result\n",
       "\n",
       "**Input looks like**: \n",
       "```\n",
       "#.##..##.\n",
       "..#.##.#.\n",
       "##......#\n",
       "##......#\n",
       "..#.##.#.\n",
       "..##..##.\n",
       "#.#.##.#.\n",
       "\n",
       "#...##..#\n",
       "#....#..#\n",
       "..##..###\n",
       "#####.##.\n",
       "#####.##.\n",
       "..##..###\n",
       "#....#..#\n",
       "```\n",
       "\n",
       "**Note**: Patterns are separated by blank lines\n",
       "\n",
       "**Result calculation**: \n",
       "- First pattern: 5 columns (vertical reflection)\n",
       "- Second pattern: 4 rows × 100 (horizontal reflection)\n",
       "- Total: 5 + 400 = 405"
      ],
      "text/plain": [
       "<IPython.core.display.Markdown object>"
      ]
     },
     "execution_count": 3,
     "metadata": {},
     "output_type": "execute_result"
    }
   ],
   "source": [
    "await rephrase_pb(DAY, YEAR, 1)"
   ]
  },
  {
   "cell_type": "code",
   "execution_count": 5,
   "metadata": {},
   "outputs": [
    {
     "name": "stdout",
     "output_type": "stream",
     "text": [
      "#.##..##.\n",
      "..#.##.#.\n",
      "##......#\n",
      "##......#\n",
      "..#.##.#.\n",
      "..##..##.\n",
      "#.#.##.#.\n",
      "\n",
      "#...##..#\n",
      "#....#..#\n",
      "..##..###\n",
      "#####.##.\n",
      "#####.##.\n",
      "..##..###\n",
      "#....#..#\n"
     ]
    }
   ],
   "source": [
    "print(exmp)"
   ]
  },
  {
   "cell_type": "code",
   "execution_count": 23,
   "metadata": {},
   "outputs": [
    {
     "data": {
      "text/plain": [
       "[[['#', '.', '#', '#', '.', '.', '#', '#', '.'],\n",
       "  ['.', '.', '#', '.', '#', '#', '.', '#', '.'],\n",
       "  ['#', '#', '.', '.', '.', '.', '.', '.', '#'],\n",
       "  ['#', '#', '.', '.', '.', '.', '.', '.', '#'],\n",
       "  ['.', '.', '#', '.', '#', '#', '.', '#', '.'],\n",
       "  ['.', '.', '#', '#', '.', '.', '#', '#', '.'],\n",
       "  ['#', '.', '#', '.', '#', '#', '.', '#', '.']],\n",
       " [['#', '.', '.', '.', '#', '#', '.', '.', '#'],\n",
       "  ['#', '.', '.', '.', '.', '#', '.', '.', '#'],\n",
       "  ['.', '.', '#', '#', '.', '.', '#', '#', '#'],\n",
       "  ['#', '#', '#', '#', '#', '.', '#', '#', '.'],\n",
       "  ['#', '#', '#', '#', '#', '.', '#', '#', '.'],\n",
       "  ['.', '.', '#', '#', '.', '.', '#', '#', '#'],\n",
       "  ['#', '.', '.', '.', '.', '#', '.', '.', '#']]]"
      ]
     },
     "execution_count": 23,
     "metadata": {},
     "output_type": "execute_result"
    }
   ],
   "source": [
    "patterns = [[[c for c in l] for l in pat.splitlines()] for pat in exmp.split('\\n\\n')]\n",
    "patterns"
   ]
  },
  {
   "cell_type": "code",
   "execution_count": 152,
   "metadata": {},
   "outputs": [],
   "source": [
    "def _format(dat: str):\n",
    "    patterns = [[[c for c in l] for l in pat.splitlines()] for pat in dat.split('\\n\\n')]\n",
    "    return patterns"
   ]
  },
  {
   "cell_type": "code",
   "execution_count": 42,
   "metadata": {},
   "outputs": [
    {
     "name": "stdout",
     "output_type": "stream",
     "text": [
      "9 7\n"
     ]
    },
    {
     "data": {
      "text/plain": [
       "[['#', '.', '#', '#', '.', '.', '#', '#', '.'],\n",
       " ['.', '.', '#', '.', '#', '#', '.', '#', '.'],\n",
       " ['#', '#', '.', '.', '.', '.', '.', '.', '#'],\n",
       " ['#', '#', '.', '.', '.', '.', '.', '.', '#'],\n",
       " ['.', '.', '#', '.', '#', '#', '.', '#', '.'],\n",
       " ['.', '.', '#', '#', '.', '.', '#', '#', '.'],\n",
       " ['#', '.', '#', '.', '#', '#', '.', '#', '.']]"
      ]
     },
     "execution_count": 42,
     "metadata": {},
     "output_type": "execute_result"
    }
   ],
   "source": [
    "dat = exmp \n",
    "patterns = _format(dat)\n",
    "p = patterns[0]\n",
    "w, h = len(p[0]), len(p)\n",
    "print(w,h)\n",
    "p"
   ]
  },
  {
   "cell_type": "code",
   "execution_count": 43,
   "metadata": {},
   "outputs": [
    {
     "data": {
      "text/plain": [
       "[(0, 1), (1, 2), (2, 3), (3, 4), (4, 5), (5, 6), (6, 7), (7, 8)]"
      ]
     },
     "execution_count": 43,
     "metadata": {},
     "output_type": "execute_result"
    }
   ],
   "source": [
    "vlines = [(i, i+1) for i in range(w-1)]\n",
    "vlines\n",
    "        "
   ]
  },
  {
   "cell_type": "code",
   "execution_count": 44,
   "metadata": {},
   "outputs": [
    {
     "data": {
      "text/plain": [
       "[(0, 1), (1, 2), (2, 3), (3, 4), (4, 5), (5, 6)]"
      ]
     },
     "execution_count": 44,
     "metadata": {},
     "output_type": "execute_result"
    }
   ],
   "source": [
    "hlines = [(i, i+1) for i in range(h-1)]\n",
    "hlines\n",
    "        "
   ]
  },
  {
   "cell_type": "code",
   "execution_count": 45,
   "metadata": {},
   "outputs": [],
   "source": [
    "def _lines(pat):\n",
    "    w, h = len(pat[0]), len(pat)\n",
    "    vlines = [(i, i+1) for i in range(w-1)]\n",
    "    hlines = [(i, i+1) for i in range(h-1)]\n",
    "    return (vlines, hlines)"
   ]
  },
  {
   "cell_type": "code",
   "execution_count": 48,
   "metadata": {},
   "outputs": [
    {
     "data": {
      "text/plain": [
       "([(0, 1), (1, 2), (2, 3), (3, 4), (4, 5), (5, 6), (6, 7), (7, 8)],\n",
       " [(0, 1), (1, 2), (2, 3), (3, 4), (4, 5), (5, 6)])"
      ]
     },
     "execution_count": 48,
     "metadata": {},
     "output_type": "execute_result"
    }
   ],
   "source": [
    "p = patterns[0]\n",
    "lines = _lines(p)\n",
    "lines"
   ]
  },
  {
   "cell_type": "code",
   "execution_count": 49,
   "metadata": {},
   "outputs": [],
   "source": [
    "def _col(pat, i):\n",
    "    return [l[i] for l in pat]"
   ]
  },
  {
   "cell_type": "code",
   "execution_count": 51,
   "metadata": {},
   "outputs": [
    {
     "data": {
      "text/plain": [
       "[['#', '.', '#', '#', '.', '.', '#', '#', '.'],\n",
       " ['.', '.', '#', '.', '#', '#', '.', '#', '.'],\n",
       " ['#', '#', '.', '.', '.', '.', '.', '.', '#'],\n",
       " ['#', '#', '.', '.', '.', '.', '.', '.', '#'],\n",
       " ['.', '.', '#', '.', '#', '#', '.', '#', '.'],\n",
       " ['.', '.', '#', '#', '.', '.', '#', '#', '.'],\n",
       " ['#', '.', '#', '.', '#', '#', '.', '#', '.']]"
      ]
     },
     "execution_count": 51,
     "metadata": {},
     "output_type": "execute_result"
    }
   ],
   "source": [
    "p"
   ]
  },
  {
   "cell_type": "code",
   "execution_count": 55,
   "metadata": {},
   "outputs": [
    {
     "data": {
      "text/plain": [
       "True"
      ]
     },
     "execution_count": 55,
     "metadata": {},
     "output_type": "execute_result"
    }
   ],
   "source": [
    "_col(p, 4) == _col(p, 5)"
   ]
  },
  {
   "cell_type": "code",
   "execution_count": 56,
   "metadata": {},
   "outputs": [],
   "source": [
    "def _row(pat, i):\n",
    "    return pat[i]"
   ]
  },
  {
   "cell_type": "code",
   "execution_count": 58,
   "metadata": {},
   "outputs": [
    {
     "data": {
      "text/plain": [
       "[(4, 5)]"
      ]
     },
     "execution_count": 58,
     "metadata": {},
     "output_type": "execute_result"
    }
   ],
   "source": [
    "vmir = []\n",
    "for l,r in lines[0]:\n",
    "    chk_w = min(l + 1, w-r)\n",
    "    if all([_col(p,l-i) == _col(p, r+i) for i in range(chk_w)]):\n",
    "        vmir.append((l,r))\n",
    "vmir"
   ]
  },
  {
   "cell_type": "code",
   "execution_count": 64,
   "metadata": {},
   "outputs": [
    {
     "data": {
      "text/plain": [
       "[]"
      ]
     },
     "execution_count": 64,
     "metadata": {},
     "output_type": "execute_result"
    }
   ],
   "source": [
    "hmir = []\n",
    "for a,b in lines[1]:\n",
    "    chk_h = min(a + 1, h-b)\n",
    "    if all([_row(p,a-i) == _row(p, b+i) for i in range(chk_h)]):\n",
    "        hmir.append((a,b))\n",
    "hmir"
   ]
  },
  {
   "cell_type": "code",
   "execution_count": 122,
   "metadata": {},
   "outputs": [],
   "source": [
    "def _find_vmir(pat):\n",
    "    vmir = []\n",
    "    vl, _ = _lines(pat)\n",
    "    w = len(pat[0])\n",
    "    for l,r in vl:\n",
    "        chk_w = min(l+1, w-r)\n",
    "        if all([_col(pat,l-i) == _col(pat, r+i) for i in range(chk_w)]):\n",
    "            vmir.append((l,r))\n",
    "    return vmir"
   ]
  },
  {
   "cell_type": "code",
   "execution_count": 105,
   "metadata": {},
   "outputs": [
    {
     "data": {
      "text/plain": [
       "[['#', '.', '#', '#', '.', '.', '#', '#', '.'],\n",
       " ['.', '.', '#', '.', '#', '#', '.', '#', '.'],\n",
       " ['#', '#', '.', '.', '.', '.', '.', '.', '#'],\n",
       " ['#', '#', '.', '.', '.', '.', '.', '.', '#'],\n",
       " ['.', '.', '#', '.', '#', '#', '.', '#', '.'],\n",
       " ['.', '.', '#', '#', '.', '.', '#', '#', '.'],\n",
       " ['#', '.', '#', '.', '#', '#', '.', '#', '.']]"
      ]
     },
     "execution_count": 105,
     "metadata": {},
     "output_type": "execute_result"
    }
   ],
   "source": [
    "p"
   ]
  },
  {
   "cell_type": "code",
   "execution_count": 106,
   "metadata": {},
   "outputs": [
    {
     "data": {
      "text/plain": [
       "[['#', '.', '#', '#', '.', '.', '#'],\n",
       " ['.', '.', '#', '#', '.', '.', '.'],\n",
       " ['#', '#', '.', '.', '#', '#', '#'],\n",
       " ['#', '.', '.', '.', '.', '#', '.'],\n",
       " ['.', '#', '.', '.', '#', '.', '#'],\n",
       " ['.', '#', '.', '.', '#', '.', '#'],\n",
       " ['#', '.', '.', '.', '.', '#', '.'],\n",
       " ['#', '#', '.', '.', '#', '#', '#'],\n",
       " ['.', '.', '#', '#', '.', '.', '.']]"
      ]
     },
     "execution_count": 106,
     "metadata": {},
     "output_type": "execute_result"
    }
   ],
   "source": [
    "_t(p)"
   ]
  },
  {
   "cell_type": "code",
   "execution_count": 107,
   "metadata": {},
   "outputs": [],
   "source": [
    "def _find_hmir(pat):\n",
    "    return _find_vmir(_t(pat))"
   ]
  },
  {
   "cell_type": "code",
   "execution_count": 108,
   "metadata": {},
   "outputs": [
    {
     "data": {
      "text/plain": [
       "[['#', '.', '#', '#', '.', '.', '#', '#', '.'],\n",
       " ['.', '.', '#', '.', '#', '#', '.', '#', '.'],\n",
       " ['#', '#', '.', '.', '.', '.', '.', '.', '#'],\n",
       " ['#', '#', '.', '.', '.', '.', '.', '.', '#'],\n",
       " ['.', '.', '#', '.', '#', '#', '.', '#', '.'],\n",
       " ['.', '.', '#', '#', '.', '.', '#', '#', '.'],\n",
       " ['#', '.', '#', '.', '#', '#', '.', '#', '.']]"
      ]
     },
     "execution_count": 108,
     "metadata": {},
     "output_type": "execute_result"
    }
   ],
   "source": [
    "p"
   ]
  },
  {
   "cell_type": "code",
   "execution_count": 109,
   "metadata": {},
   "outputs": [
    {
     "data": {
      "text/plain": [
       "(4, 5)"
      ]
     },
     "execution_count": 109,
     "metadata": {},
     "output_type": "execute_result"
    }
   ],
   "source": [
    "_find_vmir(p)"
   ]
  },
  {
   "cell_type": "code",
   "execution_count": 114,
   "metadata": {},
   "outputs": [
    {
     "data": {
      "text/plain": [
       "[['#', '.', '#', '#', '.', '.', '#'],\n",
       " ['.', '.', '#', '#', '.', '.', '.'],\n",
       " ['#', '#', '.', '.', '#', '#', '#'],\n",
       " ['#', '.', '.', '.', '.', '#', '.'],\n",
       " ['.', '#', '.', '.', '#', '.', '#'],\n",
       " ['.', '#', '.', '.', '#', '.', '#'],\n",
       " ['#', '.', '.', '.', '.', '#', '.'],\n",
       " ['#', '#', '.', '.', '#', '#', '#'],\n",
       " ['.', '.', '#', '#', '.', '.', '.']]"
      ]
     },
     "execution_count": 114,
     "metadata": {},
     "output_type": "execute_result"
    }
   ],
   "source": [
    "_t(p)"
   ]
  },
  {
   "cell_type": "code",
   "execution_count": 123,
   "metadata": {},
   "outputs": [],
   "source": [
    "def _find_vmir(pat):\n",
    "    vmir = []\n",
    "    vl, _ = _lines(pat)\n",
    "    w = len(pat[0])\n",
    "    for l,r in vl:\n",
    "        chk_w = min(l+1, w-r)\n",
    "        if all([_col(pat,l-i) == _col(pat, r+i) for i in range(chk_w)]):\n",
    "            vmir.append((l,r))\n",
    "    return vmir\n",
    "\n",
    "def _t(pat):\n",
    "    return [_col(pat,i) for i in range(len(pat[0]))]\n",
    "\n",
    "def _find_hmir(pat):\n",
    "    return _find_vmir(_t(pat))\n",
    "\n",
    "def _mir(pat):\n",
    "    vmir = _find_vmir(pat)\n",
    "    hmir = _find_hmir(pat)\n",
    "    if len(vmir) > 0:\n",
    "        return vmir[0], 'v'\n",
    "    return hmir[0], 'h'"
   ]
  },
  {
   "cell_type": "code",
   "execution_count": 124,
   "metadata": {},
   "outputs": [
    {
     "data": {
      "text/plain": [
       "((4, 5), 'v')"
      ]
     },
     "execution_count": 124,
     "metadata": {},
     "output_type": "execute_result"
    }
   ],
   "source": [
    "_mir(p)"
   ]
  },
  {
   "cell_type": "code",
   "execution_count": 125,
   "metadata": {},
   "outputs": [
    {
     "data": {
      "text/plain": [
       "((3, 4), 'h')"
      ]
     },
     "execution_count": 125,
     "metadata": {},
     "output_type": "execute_result"
    }
   ],
   "source": [
    "_mir(patterns[1])"
   ]
  },
  {
   "cell_type": "code",
   "execution_count": 126,
   "metadata": {},
   "outputs": [
    {
     "data": {
      "text/plain": [
       "[['#', '.', '.', '.', '#', '#', '.', '.', '#'],\n",
       " ['#', '.', '.', '.', '.', '#', '.', '.', '#'],\n",
       " ['.', '.', '#', '#', '.', '.', '#', '#', '#'],\n",
       " ['#', '#', '#', '#', '#', '.', '#', '#', '.'],\n",
       " ['#', '#', '#', '#', '#', '.', '#', '#', '.'],\n",
       " ['.', '.', '#', '#', '.', '.', '#', '#', '#'],\n",
       " ['#', '.', '.', '.', '.', '#', '.', '.', '#']]"
      ]
     },
     "execution_count": 126,
     "metadata": {},
     "output_type": "execute_result"
    }
   ],
   "source": [
    "patterns[1]"
   ]
  },
  {
   "cell_type": "code",
   "execution_count": 139,
   "metadata": {},
   "outputs": [],
   "source": [
    "def _summ(pat):\n",
    "    m = _mir(pat)\n",
    "    nb = m[0][0] + 1\n",
    "    s = 100 if m[1] == 'h' else 1\n",
    "    return nb*s"
   ]
  },
  {
   "cell_type": "code",
   "execution_count": 140,
   "metadata": {},
   "outputs": [
    {
     "data": {
      "text/plain": [
       "[['#', '.', '#', '#', '.', '.', '#', '#', '.'],\n",
       " ['.', '.', '#', '.', '#', '#', '.', '#', '.'],\n",
       " ['#', '#', '.', '.', '.', '.', '.', '.', '#'],\n",
       " ['#', '#', '.', '.', '.', '.', '.', '.', '#'],\n",
       " ['.', '.', '#', '.', '#', '#', '.', '#', '.'],\n",
       " ['.', '.', '#', '#', '.', '.', '#', '#', '.'],\n",
       " ['#', '.', '#', '.', '#', '#', '.', '#', '.']]"
      ]
     },
     "execution_count": 140,
     "metadata": {},
     "output_type": "execute_result"
    }
   ],
   "source": [
    "p"
   ]
  },
  {
   "cell_type": "code",
   "execution_count": 144,
   "metadata": {},
   "outputs": [
    {
     "data": {
      "text/plain": [
       "5"
      ]
     },
     "execution_count": 144,
     "metadata": {},
     "output_type": "execute_result"
    }
   ],
   "source": [
    "p = patterns[0]\n",
    "_summ(p)"
   ]
  },
  {
   "cell_type": "code",
   "execution_count": 145,
   "metadata": {},
   "outputs": [
    {
     "data": {
      "text/plain": [
       "400"
      ]
     },
     "execution_count": 145,
     "metadata": {},
     "output_type": "execute_result"
    }
   ],
   "source": [
    "p = patterns[1]\n",
    "_summ(p)"
   ]
  },
  {
   "cell_type": "code",
   "execution_count": 149,
   "metadata": {},
   "outputs": [],
   "source": [
    "def sol1(dat):\n",
    "    patterns = _format(dat)\n",
    "    return sum([_summ(p) for p in patterns])"
   ]
  },
  {
   "cell_type": "code",
   "execution_count": 150,
   "metadata": {},
   "outputs": [
    {
     "data": {
      "text/plain": [
       "405"
      ]
     },
     "execution_count": 150,
     "metadata": {},
     "output_type": "execute_result"
    }
   ],
   "source": [
    "dat = exmp \n",
    "sol1(dat)"
   ]
  },
  {
   "cell_type": "code",
   "execution_count": 153,
   "metadata": {},
   "outputs": [],
   "source": [
    "def _format(dat: str):\n",
    "    patterns = [[[c for c in l] for l in pat.splitlines()] for pat in dat.split('\\n\\n')]\n",
    "    return patterns"
   ]
  },
  {
   "cell_type": "code",
   "execution_count": 154,
   "metadata": {},
   "outputs": [
    {
     "data": {
      "text/plain": [
       "30487"
      ]
     },
     "execution_count": 154,
     "metadata": {},
     "output_type": "execute_result"
    }
   ],
   "source": [
    "dat = data \n",
    "sol1(dat)"
   ]
  },
  {
   "cell_type": "markdown",
   "metadata": {},
   "source": [
    "## part 2"
   ]
  },
  {
   "cell_type": "code",
   "execution_count": null,
   "metadata": {},
   "outputs": [],
   "source": [
    "await rephrase_pb(DAY, YEAR, 2)"
   ]
  },
  {
   "cell_type": "code",
   "execution_count": 240,
   "metadata": {},
   "outputs": [],
   "source": [
    "def _format(dat: str):\n",
    "    patterns = [[[c for c in l] for l in pat.splitlines()] for pat in dat.split('\\n\\n')]\n",
    "    return patterns\n",
    "\n",
    "def _find_vmir(pat):\n",
    "    vmir = []\n",
    "    vl, _ = _lines(pat)\n",
    "    w = len(pat[0])\n",
    "    for l,r in vl:\n",
    "        chk_w = min(l+1, w-r)\n",
    "        if all([_col(pat,l-i) == _col(pat, r+i) for i in range(chk_w)]):\n",
    "            vmir.append((l,r))\n",
    "    return vmir\n",
    "\n",
    "\n",
    "def _find_hmir(pat):\n",
    "    return _find_vmir(_t(pat))\n",
    "\n",
    "\n",
    "def _t(pat):\n",
    "    return [_col(pat,i) for i in range(len(pat[0]))]\n",
    "\n",
    "\n",
    "def _mir(pat):\n",
    "    vmir = [(l,r,'v') for l,r in _find_vmir(pat)]\n",
    "    hmir = [(a,b,'h') for a,b in _find_hmir(pat)]\n",
    "    return vmir + hmir\n",
    "    if len(vmir) > 0:\n",
    "        return vmir[0], 'v'\n",
    "    if len(hmir) > 0:\n",
    "        return hmir[0], 'h'\n",
    "    return None\n",
    "\n",
    "\n",
    "def _lines(pat):\n",
    "    w, h = len(pat[0]), len(pat)\n",
    "    vlines = [(i, i+1) for i in range(w-1)]\n",
    "    hlines = [(i, i+1) for i in range(h-1)]\n",
    "    return (vlines, hlines)\n",
    "\n",
    "\n",
    "def sol1(dat):\n",
    "    patterns = _format(dat)\n",
    "    return sum([_summ(p) for p in patterns])\n"
   ]
  },
  {
   "cell_type": "code",
   "execution_count": 241,
   "metadata": {},
   "outputs": [
    {
     "data": {
      "text/plain": [
       "100"
      ]
     },
     "execution_count": 241,
     "metadata": {},
     "output_type": "execute_result"
    }
   ],
   "source": [
    "dat = data\n",
    "patterns = _format(dat)\n",
    "len(patterns)"
   ]
  },
  {
   "cell_type": "code",
   "execution_count": 242,
   "metadata": {},
   "outputs": [],
   "source": [
    "from copy import copy\n",
    "a1 = [1,2,3]\n",
    "b1 = copy(a1)"
   ]
  },
  {
   "cell_type": "code",
   "execution_count": 243,
   "metadata": {},
   "outputs": [],
   "source": [
    "b1[0] = 999"
   ]
  },
  {
   "cell_type": "code",
   "execution_count": 244,
   "metadata": {},
   "outputs": [
    {
     "data": {
      "text/plain": [
       "[1, 2, 3]"
      ]
     },
     "execution_count": 244,
     "metadata": {},
     "output_type": "execute_result"
    }
   ],
   "source": [
    "a1"
   ]
  },
  {
   "cell_type": "code",
   "execution_count": 245,
   "metadata": {},
   "outputs": [
    {
     "data": {
      "text/plain": [
       "[999, 2, 3]"
      ]
     },
     "execution_count": 245,
     "metadata": {},
     "output_type": "execute_result"
    }
   ],
   "source": [
    "b1"
   ]
  },
  {
   "cell_type": "code",
   "execution_count": 258,
   "metadata": {},
   "outputs": [],
   "source": [
    "from copy import deepcopy\n",
    "\n",
    "def _new_mir(pat):\n",
    "    ms = _mir(pat)\n",
    "    w, h = len(pat[0]), len(pat)\n",
    "    for j in range(h):\n",
    "        for i in range(w):\n",
    "            #print('at:', i,j)\n",
    "            pat2 = deepcopy(pat)\n",
    "            pat2[j][i] = \"#\" if (pat[j][i] == '.') else '.'\n",
    "            #for l in pat:\n",
    "            #    print(l)\n",
    "            #print('@@')\n",
    "            #for l in pat2:\n",
    "            #    print(l)\n",
    "            #print(pat == pat2)\n",
    "            m2s = _mir(pat2)\n",
    "            tmp = [m for m in m2s if m not in ms]\n",
    "            if len(tmp) > 0:\n",
    "                return tmp[0]"
   ]
  },
  {
   "cell_type": "code",
   "execution_count": 259,
   "metadata": {},
   "outputs": [],
   "source": [
    "dat = exmp \n",
    "patterns = _format(dat)"
   ]
  },
  {
   "cell_type": "code",
   "execution_count": 262,
   "metadata": {},
   "outputs": [
    {
     "data": {
      "text/plain": [
       "[['#', '.', '#', '#', '.', '.', '#', '#', '.'],\n",
       " ['.', '.', '#', '.', '#', '#', '.', '#', '.'],\n",
       " ['#', '#', '.', '.', '.', '.', '.', '.', '#'],\n",
       " ['#', '#', '.', '.', '.', '.', '.', '.', '#'],\n",
       " ['.', '.', '#', '.', '#', '#', '.', '#', '.'],\n",
       " ['.', '.', '#', '#', '.', '.', '#', '#', '.'],\n",
       " ['#', '.', '#', '.', '#', '#', '.', '#', '.']]"
      ]
     },
     "execution_count": 262,
     "metadata": {},
     "output_type": "execute_result"
    }
   ],
   "source": [
    "p = patterns[0]\n",
    "p"
   ]
  },
  {
   "cell_type": "code",
   "execution_count": 263,
   "metadata": {},
   "outputs": [
    {
     "data": {
      "text/plain": [
       "(2, 3, 'h')"
      ]
     },
     "execution_count": 263,
     "metadata": {},
     "output_type": "execute_result"
    }
   ],
   "source": [
    "_new_mir(p)"
   ]
  },
  {
   "cell_type": "code",
   "execution_count": 274,
   "metadata": {},
   "outputs": [],
   "source": [
    "def _summ2(pat):\n",
    "    m = _new_mir(pat)\n",
    "    nb = m[0] + 1\n",
    "    s = 100 if m[2] == 'h' else 1\n",
    "    return nb*s"
   ]
  },
  {
   "cell_type": "code",
   "execution_count": 275,
   "metadata": {},
   "outputs": [],
   "source": [
    "def sol2(dat):\n",
    "    patterns = _format(dat)\n",
    "    return sum([_summ2(p) for p in patterns])"
   ]
  },
  {
   "cell_type": "code",
   "execution_count": 276,
   "metadata": {},
   "outputs": [
    {
     "data": {
      "text/plain": [
       "400"
      ]
     },
     "execution_count": 276,
     "metadata": {},
     "output_type": "execute_result"
    }
   ],
   "source": [
    "dat = exmp \n",
    "sol2(dat)"
   ]
  },
  {
   "cell_type": "code",
   "execution_count": 277,
   "metadata": {},
   "outputs": [
    {
     "data": {
      "text/plain": [
       "31954"
      ]
     },
     "execution_count": 277,
     "metadata": {},
     "output_type": "execute_result"
    }
   ],
   "source": [
    "dat = data \n",
    "sol2(dat)"
   ]
  },
  {
   "cell_type": "markdown",
   "metadata": {},
   "source": [
    "## takeaways"
   ]
  },
  {
   "cell_type": "markdown",
   "metadata": {},
   "source": [
    "\n",
    "- useful to detect the symmetry in the problem, and using transpose"
   ]
  }
 ],
 "metadata": {
  "kernelspec": {
   "display_name": "pydidask",
   "language": "python",
   "name": "python3"
  },
  "language_info": {
   "codemirror_mode": {
    "name": "ipython",
    "version": 3
   },
   "file_extension": ".py",
   "mimetype": "text/x-python",
   "name": "python",
   "nbconvert_exporter": "python",
   "pygments_lexer": "ipython3",
   "version": "3.12.0"
  }
 },
 "nbformat": 4,
 "nbformat_minor": 2
}
